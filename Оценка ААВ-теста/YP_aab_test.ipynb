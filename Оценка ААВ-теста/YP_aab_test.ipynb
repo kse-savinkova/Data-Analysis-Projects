{
 "cells": [
  {
   "cell_type": "markdown",
   "metadata": {},
   "source": [
    "# Анализ результатов А/А/В теста"
   ]
  },
  {
   "cell_type": "markdown",
   "metadata": {},
   "source": [
    "\n",
    "**Цель исследования** - изучить воронку продаж мобильного приложения стартапа, занимающегося продажей продуктов питания, исследовать результаты А/А/В-теста: пользователи мобильного приложения разделены на 3 группы: 2 контрольных (без изменений) и 1 тестовая (изменены шрифты оформления мобильного приложения).\n",
    "\n",
    "Результатами исследования станут: определение эффекта от внедрения изменений шрифтов в оформление мобильного приложения: анализ результатов А/А/В теста."
   ]
  },
  {
   "cell_type": "markdown",
   "metadata": {},
   "source": [
    "## Обзор и предобработка данных"
   ]
  },
  {
   "cell_type": "markdown",
   "metadata": {},
   "source": [
    "Изучим данные и выполним их предобработку: при необходимости приведем наименования столбцов к единому стилю, проверим соответствие типов данных сохранённым в них значениям, проверим наличие в данных пропусков и дубликатов."
   ]
  },
  {
   "cell_type": "markdown",
   "metadata": {},
   "source": [
    "### Обзор данных"
   ]
  },
  {
   "cell_type": "markdown",
   "metadata": {},
   "source": [
    "Импортируем библиотеки необходимые нам в решении задач исследования."
   ]
  },
  {
   "cell_type": "code",
   "execution_count": 1,
   "metadata": {},
   "outputs": [],
   "source": [
    "import pandas as pd\n",
    "import datetime as dt\n",
    "import numpy as np\n",
    "import matplotlib.pyplot as plt\n",
    "import seaborn as sns \n",
    "from pandas.plotting import register_matplotlib_converters\n",
    "import warnings\n",
    "import scipy.stats as st\n",
    "from plotly import graph_objects as go\n",
    "import plotly.express as px\n",
    "import math as mth\n",
    "\n",
    "\n",
    "# конвертеры, которые позволяют использовать типы pandas в matplotlib  \n",
    "register_matplotlib_converters()"
   ]
  },
  {
   "cell_type": "code",
   "execution_count": 2,
   "metadata": {},
   "outputs": [],
   "source": [
    "#улучшим четкость изображения графиков\n",
    "%config InlineBackend.figure_format = 'retina'"
   ]
  },
  {
   "cell_type": "code",
   "execution_count": 3,
   "metadata": {},
   "outputs": [],
   "source": [
    "import plotly.io as pio\n",
    "pio.renderers.default = 'png'\n",
    "svg_renderer = pio.renderers['png']\n",
    "svg_renderer.scale = 1.2"
   ]
  },
  {
   "cell_type": "markdown",
   "metadata": {},
   "source": [
    "Ознакомимся с данными:"
   ]
  },
  {
   "cell_type": "code",
   "execution_count": 4,
   "metadata": {},
   "outputs": [
    {
     "name": "stdout",
     "output_type": "stream",
     "text": [
      "<class 'pandas.core.frame.DataFrame'>\n",
      "RangeIndex: 244126 entries, 0 to 244125\n",
      "Data columns (total 4 columns):\n",
      " #   Column          Non-Null Count   Dtype \n",
      "---  ------          --------------   ----- \n",
      " 0   EventName       244126 non-null  object\n",
      " 1   DeviceIDHash    244126 non-null  int64 \n",
      " 2   EventTimestamp  244126 non-null  int64 \n",
      " 3   ExpId           244126 non-null  int64 \n",
      "dtypes: int64(3), object(1)\n",
      "memory usage: 7.5+ MB\n"
     ]
    },
    {
     "data": {
      "text/plain": [
       "None"
      ]
     },
     "metadata": {},
     "output_type": "display_data"
    },
    {
     "data": {
      "text/html": [
       "<div>\n",
       "<style scoped>\n",
       "    .dataframe tbody tr th:only-of-type {\n",
       "        vertical-align: middle;\n",
       "    }\n",
       "\n",
       "    .dataframe tbody tr th {\n",
       "        vertical-align: top;\n",
       "    }\n",
       "\n",
       "    .dataframe thead th {\n",
       "        text-align: right;\n",
       "    }\n",
       "</style>\n",
       "<table border=\"1\" class=\"dataframe\">\n",
       "  <thead>\n",
       "    <tr style=\"text-align: right;\">\n",
       "      <th></th>\n",
       "      <th>EventName</th>\n",
       "      <th>DeviceIDHash</th>\n",
       "      <th>EventTimestamp</th>\n",
       "      <th>ExpId</th>\n",
       "    </tr>\n",
       "  </thead>\n",
       "  <tbody>\n",
       "    <tr>\n",
       "      <th>0</th>\n",
       "      <td>MainScreenAppear</td>\n",
       "      <td>4575588528974610257</td>\n",
       "      <td>1564029816</td>\n",
       "      <td>246</td>\n",
       "    </tr>\n",
       "    <tr>\n",
       "      <th>1</th>\n",
       "      <td>MainScreenAppear</td>\n",
       "      <td>7416695313311560658</td>\n",
       "      <td>1564053102</td>\n",
       "      <td>246</td>\n",
       "    </tr>\n",
       "    <tr>\n",
       "      <th>2</th>\n",
       "      <td>PaymentScreenSuccessful</td>\n",
       "      <td>3518123091307005509</td>\n",
       "      <td>1564054127</td>\n",
       "      <td>248</td>\n",
       "    </tr>\n",
       "    <tr>\n",
       "      <th>3</th>\n",
       "      <td>CartScreenAppear</td>\n",
       "      <td>3518123091307005509</td>\n",
       "      <td>1564054127</td>\n",
       "      <td>248</td>\n",
       "    </tr>\n",
       "    <tr>\n",
       "      <th>4</th>\n",
       "      <td>PaymentScreenSuccessful</td>\n",
       "      <td>6217807653094995999</td>\n",
       "      <td>1564055322</td>\n",
       "      <td>248</td>\n",
       "    </tr>\n",
       "  </tbody>\n",
       "</table>\n",
       "</div>"
      ],
      "text/plain": [
       "                 EventName         DeviceIDHash  EventTimestamp  ExpId\n",
       "0         MainScreenAppear  4575588528974610257      1564029816    246\n",
       "1         MainScreenAppear  7416695313311560658      1564053102    246\n",
       "2  PaymentScreenSuccessful  3518123091307005509      1564054127    248\n",
       "3         CartScreenAppear  3518123091307005509      1564054127    248\n",
       "4  PaymentScreenSuccessful  6217807653094995999      1564055322    248"
      ]
     },
     "metadata": {},
     "output_type": "display_data"
    }
   ],
   "source": [
    "data = pd.read_csv('logs_exp.csv', sep='\\t')\n",
    "\n",
    "display(data.info(), data.head())"
   ]
  },
  {
   "cell_type": "markdown",
   "metadata": {},
   "source": [
    "Согласно документации к данным структура `data`:\n",
    "* `EventName` — название события;\n",
    "* `DeviceIDHash` — уникальный идентификатор пользователя;\n",
    "* `EventTimestamp` — время события;\n",
    "* `ExpId` — номер эксперимента: 246 и 247 — контрольные группы, а 248 — экспериментальная."
   ]
  },
  {
   "cell_type": "markdown",
   "metadata": {},
   "source": [
    "По первому взгляду на датасет можно сделать следующие **выводы:**\n",
    "* типы данных не соответствуют сохраненным в них значениям: столбец с датами определен как тип данных `int64`\n",
    "* наименования стобцов требуют предобработки: переименования, приведения к единому стилю написания (нижний регистр, змеиный язык), для удобства дальнейшей работы с ними."
   ]
  },
  {
   "cell_type": "markdown",
   "metadata": {},
   "source": [
    "### Предобработка данных"
   ]
  },
  {
   "cell_type": "markdown",
   "metadata": {},
   "source": [
    "Переименуем столбцы (приведем их наименования к единому стилю), преобразуем данные о времени, а также добавим столбец с датой, он пригодится нам для дальнейшего исследования:"
   ]
  },
  {
   "cell_type": "code",
   "execution_count": 5,
   "metadata": {},
   "outputs": [],
   "source": [
    "#переименование столбцов\n",
    "data = data.rename(columns = {'EventName':'event_name', 'DeviceIDHash':'user_id',\n",
    "       'EventTimestamp':'event_dt', 'ExpId':'group'})\n",
    "\n",
    "#преобразование данных о времени\n",
    "data['event_dt'] = pd.to_datetime(data.event_dt, unit='s')\n",
    "\n",
    "#добавляем новый столбец с датой\n",
    "data['date'] = pd.to_datetime(data['event_dt']).dt.date\n",
    "\n",
    "#добавляем новый столбец с датой и часом\n",
    "data['hour'] = data['event_dt'].dt.strftime('%Y-%m-%d %H')"
   ]
  },
  {
   "cell_type": "code",
   "execution_count": 6,
   "metadata": {},
   "outputs": [
    {
     "name": "stdout",
     "output_type": "stream",
     "text": [
      "<class 'pandas.core.frame.DataFrame'>\n",
      "RangeIndex: 244126 entries, 0 to 244125\n",
      "Data columns (total 6 columns):\n",
      " #   Column      Non-Null Count   Dtype         \n",
      "---  ------      --------------   -----         \n",
      " 0   event_name  244126 non-null  object        \n",
      " 1   user_id     244126 non-null  int64         \n",
      " 2   event_dt    244126 non-null  datetime64[ns]\n",
      " 3   group       244126 non-null  int64         \n",
      " 4   date        244126 non-null  object        \n",
      " 5   hour        244126 non-null  object        \n",
      "dtypes: datetime64[ns](1), int64(2), object(3)\n",
      "memory usage: 11.2+ MB\n"
     ]
    },
    {
     "data": {
      "text/plain": [
       "None"
      ]
     },
     "metadata": {},
     "output_type": "display_data"
    },
    {
     "data": {
      "text/html": [
       "<div>\n",
       "<style scoped>\n",
       "    .dataframe tbody tr th:only-of-type {\n",
       "        vertical-align: middle;\n",
       "    }\n",
       "\n",
       "    .dataframe tbody tr th {\n",
       "        vertical-align: top;\n",
       "    }\n",
       "\n",
       "    .dataframe thead th {\n",
       "        text-align: right;\n",
       "    }\n",
       "</style>\n",
       "<table border=\"1\" class=\"dataframe\">\n",
       "  <thead>\n",
       "    <tr style=\"text-align: right;\">\n",
       "      <th></th>\n",
       "      <th>event_name</th>\n",
       "      <th>user_id</th>\n",
       "      <th>event_dt</th>\n",
       "      <th>group</th>\n",
       "      <th>date</th>\n",
       "      <th>hour</th>\n",
       "    </tr>\n",
       "  </thead>\n",
       "  <tbody>\n",
       "    <tr>\n",
       "      <th>0</th>\n",
       "      <td>MainScreenAppear</td>\n",
       "      <td>4575588528974610257</td>\n",
       "      <td>2019-07-25 04:43:36</td>\n",
       "      <td>246</td>\n",
       "      <td>2019-07-25</td>\n",
       "      <td>2019-07-25 04</td>\n",
       "    </tr>\n",
       "    <tr>\n",
       "      <th>1</th>\n",
       "      <td>MainScreenAppear</td>\n",
       "      <td>7416695313311560658</td>\n",
       "      <td>2019-07-25 11:11:42</td>\n",
       "      <td>246</td>\n",
       "      <td>2019-07-25</td>\n",
       "      <td>2019-07-25 11</td>\n",
       "    </tr>\n",
       "    <tr>\n",
       "      <th>2</th>\n",
       "      <td>PaymentScreenSuccessful</td>\n",
       "      <td>3518123091307005509</td>\n",
       "      <td>2019-07-25 11:28:47</td>\n",
       "      <td>248</td>\n",
       "      <td>2019-07-25</td>\n",
       "      <td>2019-07-25 11</td>\n",
       "    </tr>\n",
       "    <tr>\n",
       "      <th>3</th>\n",
       "      <td>CartScreenAppear</td>\n",
       "      <td>3518123091307005509</td>\n",
       "      <td>2019-07-25 11:28:47</td>\n",
       "      <td>248</td>\n",
       "      <td>2019-07-25</td>\n",
       "      <td>2019-07-25 11</td>\n",
       "    </tr>\n",
       "    <tr>\n",
       "      <th>4</th>\n",
       "      <td>PaymentScreenSuccessful</td>\n",
       "      <td>6217807653094995999</td>\n",
       "      <td>2019-07-25 11:48:42</td>\n",
       "      <td>248</td>\n",
       "      <td>2019-07-25</td>\n",
       "      <td>2019-07-25 11</td>\n",
       "    </tr>\n",
       "  </tbody>\n",
       "</table>\n",
       "</div>"
      ],
      "text/plain": [
       "                event_name              user_id            event_dt  group  \\\n",
       "0         MainScreenAppear  4575588528974610257 2019-07-25 04:43:36    246   \n",
       "1         MainScreenAppear  7416695313311560658 2019-07-25 11:11:42    246   \n",
       "2  PaymentScreenSuccessful  3518123091307005509 2019-07-25 11:28:47    248   \n",
       "3         CartScreenAppear  3518123091307005509 2019-07-25 11:28:47    248   \n",
       "4  PaymentScreenSuccessful  6217807653094995999 2019-07-25 11:48:42    248   \n",
       "\n",
       "         date           hour  \n",
       "0  2019-07-25  2019-07-25 04  \n",
       "1  2019-07-25  2019-07-25 11  \n",
       "2  2019-07-25  2019-07-25 11  \n",
       "3  2019-07-25  2019-07-25 11  \n",
       "4  2019-07-25  2019-07-25 11  "
      ]
     },
     "metadata": {},
     "output_type": "display_data"
    }
   ],
   "source": [
    "#проверка названий столбцов и типов данных\n",
    "display(data.info(), data.head())"
   ]
  },
  {
   "cell_type": "code",
   "execution_count": 7,
   "metadata": {},
   "outputs": [
    {
     "data": {
      "text/plain": [
       "event_name    0\n",
       "user_id       0\n",
       "event_dt      0\n",
       "group         0\n",
       "date          0\n",
       "hour          0\n",
       "dtype: int64"
      ]
     },
     "execution_count": 7,
     "metadata": {},
     "output_type": "execute_result"
    }
   ],
   "source": [
    "#проверим датасет на наличие пропущенных значений\n",
    "data.isna().sum()"
   ]
  },
  {
   "cell_type": "markdown",
   "metadata": {},
   "source": [
    "Пропущенных значений нет."
   ]
  },
  {
   "cell_type": "code",
   "execution_count": 8,
   "metadata": {},
   "outputs": [
    {
     "data": {
      "text/plain": [
       "413"
      ]
     },
     "execution_count": 8,
     "metadata": {},
     "output_type": "execute_result"
    }
   ],
   "source": [
    "#проверим датасет на наличие явных дубликатов\n",
    "data.duplicated().sum()"
   ]
  },
  {
   "cell_type": "code",
   "execution_count": 9,
   "metadata": {},
   "outputs": [
    {
     "data": {
      "text/plain": [
       "0.17"
      ]
     },
     "execution_count": 9,
     "metadata": {},
     "output_type": "execute_result"
    }
   ],
   "source": [
    "#доля явных дубликатов\n",
    "round(data.duplicated().sum() / data.shape[0] *100, 2)"
   ]
  },
  {
   "cell_type": "markdown",
   "metadata": {},
   "source": [
    "Доля явных дубликатов в датасете составляет менее 0,2%. Удалим дубликаты из датасета:"
   ]
  },
  {
   "cell_type": "code",
   "execution_count": 10,
   "metadata": {},
   "outputs": [],
   "source": [
    "data = data.drop_duplicates()"
   ]
  },
  {
   "cell_type": "markdown",
   "metadata": {},
   "source": [
    "## Изучение и проверка данных"
   ]
  },
  {
   "cell_type": "markdown",
   "metadata": {},
   "source": [
    "### Общая информация"
   ]
  },
  {
   "cell_type": "markdown",
   "metadata": {},
   "source": [
    "Определим некоторую справочную информацию о наших данных:"
   ]
  },
  {
   "cell_type": "code",
   "execution_count": 11,
   "metadata": {},
   "outputs": [
    {
     "data": {
      "text/plain": [
       "Timestamp('2019-07-25 04:43:36')"
      ]
     },
     "metadata": {},
     "output_type": "display_data"
    },
    {
     "data": {
      "text/plain": [
       "Timestamp('2019-08-07 21:15:17')"
      ]
     },
     "metadata": {},
     "output_type": "display_data"
    },
    {
     "data": {
      "text/plain": [
       "'Количество событий в логе:'"
      ]
     },
     "metadata": {},
     "output_type": "display_data"
    },
    {
     "data": {
      "text/plain": [
       "243713"
      ]
     },
     "metadata": {},
     "output_type": "display_data"
    },
    {
     "data": {
      "text/plain": [
       "'Количество пользователей в логе:'"
      ]
     },
     "metadata": {},
     "output_type": "display_data"
    },
    {
     "data": {
      "text/plain": [
       "7551"
      ]
     },
     "metadata": {},
     "output_type": "display_data"
    },
    {
     "data": {
      "text/plain": [
       "'Количество в среднем событий на 1 пользователя:'"
      ]
     },
     "metadata": {},
     "output_type": "display_data"
    },
    {
     "data": {
      "text/plain": [
       "32"
      ]
     },
     "metadata": {},
     "output_type": "display_data"
    },
    {
     "data": {
      "text/plain": [
       "0"
      ]
     },
     "metadata": {},
     "output_type": "display_data"
    }
   ],
   "source": [
    "#временные рамки\n",
    "display(data['event_dt'].min())\n",
    "display(data['event_dt'].max())\n",
    " \n",
    "#справка о пользователях\n",
    "display('Количество событий в логе:', data['event_name'].count())\n",
    "display('Количество пользователей в логе:', data['user_id'].nunique())\n",
    "display('Количество в среднем событий на 1 пользователя:', \n",
    "        round(data.groupby('user_id')['event_name'].agg('count').mean()), 0)"
   ]
  },
  {
   "cell_type": "markdown",
   "metadata": {},
   "source": [
    "Мы располагаем данными в период с 25 июля по 7 августа 2019 года. Датасет содержит информацию о 243 713 событий, 7551 пользователе. В среднем на 1 пользователя приходится 32 события."
   ]
  },
  {
   "cell_type": "markdown",
   "metadata": {},
   "source": [
    "### Определение полных данных"
   ]
  },
  {
   "cell_type": "markdown",
   "metadata": {},
   "source": [
    "Проверим данные на их полноту, для этого построим гистограмму и посмотрим как распределяется количество событий по времени:"
   ]
  },
  {
   "cell_type": "code",
   "execution_count": 12,
   "metadata": {},
   "outputs": [
    {
     "data": {
      "image/png": "[encoded data removed]"
     },
     "metadata": {},
     "output_type": "display_data"
    }
   ],
   "source": [
    "fig = px.histogram(data, x='event_dt')\n",
    "#оформление графика\n",
    "fig.update_layout(title='Гистограмма событий',\n",
    "                   xaxis_title='Дата',\n",
    "                   yaxis_title='Количество событий')\n",
    "\n",
    "fig.show()"
   ]
  },
  {
   "cell_type": "code",
   "execution_count": 13,
   "metadata": {},
   "outputs": [],
   "source": [
    "#data['event_dt'].hist(figsize=(15, 7.5), bins=500, color='#0000CD');"
   ]
  },
  {
   "cell_type": "markdown",
   "metadata": {},
   "source": [
    "По графику можно сделать следующие **выводы:** \n",
    "\n",
    "Полные данные включает период с 1 августа по 7 августа 2019 года, вероятно это связано с тем что данные \"доезжают\" для пользователей из прошлого.\n",
    "\n",
    "Отбросим неполноценные данные до 1 августа 2019 года и не будем учитывать их в исследовании, обозначим потери:"
   ]
  },
  {
   "cell_type": "code",
   "execution_count": 14,
   "metadata": {},
   "outputs": [
    {
     "data": {
      "text/plain": [
       "'Количество событий в логе:'"
      ]
     },
     "metadata": {},
     "output_type": "display_data"
    },
    {
     "data": {
      "text/plain": [
       "240887"
      ]
     },
     "metadata": {},
     "output_type": "display_data"
    },
    {
     "data": {
      "text/plain": [
       "'Количество пользователей в логе:'"
      ]
     },
     "metadata": {},
     "output_type": "display_data"
    },
    {
     "data": {
      "text/plain": [
       "7534"
      ]
     },
     "metadata": {},
     "output_type": "display_data"
    },
    {
     "data": {
      "text/plain": [
       "'Количество в среднем событий на 1 пользователя:'"
      ]
     },
     "metadata": {},
     "output_type": "display_data"
    },
    {
     "data": {
      "text/plain": [
       "32"
      ]
     },
     "metadata": {},
     "output_type": "display_data"
    },
    {
     "data": {
      "text/plain": [
       "0"
      ]
     },
     "metadata": {},
     "output_type": "display_data"
    },
    {
     "data": {
      "text/plain": [
       "'Доля исключенных из исследования событий (%):'"
      ]
     },
     "metadata": {},
     "output_type": "display_data"
    },
    {
     "data": {
      "text/plain": [
       "1.16"
      ]
     },
     "metadata": {},
     "output_type": "display_data"
    },
    {
     "data": {
      "text/plain": [
       "'Доля исключенных из исследования пользователей (%):'"
      ]
     },
     "metadata": {},
     "output_type": "display_data"
    },
    {
     "data": {
      "text/plain": [
       "0.23"
      ]
     },
     "metadata": {},
     "output_type": "display_data"
    }
   ],
   "source": [
    "#датасет с полными данными, период 1 августа - 7 августа 2019 года включительно\n",
    "full_data = data[(data['event_dt'] > '2019-08-01')]\n",
    "\n",
    "display('Количество событий в логе:', full_data['event_name'].count())\n",
    "display('Количество пользователей в логе:', full_data['user_id'].nunique())\n",
    "display('Количество в среднем событий на 1 пользователя:', \n",
    "        round(full_data.groupby('user_id')['event_name'].agg('count').mean()), 0)\n",
    "\n",
    "display('Доля исключенных из исследования событий (%):', \n",
    "        round((1 - full_data['event_name'].count() / data['event_name'].count()) * 100 , 2))\n",
    "display('Доля исключенных из исследования пользователей (%):', \n",
    "        round((1 - full_data['user_id'].nunique() / data['user_id'].nunique()) * 100 , 2))"
   ]
  },
  {
   "cell_type": "markdown",
   "metadata": {},
   "source": [
    "Данные с актуализированным периодом исследования включают себя: информацию о 240 887 событий, 7534 пользователей в период с 1 августа по 7 августа 2019 года включительно. В среднем на 1 пользователя приходится 32 события.\n",
    "\n",
    "Потери в связи с сокращением периода для дальнейшего исследования составляют:\n",
    "чуть более 1% (1,16%) событий и менее 1%(0,23%) пользователей."
   ]
  },
  {
   "cell_type": "markdown",
   "metadata": {},
   "source": [
    "Проверим наличие пользователей из всех трех групп эксперимента в данных для дальнейшего исследования."
   ]
  },
  {
   "cell_type": "code",
   "execution_count": 15,
   "metadata": {},
   "outputs": [
    {
     "data": {
      "image/png": "[encoded data removed]"
     },
     "metadata": {},
     "output_type": "display_data"
    }
   ],
   "source": [
    "#сгруппируем данные по группам эксперимента и посчитаем количество уникальных пользователей\n",
    "data_per_group = full_data.groupby('group')[['user_id']].agg('nunique')\n",
    "#переименуем столбец\n",
    "data_per_group.columns = ['total_count']\n",
    "data_per_group = data_per_group.reset_index()\n",
    "\n",
    "#круговая диаграмма по собранным данным\n",
    "fig = px.pie(data_per_group, values='total_count', names='group')\n",
    "\n",
    "#оформление графика\n",
    "fig.update_layout(title='Разбивка пользователей по экспериментальным группам')\n",
    "fig.show()"
   ]
  },
  {
   "cell_type": "code",
   "execution_count": 16,
   "metadata": {},
   "outputs": [],
   "source": [
    "# full_data.groupby('group')['user_id'].agg('nunique').plot(kind='pie',\n",
    "#                                                           figsize= (5, 5),\n",
    "#                                                           title= 'Разбивка пользователей по экспериментальным группам', \n",
    "#                                                           legend=True, \n",
    "#                                                           labels=None, \n",
    "#                                                           autopct='%1.0f%%',\n",
    "#                                                           cmap = 'coolwarm');"
   ]
  },
  {
   "cell_type": "markdown",
   "metadata": {},
   "source": [
    "Разбивка уникальных пользователей по группам эксперимента подтверждает, что в срезе данных, который будет использоваться в дальнейшем исследовании присутствуют пользователи из всех трех экспериментальных групп, при этом их доли примерно равны (приблизительно по 33% пользователей от общего количества пользователей исследования в каждой группе)."
   ]
  },
  {
   "cell_type": "markdown",
   "metadata": {},
   "source": [
    "## Изучение воронки событий"
   ]
  },
  {
   "cell_type": "markdown",
   "metadata": {},
   "source": [
    "### Частота событий"
   ]
  },
  {
   "cell_type": "markdown",
   "metadata": {},
   "source": [
    "Проведем исследовательский анализ данных: определим частоту каждого события в исследуемых данных."
   ]
  },
  {
   "cell_type": "markdown",
   "metadata": {},
   "source": [
    "Соберем данные необходимые нам для дальнейшего исследования, определим количество событий `event_count`, количество пользователей по событиям `users_count` и процент пользователей совершивших целевое действие (по событиям)- `cr`."
   ]
  },
  {
   "cell_type": "code",
   "execution_count": 17,
   "metadata": {},
   "outputs": [
    {
     "data": {
      "text/html": [
       "<div>\n",
       "<style scoped>\n",
       "    .dataframe tbody tr th:only-of-type {\n",
       "        vertical-align: middle;\n",
       "    }\n",
       "\n",
       "    .dataframe tbody tr th {\n",
       "        vertical-align: top;\n",
       "    }\n",
       "\n",
       "    .dataframe thead th {\n",
       "        text-align: right;\n",
       "    }\n",
       "</style>\n",
       "<table border=\"1\" class=\"dataframe\">\n",
       "  <thead>\n",
       "    <tr style=\"text-align: right;\">\n",
       "      <th></th>\n",
       "      <th>event_name</th>\n",
       "      <th>events_count</th>\n",
       "      <th>users_count</th>\n",
       "      <th>cr</th>\n",
       "    </tr>\n",
       "  </thead>\n",
       "  <tbody>\n",
       "    <tr>\n",
       "      <th>0</th>\n",
       "      <td>MainScreenAppear</td>\n",
       "      <td>117328</td>\n",
       "      <td>7419</td>\n",
       "      <td>98.47</td>\n",
       "    </tr>\n",
       "    <tr>\n",
       "      <th>1</th>\n",
       "      <td>OffersScreenAppear</td>\n",
       "      <td>46333</td>\n",
       "      <td>4593</td>\n",
       "      <td>60.96</td>\n",
       "    </tr>\n",
       "    <tr>\n",
       "      <th>2</th>\n",
       "      <td>CartScreenAppear</td>\n",
       "      <td>42303</td>\n",
       "      <td>3734</td>\n",
       "      <td>49.56</td>\n",
       "    </tr>\n",
       "    <tr>\n",
       "      <th>3</th>\n",
       "      <td>PaymentScreenSuccessful</td>\n",
       "      <td>33918</td>\n",
       "      <td>3539</td>\n",
       "      <td>46.97</td>\n",
       "    </tr>\n",
       "    <tr>\n",
       "      <th>4</th>\n",
       "      <td>Tutorial</td>\n",
       "      <td>1005</td>\n",
       "      <td>840</td>\n",
       "      <td>11.15</td>\n",
       "    </tr>\n",
       "  </tbody>\n",
       "</table>\n",
       "</div>"
      ],
      "text/plain": [
       "                event_name  events_count  users_count     cr\n",
       "0         MainScreenAppear        117328         7419  98.47\n",
       "1       OffersScreenAppear         46333         4593  60.96\n",
       "2         CartScreenAppear         42303         3734  49.56\n",
       "3  PaymentScreenSuccessful         33918         3539  46.97\n",
       "4                 Tutorial          1005          840  11.15"
      ]
     },
     "execution_count": 17,
     "metadata": {},
     "output_type": "execute_result"
    }
   ],
   "source": [
    "#собираем данные\n",
    "df = full_data.groupby('event_name').agg({\n",
    "    'date' : 'count',\n",
    "    'user_id' : 'nunique'\n",
    "}).sort_values(by='user_id', ascending=False).reset_index()\n",
    "\n",
    "df.columns = ['event_name', 'events_count', 'users_count']\n",
    "\n",
    "df['cr'] = round(df['users_count'] / full_data['user_id'].nunique() * 100, 2)\n",
    "\n",
    "df"
   ]
  },
  {
   "cell_type": "markdown",
   "metadata": {},
   "source": [
    "Дадим определения событий:\n",
    "* `Tutorial` - экран руководства пользования\n",
    "* `MainScreenAppear` - экран главной страницы\n",
    "* `OffersScreenAppear` - экран каталога продукции\n",
    "* `CartScreenAppear`  - экран корзины\n",
    "* `PaymentScreenSuccessful` - экран успешной оплаты"
   ]
  },
  {
   "cell_type": "code",
   "execution_count": 18,
   "metadata": {},
   "outputs": [
    {
     "data": {
      "image/png": "[encoded data removed]"
     },
     "metadata": {},
     "output_type": "display_data"
    }
   ],
   "source": [
    "#строим график распределения количества событий\n",
    "fig = px.bar(df.sort_values(by='events_count', ascending=True), \n",
    "             x='events_count',\n",
    "             y='event_name',\n",
    "             text='events_count' \n",
    "            )\n",
    "\n",
    "#оформление графика\n",
    "fig.update_layout(title='Распределение количества событий',\n",
    "                   xaxis_title='Количество событий',\n",
    "                   yaxis_title='Событие')\n",
    "fig.show()"
   ]
  },
  {
   "cell_type": "markdown",
   "metadata": {},
   "source": [
    "**Выводы**:\n",
    "* Наиболее частое событие - появление экрана главной страницы (117 328 событий в исследуемых данных)\n",
    "* На втором месте по частоте - появление экрана каталога продукции (46 333 событий)\n",
    "* Далее следует экран корзины (42 303 событий)\n",
    "* Затем экран успешной оплаты (33 918 событий)\n",
    "* При этом экран руководства пользования появляется с наименьшей частотой (1 005 событий), из чего следует что для того чтобы попасть на экран главной страницы необязательно открывать экран руководства пользования. "
   ]
  },
  {
   "cell_type": "markdown",
   "metadata": {},
   "source": [
    "### Распределение пользователей по событиям"
   ]
  },
  {
   "cell_type": "code",
   "execution_count": 19,
   "metadata": {},
   "outputs": [
    {
     "data": {
      "image/png": "[encoded data removed]"
     },
     "metadata": {},
     "output_type": "display_data"
    }
   ],
   "source": [
    "#строим график распределения количества пользователей по событиям\n",
    "fig = px.bar(df.sort_values(by='events_count', ascending=True), \n",
    "             x='users_count',\n",
    "             y='event_name',\n",
    "             text='users_count' \n",
    "            )\n",
    "\n",
    "#оформление графика\n",
    "fig.update_layout(title='Распределение количества пользователей по событиям',\n",
    "                   xaxis_title='Количество пользователей',\n",
    "                   yaxis_title='Событие')\n",
    "fig.show()"
   ]
  },
  {
   "cell_type": "markdown",
   "metadata": {},
   "source": [
    "**Выводы:**\n",
    "* 7419 пользователей (около 98% от их общего количества) хотя бы раз доходили до главного экрана. Около 2% пользователей потерялись на этом шаге, возможно имеют места быть некорректное отображение или ошибки для некоторых устройств.\n",
    "* 4593 пользователей доходят до экрана каталога продукции это 61% всех пользователей\n",
    "* 3734 пользователей доходят до экрана корзины это около 50% всех пользователей\n",
    "* 3539 (чуть менее 47% всех пользователей) доходят до экрана успешной оплаты\n",
    "* 840 пользователей доходят до экрана руководства пользования это 11% всех пользователей"
   ]
  },
  {
   "cell_type": "markdown",
   "metadata": {},
   "source": [
    "### Воронка событий"
   ]
  },
  {
   "cell_type": "markdown",
   "metadata": {},
   "source": [
    "Предположим пользователь совершает действия в следующем порядке:\n",
    "* Шаг первый: открывает экран главной страницы\n",
    "* Шаг второй: открывает каталог продукции (выбирает продукты, добавляет в корзину)\n",
    "* Шаг третий: открывает экран корзины \n",
    "* Шаг четвертый: оплачивает покупки - экран успешной оплаты заказа\n",
    "\n",
    "Как было отмечено ранее событие `Tutorial` - открытие руководства пользования является необязательным шагом для пользования сайтом и совершения других действий, поэтому не будем учитывать это событие в дальнейшем исследовании."
   ]
  },
  {
   "cell_type": "markdown",
   "metadata": {},
   "source": [
    "Построим воронку событий по конверсии пользователей"
   ]
  },
  {
   "cell_type": "code",
   "execution_count": 20,
   "metadata": {},
   "outputs": [
    {
     "data": {
      "image/png": "[encoded data removed]"
     },
     "metadata": {},
     "output_type": "display_data"
    }
   ],
   "source": [
    "#строим воронку событий для всех пользователей участвующих в эксперименте\n",
    "\n",
    "fig = go.Figure(go.Funnel(\n",
    "    name = 'Воронка сбытий',\n",
    "    y = df[df['event_name'] != 'Tutorial']['event_name'],\n",
    "    x = df['users_count'],\n",
    "    textinfo = 'value+percent initial'\n",
    "#     marker = {'color': ['#0000CD', '#B22222', '#FFA07A', '#8FBC8F']}\n",
    "))\n",
    "fig.show();"
   ]
  },
  {
   "cell_type": "markdown",
   "metadata": {},
   "source": [
    "Добавим новую метрику в нашу таблицу - процент пользователей совершивших целевое действие в шаг `cr_per_step`."
   ]
  },
  {
   "cell_type": "code",
   "execution_count": 21,
   "metadata": {},
   "outputs": [
    {
     "name": "stderr",
     "output_type": "stream",
     "text": [
      "/var/folders/p9/hd85ljb13pd1wq837gsp4xjw0000gn/T/ipykernel_89670/523521106.py:6: SettingWithCopyWarning:\n",
      "\n",
      "\n",
      "A value is trying to be set on a copy of a slice from a DataFrame.\n",
      "Try using .loc[row_indexer,col_indexer] = value instead\n",
      "\n",
      "See the caveats in the documentation: https://pandas.pydata.org/pandas-docs/stable/user_guide/indexing.html#returning-a-view-versus-a-copy\n",
      "\n"
     ]
    },
    {
     "data": {
      "text/html": [
       "<div>\n",
       "<style scoped>\n",
       "    .dataframe tbody tr th:only-of-type {\n",
       "        vertical-align: middle;\n",
       "    }\n",
       "\n",
       "    .dataframe tbody tr th {\n",
       "        vertical-align: top;\n",
       "    }\n",
       "\n",
       "    .dataframe thead th {\n",
       "        text-align: right;\n",
       "    }\n",
       "</style>\n",
       "<table border=\"1\" class=\"dataframe\">\n",
       "  <thead>\n",
       "    <tr style=\"text-align: right;\">\n",
       "      <th></th>\n",
       "      <th>event_name</th>\n",
       "      <th>events_count</th>\n",
       "      <th>users_count</th>\n",
       "      <th>cr</th>\n",
       "      <th>cr_per_step</th>\n",
       "    </tr>\n",
       "  </thead>\n",
       "  <tbody>\n",
       "    <tr>\n",
       "      <th>0</th>\n",
       "      <td>MainScreenAppear</td>\n",
       "      <td>117328</td>\n",
       "      <td>7419</td>\n",
       "      <td>98.47</td>\n",
       "      <td>100.00</td>\n",
       "    </tr>\n",
       "    <tr>\n",
       "      <th>1</th>\n",
       "      <td>OffersScreenAppear</td>\n",
       "      <td>46333</td>\n",
       "      <td>4593</td>\n",
       "      <td>60.96</td>\n",
       "      <td>61.91</td>\n",
       "    </tr>\n",
       "    <tr>\n",
       "      <th>2</th>\n",
       "      <td>CartScreenAppear</td>\n",
       "      <td>42303</td>\n",
       "      <td>3734</td>\n",
       "      <td>49.56</td>\n",
       "      <td>81.30</td>\n",
       "    </tr>\n",
       "    <tr>\n",
       "      <th>3</th>\n",
       "      <td>PaymentScreenSuccessful</td>\n",
       "      <td>33918</td>\n",
       "      <td>3539</td>\n",
       "      <td>46.97</td>\n",
       "      <td>94.78</td>\n",
       "    </tr>\n",
       "  </tbody>\n",
       "</table>\n",
       "</div>"
      ],
      "text/plain": [
       "                event_name  events_count  users_count     cr  cr_per_step\n",
       "0         MainScreenAppear        117328         7419  98.47       100.00\n",
       "1       OffersScreenAppear         46333         4593  60.96        61.91\n",
       "2         CartScreenAppear         42303         3734  49.56        81.30\n",
       "3  PaymentScreenSuccessful         33918         3539  46.97        94.78"
      ]
     },
     "execution_count": 21,
     "metadata": {},
     "output_type": "execute_result"
    }
   ],
   "source": [
    "#исключаем событие `Tutorial`\n",
    "\n",
    "df = df[df['event_name'] != 'Tutorial']\n",
    "\n",
    "\n",
    "df.loc[0, 'cr_per_step'] = 100\n",
    "df.loc[1, 'cr_per_step'] = round(df.loc[1, 'users_count'] / df.loc[0, 'users_count'] * 100, 2)\n",
    "df.loc[2, 'cr_per_step'] = round(df.loc[2, 'users_count'] / df.loc[1, 'users_count'] * 100, 2)\n",
    "df.loc[3, 'cr_per_step'] = round(df.loc[3, 'users_count'] / df.loc[2, 'users_count'] * 100, 2)\n",
    "\n",
    "df"
   ]
  },
  {
   "cell_type": "markdown",
   "metadata": {},
   "source": [
    "**Вывод:** \n",
    "* Около 62% пользователей переходят с главного экрана в каталог продукции (потеря около 38% от количества пользователей увидевших главную страницу)\n",
    "* 81% из перешедших в каталог продукции переходят в корзину (потеря 19% от пользователей предыдущего шага)\n",
    "* Около 95% пользователей доходят до экрана успешной оплаты (потеря 5% от пользователей предыдущего шага)\n",
    "\n",
    "Наибольшее число пользователей теряется на шаге перехода на экран каталога продукции с главной страницы, стоит выяснить причину, возможно приложение работает некорректно на некоторых устройствах.\n",
    "\n",
    "В целом около 47% пользователей доходит от первого (экран главной страницы) до последнего шага (экран успешной оплаты) воронки."
   ]
  },
  {
   "cell_type": "markdown",
   "metadata": {},
   "source": [
    "## Изучение результатов исследования"
   ]
  },
  {
   "cell_type": "markdown",
   "metadata": {},
   "source": [
    "### Проверка экспериментальных групп"
   ]
  },
  {
   "cell_type": "markdown",
   "metadata": {},
   "source": [
    "Определим количество пользователей в каждой экспериментальной группе."
   ]
  },
  {
   "cell_type": "code",
   "execution_count": 22,
   "metadata": {},
   "outputs": [
    {
     "data": {
      "text/plain": [
       "{246: 2484, 247: 2513, 248: 2537, '246+247': 4997}"
      ]
     },
     "execution_count": 22,
     "metadata": {},
     "output_type": "execute_result"
    }
   ],
   "source": [
    "users_count = {\n",
    "    246: full_data[full_data['group']==246]['user_id'].nunique(),\n",
    "    247: full_data[full_data['group']==247]['user_id'].nunique(),\n",
    "    248: full_data[full_data['group']==248]['user_id'].nunique(),\n",
    "    '246+247': full_data[(full_data['group']==246) | (full_data['group']==247)]['user_id'].nunique()}\n",
    "\n",
    "users_count"
   ]
  },
  {
   "cell_type": "markdown",
   "metadata": {},
   "source": [
    "Пользователи распределяются по группам следующим образом:\n",
    "* группа 246 - 2484 пользователя\n",
    "* группа 247 - 2513 пользователей\n",
    "* группа 248 - 2537 пользователей\n",
    "\n",
    "Из чего можно сделать вывод что количество пользователей в группах сбалансировано."
   ]
  },
  {
   "cell_type": "code",
   "execution_count": 23,
   "metadata": {},
   "outputs": [
    {
     "data": {
      "text/html": [
       "<div>\n",
       "<style scoped>\n",
       "    .dataframe tbody tr th:only-of-type {\n",
       "        vertical-align: middle;\n",
       "    }\n",
       "\n",
       "    .dataframe tbody tr th {\n",
       "        vertical-align: top;\n",
       "    }\n",
       "\n",
       "    .dataframe thead th {\n",
       "        text-align: right;\n",
       "    }\n",
       "</style>\n",
       "<table border=\"1\" class=\"dataframe\">\n",
       "  <thead>\n",
       "    <tr style=\"text-align: right;\">\n",
       "      <th></th>\n",
       "      <th>246</th>\n",
       "      <th>247</th>\n",
       "      <th>248</th>\n",
       "      <th>246+247</th>\n",
       "      <th>event_name</th>\n",
       "    </tr>\n",
       "  </thead>\n",
       "  <tbody>\n",
       "    <tr>\n",
       "      <th>0</th>\n",
       "      <td>2450</td>\n",
       "      <td>2476</td>\n",
       "      <td>2493</td>\n",
       "      <td>4926</td>\n",
       "      <td>MainScreenAppear</td>\n",
       "    </tr>\n",
       "    <tr>\n",
       "      <th>1</th>\n",
       "      <td>1542</td>\n",
       "      <td>1520</td>\n",
       "      <td>1531</td>\n",
       "      <td>3062</td>\n",
       "      <td>OffersScreenAppear</td>\n",
       "    </tr>\n",
       "    <tr>\n",
       "      <th>2</th>\n",
       "      <td>1266</td>\n",
       "      <td>1238</td>\n",
       "      <td>1230</td>\n",
       "      <td>2504</td>\n",
       "      <td>CartScreenAppear</td>\n",
       "    </tr>\n",
       "    <tr>\n",
       "      <th>3</th>\n",
       "      <td>1200</td>\n",
       "      <td>1158</td>\n",
       "      <td>1181</td>\n",
       "      <td>2358</td>\n",
       "      <td>PaymentScreenSuccessful</td>\n",
       "    </tr>\n",
       "  </tbody>\n",
       "</table>\n",
       "</div>"
      ],
      "text/plain": [
       "    246   247   248  246+247               event_name\n",
       "0  2450  2476  2493     4926         MainScreenAppear\n",
       "1  1542  1520  1531     3062       OffersScreenAppear\n",
       "2  1266  1238  1230     2504         CartScreenAppear\n",
       "3  1200  1158  1181     2358  PaymentScreenSuccessful"
      ]
     },
     "execution_count": 23,
     "metadata": {},
     "output_type": "execute_result"
    }
   ],
   "source": [
    "#подготовим удобные таблицы для проведения теста\n",
    "\n",
    "#выделим события\n",
    "events = (df[df['event_name'] != 'Tutorial']\n",
    "         .sort_values('events_count', ascending=False)['event_name']\n",
    "         .reset_index(drop=True))\n",
    "\n",
    "#соберем данные для статистической проверки \n",
    "groups = [246, 247, 248]\n",
    "test_group = {}\n",
    "\n",
    "for group in groups:\n",
    "    test_group[group] =[]\n",
    "    \n",
    "    for event in events:\n",
    "        \n",
    "        test_group[group].append(\n",
    "            full_data[(full_data['group'] == group) & (full_data['event_name'] == event)]['user_id'].nunique()\n",
    "        )\n",
    "        \n",
    "#объединим данные 246 и 247 группы и добавим их как четвертую тестовую группу\n",
    "test_group = pd.DataFrame(test_group)\n",
    "test_group['246+247'] = test_group[246] + test_group[247]\n",
    "test_group['event_name'] = events\n",
    "\n",
    "test_group"
   ]
  },
  {
   "cell_type": "markdown",
   "metadata": {},
   "source": [
    "Частота событий распределяется схоже для всех трех экспериментальных групп, характерных отклонений от общей тенденции распределения нет."
   ]
  },
  {
   "cell_type": "markdown",
   "metadata": {},
   "source": [
    "Также проверим наличие технических ошибок в распределяющей системе теста, т.е. проверим наличие пользователей, участвовавших в нескольких группах теста одновременно:"
   ]
  },
  {
   "cell_type": "code",
   "execution_count": 24,
   "metadata": {},
   "outputs": [
    {
     "data": {
      "text/html": [
       "<div>\n",
       "<style scoped>\n",
       "    .dataframe tbody tr th:only-of-type {\n",
       "        vertical-align: middle;\n",
       "    }\n",
       "\n",
       "    .dataframe tbody tr th {\n",
       "        vertical-align: top;\n",
       "    }\n",
       "\n",
       "    .dataframe thead th {\n",
       "        text-align: right;\n",
       "    }\n",
       "</style>\n",
       "<table border=\"1\" class=\"dataframe\">\n",
       "  <thead>\n",
       "    <tr style=\"text-align: right;\">\n",
       "      <th></th>\n",
       "      <th>group</th>\n",
       "    </tr>\n",
       "    <tr>\n",
       "      <th>user_id</th>\n",
       "      <th></th>\n",
       "    </tr>\n",
       "  </thead>\n",
       "  <tbody>\n",
       "  </tbody>\n",
       "</table>\n",
       "</div>"
      ],
      "text/plain": [
       "Empty DataFrame\n",
       "Columns: [group]\n",
       "Index: []"
      ]
     },
     "metadata": {},
     "output_type": "display_data"
    },
    {
     "data": {
      "text/plain": [
       "'Количество пользователей с ошибками:'"
      ]
     },
     "metadata": {},
     "output_type": "display_data"
    },
    {
     "data": {
      "text/plain": [
       "0"
      ]
     },
     "metadata": {},
     "output_type": "display_data"
    },
    {
     "data": {
      "text/plain": [
       "'Доля пользователей с ошибками (%):'"
      ]
     },
     "metadata": {},
     "output_type": "display_data"
    },
    {
     "data": {
      "text/plain": [
       "0.0"
      ]
     },
     "metadata": {},
     "output_type": "display_data"
    }
   ],
   "source": [
    "#находим количество уникальных групп для каждого пользователя \n",
    "#фильтруем пользователей с более чем 1 группой\n",
    "bug_users = full_data.pivot_table(\n",
    "    index = 'user_id', \n",
    "    values = 'group', \n",
    "    aggfunc = 'nunique').query('group > 1')\n",
    "\n",
    "display(bug_users.head())\n",
    "\n",
    "display('Количество пользователей с ошибками:', bug_users.shape[0])\n",
    "display('Доля пользователей с ошибками (%):', \n",
    "        round(bug_users.shape[0] / full_data['user_id'].nunique() * 100, 2))"
   ]
  },
  {
   "cell_type": "markdown",
   "metadata": {},
   "source": [
    "Технических ошибок в распределяющей системе теста нет."
   ]
  },
  {
   "cell_type": "markdown",
   "metadata": {},
   "source": [
    "### Проверка статистических гипотез"
   ]
  },
  {
   "cell_type": "markdown",
   "metadata": {},
   "source": [
    "Мы располагаем данными о двух контрольных группах А/А эксперимента 246 и 247. Проверим, находят ли статистические критерии разницу между этими выборками. Для этого проведем тест с использованием z-критерия: проверим гипотезу о равенстве долей двух совокупностей."
   ]
  },
  {
   "cell_type": "markdown",
   "metadata": {},
   "source": [
    "Сформулируем гипотезы:\n",
    "\n",
    "`Нулевая: доли групп равны` \n",
    "\n",
    "`Альтернативная: есть различия в долях групп`"
   ]
  },
  {
   "cell_type": "code",
   "execution_count": 25,
   "metadata": {},
   "outputs": [
    {
     "name": "stdout",
     "output_type": "stream",
     "text": [
      "0.621470138397695\n"
     ]
    },
    {
     "data": {
      "text/plain": [
       "'Событие: MainScreenAppear, p-значение: 0.7570597232046099'"
      ]
     },
     "metadata": {},
     "output_type": "display_data"
    },
    {
     "data": {
      "text/plain": [
       "'Не получилось отвергнуть нулевую гипотезу, нет оснований считать доли разными'"
      ]
     },
     "metadata": {},
     "output_type": "display_data"
    },
    {
     "name": "stdout",
     "output_type": "stream",
     "text": [
      "\n",
      "0.875952271073891\n"
     ]
    },
    {
     "data": {
      "text/plain": [
       "'Событие: OffersScreenAppear, p-значение: 0.2480954578522181'"
      ]
     },
     "metadata": {},
     "output_type": "display_data"
    },
    {
     "data": {
      "text/plain": [
       "'Не получилось отвергнуть нулевую гипотезу, нет оснований считать доли разными'"
      ]
     },
     "metadata": {},
     "output_type": "display_data"
    },
    {
     "name": "stdout",
     "output_type": "stream",
     "text": [
      "\n",
      "0.8855831388100139\n"
     ]
    },
    {
     "data": {
      "text/plain": [
       "'Событие: CartScreenAppear, p-значение: 0.22883372237997213'"
      ]
     },
     "metadata": {},
     "output_type": "display_data"
    },
    {
     "data": {
      "text/plain": [
       "'Не получилось отвергнуть нулевую гипотезу, нет оснований считать доли разными'"
      ]
     },
     "metadata": {},
     "output_type": "display_data"
    },
    {
     "name": "stdout",
     "output_type": "stream",
     "text": [
      "\n",
      "0.9427166034342908\n"
     ]
    },
    {
     "data": {
      "text/plain": [
       "'Событие: PaymentScreenSuccessful, p-значение: 0.11456679313141849'"
      ]
     },
     "metadata": {},
     "output_type": "display_data"
    },
    {
     "data": {
      "text/plain": [
       "'Не получилось отвергнуть нулевую гипотезу, нет оснований считать доли разными'"
      ]
     },
     "metadata": {},
     "output_type": "display_data"
    },
    {
     "name": "stdout",
     "output_type": "stream",
     "text": [
      "\n"
     ]
    }
   ],
   "source": [
    "#создадим универсальную функцию для проведения теста с использованием z-критерия:\n",
    "#которая будет принимать на вход номер группы и брать данные из таблиц выше\n",
    "def check_hypothesis(first_group, second_group, alpha=0.05):\n",
    "    \n",
    "    for i in test_group.index:\n",
    "        \n",
    "        #пропорция успехов в первой группе:\n",
    "        p1 = test_group[first_group][i] / users_count[first_group]\n",
    "        \n",
    "        #пропорция успехов во второй группе:\n",
    "        p2 = test_group[second_group][i] / users_count[second_group]\n",
    "        \n",
    "        #пропорция успехов в комбинированном датасете:\n",
    "        p_combined = ((test_group[first_group][i] + test_group[second_group][i]) / \n",
    "                      (users_count[first_group] + users_count[second_group]))\n",
    "        \n",
    "        #разница пропорций в датасетах\n",
    "        difference = p1 - p2\n",
    "        \n",
    "        #считаем статистику в ст.отклонениях стандартного нормального распределения\n",
    "        z_value = difference / mth.sqrt(p_combined * (1 - p_combined) * \n",
    "                                        (1/users_count[first_group] + 1/users_count[second_group]))\n",
    "        \n",
    "        # задаем стандартное нормальное распределение (среднее 0, ст.отклонение 1)\n",
    "        distr = st.norm(0, 1) \n",
    "        \n",
    "        p_value = (1 - distr.cdf(abs(z_value))) * 2\n",
    "        print(distr.cdf(abs(z_value)))\n",
    "        \n",
    "        display('Событие: {}, p-значение: {}'.format(test_group['event_name'][i], p_value))\n",
    "        \n",
    "        if (p_value < alpha):\n",
    "            display('Отвергаем нулевую гипотезу: между долями есть значимая разница')\n",
    "        else:\n",
    "            display('Не получилось отвергнуть нулевую гипотезу, нет оснований считать доли разными')\n",
    "        print('')\n",
    "        \n",
    "        \n",
    "check_hypothesis(246, 247)"
   ]
  },
  {
   "cell_type": "markdown",
   "metadata": {},
   "source": [
    "**Вывод:** статистически значимого различия между группами 246 и 247 нет ни для одного события, следовательно обе эти группы можно принимать как контрольные."
   ]
  },
  {
   "cell_type": "markdown",
   "metadata": {},
   "source": [
    "Также по очереди протестируем контрольные группы 246 и 247 с группой с измененными шрифтами 248, которая и является тестовой."
   ]
  },
  {
   "cell_type": "code",
   "execution_count": 26,
   "metadata": {},
   "outputs": [
    {
     "name": "stdout",
     "output_type": "stream",
     "text": [
      "0.8525139033222724\n"
     ]
    },
    {
     "data": {
      "text/plain": [
       "'Событие: MainScreenAppear, p-значение: 0.2949721933554552'"
      ]
     },
     "metadata": {},
     "output_type": "display_data"
    },
    {
     "data": {
      "text/plain": [
       "'Не получилось отвергнуть нулевую гипотезу, нет оснований считать доли разными'"
      ]
     },
     "metadata": {},
     "output_type": "display_data"
    },
    {
     "name": "stdout",
     "output_type": "stream",
     "text": [
      "\n",
      "0.8958189729863054\n"
     ]
    },
    {
     "data": {
      "text/plain": [
       "'Событие: OffersScreenAppear, p-значение: 0.20836205402738917'"
      ]
     },
     "metadata": {},
     "output_type": "display_data"
    },
    {
     "data": {
      "text/plain": [
       "'Не получилось отвергнуть нулевую гипотезу, нет оснований считать доли разными'"
      ]
     },
     "metadata": {},
     "output_type": "display_data"
    },
    {
     "name": "stdout",
     "output_type": "stream",
     "text": [
      "\n",
      "0.9607853838123994\n"
     ]
    },
    {
     "data": {
      "text/plain": [
       "'Событие: CartScreenAppear, p-значение: 0.07842923237520116'"
      ]
     },
     "metadata": {},
     "output_type": "display_data"
    },
    {
     "data": {
      "text/plain": [
       "'Не получилось отвергнуть нулевую гипотезу, нет оснований считать доли разными'"
      ]
     },
     "metadata": {},
     "output_type": "display_data"
    },
    {
     "name": "stdout",
     "output_type": "stream",
     "text": [
      "\n",
      "0.8938723362151102\n"
     ]
    },
    {
     "data": {
      "text/plain": [
       "'Событие: PaymentScreenSuccessful, p-значение: 0.2122553275697796'"
      ]
     },
     "metadata": {},
     "output_type": "display_data"
    },
    {
     "data": {
      "text/plain": [
       "'Не получилось отвергнуть нулевую гипотезу, нет оснований считать доли разными'"
      ]
     },
     "metadata": {},
     "output_type": "display_data"
    },
    {
     "name": "stdout",
     "output_type": "stream",
     "text": [
      "\n"
     ]
    }
   ],
   "source": [
    "#проводим тест для групп 246 и 248\n",
    "\n",
    "check_hypothesis(246, 248)"
   ]
  },
  {
   "cell_type": "markdown",
   "metadata": {},
   "source": [
    "**Вывод:** статистически значимого различия между контрольной группой 246 и экспериментальной группой 248 нет ни для одного события."
   ]
  },
  {
   "cell_type": "code",
   "execution_count": 27,
   "metadata": {},
   "outputs": [
    {
     "name": "stdout",
     "output_type": "stream",
     "text": [
      "0.7706473191689243\n"
     ]
    },
    {
     "data": {
      "text/plain": [
       "'Событие: MainScreenAppear, p-значение: 0.4587053616621515'"
      ]
     },
     "metadata": {},
     "output_type": "display_data"
    },
    {
     "data": {
      "text/plain": [
       "'Не получилось отвергнуть нулевую гипотезу, нет оснований считать доли разными'"
      ]
     },
     "metadata": {},
     "output_type": "display_data"
    },
    {
     "name": "stdout",
     "output_type": "stream",
     "text": [
      "\n",
      "0.540109108470387\n"
     ]
    },
    {
     "data": {
      "text/plain": [
       "'Событие: OffersScreenAppear, p-значение: 0.9197817830592261'"
      ]
     },
     "metadata": {},
     "output_type": "display_data"
    },
    {
     "data": {
      "text/plain": [
       "'Не получилось отвергнуть нулевую гипотезу, нет оснований считать доли разными'"
      ]
     },
     "metadata": {},
     "output_type": "display_data"
    },
    {
     "name": "stdout",
     "output_type": "stream",
     "text": [
      "\n",
      "0.7106901060230109\n"
     ]
    },
    {
     "data": {
      "text/plain": [
       "'Событие: CartScreenAppear, p-значение: 0.5786197879539783'"
      ]
     },
     "metadata": {},
     "output_type": "display_data"
    },
    {
     "data": {
      "text/plain": [
       "'Не получилось отвергнуть нулевую гипотезу, нет оснований считать доли разными'"
      ]
     },
     "metadata": {},
     "output_type": "display_data"
    },
    {
     "name": "stdout",
     "output_type": "stream",
     "text": [
      "\n",
      "0.6313292473098018\n"
     ]
    },
    {
     "data": {
      "text/plain": [
       "'Событие: PaymentScreenSuccessful, p-значение: 0.7373415053803964'"
      ]
     },
     "metadata": {},
     "output_type": "display_data"
    },
    {
     "data": {
      "text/plain": [
       "'Не получилось отвергнуть нулевую гипотезу, нет оснований считать доли разными'"
      ]
     },
     "metadata": {},
     "output_type": "display_data"
    },
    {
     "name": "stdout",
     "output_type": "stream",
     "text": [
      "\n"
     ]
    }
   ],
   "source": [
    "#проводим тест для групп 247 и 248\n",
    "\n",
    "check_hypothesis(247, 248)"
   ]
  },
  {
   "cell_type": "markdown",
   "metadata": {},
   "source": [
    "**Вывод:** статистически значимого различия между контрольной группой 247 и экспериментальной группой 248 нет ни для одного события."
   ]
  },
  {
   "cell_type": "markdown",
   "metadata": {},
   "source": [
    "Аналогично определим наличие статистически значимого различия между тестовой группой 248 и объединенными вместе контрольными группами 246 и 247:"
   ]
  },
  {
   "cell_type": "code",
   "execution_count": 28,
   "metadata": {},
   "outputs": [
    {
     "name": "stdout",
     "output_type": "stream",
     "text": [
      "0.8528773658141021\n"
     ]
    },
    {
     "data": {
      "text/plain": [
       "'Событие: MainScreenAppear, p-значение: 0.29424526837179577'"
      ]
     },
     "metadata": {},
     "output_type": "display_data"
    },
    {
     "data": {
      "text/plain": [
       "'Не получилось отвергнуть нулевую гипотезу, нет оснований считать доли разными'"
      ]
     },
     "metadata": {},
     "output_type": "display_data"
    },
    {
     "name": "stdout",
     "output_type": "stream",
     "text": [
      "\n",
      "0.7828722517240587\n"
     ]
    },
    {
     "data": {
      "text/plain": [
       "'Событие: OffersScreenAppear, p-значение: 0.43425549655188256'"
      ]
     },
     "metadata": {},
     "output_type": "display_data"
    },
    {
     "data": {
      "text/plain": [
       "'Не получилось отвергнуть нулевую гипотезу, нет оснований считать доли разными'"
      ]
     },
     "metadata": {},
     "output_type": "display_data"
    },
    {
     "name": "stdout",
     "output_type": "stream",
     "text": [
      "\n",
      "0.9091206235779781\n"
     ]
    },
    {
     "data": {
      "text/plain": [
       "'Событие: CartScreenAppear, p-значение: 0.18175875284404386'"
      ]
     },
     "metadata": {},
     "output_type": "display_data"
    },
    {
     "data": {
      "text/plain": [
       "'Не получилось отвергнуть нулевую гипотезу, нет оснований считать доли разными'"
      ]
     },
     "metadata": {},
     "output_type": "display_data"
    },
    {
     "name": "stdout",
     "output_type": "stream",
     "text": [
      "\n",
      "0.6997852858845648\n"
     ]
    },
    {
     "data": {
      "text/plain": [
       "'Событие: PaymentScreenSuccessful, p-значение: 0.6004294282308704'"
      ]
     },
     "metadata": {},
     "output_type": "display_data"
    },
    {
     "data": {
      "text/plain": [
       "'Не получилось отвергнуть нулевую гипотезу, нет оснований считать доли разными'"
      ]
     },
     "metadata": {},
     "output_type": "display_data"
    },
    {
     "name": "stdout",
     "output_type": "stream",
     "text": [
      "\n"
     ]
    }
   ],
   "source": [
    "#проводим тест для групп 248 и 246+247\n",
    "\n",
    "check_hypothesis('246+247', 248)"
   ]
  },
  {
   "cell_type": "markdown",
   "metadata": {},
   "source": [
    "**Вывод:** статистически значимого различия между объединенными контрольными группами 246 и 247 и экспериментальной группой 248 нет ни для одного события."
   ]
  },
  {
   "cell_type": "markdown",
   "metadata": {},
   "source": [
    "## Результаты исследования"
   ]
  },
  {
   "cell_type": "markdown",
   "metadata": {},
   "source": [
    "Подведем итог проделанной работы:\n",
    "\n",
    "   1. При **первичном знакомстве с данными** и оценке их качества было выявлено не соответствие типов данных сохраненным в них значениям, а также разобщенность стилистики наименования столбцов в датасетах. Обнаруженные недочеты были устранены.\n",
    "   \n",
    "   \n",
    "   2. В ходе первой части **исследовательского анализа данных** нами был рассмотрены временные рамки проведения эксперимента и полнота данных. Результатами этого этапа стало исключение неполноценных данных из дальнейшего исследования.\n",
    "\n",
    "   Во второй части исследовательского анализа данных были подробнее рассмотрены изучаемые события, их распределение между группами участвующими в тестировании, а также количество пользователей приходящиеся на события. Результатом этого этапа столо составление воронки событие и выявление \"узкого\" места: наибольшее число пользователей (около 38% от количества пользователей увидевших главную страницу) теряется на шаге перехода на экран каталога продукции с главной страницы, стоит выяснить причину, возможно приложение работает некорректно на некоторых устройствах.\n",
    "   \n",
    "   \n",
    "   3. Заключительной частью нашей работы стало **изучение результатов исследования**: нами было произведено 16 проверок статистических гипотез: 4 проверки между контрольными группами, 12 проверок между контрольными группами и группой с изменённым шрифтом (тестовой). Ни одна из проверок не выявила статистически значимой разницы между группами. \n",
    "   \n",
    "   Проверки статистических гипотез производились при уровне значимости 0.05, т.к. при уровне статистической значимости 0.1 каждый десятый раз можно получать ложный результат.\n",
    "   \n",
    "   Резюмируя результаты эксперимента: изменение шрифта на сайте не несут значимого эффекта в поведении пользователей ни в худшую ни в лучшую стороны.\n"
   ]
  }
 ],
 "metadata": {
  "ExecuteTimeLog": [
   {
    "duration": 1329,
    "start_time": "2023-03-11T04:28:41.571Z"
   },
   {
    "duration": 645,
    "start_time": "2023-03-11T04:29:25.044Z"
   },
   {
    "duration": 341,
    "start_time": "2023-03-11T04:29:29.160Z"
   },
   {
    "duration": 315,
    "start_time": "2023-03-11T04:29:34.910Z"
   },
   {
    "duration": 160,
    "start_time": "2023-03-11T04:31:11.903Z"
   },
   {
    "duration": 187,
    "start_time": "2023-03-11T04:31:20.566Z"
   },
   {
    "duration": 185,
    "start_time": "2023-03-11T04:31:26.830Z"
   },
   {
    "duration": 170,
    "start_time": "2023-03-11T04:31:40.653Z"
   },
   {
    "duration": 185,
    "start_time": "2023-03-11T04:34:10.395Z"
   },
   {
    "duration": 111,
    "start_time": "2023-03-11T04:37:37.184Z"
   },
   {
    "duration": 3,
    "start_time": "2023-03-11T04:38:13.271Z"
   },
   {
    "duration": 8,
    "start_time": "2023-03-11T04:38:20.588Z"
   },
   {
    "duration": 10,
    "start_time": "2023-03-11T04:40:11.579Z"
   },
   {
    "duration": 8,
    "start_time": "2023-03-11T04:40:14.032Z"
   },
   {
    "duration": 49,
    "start_time": "2023-03-11T04:40:49.475Z"
   },
   {
    "duration": 10,
    "start_time": "2023-03-11T04:40:53.304Z"
   },
   {
    "duration": 91,
    "start_time": "2023-03-11T04:41:51.979Z"
   },
   {
    "duration": 8,
    "start_time": "2023-03-11T04:41:53.468Z"
   },
   {
    "duration": 36,
    "start_time": "2023-03-11T04:42:22.207Z"
   },
   {
    "duration": 11,
    "start_time": "2023-03-11T04:47:42.078Z"
   },
   {
    "duration": 1240,
    "start_time": "2023-03-11T04:47:54.975Z"
   },
   {
    "duration": 218,
    "start_time": "2023-03-11T04:47:56.218Z"
   },
   {
    "duration": 931,
    "start_time": "2023-03-11T04:47:56.437Z"
   },
   {
    "duration": 0,
    "start_time": "2023-03-11T04:47:57.369Z"
   },
   {
    "duration": 0,
    "start_time": "2023-03-11T04:47:57.370Z"
   },
   {
    "duration": 1218,
    "start_time": "2023-03-11T04:48:15.374Z"
   },
   {
    "duration": 214,
    "start_time": "2023-03-11T04:48:16.596Z"
   },
   {
    "duration": 913,
    "start_time": "2023-03-11T04:48:16.814Z"
   },
   {
    "duration": 0,
    "start_time": "2023-03-11T04:48:17.730Z"
   },
   {
    "duration": 0,
    "start_time": "2023-03-11T04:48:17.731Z"
   },
   {
    "duration": 1167,
    "start_time": "2023-03-11T04:49:50.646Z"
   },
   {
    "duration": 902,
    "start_time": "2023-03-11T04:50:03.465Z"
   },
   {
    "duration": 60,
    "start_time": "2023-03-11T04:50:28.247Z"
   },
   {
    "duration": 1214,
    "start_time": "2023-03-11T04:50:35.604Z"
   },
   {
    "duration": 211,
    "start_time": "2023-03-11T04:50:36.820Z"
   },
   {
    "duration": 61,
    "start_time": "2023-03-11T04:50:37.032Z"
   },
   {
    "duration": 0,
    "start_time": "2023-03-11T04:50:37.095Z"
   },
   {
    "duration": 0,
    "start_time": "2023-03-11T04:50:37.098Z"
   },
   {
    "duration": 0,
    "start_time": "2023-03-11T04:50:37.099Z"
   },
   {
    "duration": 1225,
    "start_time": "2023-03-11T04:50:52.749Z"
   },
   {
    "duration": 216,
    "start_time": "2023-03-11T04:50:53.976Z"
   },
   {
    "duration": 47,
    "start_time": "2023-03-11T04:50:54.194Z"
   },
   {
    "duration": 931,
    "start_time": "2023-03-11T04:50:54.242Z"
   },
   {
    "duration": 0,
    "start_time": "2023-03-11T04:50:55.175Z"
   },
   {
    "duration": 1258,
    "start_time": "2023-03-11T04:51:06.952Z"
   },
   {
    "duration": 212,
    "start_time": "2023-03-11T04:51:08.212Z"
   },
   {
    "duration": 76,
    "start_time": "2023-03-11T04:51:08.426Z"
   },
   {
    "duration": 8,
    "start_time": "2023-03-11T04:51:08.504Z"
   },
   {
    "duration": 1186,
    "start_time": "2023-03-11T04:58:37.030Z"
   },
   {
    "duration": 317,
    "start_time": "2023-03-11T04:58:38.219Z"
   },
   {
    "duration": 187,
    "start_time": "2023-03-11T04:58:38.538Z"
   },
   {
    "duration": 489,
    "start_time": "2023-03-11T04:58:38.726Z"
   },
   {
    "duration": 0,
    "start_time": "2023-03-11T04:58:39.217Z"
   },
   {
    "duration": 306,
    "start_time": "2023-03-11T04:59:17.697Z"
   },
   {
    "duration": 1240,
    "start_time": "2023-03-11T05:10:27.552Z"
   },
   {
    "duration": 214,
    "start_time": "2023-03-11T05:10:28.794Z"
   },
   {
    "duration": 518,
    "start_time": "2023-03-11T05:10:29.010Z"
   },
   {
    "duration": 0,
    "start_time": "2023-03-11T05:10:29.529Z"
   },
   {
    "duration": 53,
    "start_time": "2023-03-11T05:10:44.947Z"
   },
   {
    "duration": 8,
    "start_time": "2023-03-11T05:10:48.111Z"
   },
   {
    "duration": 1468,
    "start_time": "2023-03-11T05:15:06.336Z"
   },
   {
    "duration": 309,
    "start_time": "2023-03-11T05:15:07.808Z"
   },
   {
    "duration": 96,
    "start_time": "2023-03-11T05:15:08.120Z"
   },
   {
    "duration": 9,
    "start_time": "2023-03-11T05:15:08.219Z"
   },
   {
    "duration": 20,
    "start_time": "2023-03-11T05:21:35.837Z"
   },
   {
    "duration": 8,
    "start_time": "2023-03-11T05:21:38.240Z"
   },
   {
    "duration": 14,
    "start_time": "2023-03-11T05:22:10.361Z"
   },
   {
    "duration": 1191,
    "start_time": "2023-03-11T05:23:46.420Z"
   },
   {
    "duration": 212,
    "start_time": "2023-03-11T05:23:47.613Z"
   },
   {
    "duration": 125,
    "start_time": "2023-03-11T05:23:47.827Z"
   },
   {
    "duration": 0,
    "start_time": "2023-03-11T05:23:47.953Z"
   },
   {
    "duration": 0,
    "start_time": "2023-03-11T05:23:47.955Z"
   },
   {
    "duration": 1213,
    "start_time": "2023-03-11T05:24:01.106Z"
   },
   {
    "duration": 225,
    "start_time": "2023-03-11T05:24:02.322Z"
   },
   {
    "duration": 9,
    "start_time": "2023-03-11T05:24:02.550Z"
   },
   {
    "duration": 71,
    "start_time": "2023-03-11T05:24:02.561Z"
   },
   {
    "duration": 36,
    "start_time": "2023-03-11T05:24:02.635Z"
   },
   {
    "duration": 10,
    "start_time": "2023-03-11T05:25:06.262Z"
   },
   {
    "duration": 8,
    "start_time": "2023-03-11T05:25:10.156Z"
   },
   {
    "duration": 1189,
    "start_time": "2023-03-11T05:25:33.334Z"
   },
   {
    "duration": 209,
    "start_time": "2023-03-11T05:25:34.525Z"
   },
   {
    "duration": 18,
    "start_time": "2023-03-11T05:25:34.739Z"
   },
   {
    "duration": 19,
    "start_time": "2023-03-11T05:25:34.776Z"
   },
   {
    "duration": 27,
    "start_time": "2023-03-11T05:27:01.998Z"
   },
   {
    "duration": 106,
    "start_time": "2023-03-11T05:31:22.835Z"
   },
   {
    "duration": 9,
    "start_time": "2023-03-11T05:31:27.563Z"
   },
   {
    "duration": 1273,
    "start_time": "2023-03-11T05:33:14.101Z"
   },
   {
    "duration": 231,
    "start_time": "2023-03-11T05:33:15.377Z"
   },
   {
    "duration": 118,
    "start_time": "2023-03-11T05:33:15.610Z"
   },
   {
    "duration": 35,
    "start_time": "2023-03-11T05:33:15.730Z"
   },
   {
    "duration": 110,
    "start_time": "2023-03-11T05:35:38.029Z"
   },
   {
    "duration": 51,
    "start_time": "2023-03-11T05:35:40.378Z"
   },
   {
    "duration": 48,
    "start_time": "2023-03-11T05:36:03.800Z"
   },
   {
    "duration": 27,
    "start_time": "2023-03-11T05:36:09.802Z"
   },
   {
    "duration": 41,
    "start_time": "2023-03-11T05:36:11.671Z"
   },
   {
    "duration": 103,
    "start_time": "2023-03-11T05:36:24.135Z"
   },
   {
    "duration": 159,
    "start_time": "2023-03-11T05:40:03.289Z"
   },
   {
    "duration": 38,
    "start_time": "2023-03-11T05:40:05.007Z"
   },
   {
    "duration": 29,
    "start_time": "2023-03-11T05:41:04.492Z"
   },
   {
    "duration": 88,
    "start_time": "2023-03-11T05:41:40.459Z"
   },
   {
    "duration": 80,
    "start_time": "2023-03-11T05:43:26.654Z"
   },
   {
    "duration": 4,
    "start_time": "2023-03-11T05:43:37.745Z"
   },
   {
    "duration": 90,
    "start_time": "2023-03-11T05:44:07.052Z"
   },
   {
    "duration": 81,
    "start_time": "2023-03-11T05:44:17.394Z"
   },
   {
    "duration": 90,
    "start_time": "2023-03-11T05:44:40.352Z"
   },
   {
    "duration": 109,
    "start_time": "2023-03-11T05:46:32.778Z"
   },
   {
    "duration": 152,
    "start_time": "2023-03-11T05:55:12.601Z"
   },
   {
    "duration": 40,
    "start_time": "2023-03-11T05:57:40.705Z"
   },
   {
    "duration": 38,
    "start_time": "2023-03-11T06:00:58.893Z"
   },
   {
    "duration": 57,
    "start_time": "2023-03-11T06:01:22.355Z"
   },
   {
    "duration": 46,
    "start_time": "2023-03-11T06:01:27.158Z"
   },
   {
    "duration": 39,
    "start_time": "2023-03-11T06:01:47.914Z"
   },
   {
    "duration": 57,
    "start_time": "2023-03-11T06:03:40.353Z"
   },
   {
    "duration": 37,
    "start_time": "2023-03-11T06:04:03.903Z"
   },
   {
    "duration": 44,
    "start_time": "2023-03-11T06:04:47.026Z"
   },
   {
    "duration": 86,
    "start_time": "2023-03-11T06:06:34.475Z"
   },
   {
    "duration": 62,
    "start_time": "2023-03-11T06:06:57.219Z"
   },
   {
    "duration": 290,
    "start_time": "2023-03-11T06:14:14.340Z"
   },
   {
    "duration": 268,
    "start_time": "2023-03-11T06:16:08.105Z"
   },
   {
    "duration": 1754,
    "start_time": "2023-03-11T06:16:14.894Z"
   },
   {
    "duration": 1378,
    "start_time": "2023-03-11T06:19:17.369Z"
   },
   {
    "duration": 253,
    "start_time": "2023-03-11T06:19:18.749Z"
   },
   {
    "duration": 127,
    "start_time": "2023-03-11T06:19:19.011Z"
   },
   {
    "duration": 46,
    "start_time": "2023-03-11T06:19:19.140Z"
   },
   {
    "duration": 48,
    "start_time": "2023-03-11T06:19:19.187Z"
   },
   {
    "duration": 104,
    "start_time": "2023-03-11T06:19:19.237Z"
   },
   {
    "duration": 107,
    "start_time": "2023-03-11T06:19:19.343Z"
   },
   {
    "duration": 143,
    "start_time": "2023-03-11T06:19:19.452Z"
   },
   {
    "duration": 63,
    "start_time": "2023-03-11T06:19:19.597Z"
   },
   {
    "duration": 2106,
    "start_time": "2023-03-11T06:19:19.678Z"
   },
   {
    "duration": 1251,
    "start_time": "2023-03-11T06:23:25.803Z"
   },
   {
    "duration": 684,
    "start_time": "2023-03-11T06:23:27.056Z"
   },
   {
    "duration": 1175,
    "start_time": "2023-03-11T06:23:27.741Z"
   },
   {
    "duration": 48,
    "start_time": "2023-03-11T06:23:28.918Z"
   },
   {
    "duration": 57,
    "start_time": "2023-03-11T06:23:28.969Z"
   },
   {
    "duration": 126,
    "start_time": "2023-03-11T06:23:29.028Z"
   },
   {
    "duration": 112,
    "start_time": "2023-03-11T06:23:29.156Z"
   },
   {
    "duration": 164,
    "start_time": "2023-03-11T06:23:29.270Z"
   },
   {
    "duration": 73,
    "start_time": "2023-03-11T06:23:29.436Z"
   },
   {
    "duration": 2,
    "start_time": "2023-03-11T06:23:29.511Z"
   },
   {
    "duration": 26,
    "start_time": "2023-03-11T06:23:29.515Z"
   },
   {
    "duration": 6119,
    "start_time": "2023-03-11T06:23:57.619Z"
   },
   {
    "duration": 4711,
    "start_time": "2023-03-11T06:25:01.236Z"
   },
   {
    "duration": 1890,
    "start_time": "2023-03-11T06:25:54.166Z"
   },
   {
    "duration": 1775,
    "start_time": "2023-03-11T06:26:15.799Z"
   },
   {
    "duration": 1760,
    "start_time": "2023-03-11T06:26:29.222Z"
   },
   {
    "duration": 1446,
    "start_time": "2023-03-12T08:55:01.130Z"
   },
   {
    "duration": 885,
    "start_time": "2023-03-12T08:55:02.578Z"
   },
   {
    "duration": 1058,
    "start_time": "2023-03-12T08:55:03.465Z"
   },
   {
    "duration": 48,
    "start_time": "2023-03-12T08:55:04.525Z"
   },
   {
    "duration": 51,
    "start_time": "2023-03-12T08:55:04.575Z"
   },
   {
    "duration": 114,
    "start_time": "2023-03-12T08:55:04.628Z"
   },
   {
    "duration": 109,
    "start_time": "2023-03-12T08:55:04.743Z"
   },
   {
    "duration": 144,
    "start_time": "2023-03-12T08:55:04.854Z"
   },
   {
    "duration": 48,
    "start_time": "2023-03-12T08:55:05.000Z"
   },
   {
    "duration": 1715,
    "start_time": "2023-03-12T08:55:05.050Z"
   },
   {
    "duration": 1846,
    "start_time": "2023-03-12T08:57:04.058Z"
   },
   {
    "duration": 1668,
    "start_time": "2023-03-12T08:57:15.189Z"
   },
   {
    "duration": 203,
    "start_time": "2023-03-12T08:58:30.952Z"
   },
   {
    "duration": 335,
    "start_time": "2023-03-12T09:05:28.276Z"
   },
   {
    "duration": 73,
    "start_time": "2023-03-12T09:06:01.291Z"
   },
   {
    "duration": 324,
    "start_time": "2023-03-12T09:07:11.035Z"
   },
   {
    "duration": 41,
    "start_time": "2023-03-12T09:07:23.496Z"
   },
   {
    "duration": 739,
    "start_time": "2023-03-12T09:07:27.421Z"
   },
   {
    "duration": 74,
    "start_time": "2023-03-12T09:09:15.921Z"
   },
   {
    "duration": 306,
    "start_time": "2023-03-12T09:09:25.137Z"
   },
   {
    "duration": 283,
    "start_time": "2023-03-12T09:09:32.434Z"
   },
   {
    "duration": 27,
    "start_time": "2023-03-12T09:10:12.199Z"
   },
   {
    "duration": 28,
    "start_time": "2023-03-12T09:10:48.898Z"
   },
   {
    "duration": 92,
    "start_time": "2023-03-12T09:14:48.748Z"
   },
   {
    "duration": 103,
    "start_time": "2023-03-12T09:15:03.935Z"
   },
   {
    "duration": 10,
    "start_time": "2023-03-12T09:15:34.536Z"
   },
   {
    "duration": 12,
    "start_time": "2023-03-12T09:15:42.333Z"
   },
   {
    "duration": 64,
    "start_time": "2023-03-12T09:15:56.865Z"
   },
   {
    "duration": 88,
    "start_time": "2023-03-12T09:16:09.533Z"
   },
   {
    "duration": 64,
    "start_time": "2023-03-12T09:16:21.155Z"
   },
   {
    "duration": 1215,
    "start_time": "2023-03-12T09:20:58.478Z"
   },
   {
    "duration": 198,
    "start_time": "2023-03-12T09:20:59.696Z"
   },
   {
    "duration": 1167,
    "start_time": "2023-03-12T09:20:59.897Z"
   },
   {
    "duration": 61,
    "start_time": "2023-03-12T09:21:01.066Z"
   },
   {
    "duration": 30,
    "start_time": "2023-03-12T09:21:01.129Z"
   },
   {
    "duration": 131,
    "start_time": "2023-03-12T09:21:01.160Z"
   },
   {
    "duration": 105,
    "start_time": "2023-03-12T09:21:01.293Z"
   },
   {
    "duration": 148,
    "start_time": "2023-03-12T09:21:01.400Z"
   },
   {
    "duration": 45,
    "start_time": "2023-03-12T09:21:01.549Z"
   },
   {
    "duration": 1807,
    "start_time": "2023-03-12T09:21:01.596Z"
   },
   {
    "duration": 69,
    "start_time": "2023-03-12T09:21:03.406Z"
   },
   {
    "duration": 15,
    "start_time": "2023-03-12T09:21:03.476Z"
   },
   {
    "duration": 9,
    "start_time": "2023-03-12T09:21:03.520Z"
   },
   {
    "duration": 9,
    "start_time": "2023-03-12T09:21:03.532Z"
   },
   {
    "duration": 78,
    "start_time": "2023-03-12T09:22:32.374Z"
   },
   {
    "duration": 68,
    "start_time": "2023-03-12T09:22:43.412Z"
   },
   {
    "duration": 108,
    "start_time": "2023-03-12T09:23:57.316Z"
   },
   {
    "duration": 215,
    "start_time": "2023-03-12T09:29:46.629Z"
   },
   {
    "duration": 182,
    "start_time": "2023-03-12T09:33:24.275Z"
   },
   {
    "duration": 228,
    "start_time": "2023-03-12T09:33:35.272Z"
   },
   {
    "duration": 166,
    "start_time": "2023-03-12T09:45:20.444Z"
   },
   {
    "duration": 770,
    "start_time": "2023-03-12T09:45:28.922Z"
   },
   {
    "duration": 810,
    "start_time": "2023-03-12T09:45:43.594Z"
   },
   {
    "duration": 621,
    "start_time": "2023-03-12T09:45:52.528Z"
   },
   {
    "duration": 553,
    "start_time": "2023-03-12T09:49:02.736Z"
   },
   {
    "duration": 698,
    "start_time": "2023-03-12T09:49:13.418Z"
   },
   {
    "duration": 229,
    "start_time": "2023-03-12T09:53:49.586Z"
   },
   {
    "duration": 212,
    "start_time": "2023-03-12T09:54:11.505Z"
   },
   {
    "duration": 670,
    "start_time": "2023-03-12T09:54:42.789Z"
   },
   {
    "duration": 239,
    "start_time": "2023-03-12T09:56:08.420Z"
   },
   {
    "duration": 532,
    "start_time": "2023-03-12T10:03:41.607Z"
   },
   {
    "duration": 658,
    "start_time": "2023-03-12T10:04:01.873Z"
   },
   {
    "duration": 259,
    "start_time": "2023-03-12T10:05:20.150Z"
   },
   {
    "duration": 2312,
    "start_time": "2023-03-12T10:07:49.441Z"
   },
   {
    "duration": 2848,
    "start_time": "2023-03-12T10:08:02.902Z"
   },
   {
    "duration": 3031,
    "start_time": "2023-03-12T10:08:20.384Z"
   },
   {
    "duration": 1248,
    "start_time": "2023-03-12T10:08:27.382Z"
   },
   {
    "duration": 217,
    "start_time": "2023-03-12T10:14:08.520Z"
   },
   {
    "duration": 207,
    "start_time": "2023-03-12T10:14:41.947Z"
   },
   {
    "duration": 323,
    "start_time": "2023-03-12T10:14:49.418Z"
   },
   {
    "duration": 299,
    "start_time": "2023-03-12T10:15:14.325Z"
   },
   {
    "duration": 200,
    "start_time": "2023-03-12T10:15:26.475Z"
   },
   {
    "duration": 192,
    "start_time": "2023-03-12T10:15:55.567Z"
   },
   {
    "duration": 661,
    "start_time": "2023-03-12T10:16:07.994Z"
   },
   {
    "duration": 446,
    "start_time": "2023-03-12T10:27:26.617Z"
   },
   {
    "duration": 421,
    "start_time": "2023-03-12T10:27:49.013Z"
   },
   {
    "duration": 451,
    "start_time": "2023-03-12T10:28:12.033Z"
   },
   {
    "duration": 382,
    "start_time": "2023-03-12T10:42:16.297Z"
   },
   {
    "duration": 566,
    "start_time": "2023-03-12T10:44:40.413Z"
   },
   {
    "duration": 762,
    "start_time": "2023-03-12T10:45:02.455Z"
   },
   {
    "duration": 508,
    "start_time": "2023-03-12T10:45:23.753Z"
   },
   {
    "duration": 93,
    "start_time": "2023-03-12T10:53:55.457Z"
   },
   {
    "duration": 26,
    "start_time": "2023-03-12T10:54:08.877Z"
   },
   {
    "duration": 27,
    "start_time": "2023-03-12T10:54:23.679Z"
   },
   {
    "duration": 67,
    "start_time": "2023-03-12T10:54:54.271Z"
   },
   {
    "duration": 19,
    "start_time": "2023-03-12T10:57:45.810Z"
   },
   {
    "duration": 31,
    "start_time": "2023-03-12T10:57:54.957Z"
   },
   {
    "duration": 39,
    "start_time": "2023-03-12T10:58:18.968Z"
   },
   {
    "duration": 44,
    "start_time": "2023-03-12T10:58:45.704Z"
   },
   {
    "duration": 58,
    "start_time": "2023-03-12T10:59:30.248Z"
   },
   {
    "duration": 44,
    "start_time": "2023-03-12T10:59:47.610Z"
   },
   {
    "duration": 485,
    "start_time": "2023-03-12T11:02:00.667Z"
   },
   {
    "duration": 468,
    "start_time": "2023-03-12T11:02:06.638Z"
   },
   {
    "duration": 429,
    "start_time": "2023-03-12T11:02:11.458Z"
   },
   {
    "duration": 428,
    "start_time": "2023-03-12T11:03:05.659Z"
   },
   {
    "duration": 445,
    "start_time": "2023-03-12T11:03:23.495Z"
   },
   {
    "duration": 438,
    "start_time": "2023-03-12T11:03:27.395Z"
   },
   {
    "duration": 419,
    "start_time": "2023-03-12T11:03:31.792Z"
   },
   {
    "duration": 40,
    "start_time": "2023-03-12T11:04:45.402Z"
   },
   {
    "duration": 46,
    "start_time": "2023-03-12T11:04:56.612Z"
   },
   {
    "duration": 22,
    "start_time": "2023-03-12T11:05:17.969Z"
   },
   {
    "duration": 35,
    "start_time": "2023-03-12T11:05:42.719Z"
   },
   {
    "duration": 40,
    "start_time": "2023-03-12T11:06:35.384Z"
   },
   {
    "duration": 20,
    "start_time": "2023-03-12T11:08:01.154Z"
   },
   {
    "duration": 447,
    "start_time": "2023-03-12T11:16:00.635Z"
   },
   {
    "duration": 386,
    "start_time": "2023-03-12T11:16:12.708Z"
   },
   {
    "duration": 375,
    "start_time": "2023-03-12T11:16:17.322Z"
   },
   {
    "duration": 499,
    "start_time": "2023-03-12T11:16:36.384Z"
   },
   {
    "duration": 428,
    "start_time": "2023-03-12T11:25:11.734Z"
   },
   {
    "duration": 462,
    "start_time": "2023-03-12T11:25:22.293Z"
   },
   {
    "duration": 1274,
    "start_time": "2023-03-12T11:26:33.437Z"
   },
   {
    "duration": 13,
    "start_time": "2023-03-12T11:26:34.713Z"
   },
   {
    "duration": 216,
    "start_time": "2023-03-12T11:26:34.727Z"
   },
   {
    "duration": 1130,
    "start_time": "2023-03-12T11:26:34.945Z"
   },
   {
    "duration": 68,
    "start_time": "2023-03-12T11:26:36.078Z"
   },
   {
    "duration": 31,
    "start_time": "2023-03-12T11:26:36.148Z"
   },
   {
    "duration": 133,
    "start_time": "2023-03-12T11:26:36.181Z"
   },
   {
    "duration": 109,
    "start_time": "2023-03-12T11:26:36.316Z"
   },
   {
    "duration": 154,
    "start_time": "2023-03-12T11:26:36.427Z"
   },
   {
    "duration": 62,
    "start_time": "2023-03-12T11:26:36.582Z"
   },
   {
    "duration": 1161,
    "start_time": "2023-03-12T11:26:36.645Z"
   },
   {
    "duration": 131,
    "start_time": "2023-03-12T11:26:37.807Z"
   },
   {
    "duration": 338,
    "start_time": "2023-03-12T11:26:37.940Z"
   },
   {
    "duration": 606,
    "start_time": "2023-03-12T11:26:38.282Z"
   },
   {
    "duration": 52,
    "start_time": "2023-03-12T11:26:38.890Z"
   },
   {
    "duration": 20,
    "start_time": "2023-03-12T11:26:38.943Z"
   },
   {
    "duration": 608,
    "start_time": "2023-03-12T11:32:27.574Z"
   },
   {
    "duration": 49,
    "start_time": "2023-03-12T11:32:34.396Z"
   },
   {
    "duration": 389,
    "start_time": "2023-03-12T11:35:30.345Z"
   },
   {
    "duration": 607,
    "start_time": "2023-03-12T11:35:45.080Z"
   },
   {
    "duration": 370,
    "start_time": "2023-03-12T11:35:52.244Z"
   },
   {
    "duration": 382,
    "start_time": "2023-03-12T11:36:04.974Z"
   },
   {
    "duration": 387,
    "start_time": "2023-03-12T11:36:11.367Z"
   },
   {
    "duration": 327,
    "start_time": "2023-03-12T11:37:05.048Z"
   },
   {
    "duration": 336,
    "start_time": "2023-03-12T11:37:44.568Z"
   },
   {
    "duration": 170,
    "start_time": "2023-03-12T12:25:41.540Z"
   },
   {
    "duration": 462,
    "start_time": "2023-03-12T12:25:55.975Z"
   },
   {
    "duration": 528,
    "start_time": "2023-03-12T12:26:07.358Z"
   },
   {
    "duration": 64,
    "start_time": "2023-03-12T12:28:09.310Z"
   },
   {
    "duration": 161,
    "start_time": "2023-03-12T12:28:39.234Z"
   },
   {
    "duration": 106,
    "start_time": "2023-03-12T12:28:57.766Z"
   },
   {
    "duration": 813,
    "start_time": "2023-03-12T12:30:50.504Z"
   },
   {
    "duration": 861,
    "start_time": "2023-03-12T12:31:07.970Z"
   },
   {
    "duration": 1095,
    "start_time": "2023-03-12T12:38:15.289Z"
   },
   {
    "duration": 1058,
    "start_time": "2023-03-12T12:38:56.364Z"
   },
   {
    "duration": 3,
    "start_time": "2023-03-12T12:41:26.613Z"
   },
   {
    "duration": 6,
    "start_time": "2023-03-12T12:41:32.606Z"
   },
   {
    "duration": 866,
    "start_time": "2023-03-12T12:44:12.402Z"
   },
   {
    "duration": 158,
    "start_time": "2023-03-12T12:44:32.589Z"
   },
   {
    "duration": 655,
    "start_time": "2023-03-12T12:44:57.690Z"
   },
   {
    "duration": 674,
    "start_time": "2023-03-12T12:45:47.859Z"
   },
   {
    "duration": 538,
    "start_time": "2023-03-12T12:45:57.717Z"
   },
   {
    "duration": 42,
    "start_time": "2023-03-12T12:47:10.821Z"
   },
   {
    "duration": 29,
    "start_time": "2023-03-12T12:47:15.225Z"
   },
   {
    "duration": 67,
    "start_time": "2023-03-12T12:47:52.450Z"
   },
   {
    "duration": 5,
    "start_time": "2023-03-12T12:48:30.886Z"
   },
   {
    "duration": 508,
    "start_time": "2023-03-12T12:48:39.681Z"
   },
   {
    "duration": 546,
    "start_time": "2023-03-12T12:50:59.520Z"
   },
   {
    "duration": 508,
    "start_time": "2023-03-12T12:51:17.542Z"
   },
   {
    "duration": 623,
    "start_time": "2023-03-12T12:51:35.440Z"
   },
   {
    "duration": 734,
    "start_time": "2023-03-12T12:51:46.170Z"
   },
   {
    "duration": 475,
    "start_time": "2023-03-12T12:52:13.022Z"
   },
   {
    "duration": 451,
    "start_time": "2023-03-12T12:52:18.849Z"
   },
   {
    "duration": 813,
    "start_time": "2023-03-12T12:52:55.465Z"
   },
   {
    "duration": 569,
    "start_time": "2023-03-12T12:53:04.793Z"
   },
   {
    "duration": 510,
    "start_time": "2023-03-12T12:53:13.623Z"
   },
   {
    "duration": 467,
    "start_time": "2023-03-12T12:53:35.647Z"
   },
   {
    "duration": 481,
    "start_time": "2023-03-12T12:53:42.129Z"
   },
   {
    "duration": 458,
    "start_time": "2023-03-12T12:55:45.892Z"
   },
   {
    "duration": 440,
    "start_time": "2023-03-12T12:57:55.276Z"
   },
   {
    "duration": 522,
    "start_time": "2023-03-12T12:58:00.236Z"
   },
   {
    "duration": 370,
    "start_time": "2023-03-12T12:58:36.505Z"
   },
   {
    "duration": 416,
    "start_time": "2023-03-12T12:59:42.813Z"
   },
   {
    "duration": 519,
    "start_time": "2023-03-12T13:00:31.543Z"
   },
   {
    "duration": 1265,
    "start_time": "2023-03-12T13:01:15.825Z"
   },
   {
    "duration": 10,
    "start_time": "2023-03-12T13:01:17.093Z"
   },
   {
    "duration": 241,
    "start_time": "2023-03-12T13:01:17.104Z"
   },
   {
    "duration": 1297,
    "start_time": "2023-03-12T13:01:17.348Z"
   },
   {
    "duration": 46,
    "start_time": "2023-03-12T13:01:18.647Z"
   },
   {
    "duration": 60,
    "start_time": "2023-03-12T13:01:18.695Z"
   },
   {
    "duration": 132,
    "start_time": "2023-03-12T13:01:18.757Z"
   },
   {
    "duration": 120,
    "start_time": "2023-03-12T13:01:18.891Z"
   },
   {
    "duration": 198,
    "start_time": "2023-03-12T13:01:19.013Z"
   },
   {
    "duration": 57,
    "start_time": "2023-03-12T13:01:19.214Z"
   },
   {
    "duration": 1491,
    "start_time": "2023-03-12T13:01:19.273Z"
   },
   {
    "duration": 133,
    "start_time": "2023-03-12T13:01:20.766Z"
   },
   {
    "duration": 490,
    "start_time": "2023-03-12T13:01:20.902Z"
   },
   {
    "duration": 662,
    "start_time": "2023-03-12T13:01:21.394Z"
   },
   {
    "duration": 53,
    "start_time": "2023-03-12T13:01:22.058Z"
   },
   {
    "duration": 446,
    "start_time": "2023-03-12T13:01:22.112Z"
   },
   {
    "duration": 503,
    "start_time": "2023-03-12T13:01:22.562Z"
   },
   {
    "duration": 94,
    "start_time": "2023-03-12T13:01:23.067Z"
   },
   {
    "duration": 584,
    "start_time": "2023-03-12T13:01:23.163Z"
   },
   {
    "duration": 269,
    "start_time": "2023-03-12T13:18:45.992Z"
   },
   {
    "duration": 102,
    "start_time": "2023-03-12T13:18:56.675Z"
   },
   {
    "duration": 143,
    "start_time": "2023-03-12T13:19:02.075Z"
   },
   {
    "duration": 494,
    "start_time": "2023-03-12T13:31:23.710Z"
   },
   {
    "duration": 611,
    "start_time": "2023-03-12T13:31:59.542Z"
   },
   {
    "duration": 489,
    "start_time": "2023-03-12T13:33:29.081Z"
   },
   {
    "duration": 492,
    "start_time": "2023-03-12T13:35:06.679Z"
   },
   {
    "duration": 446,
    "start_time": "2023-03-12T13:38:20.882Z"
   },
   {
    "duration": 459,
    "start_time": "2023-03-12T13:38:29.143Z"
   },
   {
    "duration": 446,
    "start_time": "2023-03-12T13:38:37.457Z"
   },
   {
    "duration": 104,
    "start_time": "2023-03-12T13:38:47.849Z"
   },
   {
    "duration": 114,
    "start_time": "2023-03-12T13:39:00.652Z"
   },
   {
    "duration": 136,
    "start_time": "2023-03-12T13:45:37.308Z"
   },
   {
    "duration": 125,
    "start_time": "2023-03-12T13:46:09.119Z"
   },
   {
    "duration": 108,
    "start_time": "2023-03-12T13:52:21.721Z"
   },
   {
    "duration": 70,
    "start_time": "2023-03-12T13:53:25.883Z"
   },
   {
    "duration": 74,
    "start_time": "2023-03-12T13:53:33.070Z"
   },
   {
    "duration": 109,
    "start_time": "2023-03-12T13:53:58.315Z"
   },
   {
    "duration": 75,
    "start_time": "2023-03-12T13:55:49.590Z"
   },
   {
    "duration": 63,
    "start_time": "2023-03-12T13:56:56.272Z"
   },
   {
    "duration": 68,
    "start_time": "2023-03-12T13:57:32.327Z"
   },
   {
    "duration": 87,
    "start_time": "2023-03-12T13:57:44.820Z"
   },
   {
    "duration": 90,
    "start_time": "2023-03-12T13:57:52.330Z"
   },
   {
    "duration": 65,
    "start_time": "2023-03-12T13:58:50.571Z"
   },
   {
    "duration": 62,
    "start_time": "2023-03-12T13:58:58.574Z"
   },
   {
    "duration": 67,
    "start_time": "2023-03-12T14:00:37.358Z"
   },
   {
    "duration": 63,
    "start_time": "2023-03-12T14:00:43.432Z"
   },
   {
    "duration": 1191,
    "start_time": "2023-03-12T14:00:54.530Z"
   },
   {
    "duration": 68,
    "start_time": "2023-03-12T14:01:06.524Z"
   },
   {
    "duration": 80,
    "start_time": "2023-03-12T14:02:13.085Z"
   },
   {
    "duration": 69,
    "start_time": "2023-03-12T14:02:18.924Z"
   },
   {
    "duration": 90,
    "start_time": "2023-03-12T14:03:33.976Z"
   },
   {
    "duration": 69,
    "start_time": "2023-03-12T14:03:38.499Z"
   },
   {
    "duration": 99,
    "start_time": "2023-03-12T14:04:00.410Z"
   },
   {
    "duration": 75,
    "start_time": "2023-03-12T14:04:42.641Z"
   },
   {
    "duration": 55,
    "start_time": "2023-03-12T14:08:29.466Z"
   },
   {
    "duration": 37,
    "start_time": "2023-03-12T14:08:50.633Z"
   },
   {
    "duration": 44,
    "start_time": "2023-03-12T14:09:09.788Z"
   },
   {
    "duration": 37,
    "start_time": "2023-03-12T14:09:16.031Z"
   },
   {
    "duration": 33,
    "start_time": "2023-03-12T14:13:51.580Z"
   },
   {
    "duration": 122,
    "start_time": "2023-03-12T14:26:18.548Z"
   },
   {
    "duration": 150,
    "start_time": "2023-03-12T14:26:25.500Z"
   },
   {
    "duration": 230,
    "start_time": "2023-03-12T14:27:56.219Z"
   },
   {
    "duration": 270,
    "start_time": "2023-03-12T14:28:13.700Z"
   },
   {
    "duration": 116,
    "start_time": "2023-03-12T14:29:49.965Z"
   },
   {
    "duration": 134,
    "start_time": "2023-03-12T14:30:18.708Z"
   },
   {
    "duration": 143,
    "start_time": "2023-03-12T14:30:56.613Z"
   },
   {
    "duration": 137,
    "start_time": "2023-03-12T14:31:08.377Z"
   },
   {
    "duration": 122,
    "start_time": "2023-03-12T14:31:35.139Z"
   },
   {
    "duration": 116,
    "start_time": "2023-03-12T14:31:37.262Z"
   },
   {
    "duration": 138,
    "start_time": "2023-03-12T14:31:42.452Z"
   },
   {
    "duration": 128,
    "start_time": "2023-03-12T14:31:58.308Z"
   },
   {
    "duration": 57,
    "start_time": "2023-03-12T14:42:10.450Z"
   },
   {
    "duration": 64,
    "start_time": "2023-03-12T14:42:20.526Z"
   },
   {
    "duration": 91,
    "start_time": "2023-03-12T14:43:39.680Z"
   },
   {
    "duration": 96,
    "start_time": "2023-03-12T14:44:03.678Z"
   },
   {
    "duration": 114,
    "start_time": "2023-03-12T14:45:33.549Z"
   },
   {
    "duration": 145,
    "start_time": "2023-03-12T14:45:58.708Z"
   },
   {
    "duration": 61,
    "start_time": "2023-03-12T14:46:23.246Z"
   },
   {
    "duration": 68,
    "start_time": "2023-03-12T14:46:38.986Z"
   },
   {
    "duration": 57,
    "start_time": "2023-03-12T14:46:47.550Z"
   },
   {
    "duration": 62,
    "start_time": "2023-03-12T14:48:42.901Z"
   },
   {
    "duration": 118,
    "start_time": "2023-03-12T14:50:03.757Z"
   },
   {
    "duration": 194,
    "start_time": "2023-03-12T14:52:13.072Z"
   },
   {
    "duration": 205,
    "start_time": "2023-03-12T14:52:32.461Z"
   },
   {
    "duration": 209,
    "start_time": "2023-03-12T14:52:50.597Z"
   },
   {
    "duration": 14,
    "start_time": "2023-03-12T15:41:04.897Z"
   },
   {
    "duration": 5,
    "start_time": "2023-03-12T15:52:04.788Z"
   },
   {
    "duration": 19,
    "start_time": "2023-03-12T15:52:06.937Z"
   },
   {
    "duration": 4,
    "start_time": "2023-03-12T15:53:16.258Z"
   },
   {
    "duration": 55,
    "start_time": "2023-03-12T15:53:19.894Z"
   },
   {
    "duration": 5,
    "start_time": "2023-03-12T15:54:23.874Z"
   },
   {
    "duration": 44,
    "start_time": "2023-03-12T15:54:27.376Z"
   },
   {
    "duration": 5,
    "start_time": "2023-03-12T15:56:12.543Z"
   },
   {
    "duration": 38,
    "start_time": "2023-03-12T15:56:15.506Z"
   },
   {
    "duration": 4,
    "start_time": "2023-03-12T15:58:06.292Z"
   },
   {
    "duration": 42,
    "start_time": "2023-03-12T15:58:10.946Z"
   },
   {
    "duration": 6,
    "start_time": "2023-03-12T15:59:25.458Z"
   },
   {
    "duration": 94,
    "start_time": "2023-03-12T15:59:28.400Z"
   },
   {
    "duration": 208,
    "start_time": "2023-03-12T15:59:59.732Z"
   },
   {
    "duration": 173,
    "start_time": "2023-03-12T16:00:21.383Z"
   },
   {
    "duration": 1288,
    "start_time": "2023-03-12T16:44:56.803Z"
   },
   {
    "duration": 12,
    "start_time": "2023-03-12T16:44:58.094Z"
   },
   {
    "duration": 881,
    "start_time": "2023-03-12T16:44:58.108Z"
   },
   {
    "duration": 1073,
    "start_time": "2023-03-12T16:44:58.990Z"
   },
   {
    "duration": 57,
    "start_time": "2023-03-12T16:45:00.065Z"
   },
   {
    "duration": 212,
    "start_time": "2023-03-12T16:45:00.124Z"
   },
   {
    "duration": 151,
    "start_time": "2023-03-12T16:45:00.339Z"
   },
   {
    "duration": 106,
    "start_time": "2023-03-12T16:45:00.492Z"
   },
   {
    "duration": 148,
    "start_time": "2023-03-12T16:45:00.600Z"
   },
   {
    "duration": 46,
    "start_time": "2023-03-12T16:45:00.751Z"
   },
   {
    "duration": 1130,
    "start_time": "2023-03-12T16:45:00.822Z"
   },
   {
    "duration": 112,
    "start_time": "2023-03-12T16:45:01.954Z"
   },
   {
    "duration": 350,
    "start_time": "2023-03-12T16:45:02.068Z"
   },
   {
    "duration": 32,
    "start_time": "2023-03-12T16:45:02.420Z"
   },
   {
    "duration": 546,
    "start_time": "2023-03-12T16:45:02.454Z"
   },
   {
    "duration": 52,
    "start_time": "2023-03-12T16:45:03.002Z"
   },
   {
    "duration": 9,
    "start_time": "2023-03-12T16:45:03.056Z"
   },
   {
    "duration": 88,
    "start_time": "2023-03-12T16:45:03.067Z"
   },
   {
    "duration": 418,
    "start_time": "2023-03-12T16:45:03.157Z"
   },
   {
    "duration": 187,
    "start_time": "2023-03-12T16:45:03.577Z"
   },
   {
    "duration": 192,
    "start_time": "2023-03-12T16:45:03.765Z"
   },
   {
    "duration": 185,
    "start_time": "2023-03-12T16:45:03.959Z"
   },
   {
    "duration": 79,
    "start_time": "2023-03-12T16:48:55.194Z"
   },
   {
    "duration": 201,
    "start_time": "2023-03-12T16:48:59.422Z"
   },
   {
    "duration": 10,
    "start_time": "2023-03-12T17:13:47.626Z"
   },
   {
    "duration": 5,
    "start_time": "2023-03-12T17:16:09.915Z"
   },
   {
    "duration": 378,
    "start_time": "2023-03-12T17:16:19.907Z"
   },
   {
    "duration": 331,
    "start_time": "2023-03-12T17:17:19.900Z"
   },
   {
    "duration": 336,
    "start_time": "2023-03-12T17:17:28.631Z"
   },
   {
    "duration": 355,
    "start_time": "2023-03-12T17:17:38.804Z"
   },
   {
    "duration": 292,
    "start_time": "2023-03-12T17:17:53.503Z"
   },
   {
    "duration": 249,
    "start_time": "2023-03-12T17:17:57.105Z"
   },
   {
    "duration": 258,
    "start_time": "2023-03-12T17:19:12.096Z"
   },
   {
    "duration": 252,
    "start_time": "2023-03-12T17:19:23.498Z"
   },
   {
    "duration": 352,
    "start_time": "2023-03-12T17:20:32.754Z"
   },
   {
    "duration": 525,
    "start_time": "2023-03-12T17:20:41.606Z"
   },
   {
    "duration": 107,
    "start_time": "2023-03-12T17:22:50.038Z"
   },
   {
    "duration": 282,
    "start_time": "2023-03-12T17:22:56.314Z"
   },
   {
    "duration": 250,
    "start_time": "2023-03-12T17:25:59.811Z"
   },
   {
    "duration": 269,
    "start_time": "2023-03-12T17:26:06.998Z"
   },
   {
    "duration": 15,
    "start_time": "2023-03-12T17:26:42.942Z"
   },
   {
    "duration": 253,
    "start_time": "2023-03-12T17:27:15.540Z"
   },
   {
    "duration": 44,
    "start_time": "2023-03-12T17:34:14.586Z"
   },
   {
    "duration": 5,
    "start_time": "2023-03-12T17:34:57.702Z"
   },
   {
    "duration": 73,
    "start_time": "2023-03-12T17:35:16.754Z"
   },
   {
    "duration": 75,
    "start_time": "2023-03-12T17:36:27.737Z"
   },
   {
    "duration": 296,
    "start_time": "2023-03-12T17:36:32.808Z"
   },
   {
    "duration": 119,
    "start_time": "2023-03-12T17:45:10.320Z"
   },
   {
    "duration": 97,
    "start_time": "2023-03-12T17:59:17.184Z"
   },
   {
    "duration": 82,
    "start_time": "2023-03-12T18:40:23.606Z"
   },
   {
    "duration": 91,
    "start_time": "2023-03-12T18:40:55.153Z"
   },
   {
    "duration": 1577,
    "start_time": "2023-03-12T18:41:13.941Z"
   },
   {
    "duration": 1414,
    "start_time": "2023-03-12T18:42:58.152Z"
   },
   {
    "duration": 1400,
    "start_time": "2023-03-12T18:43:39.115Z"
   },
   {
    "duration": 1275,
    "start_time": "2023-03-12T18:44:25.628Z"
   },
   {
    "duration": 1383,
    "start_time": "2023-03-12T18:45:09.782Z"
   },
   {
    "duration": 1323,
    "start_time": "2023-03-12T18:46:03.351Z"
   },
   {
    "duration": 1364,
    "start_time": "2023-03-12T18:46:17.282Z"
   },
   {
    "duration": 1626,
    "start_time": "2023-03-12T18:47:19.956Z"
   },
   {
    "duration": 1355,
    "start_time": "2023-03-12T18:47:31.088Z"
   },
   {
    "duration": 1358,
    "start_time": "2023-03-12T18:48:08.451Z"
   },
   {
    "duration": 12,
    "start_time": "2023-03-12T18:55:19.681Z"
   },
   {
    "duration": 8,
    "start_time": "2023-03-12T18:55:46.747Z"
   },
   {
    "duration": 87,
    "start_time": "2023-03-12T19:09:22.404Z"
   },
   {
    "duration": 92,
    "start_time": "2023-03-12T19:11:02.159Z"
   },
   {
    "duration": 82,
    "start_time": "2023-03-12T19:11:11.116Z"
   },
   {
    "duration": 90,
    "start_time": "2023-03-12T19:11:42.644Z"
   },
   {
    "duration": 99,
    "start_time": "2023-03-12T19:11:54.800Z"
   },
   {
    "duration": 126,
    "start_time": "2023-03-12T19:12:04.894Z"
   },
   {
    "duration": 138,
    "start_time": "2023-03-12T19:12:34.501Z"
   },
   {
    "duration": 95,
    "start_time": "2023-03-12T19:12:49.718Z"
   },
   {
    "duration": 78,
    "start_time": "2023-03-12T19:12:55.746Z"
   },
   {
    "duration": 167,
    "start_time": "2023-03-12T19:12:59.606Z"
   },
   {
    "duration": 113,
    "start_time": "2023-03-12T19:13:08.047Z"
   },
   {
    "duration": 1413,
    "start_time": "2023-03-13T17:05:48.047Z"
   },
   {
    "duration": 10,
    "start_time": "2023-03-13T17:05:49.463Z"
   },
   {
    "duration": 879,
    "start_time": "2023-03-13T17:05:49.475Z"
   },
   {
    "duration": 995,
    "start_time": "2023-03-13T17:05:50.355Z"
   },
   {
    "duration": 52,
    "start_time": "2023-03-13T17:05:51.353Z"
   },
   {
    "duration": 34,
    "start_time": "2023-03-13T17:05:51.407Z"
   },
   {
    "duration": 126,
    "start_time": "2023-03-13T17:05:51.443Z"
   },
   {
    "duration": 121,
    "start_time": "2023-03-13T17:05:51.571Z"
   },
   {
    "duration": 294,
    "start_time": "2023-03-13T17:05:51.694Z"
   },
   {
    "duration": 101,
    "start_time": "2023-03-13T17:05:51.990Z"
   },
   {
    "duration": 1830,
    "start_time": "2023-03-13T17:05:52.093Z"
   },
   {
    "duration": 105,
    "start_time": "2023-03-13T17:05:53.925Z"
   },
   {
    "duration": 238,
    "start_time": "2023-03-13T17:05:54.032Z"
   },
   {
    "duration": 28,
    "start_time": "2023-03-13T17:05:54.273Z"
   },
   {
    "duration": 40,
    "start_time": "2023-03-13T17:05:54.303Z"
   },
   {
    "duration": 270,
    "start_time": "2023-03-13T17:05:54.346Z"
   },
   {
    "duration": 45,
    "start_time": "2023-03-13T17:05:54.618Z"
   },
   {
    "duration": 550,
    "start_time": "2023-03-13T17:05:54.664Z"
   },
   {
    "duration": 80,
    "start_time": "2023-03-13T17:05:55.216Z"
   },
   {
    "duration": 267,
    "start_time": "2023-03-13T17:05:55.298Z"
   },
   {
    "duration": 183,
    "start_time": "2023-03-13T17:05:55.566Z"
   },
   {
    "duration": 418,
    "start_time": "2023-03-13T17:05:55.750Z"
   },
   {
    "duration": 10,
    "start_time": "2023-03-13T17:05:56.170Z"
   },
   {
    "duration": 71,
    "start_time": "2023-03-13T17:05:56.187Z"
   },
   {
    "duration": 0,
    "start_time": "2023-03-13T17:05:56.260Z"
   },
   {
    "duration": 25,
    "start_time": "2023-03-13T17:06:11.553Z"
   },
   {
    "duration": 27,
    "start_time": "2023-03-13T17:06:52.972Z"
   },
   {
    "duration": 21,
    "start_time": "2023-03-13T17:07:12.053Z"
   },
   {
    "duration": 26,
    "start_time": "2023-03-13T17:07:18.253Z"
   },
   {
    "duration": 26,
    "start_time": "2023-03-13T17:08:18.088Z"
   },
   {
    "duration": 237,
    "start_time": "2023-03-13T17:08:53.619Z"
   },
   {
    "duration": 34,
    "start_time": "2023-03-13T17:10:11.175Z"
   },
   {
    "duration": 33,
    "start_time": "2023-03-13T17:10:43.572Z"
   },
   {
    "duration": 34,
    "start_time": "2023-03-13T17:11:15.673Z"
   },
   {
    "duration": 35,
    "start_time": "2023-03-13T17:11:28.308Z"
   },
   {
    "duration": 376,
    "start_time": "2023-03-13T17:12:44.777Z"
   },
   {
    "duration": 396,
    "start_time": "2023-03-13T17:12:59.407Z"
   },
   {
    "duration": 1207,
    "start_time": "2023-03-13T17:13:13.709Z"
   },
   {
    "duration": 12,
    "start_time": "2023-03-13T17:13:14.919Z"
   },
   {
    "duration": 207,
    "start_time": "2023-03-13T17:13:14.932Z"
   },
   {
    "duration": 1089,
    "start_time": "2023-03-13T17:13:15.142Z"
   },
   {
    "duration": 60,
    "start_time": "2023-03-13T17:13:16.233Z"
   },
   {
    "duration": 37,
    "start_time": "2023-03-13T17:13:16.295Z"
   },
   {
    "duration": 120,
    "start_time": "2023-03-13T17:13:16.334Z"
   },
   {
    "duration": 110,
    "start_time": "2023-03-13T17:13:16.456Z"
   },
   {
    "duration": 148,
    "start_time": "2023-03-13T17:13:16.568Z"
   },
   {
    "duration": 46,
    "start_time": "2023-03-13T17:13:16.719Z"
   },
   {
    "duration": 1092,
    "start_time": "2023-03-13T17:13:16.786Z"
   },
   {
    "duration": 116,
    "start_time": "2023-03-13T17:13:17.880Z"
   },
   {
    "duration": 324,
    "start_time": "2023-03-13T17:13:17.997Z"
   },
   {
    "duration": 26,
    "start_time": "2023-03-13T17:13:18.323Z"
   },
   {
    "duration": 48,
    "start_time": "2023-03-13T17:13:18.351Z"
   },
   {
    "duration": 247,
    "start_time": "2023-03-13T17:13:18.401Z"
   },
   {
    "duration": 41,
    "start_time": "2023-03-13T17:13:18.649Z"
   },
   {
    "duration": 550,
    "start_time": "2023-03-13T17:13:18.692Z"
   },
   {
    "duration": 85,
    "start_time": "2023-03-13T17:13:19.244Z"
   },
   {
    "duration": 257,
    "start_time": "2023-03-13T17:13:19.330Z"
   },
   {
    "duration": 178,
    "start_time": "2023-03-13T17:13:19.589Z"
   },
   {
    "duration": 423,
    "start_time": "2023-03-13T17:13:19.769Z"
   },
   {
    "duration": 11,
    "start_time": "2023-03-13T17:13:20.194Z"
   },
   {
    "duration": 90,
    "start_time": "2023-03-13T17:13:20.206Z"
   },
   {
    "duration": 0,
    "start_time": "2023-03-13T17:13:20.298Z"
   },
   {
    "duration": 39,
    "start_time": "2023-03-13T17:13:48.212Z"
   },
   {
    "duration": 36,
    "start_time": "2023-03-13T17:13:57.556Z"
   },
   {
    "duration": 60,
    "start_time": "2023-03-13T17:18:33.272Z"
   },
   {
    "duration": 106,
    "start_time": "2023-03-13T17:18:53.679Z"
   },
   {
    "duration": 248,
    "start_time": "2023-03-13T17:19:05.818Z"
   },
   {
    "duration": 28,
    "start_time": "2023-03-13T17:20:30.943Z"
   },
   {
    "duration": 7,
    "start_time": "2023-03-13T17:22:05.038Z"
   },
   {
    "duration": 7,
    "start_time": "2023-03-13T17:22:15.537Z"
   },
   {
    "duration": 8,
    "start_time": "2023-03-13T17:22:21.898Z"
   },
   {
    "duration": 11,
    "start_time": "2023-03-13T17:22:31.652Z"
   },
   {
    "duration": 9,
    "start_time": "2023-03-13T17:27:28.124Z"
   },
   {
    "duration": 9,
    "start_time": "2023-03-13T17:27:38.806Z"
   },
   {
    "duration": 8,
    "start_time": "2023-03-13T17:31:13.805Z"
   },
   {
    "duration": 81,
    "start_time": "2023-03-13T17:34:46.031Z"
   },
   {
    "duration": 71,
    "start_time": "2023-03-13T17:34:57.726Z"
   },
   {
    "duration": 11,
    "start_time": "2023-03-13T17:37:12.636Z"
   },
   {
    "duration": 76,
    "start_time": "2023-03-13T17:37:23.033Z"
   },
   {
    "duration": 11,
    "start_time": "2023-03-13T17:37:25.790Z"
   },
   {
    "duration": 12,
    "start_time": "2023-03-13T17:43:06.944Z"
   },
   {
    "duration": 17,
    "start_time": "2023-03-13T17:43:28.102Z"
   },
   {
    "duration": 13,
    "start_time": "2023-03-13T17:44:58.092Z"
   },
   {
    "duration": 1293,
    "start_time": "2023-03-13T17:45:08.797Z"
   },
   {
    "duration": 13,
    "start_time": "2023-03-13T17:45:10.093Z"
   },
   {
    "duration": 214,
    "start_time": "2023-03-13T17:45:10.108Z"
   },
   {
    "duration": 1072,
    "start_time": "2023-03-13T17:45:10.324Z"
   },
   {
    "duration": 47,
    "start_time": "2023-03-13T17:45:11.398Z"
   },
   {
    "duration": 56,
    "start_time": "2023-03-13T17:45:11.446Z"
   },
   {
    "duration": 112,
    "start_time": "2023-03-13T17:45:11.504Z"
   },
   {
    "duration": 111,
    "start_time": "2023-03-13T17:45:11.618Z"
   },
   {
    "duration": 164,
    "start_time": "2023-03-13T17:45:11.730Z"
   },
   {
    "duration": 45,
    "start_time": "2023-03-13T17:45:11.897Z"
   },
   {
    "duration": 1457,
    "start_time": "2023-03-13T17:45:11.944Z"
   },
   {
    "duration": 198,
    "start_time": "2023-03-13T17:45:13.403Z"
   },
   {
    "duration": 701,
    "start_time": "2023-03-13T17:45:13.602Z"
   },
   {
    "duration": 86,
    "start_time": "2023-03-13T17:45:14.307Z"
   },
   {
    "duration": 357,
    "start_time": "2023-03-13T17:45:14.394Z"
   },
   {
    "duration": 42,
    "start_time": "2023-03-13T17:45:14.764Z"
   },
   {
    "duration": 574,
    "start_time": "2023-03-13T17:45:14.808Z"
   },
   {
    "duration": 162,
    "start_time": "2023-03-13T17:45:15.386Z"
   },
   {
    "duration": 0,
    "start_time": "2023-03-13T17:45:15.550Z"
   },
   {
    "duration": 0,
    "start_time": "2023-03-13T17:45:15.552Z"
   },
   {
    "duration": 0,
    "start_time": "2023-03-13T17:45:15.553Z"
   },
   {
    "duration": 0,
    "start_time": "2023-03-13T17:45:15.555Z"
   },
   {
    "duration": 0,
    "start_time": "2023-03-13T17:45:15.556Z"
   },
   {
    "duration": 0,
    "start_time": "2023-03-13T17:45:15.559Z"
   },
   {
    "duration": 0,
    "start_time": "2023-03-13T17:45:15.560Z"
   },
   {
    "duration": 0,
    "start_time": "2023-03-13T17:45:15.562Z"
   },
   {
    "duration": 0,
    "start_time": "2023-03-13T17:45:15.563Z"
   },
   {
    "duration": 63,
    "start_time": "2023-03-13T17:46:08.632Z"
   },
   {
    "duration": 258,
    "start_time": "2023-03-13T17:46:11.874Z"
   },
   {
    "duration": 190,
    "start_time": "2023-03-13T17:46:17.439Z"
   },
   {
    "duration": 417,
    "start_time": "2023-03-13T17:46:22.200Z"
   },
   {
    "duration": 11,
    "start_time": "2023-03-13T17:46:29.202Z"
   },
   {
    "duration": 4,
    "start_time": "2023-03-13T17:51:39.324Z"
   },
   {
    "duration": 9,
    "start_time": "2023-03-13T17:51:50.504Z"
   },
   {
    "duration": 10,
    "start_time": "2023-03-13T17:52:13.335Z"
   },
   {
    "duration": 4,
    "start_time": "2023-03-13T17:52:16.429Z"
   },
   {
    "duration": 11,
    "start_time": "2023-03-13T17:52:59.909Z"
   },
   {
    "duration": 9,
    "start_time": "2023-03-13T17:53:07.711Z"
   },
   {
    "duration": 30,
    "start_time": "2023-03-13T17:53:47.713Z"
   },
   {
    "duration": 1246,
    "start_time": "2023-03-13T17:54:25.233Z"
   },
   {
    "duration": 7,
    "start_time": "2023-03-13T17:54:41.631Z"
   },
   {
    "duration": 1250,
    "start_time": "2023-03-13T17:55:02.596Z"
   },
   {
    "duration": 1228,
    "start_time": "2023-03-13T17:55:38.505Z"
   },
   {
    "duration": 9,
    "start_time": "2023-03-13T17:55:56.028Z"
   },
   {
    "duration": 1208,
    "start_time": "2023-03-13T17:56:37.901Z"
   },
   {
    "duration": 10,
    "start_time": "2023-03-13T17:57:06.617Z"
   },
   {
    "duration": 13,
    "start_time": "2023-03-13T17:57:59.603Z"
   },
   {
    "duration": 11,
    "start_time": "2023-03-13T17:58:14.500Z"
   },
   {
    "duration": 13,
    "start_time": "2023-03-13T17:58:23.101Z"
   },
   {
    "duration": 1202,
    "start_time": "2023-03-13T17:58:32.922Z"
   },
   {
    "duration": 10,
    "start_time": "2023-03-13T17:58:34.126Z"
   },
   {
    "duration": 240,
    "start_time": "2023-03-13T17:58:34.138Z"
   },
   {
    "duration": 1129,
    "start_time": "2023-03-13T17:58:34.380Z"
   },
   {
    "duration": 46,
    "start_time": "2023-03-13T17:58:35.511Z"
   },
   {
    "duration": 58,
    "start_time": "2023-03-13T17:58:35.559Z"
   },
   {
    "duration": 123,
    "start_time": "2023-03-13T17:58:35.618Z"
   },
   {
    "duration": 125,
    "start_time": "2023-03-13T17:58:35.743Z"
   },
   {
    "duration": 155,
    "start_time": "2023-03-13T17:58:35.870Z"
   },
   {
    "duration": 65,
    "start_time": "2023-03-13T17:58:36.027Z"
   },
   {
    "duration": 1053,
    "start_time": "2023-03-13T17:58:36.096Z"
   },
   {
    "duration": 105,
    "start_time": "2023-03-13T17:58:37.151Z"
   },
   {
    "duration": 357,
    "start_time": "2023-03-13T17:58:37.258Z"
   },
   {
    "duration": 35,
    "start_time": "2023-03-13T17:58:37.619Z"
   },
   {
    "duration": 274,
    "start_time": "2023-03-13T17:58:37.656Z"
   },
   {
    "duration": 34,
    "start_time": "2023-03-13T17:58:37.933Z"
   },
   {
    "duration": 590,
    "start_time": "2023-03-13T17:58:37.969Z"
   },
   {
    "duration": 69,
    "start_time": "2023-03-13T17:58:38.561Z"
   },
   {
    "duration": 263,
    "start_time": "2023-03-13T17:58:38.632Z"
   },
   {
    "duration": 171,
    "start_time": "2023-03-13T17:58:38.898Z"
   },
   {
    "duration": 431,
    "start_time": "2023-03-13T17:58:39.071Z"
   },
   {
    "duration": 106,
    "start_time": "2023-03-13T17:58:39.503Z"
   },
   {
    "duration": 0,
    "start_time": "2023-03-13T17:58:39.611Z"
   },
   {
    "duration": 0,
    "start_time": "2023-03-13T17:58:39.612Z"
   },
   {
    "duration": 0,
    "start_time": "2023-03-13T17:58:39.628Z"
   },
   {
    "duration": 0,
    "start_time": "2023-03-13T17:58:39.630Z"
   },
   {
    "duration": 0,
    "start_time": "2023-03-13T17:58:39.631Z"
   },
   {
    "duration": 0,
    "start_time": "2023-03-13T17:58:39.632Z"
   },
   {
    "duration": 9,
    "start_time": "2023-03-13T17:59:14.532Z"
   },
   {
    "duration": 5,
    "start_time": "2023-03-13T17:59:29.000Z"
   },
   {
    "duration": 10,
    "start_time": "2023-03-13T17:59:35.617Z"
   },
   {
    "duration": 1261,
    "start_time": "2023-03-13T18:00:06.207Z"
   },
   {
    "duration": 17,
    "start_time": "2023-03-13T18:00:07.470Z"
   },
   {
    "duration": 225,
    "start_time": "2023-03-13T18:00:07.491Z"
   },
   {
    "duration": 1061,
    "start_time": "2023-03-13T18:00:07.718Z"
   },
   {
    "duration": 58,
    "start_time": "2023-03-13T18:00:08.782Z"
   },
   {
    "duration": 55,
    "start_time": "2023-03-13T18:00:08.842Z"
   },
   {
    "duration": 114,
    "start_time": "2023-03-13T18:00:08.898Z"
   },
   {
    "duration": 116,
    "start_time": "2023-03-13T18:00:09.014Z"
   },
   {
    "duration": 151,
    "start_time": "2023-03-13T18:00:09.132Z"
   },
   {
    "duration": 48,
    "start_time": "2023-03-13T18:00:09.287Z"
   },
   {
    "duration": 1171,
    "start_time": "2023-03-13T18:00:09.336Z"
   },
   {
    "duration": 113,
    "start_time": "2023-03-13T18:00:10.509Z"
   },
   {
    "duration": 343,
    "start_time": "2023-03-13T18:00:10.624Z"
   },
   {
    "duration": 42,
    "start_time": "2023-03-13T18:00:10.970Z"
   },
   {
    "duration": 264,
    "start_time": "2023-03-13T18:00:11.014Z"
   },
   {
    "duration": 47,
    "start_time": "2023-03-13T18:00:11.290Z"
   },
   {
    "duration": 614,
    "start_time": "2023-03-13T18:00:11.339Z"
   },
   {
    "duration": 75,
    "start_time": "2023-03-13T18:00:11.955Z"
   },
   {
    "duration": 267,
    "start_time": "2023-03-13T18:00:12.032Z"
   },
   {
    "duration": 196,
    "start_time": "2023-03-13T18:00:12.301Z"
   },
   {
    "duration": 443,
    "start_time": "2023-03-13T18:00:12.498Z"
   },
   {
    "duration": 3,
    "start_time": "2023-03-13T18:00:12.943Z"
   },
   {
    "duration": 54,
    "start_time": "2023-03-13T18:00:12.947Z"
   },
   {
    "duration": 10,
    "start_time": "2023-03-13T18:00:13.003Z"
   },
   {
    "duration": 11,
    "start_time": "2023-03-13T18:00:13.014Z"
   },
   {
    "duration": 63,
    "start_time": "2023-03-13T18:00:13.027Z"
   },
   {
    "duration": 97,
    "start_time": "2023-03-13T18:00:13.092Z"
   },
   {
    "duration": 0,
    "start_time": "2023-03-13T18:00:13.191Z"
   },
   {
    "duration": 5,
    "start_time": "2023-03-13T18:01:16.032Z"
   },
   {
    "duration": 10,
    "start_time": "2023-03-13T18:01:22.796Z"
   },
   {
    "duration": 14,
    "start_time": "2023-03-13T18:02:25.286Z"
   },
   {
    "duration": 10,
    "start_time": "2023-03-13T18:02:44.076Z"
   },
   {
    "duration": 15,
    "start_time": "2023-03-13T18:03:25.249Z"
   },
   {
    "duration": 212,
    "start_time": "2023-03-13T18:08:55.202Z"
   },
   {
    "duration": 205,
    "start_time": "2023-03-13T18:10:30.627Z"
   },
   {
    "duration": 193,
    "start_time": "2023-03-13T18:10:38.957Z"
   },
   {
    "duration": 188,
    "start_time": "2023-03-13T18:14:44.733Z"
   },
   {
    "duration": 126,
    "start_time": "2023-03-13T18:19:30.395Z"
   },
   {
    "duration": 12,
    "start_time": "2023-03-13T18:19:43.094Z"
   },
   {
    "duration": 4,
    "start_time": "2023-03-13T18:19:57.195Z"
   },
   {
    "duration": 18,
    "start_time": "2023-03-13T18:20:49.483Z"
   },
   {
    "duration": 205,
    "start_time": "2023-03-13T18:20:59.199Z"
   },
   {
    "duration": 18,
    "start_time": "2023-03-13T18:28:29.083Z"
   },
   {
    "duration": 10,
    "start_time": "2023-03-13T18:29:41.848Z"
   },
   {
    "duration": 10,
    "start_time": "2023-03-13T18:30:44.705Z"
   },
   {
    "duration": 11,
    "start_time": "2023-03-13T18:32:50.724Z"
   },
   {
    "duration": 104,
    "start_time": "2023-03-13T18:32:56.398Z"
   },
   {
    "duration": 10,
    "start_time": "2023-03-13T18:36:45.839Z"
   },
   {
    "duration": 1368,
    "start_time": "2023-03-14T16:38:48.925Z"
   },
   {
    "duration": 11,
    "start_time": "2023-03-14T16:38:50.296Z"
   },
   {
    "duration": 337,
    "start_time": "2023-03-14T16:38:50.308Z"
   },
   {
    "duration": 1160,
    "start_time": "2023-03-14T16:38:50.647Z"
   },
   {
    "duration": 68,
    "start_time": "2023-03-14T16:38:51.809Z"
   },
   {
    "duration": 49,
    "start_time": "2023-03-14T16:38:51.879Z"
   },
   {
    "duration": 244,
    "start_time": "2023-03-14T16:38:51.930Z"
   },
   {
    "duration": 297,
    "start_time": "2023-03-14T16:38:52.177Z"
   },
   {
    "duration": 307,
    "start_time": "2023-03-14T16:38:52.479Z"
   },
   {
    "duration": 171,
    "start_time": "2023-03-14T16:38:52.788Z"
   },
   {
    "duration": 2312,
    "start_time": "2023-03-14T16:38:52.964Z"
   },
   {
    "duration": 156,
    "start_time": "2023-03-14T16:38:55.277Z"
   },
   {
    "duration": 477,
    "start_time": "2023-03-14T16:38:55.435Z"
   },
   {
    "duration": 374,
    "start_time": "2023-03-14T16:38:55.916Z"
   },
   {
    "duration": 0,
    "start_time": "2023-03-14T16:38:56.292Z"
   },
   {
    "duration": 0,
    "start_time": "2023-03-14T16:38:56.294Z"
   },
   {
    "duration": 0,
    "start_time": "2023-03-14T16:38:56.296Z"
   },
   {
    "duration": 0,
    "start_time": "2023-03-14T16:38:56.297Z"
   },
   {
    "duration": 0,
    "start_time": "2023-03-14T16:38:56.299Z"
   },
   {
    "duration": 0,
    "start_time": "2023-03-14T16:38:56.300Z"
   },
   {
    "duration": 0,
    "start_time": "2023-03-14T16:38:56.301Z"
   },
   {
    "duration": 0,
    "start_time": "2023-03-14T16:38:56.303Z"
   },
   {
    "duration": 0,
    "start_time": "2023-03-14T16:38:56.304Z"
   },
   {
    "duration": 0,
    "start_time": "2023-03-14T16:38:56.306Z"
   },
   {
    "duration": 0,
    "start_time": "2023-03-14T16:38:56.307Z"
   },
   {
    "duration": 0,
    "start_time": "2023-03-14T16:38:56.311Z"
   },
   {
    "duration": 0,
    "start_time": "2023-03-14T16:38:56.315Z"
   },
   {
    "duration": 0,
    "start_time": "2023-03-14T16:38:56.316Z"
   },
   {
    "duration": 0,
    "start_time": "2023-03-14T16:38:56.317Z"
   },
   {
    "duration": 277,
    "start_time": "2023-03-14T16:39:14.373Z"
   },
   {
    "duration": 63,
    "start_time": "2023-03-14T16:39:29.953Z"
   },
   {
    "duration": 63,
    "start_time": "2023-03-14T16:39:58.111Z"
   },
   {
    "duration": 84,
    "start_time": "2023-03-14T16:41:11.278Z"
   },
   {
    "duration": 68,
    "start_time": "2023-03-14T16:41:16.268Z"
   },
   {
    "duration": 317,
    "start_time": "2023-03-14T16:42:13.397Z"
   },
   {
    "duration": 1198,
    "start_time": "2023-03-14T16:42:31.118Z"
   },
   {
    "duration": 9,
    "start_time": "2023-03-14T16:42:32.318Z"
   },
   {
    "duration": 238,
    "start_time": "2023-03-14T16:42:32.329Z"
   },
   {
    "duration": 1133,
    "start_time": "2023-03-14T16:42:32.574Z"
   },
   {
    "duration": 69,
    "start_time": "2023-03-14T16:42:33.708Z"
   },
   {
    "duration": 60,
    "start_time": "2023-03-14T16:42:33.779Z"
   },
   {
    "duration": 121,
    "start_time": "2023-03-14T16:42:33.841Z"
   },
   {
    "duration": 106,
    "start_time": "2023-03-14T16:42:33.970Z"
   },
   {
    "duration": 167,
    "start_time": "2023-03-14T16:42:34.078Z"
   },
   {
    "duration": 78,
    "start_time": "2023-03-14T16:42:34.248Z"
   },
   {
    "duration": 1172,
    "start_time": "2023-03-14T16:42:34.329Z"
   },
   {
    "duration": 133,
    "start_time": "2023-03-14T16:42:35.503Z"
   },
   {
    "duration": 822,
    "start_time": "2023-03-14T16:42:35.638Z"
   },
   {
    "duration": 696,
    "start_time": "2023-03-14T16:42:36.462Z"
   },
   {
    "duration": 0,
    "start_time": "2023-03-14T16:42:37.160Z"
   },
   {
    "duration": 0,
    "start_time": "2023-03-14T16:42:37.162Z"
   },
   {
    "duration": 0,
    "start_time": "2023-03-14T16:42:37.163Z"
   },
   {
    "duration": 0,
    "start_time": "2023-03-14T16:42:37.165Z"
   },
   {
    "duration": 0,
    "start_time": "2023-03-14T16:42:37.166Z"
   },
   {
    "duration": 0,
    "start_time": "2023-03-14T16:42:37.167Z"
   },
   {
    "duration": 0,
    "start_time": "2023-03-14T16:42:37.168Z"
   },
   {
    "duration": 0,
    "start_time": "2023-03-14T16:42:37.170Z"
   },
   {
    "duration": 0,
    "start_time": "2023-03-14T16:42:37.171Z"
   },
   {
    "duration": 0,
    "start_time": "2023-03-14T16:42:37.172Z"
   },
   {
    "duration": 0,
    "start_time": "2023-03-14T16:42:37.173Z"
   },
   {
    "duration": 0,
    "start_time": "2023-03-14T16:42:37.175Z"
   },
   {
    "duration": 0,
    "start_time": "2023-03-14T16:42:37.177Z"
   },
   {
    "duration": 0,
    "start_time": "2023-03-14T16:42:37.178Z"
   },
   {
    "duration": 0,
    "start_time": "2023-03-14T16:42:37.179Z"
   },
   {
    "duration": 86,
    "start_time": "2023-03-14T16:43:00.032Z"
   },
   {
    "duration": 80,
    "start_time": "2023-03-14T16:43:14.174Z"
   },
   {
    "duration": 77,
    "start_time": "2023-03-14T16:43:17.150Z"
   },
   {
    "duration": 86,
    "start_time": "2023-03-14T16:46:01.216Z"
   },
   {
    "duration": 42,
    "start_time": "2023-03-14T16:47:47.976Z"
   },
   {
    "duration": 83,
    "start_time": "2023-03-14T16:47:56.436Z"
   },
   {
    "duration": 81,
    "start_time": "2023-03-14T16:48:02.121Z"
   },
   {
    "duration": 73,
    "start_time": "2023-03-14T16:48:29.011Z"
   },
   {
    "duration": 275,
    "start_time": "2023-03-14T16:49:44.107Z"
   },
   {
    "duration": 13,
    "start_time": "2023-03-14T16:50:22.677Z"
   },
   {
    "duration": 243,
    "start_time": "2023-03-14T16:50:30.644Z"
   },
   {
    "duration": 227,
    "start_time": "2023-03-14T16:52:19.920Z"
   },
   {
    "duration": 66,
    "start_time": "2023-03-14T16:54:01.220Z"
   },
   {
    "duration": 250,
    "start_time": "2023-03-14T16:54:04.537Z"
   },
   {
    "duration": 231,
    "start_time": "2023-03-14T16:54:11.692Z"
   },
   {
    "duration": 81,
    "start_time": "2023-03-14T16:54:37.094Z"
   },
   {
    "duration": 1237,
    "start_time": "2023-03-14T16:54:42.856Z"
   },
   {
    "duration": 14,
    "start_time": "2023-03-14T16:54:44.096Z"
   },
   {
    "duration": 228,
    "start_time": "2023-03-14T16:54:44.112Z"
   },
   {
    "duration": 1274,
    "start_time": "2023-03-14T16:54:44.342Z"
   },
   {
    "duration": 91,
    "start_time": "2023-03-14T16:54:45.621Z"
   },
   {
    "duration": 74,
    "start_time": "2023-03-14T16:54:45.714Z"
   },
   {
    "duration": 152,
    "start_time": "2023-03-14T16:54:45.795Z"
   },
   {
    "duration": 119,
    "start_time": "2023-03-14T16:54:45.948Z"
   },
   {
    "duration": 172,
    "start_time": "2023-03-14T16:54:46.070Z"
   },
   {
    "duration": 76,
    "start_time": "2023-03-14T16:54:46.244Z"
   },
   {
    "duration": 1778,
    "start_time": "2023-03-14T16:54:46.321Z"
   },
   {
    "duration": 277,
    "start_time": "2023-03-14T16:54:48.101Z"
   },
   {
    "duration": 714,
    "start_time": "2023-03-14T16:54:48.380Z"
   },
   {
    "duration": 263,
    "start_time": "2023-03-14T16:54:49.097Z"
   },
   {
    "duration": 616,
    "start_time": "2023-03-14T16:54:49.366Z"
   },
   {
    "duration": 538,
    "start_time": "2023-03-14T16:54:49.984Z"
   },
   {
    "duration": 49,
    "start_time": "2023-03-14T16:54:50.524Z"
   },
   {
    "duration": 213,
    "start_time": "2023-03-14T16:54:50.575Z"
   },
   {
    "duration": 619,
    "start_time": "2023-03-14T16:54:50.790Z"
   },
   {
    "duration": 88,
    "start_time": "2023-03-14T16:54:51.412Z"
   },
   {
    "duration": 304,
    "start_time": "2023-03-14T16:54:51.502Z"
   },
   {
    "duration": 198,
    "start_time": "2023-03-14T16:54:51.808Z"
   },
   {
    "duration": 441,
    "start_time": "2023-03-14T16:54:52.008Z"
   },
   {
    "duration": 18,
    "start_time": "2023-03-14T16:54:52.457Z"
   },
   {
    "duration": 209,
    "start_time": "2023-03-14T16:54:52.476Z"
   },
   {
    "duration": 325,
    "start_time": "2023-03-14T16:54:52.688Z"
   },
   {
    "duration": 0,
    "start_time": "2023-03-14T16:54:53.015Z"
   },
   {
    "duration": 0,
    "start_time": "2023-03-14T16:54:53.017Z"
   },
   {
    "duration": 0,
    "start_time": "2023-03-14T16:54:53.018Z"
   },
   {
    "duration": 0,
    "start_time": "2023-03-14T16:54:53.019Z"
   },
   {
    "duration": 14,
    "start_time": "2023-03-14T17:04:58.407Z"
   },
   {
    "duration": 55,
    "start_time": "2023-03-14T17:05:47.734Z"
   },
   {
    "duration": 53,
    "start_time": "2023-03-14T17:06:04.245Z"
   },
   {
    "duration": 42,
    "start_time": "2023-03-14T17:06:13.496Z"
   },
   {
    "duration": 21,
    "start_time": "2023-03-14T17:06:59.383Z"
   },
   {
    "duration": 1219,
    "start_time": "2023-03-14T17:07:11.102Z"
   },
   {
    "duration": 9,
    "start_time": "2023-03-14T17:07:12.323Z"
   },
   {
    "duration": 255,
    "start_time": "2023-03-14T17:07:12.334Z"
   },
   {
    "duration": 1239,
    "start_time": "2023-03-14T17:07:12.591Z"
   },
   {
    "duration": 67,
    "start_time": "2023-03-14T17:07:13.832Z"
   },
   {
    "duration": 33,
    "start_time": "2023-03-14T17:07:13.902Z"
   },
   {
    "duration": 143,
    "start_time": "2023-03-14T17:07:13.936Z"
   },
   {
    "duration": 104,
    "start_time": "2023-03-14T17:07:14.088Z"
   },
   {
    "duration": 147,
    "start_time": "2023-03-14T17:07:14.194Z"
   },
   {
    "duration": 73,
    "start_time": "2023-03-14T17:07:14.343Z"
   },
   {
    "duration": 1203,
    "start_time": "2023-03-14T17:07:14.418Z"
   },
   {
    "duration": 162,
    "start_time": "2023-03-14T17:07:15.624Z"
   },
   {
    "duration": 400,
    "start_time": "2023-03-14T17:07:15.788Z"
   },
   {
    "duration": 88,
    "start_time": "2023-03-14T17:07:16.191Z"
   },
   {
    "duration": 264,
    "start_time": "2023-03-14T17:07:16.283Z"
   },
   {
    "duration": 262,
    "start_time": "2023-03-14T17:07:16.549Z"
   },
   {
    "duration": 1227,
    "start_time": "2023-03-14T17:07:16.813Z"
   },
   {
    "duration": 0,
    "start_time": "2023-03-14T17:07:18.041Z"
   },
   {
    "duration": 0,
    "start_time": "2023-03-14T17:07:18.042Z"
   },
   {
    "duration": 0,
    "start_time": "2023-03-14T17:07:18.043Z"
   },
   {
    "duration": 0,
    "start_time": "2023-03-14T17:07:18.044Z"
   },
   {
    "duration": 0,
    "start_time": "2023-03-14T17:07:18.045Z"
   },
   {
    "duration": 0,
    "start_time": "2023-03-14T17:07:18.046Z"
   },
   {
    "duration": 0,
    "start_time": "2023-03-14T17:07:18.047Z"
   },
   {
    "duration": 0,
    "start_time": "2023-03-14T17:07:18.048Z"
   },
   {
    "duration": 0,
    "start_time": "2023-03-14T17:07:18.049Z"
   },
   {
    "duration": 0,
    "start_time": "2023-03-14T17:07:18.050Z"
   },
   {
    "duration": 0,
    "start_time": "2023-03-14T17:07:18.051Z"
   },
   {
    "duration": 0,
    "start_time": "2023-03-14T17:07:18.052Z"
   },
   {
    "duration": 0,
    "start_time": "2023-03-14T17:07:18.052Z"
   },
   {
    "duration": 0,
    "start_time": "2023-03-14T17:07:18.054Z"
   },
   {
    "duration": 12,
    "start_time": "2023-03-14T17:07:50.986Z"
   },
   {
    "duration": 24,
    "start_time": "2023-03-14T17:08:05.550Z"
   },
   {
    "duration": 76,
    "start_time": "2023-03-14T17:10:40.612Z"
   },
   {
    "duration": 9,
    "start_time": "2023-03-14T17:10:47.736Z"
   },
   {
    "duration": 252,
    "start_time": "2023-03-14T17:10:58.584Z"
   },
   {
    "duration": 17,
    "start_time": "2023-03-14T17:13:17.293Z"
   },
   {
    "duration": 211,
    "start_time": "2023-03-14T17:15:00.502Z"
   },
   {
    "duration": 229,
    "start_time": "2023-03-14T17:17:45.703Z"
   },
   {
    "duration": 219,
    "start_time": "2023-03-14T17:19:29.395Z"
   },
   {
    "duration": 246,
    "start_time": "2023-03-14T17:19:53.957Z"
   },
   {
    "duration": 270,
    "start_time": "2023-03-14T17:21:08.709Z"
   },
   {
    "duration": 255,
    "start_time": "2023-03-14T17:21:32.200Z"
   },
   {
    "duration": 279,
    "start_time": "2023-03-14T17:21:42.529Z"
   },
   {
    "duration": 356,
    "start_time": "2023-03-14T17:22:05.614Z"
   },
   {
    "duration": 247,
    "start_time": "2023-03-14T17:22:34.097Z"
   },
   {
    "duration": 220,
    "start_time": "2023-03-14T17:24:05.718Z"
   },
   {
    "duration": 232,
    "start_time": "2023-03-14T17:24:57.134Z"
   },
   {
    "duration": 251,
    "start_time": "2023-03-14T17:25:07.154Z"
   },
   {
    "duration": 1247,
    "start_time": "2023-03-14T17:41:22.956Z"
   },
   {
    "duration": 12,
    "start_time": "2023-03-14T17:41:24.205Z"
   },
   {
    "duration": 266,
    "start_time": "2023-03-14T17:41:24.219Z"
   },
   {
    "duration": 1323,
    "start_time": "2023-03-14T17:41:24.487Z"
   },
   {
    "duration": 78,
    "start_time": "2023-03-14T17:41:25.814Z"
   },
   {
    "duration": 47,
    "start_time": "2023-03-14T17:41:25.894Z"
   },
   {
    "duration": 144,
    "start_time": "2023-03-14T17:41:25.943Z"
   },
   {
    "duration": 144,
    "start_time": "2023-03-14T17:41:26.092Z"
   },
   {
    "duration": 156,
    "start_time": "2023-03-14T17:41:26.238Z"
   },
   {
    "duration": 74,
    "start_time": "2023-03-14T17:41:26.396Z"
   },
   {
    "duration": 1145,
    "start_time": "2023-03-14T17:41:26.471Z"
   },
   {
    "duration": 108,
    "start_time": "2023-03-14T17:41:27.618Z"
   },
   {
    "duration": 352,
    "start_time": "2023-03-14T17:41:27.727Z"
   },
   {
    "duration": 77,
    "start_time": "2023-03-14T17:41:28.087Z"
   },
   {
    "duration": 278,
    "start_time": "2023-03-14T17:41:28.169Z"
   },
   {
    "duration": 277,
    "start_time": "2023-03-14T17:41:28.449Z"
   },
   {
    "duration": 1101,
    "start_time": "2023-03-14T17:41:28.728Z"
   },
   {
    "duration": 0,
    "start_time": "2023-03-14T17:41:29.831Z"
   },
   {
    "duration": 0,
    "start_time": "2023-03-14T17:41:29.832Z"
   },
   {
    "duration": 0,
    "start_time": "2023-03-14T17:41:29.833Z"
   },
   {
    "duration": 0,
    "start_time": "2023-03-14T17:41:29.834Z"
   },
   {
    "duration": 0,
    "start_time": "2023-03-14T17:41:29.835Z"
   },
   {
    "duration": 0,
    "start_time": "2023-03-14T17:41:29.836Z"
   },
   {
    "duration": 0,
    "start_time": "2023-03-14T17:41:29.838Z"
   },
   {
    "duration": 0,
    "start_time": "2023-03-14T17:41:29.839Z"
   },
   {
    "duration": 0,
    "start_time": "2023-03-14T17:41:29.840Z"
   },
   {
    "duration": 0,
    "start_time": "2023-03-14T17:41:29.841Z"
   },
   {
    "duration": 0,
    "start_time": "2023-03-14T17:41:29.844Z"
   },
   {
    "duration": 0,
    "start_time": "2023-03-14T17:41:29.845Z"
   },
   {
    "duration": 0,
    "start_time": "2023-03-14T17:41:29.846Z"
   },
   {
    "duration": 0,
    "start_time": "2023-03-14T17:41:29.848Z"
   },
   {
    "duration": 1236,
    "start_time": "2023-03-14T17:42:16.192Z"
   },
   {
    "duration": 10,
    "start_time": "2023-03-14T17:42:17.431Z"
   },
   {
    "duration": 210,
    "start_time": "2023-03-14T17:42:17.442Z"
   },
   {
    "duration": 1119,
    "start_time": "2023-03-14T17:42:17.657Z"
   },
   {
    "duration": 65,
    "start_time": "2023-03-14T17:42:18.779Z"
   },
   {
    "duration": 56,
    "start_time": "2023-03-14T17:42:18.846Z"
   },
   {
    "duration": 119,
    "start_time": "2023-03-14T17:42:18.904Z"
   },
   {
    "duration": 116,
    "start_time": "2023-03-14T17:42:19.024Z"
   },
   {
    "duration": 155,
    "start_time": "2023-03-14T17:42:19.141Z"
   },
   {
    "duration": 76,
    "start_time": "2023-03-14T17:42:19.299Z"
   },
   {
    "duration": 1115,
    "start_time": "2023-03-14T17:42:19.377Z"
   },
   {
    "duration": 112,
    "start_time": "2023-03-14T17:42:20.493Z"
   },
   {
    "duration": 342,
    "start_time": "2023-03-14T17:42:20.607Z"
   },
   {
    "duration": 83,
    "start_time": "2023-03-14T17:42:20.956Z"
   },
   {
    "duration": 263,
    "start_time": "2023-03-14T17:42:21.041Z"
   },
   {
    "duration": 268,
    "start_time": "2023-03-14T17:42:21.306Z"
   },
   {
    "duration": 164,
    "start_time": "2023-03-14T17:42:21.575Z"
   },
   {
    "duration": 24,
    "start_time": "2023-03-14T17:42:21.741Z"
   },
   {
    "duration": 42,
    "start_time": "2023-03-14T17:42:21.767Z"
   },
   {
    "duration": 89,
    "start_time": "2023-03-14T17:42:21.810Z"
   },
   {
    "duration": 620,
    "start_time": "2023-03-14T17:42:21.900Z"
   },
   {
    "duration": 70,
    "start_time": "2023-03-14T17:42:22.522Z"
   },
   {
    "duration": 275,
    "start_time": "2023-03-14T17:42:22.594Z"
   },
   {
    "duration": 186,
    "start_time": "2023-03-14T17:42:22.872Z"
   },
   {
    "duration": 431,
    "start_time": "2023-03-14T17:42:23.059Z"
   },
   {
    "duration": 16,
    "start_time": "2023-03-14T17:42:23.492Z"
   },
   {
    "duration": 240,
    "start_time": "2023-03-14T17:42:23.510Z"
   },
   {
    "duration": 0,
    "start_time": "2023-03-14T17:42:23.759Z"
   },
   {
    "duration": 0,
    "start_time": "2023-03-14T17:42:23.760Z"
   },
   {
    "duration": 0,
    "start_time": "2023-03-14T17:42:23.760Z"
   },
   {
    "duration": 0,
    "start_time": "2023-03-14T17:42:23.761Z"
   },
   {
    "duration": 13,
    "start_time": "2023-03-14T17:43:19.894Z"
   },
   {
    "duration": 10,
    "start_time": "2023-03-14T17:46:37.093Z"
   },
   {
    "duration": 219,
    "start_time": "2023-03-14T18:06:01.821Z"
   },
   {
    "duration": 87,
    "start_time": "2023-03-14T18:07:51.522Z"
   },
   {
    "duration": 85,
    "start_time": "2023-03-14T18:08:01.584Z"
   },
   {
    "duration": 18,
    "start_time": "2023-03-14T18:12:27.609Z"
   },
   {
    "duration": 39,
    "start_time": "2023-03-14T18:12:40.675Z"
   },
   {
    "duration": 613,
    "start_time": "2023-03-14T18:15:41.206Z"
   },
   {
    "duration": 686,
    "start_time": "2023-03-14T18:16:30.048Z"
   },
   {
    "duration": 52,
    "start_time": "2023-03-14T18:20:16.486Z"
   },
   {
    "duration": 51,
    "start_time": "2023-03-14T18:20:27.705Z"
   },
   {
    "duration": 50,
    "start_time": "2023-03-14T18:20:52.797Z"
   },
   {
    "duration": 65,
    "start_time": "2023-03-14T18:20:58.026Z"
   },
   {
    "duration": 63,
    "start_time": "2023-03-14T18:39:27.995Z"
   },
   {
    "duration": 96,
    "start_time": "2023-03-14T18:39:46.105Z"
   },
   {
    "duration": 86,
    "start_time": "2023-03-14T18:40:09.564Z"
   },
   {
    "duration": 19,
    "start_time": "2023-03-14T18:43:54.183Z"
   },
   {
    "duration": 36,
    "start_time": "2023-03-14T19:14:16.506Z"
   },
   {
    "duration": 16,
    "start_time": "2023-03-14T19:14:58.652Z"
   },
   {
    "duration": 119,
    "start_time": "2023-03-14T19:15:44.591Z"
   },
   {
    "duration": 41,
    "start_time": "2023-03-14T19:18:08.185Z"
   },
   {
    "duration": 73,
    "start_time": "2023-03-14T19:18:15.644Z"
   },
   {
    "duration": 57,
    "start_time": "2023-03-14T19:20:45.777Z"
   },
   {
    "duration": 49,
    "start_time": "2023-03-14T19:21:06.685Z"
   },
   {
    "duration": 51,
    "start_time": "2023-03-14T19:21:18.090Z"
   },
   {
    "duration": 64,
    "start_time": "2023-03-14T19:21:49.442Z"
   },
   {
    "duration": 64,
    "start_time": "2023-03-14T19:22:24.284Z"
   },
   {
    "duration": 14,
    "start_time": "2023-03-14T19:24:15.692Z"
   },
   {
    "duration": 10,
    "start_time": "2023-03-14T19:26:50.678Z"
   },
   {
    "duration": 39,
    "start_time": "2023-03-14T19:31:44.004Z"
   },
   {
    "duration": 4,
    "start_time": "2023-03-14T19:33:19.613Z"
   },
   {
    "duration": 62,
    "start_time": "2023-03-14T19:33:42.500Z"
   },
   {
    "duration": 47,
    "start_time": "2023-03-14T19:34:04.605Z"
   },
   {
    "duration": 47,
    "start_time": "2023-03-14T19:34:11.707Z"
   },
   {
    "duration": 97,
    "start_time": "2023-03-14T19:34:25.623Z"
   },
   {
    "duration": 53,
    "start_time": "2023-03-14T19:35:27.405Z"
   },
   {
    "duration": 87,
    "start_time": "2023-03-14T19:35:42.325Z"
   },
   {
    "duration": 1292,
    "start_time": "2023-03-14T19:35:47.714Z"
   },
   {
    "duration": 13,
    "start_time": "2023-03-14T19:35:49.009Z"
   },
   {
    "duration": 314,
    "start_time": "2023-03-14T19:35:49.024Z"
   },
   {
    "duration": 1268,
    "start_time": "2023-03-14T19:35:49.339Z"
   },
   {
    "duration": 61,
    "start_time": "2023-03-14T19:35:50.610Z"
   },
   {
    "duration": 52,
    "start_time": "2023-03-14T19:35:50.677Z"
   },
   {
    "duration": 119,
    "start_time": "2023-03-14T19:35:50.730Z"
   },
   {
    "duration": 146,
    "start_time": "2023-03-14T19:35:50.856Z"
   },
   {
    "duration": 151,
    "start_time": "2023-03-14T19:35:51.004Z"
   },
   {
    "duration": 90,
    "start_time": "2023-03-14T19:35:51.157Z"
   },
   {
    "duration": 1270,
    "start_time": "2023-03-14T19:35:51.248Z"
   },
   {
    "duration": 113,
    "start_time": "2023-03-14T19:35:52.520Z"
   },
   {
    "duration": 377,
    "start_time": "2023-03-14T19:35:52.634Z"
   },
   {
    "duration": 91,
    "start_time": "2023-03-14T19:35:53.014Z"
   },
   {
    "duration": 279,
    "start_time": "2023-03-14T19:35:53.107Z"
   },
   {
    "duration": 277,
    "start_time": "2023-03-14T19:35:53.390Z"
   },
   {
    "duration": 214,
    "start_time": "2023-03-14T19:35:53.668Z"
   },
   {
    "duration": 34,
    "start_time": "2023-03-14T19:35:53.884Z"
   },
   {
    "duration": 93,
    "start_time": "2023-03-14T19:35:53.920Z"
   },
   {
    "duration": 731,
    "start_time": "2023-03-14T19:35:54.016Z"
   },
   {
    "duration": 75,
    "start_time": "2023-03-14T19:35:54.748Z"
   },
   {
    "duration": 106,
    "start_time": "2023-03-14T19:35:54.824Z"
   },
   {
    "duration": 28,
    "start_time": "2023-03-14T19:35:54.932Z"
   },
   {
    "duration": 63,
    "start_time": "2023-03-14T19:35:54.967Z"
   },
   {
    "duration": 54,
    "start_time": "2023-03-14T19:35:55.032Z"
   },
   {
    "duration": 6,
    "start_time": "2023-03-14T19:35:55.088Z"
   },
   {
    "duration": 56,
    "start_time": "2023-03-14T19:35:55.096Z"
   },
   {
    "duration": 0,
    "start_time": "2023-03-14T19:35:55.154Z"
   },
   {
    "duration": 0,
    "start_time": "2023-03-14T19:35:55.155Z"
   },
   {
    "duration": 0,
    "start_time": "2023-03-14T19:35:55.156Z"
   },
   {
    "duration": 1,
    "start_time": "2023-03-14T19:35:55.157Z"
   },
   {
    "duration": 0,
    "start_time": "2023-03-14T19:35:55.159Z"
   },
   {
    "duration": 0,
    "start_time": "2023-03-14T19:35:55.160Z"
   },
   {
    "duration": 0,
    "start_time": "2023-03-14T19:35:55.161Z"
   },
   {
    "duration": 0,
    "start_time": "2023-03-14T19:35:55.161Z"
   },
   {
    "duration": 0,
    "start_time": "2023-03-14T19:35:55.162Z"
   },
   {
    "duration": 0,
    "start_time": "2023-03-14T19:35:55.166Z"
   },
   {
    "duration": 0,
    "start_time": "2023-03-14T19:35:55.168Z"
   },
   {
    "duration": 0,
    "start_time": "2023-03-14T19:35:55.169Z"
   },
   {
    "duration": 48,
    "start_time": "2023-03-14T19:36:46.307Z"
   },
   {
    "duration": 82,
    "start_time": "2023-03-14T19:36:49.818Z"
   },
   {
    "duration": 74,
    "start_time": "2023-03-14T19:36:52.929Z"
   },
   {
    "duration": 153,
    "start_time": "2023-03-14T19:37:00.341Z"
   },
   {
    "duration": 11,
    "start_time": "2023-03-14T19:37:46.552Z"
   },
   {
    "duration": 4,
    "start_time": "2023-03-14T19:37:54.429Z"
   },
   {
    "duration": 18,
    "start_time": "2023-03-14T19:37:57.684Z"
   },
   {
    "duration": 4,
    "start_time": "2023-03-14T19:40:01.510Z"
   },
   {
    "duration": 4,
    "start_time": "2023-03-14T19:40:08.440Z"
   },
   {
    "duration": 71,
    "start_time": "2023-03-14T19:43:21.315Z"
   },
   {
    "duration": 1209,
    "start_time": "2023-03-14T19:44:35.795Z"
   },
   {
    "duration": 13,
    "start_time": "2023-03-14T19:44:37.006Z"
   },
   {
    "duration": 229,
    "start_time": "2023-03-14T19:44:37.021Z"
   },
   {
    "duration": 1297,
    "start_time": "2023-03-14T19:44:37.261Z"
   },
   {
    "duration": 73,
    "start_time": "2023-03-14T19:44:38.561Z"
   },
   {
    "duration": 59,
    "start_time": "2023-03-14T19:44:38.636Z"
   },
   {
    "duration": 144,
    "start_time": "2023-03-14T19:44:38.696Z"
   },
   {
    "duration": 139,
    "start_time": "2023-03-14T19:44:38.842Z"
   },
   {
    "duration": 157,
    "start_time": "2023-03-14T19:44:38.993Z"
   },
   {
    "duration": 82,
    "start_time": "2023-03-14T19:44:39.152Z"
   },
   {
    "duration": 1248,
    "start_time": "2023-03-14T19:44:39.235Z"
   },
   {
    "duration": 122,
    "start_time": "2023-03-14T19:44:40.488Z"
   },
   {
    "duration": 346,
    "start_time": "2023-03-14T19:44:40.612Z"
   },
   {
    "duration": 90,
    "start_time": "2023-03-14T19:44:40.967Z"
   },
   {
    "duration": 270,
    "start_time": "2023-03-14T19:44:41.058Z"
   },
   {
    "duration": 282,
    "start_time": "2023-03-14T19:44:41.330Z"
   },
   {
    "duration": 198,
    "start_time": "2023-03-14T19:44:41.614Z"
   },
   {
    "duration": 15,
    "start_time": "2023-03-14T19:44:41.814Z"
   },
   {
    "duration": 64,
    "start_time": "2023-03-14T19:44:41.831Z"
   },
   {
    "duration": 719,
    "start_time": "2023-03-14T19:44:41.898Z"
   },
   {
    "duration": 74,
    "start_time": "2023-03-14T19:44:42.619Z"
   },
   {
    "duration": 89,
    "start_time": "2023-03-14T19:44:42.695Z"
   },
   {
    "duration": 38,
    "start_time": "2023-03-14T19:44:42.786Z"
   },
   {
    "duration": 79,
    "start_time": "2023-03-14T19:44:42.827Z"
   },
   {
    "duration": 72,
    "start_time": "2023-03-14T19:44:42.912Z"
   },
   {
    "duration": 8,
    "start_time": "2023-03-14T19:44:42.995Z"
   },
   {
    "duration": 17,
    "start_time": "2023-03-14T19:44:43.005Z"
   },
   {
    "duration": 4,
    "start_time": "2023-03-14T19:44:43.023Z"
   },
   {
    "duration": 10,
    "start_time": "2023-03-14T19:44:43.029Z"
   },
   {
    "duration": 62,
    "start_time": "2023-03-14T19:44:43.041Z"
   },
   {
    "duration": 79,
    "start_time": "2023-03-14T19:44:43.107Z"
   },
   {
    "duration": 311,
    "start_time": "2023-03-14T19:44:43.195Z"
   },
   {
    "duration": 214,
    "start_time": "2023-03-14T19:44:43.508Z"
   },
   {
    "duration": 481,
    "start_time": "2023-03-14T19:44:43.724Z"
   },
   {
    "duration": 18,
    "start_time": "2023-03-14T19:44:44.207Z"
   },
   {
    "duration": 279,
    "start_time": "2023-03-14T19:44:44.227Z"
   },
   {
    "duration": 0,
    "start_time": "2023-03-14T19:44:44.508Z"
   },
   {
    "duration": 0,
    "start_time": "2023-03-14T19:44:44.509Z"
   },
   {
    "duration": 0,
    "start_time": "2023-03-14T19:44:44.510Z"
   },
   {
    "duration": 0,
    "start_time": "2023-03-14T19:44:44.512Z"
   },
   {
    "duration": 7,
    "start_time": "2023-03-14T19:46:09.633Z"
   },
   {
    "duration": 27,
    "start_time": "2023-03-14T19:46:11.758Z"
   },
   {
    "duration": 7,
    "start_time": "2023-03-14T19:48:34.125Z"
   },
   {
    "duration": 10,
    "start_time": "2023-03-14T19:48:36.039Z"
   },
   {
    "duration": 10,
    "start_time": "2023-03-14T19:48:59.208Z"
   },
   {
    "duration": 28,
    "start_time": "2023-03-14T19:51:29.689Z"
   },
   {
    "duration": 15,
    "start_time": "2023-03-14T19:52:03.084Z"
   },
   {
    "duration": 9,
    "start_time": "2023-03-14T19:53:19.000Z"
   },
   {
    "duration": 1724,
    "start_time": "2023-03-15T17:23:20.578Z"
   },
   {
    "duration": 11,
    "start_time": "2023-03-15T17:23:22.307Z"
   },
   {
    "duration": 938,
    "start_time": "2023-03-15T17:23:22.320Z"
   },
   {
    "duration": 1153,
    "start_time": "2023-03-15T17:23:23.260Z"
   },
   {
    "duration": 51,
    "start_time": "2023-03-15T17:23:24.416Z"
   },
   {
    "duration": 60,
    "start_time": "2023-03-15T17:23:24.470Z"
   },
   {
    "duration": 169,
    "start_time": "2023-03-15T17:23:24.532Z"
   },
   {
    "duration": 116,
    "start_time": "2023-03-15T17:23:24.706Z"
   },
   {
    "duration": 156,
    "start_time": "2023-03-15T17:23:24.824Z"
   },
   {
    "duration": 57,
    "start_time": "2023-03-15T17:23:24.983Z"
   },
   {
    "duration": 1219,
    "start_time": "2023-03-15T17:23:25.042Z"
   },
   {
    "duration": 127,
    "start_time": "2023-03-15T17:23:26.264Z"
   },
   {
    "duration": 286,
    "start_time": "2023-03-15T17:23:26.392Z"
   },
   {
    "duration": 94,
    "start_time": "2023-03-15T17:23:26.680Z"
   },
   {
    "duration": 276,
    "start_time": "2023-03-15T17:23:26.776Z"
   },
   {
    "duration": 281,
    "start_time": "2023-03-15T17:23:27.054Z"
   },
   {
    "duration": 200,
    "start_time": "2023-03-15T17:23:27.338Z"
   },
   {
    "duration": 19,
    "start_time": "2023-03-15T17:23:27.541Z"
   },
   {
    "duration": 67,
    "start_time": "2023-03-15T17:23:27.562Z"
   },
   {
    "duration": 697,
    "start_time": "2023-03-15T17:23:27.631Z"
   },
   {
    "duration": 79,
    "start_time": "2023-03-15T17:23:28.332Z"
   },
   {
    "duration": 99,
    "start_time": "2023-03-15T17:23:28.414Z"
   },
   {
    "duration": 12,
    "start_time": "2023-03-15T17:23:28.515Z"
   },
   {
    "duration": 70,
    "start_time": "2023-03-15T17:23:28.529Z"
   },
   {
    "duration": 54,
    "start_time": "2023-03-15T17:23:28.601Z"
   },
   {
    "duration": 5,
    "start_time": "2023-03-15T17:23:28.657Z"
   },
   {
    "duration": 199,
    "start_time": "2023-03-15T17:23:28.664Z"
   },
   {
    "duration": 0,
    "start_time": "2023-03-15T17:23:28.866Z"
   },
   {
    "duration": 0,
    "start_time": "2023-03-15T17:23:28.868Z"
   },
   {
    "duration": 0,
    "start_time": "2023-03-15T17:23:28.870Z"
   },
   {
    "duration": 0,
    "start_time": "2023-03-15T17:23:28.872Z"
   },
   {
    "duration": 0,
    "start_time": "2023-03-15T17:23:28.889Z"
   },
   {
    "duration": 0,
    "start_time": "2023-03-15T17:23:28.891Z"
   },
   {
    "duration": 0,
    "start_time": "2023-03-15T17:23:28.896Z"
   },
   {
    "duration": 0,
    "start_time": "2023-03-15T17:23:28.897Z"
   },
   {
    "duration": 0,
    "start_time": "2023-03-15T17:23:28.898Z"
   },
   {
    "duration": 0,
    "start_time": "2023-03-15T17:23:28.899Z"
   },
   {
    "duration": 0,
    "start_time": "2023-03-15T17:23:28.901Z"
   },
   {
    "duration": 0,
    "start_time": "2023-03-15T17:23:28.904Z"
   },
   {
    "duration": 0,
    "start_time": "2023-03-15T17:23:28.907Z"
   },
   {
    "duration": 0,
    "start_time": "2023-03-15T17:23:28.908Z"
   },
   {
    "duration": 56,
    "start_time": "2023-03-15T17:23:42.784Z"
   },
   {
    "duration": 51,
    "start_time": "2023-03-15T17:24:58.572Z"
   },
   {
    "duration": 13,
    "start_time": "2023-03-15T17:25:00.581Z"
   },
   {
    "duration": 15,
    "start_time": "2023-03-15T17:25:02.976Z"
   },
   {
    "duration": 19,
    "start_time": "2023-03-15T17:25:50.923Z"
   },
   {
    "duration": 6,
    "start_time": "2023-03-15T17:26:12.448Z"
   },
   {
    "duration": 5,
    "start_time": "2023-03-15T17:26:23.879Z"
   },
   {
    "duration": 5,
    "start_time": "2023-03-15T17:26:38.544Z"
   },
   {
    "duration": 5,
    "start_time": "2023-03-15T17:26:43.578Z"
   },
   {
    "duration": 8,
    "start_time": "2023-03-15T17:26:47.697Z"
   },
   {
    "duration": 11,
    "start_time": "2023-03-15T17:26:57.754Z"
   },
   {
    "duration": 324,
    "start_time": "2023-03-15T17:33:43.949Z"
   },
   {
    "duration": 364,
    "start_time": "2023-03-15T17:34:02.947Z"
   },
   {
    "duration": 17,
    "start_time": "2023-03-15T17:37:05.819Z"
   },
   {
    "duration": 266,
    "start_time": "2023-03-15T17:40:48.461Z"
   },
   {
    "duration": 253,
    "start_time": "2023-03-15T17:42:35.002Z"
   },
   {
    "duration": 11,
    "start_time": "2023-03-15T17:48:12.184Z"
   },
   {
    "duration": 15,
    "start_time": "2023-03-15T17:48:53.504Z"
   },
   {
    "duration": 32,
    "start_time": "2023-03-15T18:01:34.051Z"
   },
   {
    "duration": 1211,
    "start_time": "2023-03-15T18:01:45.359Z"
   },
   {
    "duration": 21,
    "start_time": "2023-03-15T18:01:46.572Z"
   },
   {
    "duration": 210,
    "start_time": "2023-03-15T18:01:46.595Z"
   },
   {
    "duration": 1165,
    "start_time": "2023-03-15T18:01:46.807Z"
   },
   {
    "duration": 60,
    "start_time": "2023-03-15T18:01:47.975Z"
   },
   {
    "duration": 33,
    "start_time": "2023-03-15T18:01:48.037Z"
   },
   {
    "duration": 111,
    "start_time": "2023-03-15T18:01:48.092Z"
   },
   {
    "duration": 116,
    "start_time": "2023-03-15T18:01:48.205Z"
   },
   {
    "duration": 147,
    "start_time": "2023-03-15T18:01:48.323Z"
   },
   {
    "duration": 68,
    "start_time": "2023-03-15T18:01:48.472Z"
   },
   {
    "duration": 1165,
    "start_time": "2023-03-15T18:01:48.542Z"
   },
   {
    "duration": 121,
    "start_time": "2023-03-15T18:01:49.709Z"
   },
   {
    "duration": 400,
    "start_time": "2023-03-15T18:01:49.834Z"
   },
   {
    "duration": 102,
    "start_time": "2023-03-15T18:01:50.238Z"
   },
   {
    "duration": 269,
    "start_time": "2023-03-15T18:01:50.342Z"
   },
   {
    "duration": 304,
    "start_time": "2023-03-15T18:01:50.614Z"
   },
   {
    "duration": 185,
    "start_time": "2023-03-15T18:01:50.920Z"
   },
   {
    "duration": 15,
    "start_time": "2023-03-15T18:01:51.107Z"
   },
   {
    "duration": 213,
    "start_time": "2023-03-15T18:01:51.124Z"
   },
   {
    "duration": 554,
    "start_time": "2023-03-15T18:01:51.339Z"
   },
   {
    "duration": 64,
    "start_time": "2023-03-15T18:01:51.895Z"
   },
   {
    "duration": 109,
    "start_time": "2023-03-15T18:01:51.961Z"
   },
   {
    "duration": 22,
    "start_time": "2023-03-15T18:01:52.072Z"
   },
   {
    "duration": 268,
    "start_time": "2023-03-15T18:01:52.095Z"
   },
   {
    "duration": 29,
    "start_time": "2023-03-15T18:01:52.365Z"
   },
   {
    "duration": 112,
    "start_time": "2023-03-15T18:01:52.401Z"
   },
   {
    "duration": 44,
    "start_time": "2023-03-15T18:01:52.514Z"
   },
   {
    "duration": 6,
    "start_time": "2023-03-15T18:01:52.560Z"
   },
   {
    "duration": 46,
    "start_time": "2023-03-15T18:01:52.568Z"
   },
   {
    "duration": 10,
    "start_time": "2023-03-15T18:01:52.616Z"
   },
   {
    "duration": 133,
    "start_time": "2023-03-15T18:01:52.627Z"
   },
   {
    "duration": 0,
    "start_time": "2023-03-15T18:01:52.762Z"
   },
   {
    "duration": 0,
    "start_time": "2023-03-15T18:01:52.764Z"
   },
   {
    "duration": 0,
    "start_time": "2023-03-15T18:01:52.766Z"
   },
   {
    "duration": 0,
    "start_time": "2023-03-15T18:01:52.768Z"
   },
   {
    "duration": 0,
    "start_time": "2023-03-15T18:01:52.770Z"
   },
   {
    "duration": 0,
    "start_time": "2023-03-15T18:01:52.789Z"
   },
   {
    "duration": 0,
    "start_time": "2023-03-15T18:01:52.790Z"
   },
   {
    "duration": 0,
    "start_time": "2023-03-15T18:01:52.791Z"
   },
   {
    "duration": 0,
    "start_time": "2023-03-15T18:01:52.793Z"
   },
   {
    "duration": 0,
    "start_time": "2023-03-15T18:01:52.796Z"
   },
   {
    "duration": 0,
    "start_time": "2023-03-15T18:01:52.797Z"
   },
   {
    "duration": 0,
    "start_time": "2023-03-15T18:01:52.799Z"
   },
   {
    "duration": 0,
    "start_time": "2023-03-15T18:01:52.800Z"
   },
   {
    "duration": 0,
    "start_time": "2023-03-15T18:01:52.801Z"
   },
   {
    "duration": 29,
    "start_time": "2023-03-15T18:06:46.342Z"
   },
   {
    "duration": 25,
    "start_time": "2023-03-15T18:06:54.941Z"
   },
   {
    "duration": 26,
    "start_time": "2023-03-15T18:07:14.308Z"
   },
   {
    "duration": 24,
    "start_time": "2023-03-15T18:07:30.473Z"
   },
   {
    "duration": 26,
    "start_time": "2023-03-15T18:07:53.346Z"
   },
   {
    "duration": 22,
    "start_time": "2023-03-15T18:08:02.567Z"
   },
   {
    "duration": 32,
    "start_time": "2023-03-15T18:08:07.722Z"
   },
   {
    "duration": 27,
    "start_time": "2023-03-15T18:08:16.420Z"
   },
   {
    "duration": 257,
    "start_time": "2023-03-15T18:23:11.704Z"
   },
   {
    "duration": 20,
    "start_time": "2023-03-15T18:32:22.501Z"
   },
   {
    "duration": 25,
    "start_time": "2023-03-15T18:32:43.978Z"
   },
   {
    "duration": 33,
    "start_time": "2023-03-15T18:36:40.535Z"
   },
   {
    "duration": 52,
    "start_time": "2023-03-15T18:40:00.969Z"
   },
   {
    "duration": 1238,
    "start_time": "2023-03-15T18:40:22.766Z"
   },
   {
    "duration": 11,
    "start_time": "2023-03-15T18:40:24.006Z"
   },
   {
    "duration": 207,
    "start_time": "2023-03-15T18:40:24.019Z"
   },
   {
    "duration": 1128,
    "start_time": "2023-03-15T18:40:24.228Z"
   },
   {
    "duration": 63,
    "start_time": "2023-03-15T18:40:25.358Z"
   },
   {
    "duration": 39,
    "start_time": "2023-03-15T18:40:25.423Z"
   },
   {
    "duration": 118,
    "start_time": "2023-03-15T18:40:25.465Z"
   },
   {
    "duration": 115,
    "start_time": "2023-03-15T18:40:25.588Z"
   },
   {
    "duration": 131,
    "start_time": "2023-03-15T18:40:25.705Z"
   },
   {
    "duration": 62,
    "start_time": "2023-03-15T18:40:25.839Z"
   },
   {
    "duration": 1096,
    "start_time": "2023-03-15T18:40:25.905Z"
   },
   {
    "duration": 113,
    "start_time": "2023-03-15T18:40:27.003Z"
   },
   {
    "duration": 331,
    "start_time": "2023-03-15T18:40:27.118Z"
   },
   {
    "duration": 95,
    "start_time": "2023-03-15T18:40:27.451Z"
   },
   {
    "duration": 250,
    "start_time": "2023-03-15T18:40:27.547Z"
   },
   {
    "duration": 268,
    "start_time": "2023-03-15T18:40:27.799Z"
   },
   {
    "duration": 172,
    "start_time": "2023-03-15T18:40:28.069Z"
   },
   {
    "duration": 15,
    "start_time": "2023-03-15T18:40:28.243Z"
   },
   {
    "duration": 5,
    "start_time": "2023-03-15T18:40:28.286Z"
   },
   {
    "duration": 114,
    "start_time": "2023-03-15T18:40:28.292Z"
   },
   {
    "duration": 584,
    "start_time": "2023-03-15T18:40:28.408Z"
   },
   {
    "duration": 57,
    "start_time": "2023-03-15T18:40:28.994Z"
   },
   {
    "duration": 265,
    "start_time": "2023-03-15T18:40:29.052Z"
   },
   {
    "duration": 135,
    "start_time": "2023-03-15T18:40:29.319Z"
   },
   {
    "duration": 0,
    "start_time": "2023-03-15T18:40:29.456Z"
   },
   {
    "duration": 0,
    "start_time": "2023-03-15T18:40:29.458Z"
   },
   {
    "duration": 0,
    "start_time": "2023-03-15T18:40:29.459Z"
   },
   {
    "duration": 0,
    "start_time": "2023-03-15T18:40:29.461Z"
   },
   {
    "duration": 0,
    "start_time": "2023-03-15T18:40:29.461Z"
   },
   {
    "duration": 0,
    "start_time": "2023-03-15T18:40:29.463Z"
   },
   {
    "duration": 0,
    "start_time": "2023-03-15T18:40:29.464Z"
   },
   {
    "duration": 0,
    "start_time": "2023-03-15T18:40:29.465Z"
   },
   {
    "duration": 0,
    "start_time": "2023-03-15T18:40:29.466Z"
   },
   {
    "duration": 0,
    "start_time": "2023-03-15T18:40:29.491Z"
   },
   {
    "duration": 0,
    "start_time": "2023-03-15T18:40:29.492Z"
   },
   {
    "duration": 0,
    "start_time": "2023-03-15T18:40:29.493Z"
   },
   {
    "duration": 0,
    "start_time": "2023-03-15T18:40:29.494Z"
   },
   {
    "duration": 0,
    "start_time": "2023-03-15T18:40:29.495Z"
   },
   {
    "duration": 0,
    "start_time": "2023-03-15T18:40:29.495Z"
   },
   {
    "duration": 0,
    "start_time": "2023-03-15T18:40:29.496Z"
   },
   {
    "duration": 0,
    "start_time": "2023-03-15T18:40:29.497Z"
   },
   {
    "duration": 0,
    "start_time": "2023-03-15T18:40:29.501Z"
   },
   {
    "duration": 0,
    "start_time": "2023-03-15T18:40:29.502Z"
   },
   {
    "duration": 0,
    "start_time": "2023-03-15T18:40:29.502Z"
   },
   {
    "duration": 0,
    "start_time": "2023-03-15T18:40:29.503Z"
   },
   {
    "duration": 0,
    "start_time": "2023-03-15T18:40:29.508Z"
   },
   {
    "duration": 0,
    "start_time": "2023-03-15T18:40:29.509Z"
   },
   {
    "duration": 0,
    "start_time": "2023-03-15T18:40:29.511Z"
   },
   {
    "duration": 0,
    "start_time": "2023-03-15T18:40:29.512Z"
   },
   {
    "duration": 1306,
    "start_time": "2023-03-15T18:41:09.270Z"
   },
   {
    "duration": 12,
    "start_time": "2023-03-15T18:41:10.578Z"
   },
   {
    "duration": 224,
    "start_time": "2023-03-15T18:41:10.592Z"
   },
   {
    "duration": 1133,
    "start_time": "2023-03-15T18:41:10.818Z"
   },
   {
    "duration": 59,
    "start_time": "2023-03-15T18:41:11.953Z"
   },
   {
    "duration": 35,
    "start_time": "2023-03-15T18:41:12.013Z"
   },
   {
    "duration": 114,
    "start_time": "2023-03-15T18:41:12.050Z"
   },
   {
    "duration": 114,
    "start_time": "2023-03-15T18:41:12.166Z"
   },
   {
    "duration": 143,
    "start_time": "2023-03-15T18:41:12.282Z"
   },
   {
    "duration": 43,
    "start_time": "2023-03-15T18:41:12.427Z"
   },
   {
    "duration": 1161,
    "start_time": "2023-03-15T18:41:12.487Z"
   },
   {
    "duration": 108,
    "start_time": "2023-03-15T18:41:13.650Z"
   },
   {
    "duration": 403,
    "start_time": "2023-03-15T18:41:13.761Z"
   },
   {
    "duration": 92,
    "start_time": "2023-03-15T18:41:14.167Z"
   },
   {
    "duration": 276,
    "start_time": "2023-03-15T18:41:14.260Z"
   },
   {
    "duration": 276,
    "start_time": "2023-03-15T18:41:14.537Z"
   },
   {
    "duration": 187,
    "start_time": "2023-03-15T18:41:14.815Z"
   },
   {
    "duration": 15,
    "start_time": "2023-03-15T18:41:15.005Z"
   },
   {
    "duration": 87,
    "start_time": "2023-03-15T18:41:15.022Z"
   },
   {
    "duration": 681,
    "start_time": "2023-03-15T18:41:15.111Z"
   },
   {
    "duration": 71,
    "start_time": "2023-03-15T18:41:15.794Z"
   },
   {
    "duration": 281,
    "start_time": "2023-03-15T18:41:15.868Z"
   },
   {
    "duration": 158,
    "start_time": "2023-03-15T18:41:16.150Z"
   },
   {
    "duration": 0,
    "start_time": "2023-03-15T18:41:16.309Z"
   },
   {
    "duration": 0,
    "start_time": "2023-03-15T18:41:16.311Z"
   },
   {
    "duration": 0,
    "start_time": "2023-03-15T18:41:16.312Z"
   },
   {
    "duration": 0,
    "start_time": "2023-03-15T18:41:16.313Z"
   },
   {
    "duration": 0,
    "start_time": "2023-03-15T18:41:16.315Z"
   },
   {
    "duration": 0,
    "start_time": "2023-03-15T18:41:16.315Z"
   },
   {
    "duration": 0,
    "start_time": "2023-03-15T18:41:16.317Z"
   },
   {
    "duration": 0,
    "start_time": "2023-03-15T18:41:16.317Z"
   },
   {
    "duration": 0,
    "start_time": "2023-03-15T18:41:16.319Z"
   },
   {
    "duration": 0,
    "start_time": "2023-03-15T18:41:16.320Z"
   },
   {
    "duration": 1,
    "start_time": "2023-03-15T18:41:16.320Z"
   },
   {
    "duration": 0,
    "start_time": "2023-03-15T18:41:16.322Z"
   },
   {
    "duration": 0,
    "start_time": "2023-03-15T18:41:16.323Z"
   },
   {
    "duration": 0,
    "start_time": "2023-03-15T18:41:16.324Z"
   },
   {
    "duration": 0,
    "start_time": "2023-03-15T18:41:16.325Z"
   },
   {
    "duration": 0,
    "start_time": "2023-03-15T18:41:16.326Z"
   },
   {
    "duration": 0,
    "start_time": "2023-03-15T18:41:16.327Z"
   },
   {
    "duration": 0,
    "start_time": "2023-03-15T18:41:16.328Z"
   },
   {
    "duration": 0,
    "start_time": "2023-03-15T18:41:16.329Z"
   },
   {
    "duration": 0,
    "start_time": "2023-03-15T18:41:16.330Z"
   },
   {
    "duration": 0,
    "start_time": "2023-03-15T18:41:16.331Z"
   },
   {
    "duration": 0,
    "start_time": "2023-03-15T18:41:16.333Z"
   },
   {
    "duration": 0,
    "start_time": "2023-03-15T18:41:16.334Z"
   },
   {
    "duration": 0,
    "start_time": "2023-03-15T18:41:16.334Z"
   },
   {
    "duration": 0,
    "start_time": "2023-03-15T18:41:16.336Z"
   },
   {
    "duration": 3,
    "start_time": "2023-03-15T18:43:26.573Z"
   },
   {
    "duration": 1199,
    "start_time": "2023-03-15T18:43:33.414Z"
   },
   {
    "duration": 10,
    "start_time": "2023-03-15T18:43:34.615Z"
   },
   {
    "duration": 213,
    "start_time": "2023-03-15T18:43:34.627Z"
   },
   {
    "duration": 1174,
    "start_time": "2023-03-15T18:43:34.843Z"
   },
   {
    "duration": 48,
    "start_time": "2023-03-15T18:43:36.019Z"
   },
   {
    "duration": 59,
    "start_time": "2023-03-15T18:43:36.069Z"
   },
   {
    "duration": 121,
    "start_time": "2023-03-15T18:43:36.129Z"
   },
   {
    "duration": 116,
    "start_time": "2023-03-15T18:43:36.251Z"
   },
   {
    "duration": 156,
    "start_time": "2023-03-15T18:43:36.369Z"
   },
   {
    "duration": 73,
    "start_time": "2023-03-15T18:43:36.529Z"
   },
   {
    "duration": 1125,
    "start_time": "2023-03-15T18:43:36.605Z"
   },
   {
    "duration": 112,
    "start_time": "2023-03-15T18:43:37.732Z"
   },
   {
    "duration": 331,
    "start_time": "2023-03-15T18:43:37.845Z"
   },
   {
    "duration": 80,
    "start_time": "2023-03-15T18:43:38.177Z"
   },
   {
    "duration": 451,
    "start_time": "2023-03-15T18:43:38.259Z"
   },
   {
    "duration": 695,
    "start_time": "2023-03-15T18:43:38.712Z"
   },
   {
    "duration": 419,
    "start_time": "2023-03-15T18:43:39.410Z"
   },
   {
    "duration": 67,
    "start_time": "2023-03-15T18:43:39.831Z"
   },
   {
    "duration": 95,
    "start_time": "2023-03-15T18:43:39.900Z"
   },
   {
    "duration": 982,
    "start_time": "2023-03-15T18:43:39.997Z"
   },
   {
    "duration": 68,
    "start_time": "2023-03-15T18:43:40.987Z"
   },
   {
    "duration": 266,
    "start_time": "2023-03-15T18:43:41.056Z"
   },
   {
    "duration": 23,
    "start_time": "2023-03-15T18:43:41.324Z"
   },
   {
    "duration": 54,
    "start_time": "2023-03-15T18:43:41.349Z"
   },
   {
    "duration": 19,
    "start_time": "2023-03-15T18:43:41.406Z"
   },
   {
    "duration": 17,
    "start_time": "2023-03-15T18:43:41.426Z"
   },
   {
    "duration": 58,
    "start_time": "2023-03-15T18:43:41.490Z"
   },
   {
    "duration": 94,
    "start_time": "2023-03-15T18:43:41.552Z"
   },
   {
    "duration": 63,
    "start_time": "2023-03-15T18:43:41.647Z"
   },
   {
    "duration": 10,
    "start_time": "2023-03-15T18:43:41.712Z"
   },
   {
    "duration": 9,
    "start_time": "2023-03-15T18:43:41.723Z"
   },
   {
    "duration": 13,
    "start_time": "2023-03-15T18:43:41.734Z"
   },
   {
    "duration": 13,
    "start_time": "2023-03-15T18:43:41.748Z"
   },
   {
    "duration": 161,
    "start_time": "2023-03-15T18:43:41.763Z"
   },
   {
    "duration": 0,
    "start_time": "2023-03-15T18:43:41.926Z"
   },
   {
    "duration": 0,
    "start_time": "2023-03-15T18:43:41.927Z"
   },
   {
    "duration": 0,
    "start_time": "2023-03-15T18:43:41.929Z"
   },
   {
    "duration": 0,
    "start_time": "2023-03-15T18:43:41.930Z"
   },
   {
    "duration": 0,
    "start_time": "2023-03-15T18:43:41.931Z"
   },
   {
    "duration": 0,
    "start_time": "2023-03-15T18:43:41.933Z"
   },
   {
    "duration": 0,
    "start_time": "2023-03-15T18:43:41.934Z"
   },
   {
    "duration": 0,
    "start_time": "2023-03-15T18:43:41.935Z"
   },
   {
    "duration": 0,
    "start_time": "2023-03-15T18:43:41.937Z"
   },
   {
    "duration": 0,
    "start_time": "2023-03-15T18:43:41.938Z"
   },
   {
    "duration": 0,
    "start_time": "2023-03-15T18:43:41.940Z"
   },
   {
    "duration": 0,
    "start_time": "2023-03-15T18:43:41.941Z"
   },
   {
    "duration": 0,
    "start_time": "2023-03-15T18:43:41.943Z"
   },
   {
    "duration": 0,
    "start_time": "2023-03-15T18:43:41.944Z"
   },
   {
    "duration": 66,
    "start_time": "2023-03-15T18:45:42.488Z"
   },
   {
    "duration": 1308,
    "start_time": "2023-03-15T18:45:53.126Z"
   },
   {
    "duration": 10,
    "start_time": "2023-03-15T18:45:54.436Z"
   },
   {
    "duration": 223,
    "start_time": "2023-03-15T18:45:54.448Z"
   },
   {
    "duration": 1185,
    "start_time": "2023-03-15T18:45:54.673Z"
   },
   {
    "duration": 83,
    "start_time": "2023-03-15T18:45:55.861Z"
   },
   {
    "duration": 68,
    "start_time": "2023-03-15T18:45:55.947Z"
   },
   {
    "duration": 124,
    "start_time": "2023-03-15T18:45:56.017Z"
   },
   {
    "duration": 118,
    "start_time": "2023-03-15T18:45:56.143Z"
   },
   {
    "duration": 160,
    "start_time": "2023-03-15T18:45:56.262Z"
   },
   {
    "duration": 71,
    "start_time": "2023-03-15T18:45:56.424Z"
   },
   {
    "duration": 2031,
    "start_time": "2023-03-15T18:45:56.497Z"
   },
   {
    "duration": 261,
    "start_time": "2023-03-15T18:45:58.530Z"
   },
   {
    "duration": 483,
    "start_time": "2023-03-15T18:45:58.793Z"
   },
   {
    "duration": 124,
    "start_time": "2023-03-15T18:45:59.287Z"
   },
   {
    "duration": 298,
    "start_time": "2023-03-15T18:45:59.413Z"
   },
   {
    "duration": 316,
    "start_time": "2023-03-15T18:45:59.714Z"
   },
   {
    "duration": 201,
    "start_time": "2023-03-15T18:46:00.033Z"
   },
   {
    "duration": 23,
    "start_time": "2023-03-15T18:46:00.236Z"
   },
   {
    "duration": 23,
    "start_time": "2023-03-15T18:46:00.288Z"
   },
   {
    "duration": 135,
    "start_time": "2023-03-15T18:46:00.314Z"
   },
   {
    "duration": 640,
    "start_time": "2023-03-15T18:46:00.451Z"
   },
   {
    "duration": 68,
    "start_time": "2023-03-15T18:46:01.093Z"
   },
   {
    "duration": 357,
    "start_time": "2023-03-15T18:46:01.164Z"
   },
   {
    "duration": 29,
    "start_time": "2023-03-15T18:46:01.523Z"
   },
   {
    "duration": 83,
    "start_time": "2023-03-15T18:46:01.554Z"
   },
   {
    "duration": 54,
    "start_time": "2023-03-15T18:46:01.639Z"
   },
   {
    "duration": 64,
    "start_time": "2023-03-15T18:46:01.699Z"
   },
   {
    "duration": 132,
    "start_time": "2023-03-15T18:46:01.765Z"
   },
   {
    "duration": 107,
    "start_time": "2023-03-15T18:46:01.905Z"
   },
   {
    "duration": 83,
    "start_time": "2023-03-15T18:46:02.014Z"
   },
   {
    "duration": 20,
    "start_time": "2023-03-15T18:46:02.103Z"
   },
   {
    "duration": 16,
    "start_time": "2023-03-15T18:46:02.125Z"
   },
   {
    "duration": 28,
    "start_time": "2023-03-15T18:46:02.144Z"
   },
   {
    "duration": 31,
    "start_time": "2023-03-15T18:46:02.174Z"
   },
   {
    "duration": 165,
    "start_time": "2023-03-15T18:46:02.207Z"
   },
   {
    "duration": 0,
    "start_time": "2023-03-15T18:46:02.374Z"
   },
   {
    "duration": 0,
    "start_time": "2023-03-15T18:46:02.376Z"
   },
   {
    "duration": 0,
    "start_time": "2023-03-15T18:46:02.376Z"
   },
   {
    "duration": 0,
    "start_time": "2023-03-15T18:46:02.378Z"
   },
   {
    "duration": 0,
    "start_time": "2023-03-15T18:46:02.379Z"
   },
   {
    "duration": 0,
    "start_time": "2023-03-15T18:46:02.380Z"
   },
   {
    "duration": 0,
    "start_time": "2023-03-15T18:46:02.387Z"
   },
   {
    "duration": 0,
    "start_time": "2023-03-15T18:46:02.388Z"
   },
   {
    "duration": 0,
    "start_time": "2023-03-15T18:46:02.389Z"
   },
   {
    "duration": 0,
    "start_time": "2023-03-15T18:46:02.390Z"
   },
   {
    "duration": 0,
    "start_time": "2023-03-15T18:46:02.390Z"
   },
   {
    "duration": 0,
    "start_time": "2023-03-15T18:46:02.392Z"
   },
   {
    "duration": 0,
    "start_time": "2023-03-15T18:46:02.394Z"
   },
   {
    "duration": 0,
    "start_time": "2023-03-15T18:46:02.395Z"
   },
   {
    "duration": 13,
    "start_time": "2023-03-15T18:47:18.873Z"
   },
   {
    "duration": 10,
    "start_time": "2023-03-15T18:49:03.601Z"
   },
   {
    "duration": 1217,
    "start_time": "2023-03-15T18:49:10.550Z"
   },
   {
    "duration": 9,
    "start_time": "2023-03-15T18:49:11.768Z"
   },
   {
    "duration": 224,
    "start_time": "2023-03-15T18:49:11.779Z"
   },
   {
    "duration": 1106,
    "start_time": "2023-03-15T18:49:12.006Z"
   },
   {
    "duration": 52,
    "start_time": "2023-03-15T18:49:13.115Z"
   },
   {
    "duration": 59,
    "start_time": "2023-03-15T18:49:13.169Z"
   },
   {
    "duration": 116,
    "start_time": "2023-03-15T18:49:13.230Z"
   },
   {
    "duration": 117,
    "start_time": "2023-03-15T18:49:13.347Z"
   },
   {
    "duration": 155,
    "start_time": "2023-03-15T18:49:13.465Z"
   },
   {
    "duration": 73,
    "start_time": "2023-03-15T18:49:13.623Z"
   },
   {
    "duration": 1074,
    "start_time": "2023-03-15T18:49:13.699Z"
   },
   {
    "duration": 115,
    "start_time": "2023-03-15T18:49:14.775Z"
   },
   {
    "duration": 356,
    "start_time": "2023-03-15T18:49:14.895Z"
   },
   {
    "duration": 80,
    "start_time": "2023-03-15T18:49:15.253Z"
   },
   {
    "duration": 262,
    "start_time": "2023-03-15T18:49:15.335Z"
   },
   {
    "duration": 250,
    "start_time": "2023-03-15T18:49:15.600Z"
   },
   {
    "duration": 180,
    "start_time": "2023-03-15T18:49:15.852Z"
   },
   {
    "duration": 16,
    "start_time": "2023-03-15T18:49:16.034Z"
   },
   {
    "duration": 3,
    "start_time": "2023-03-15T18:49:16.052Z"
   },
   {
    "duration": 143,
    "start_time": "2023-03-15T18:49:16.057Z"
   },
   {
    "duration": 574,
    "start_time": "2023-03-15T18:49:16.205Z"
   },
   {
    "duration": 60,
    "start_time": "2023-03-15T18:49:16.781Z"
   },
   {
    "duration": 278,
    "start_time": "2023-03-15T18:49:16.843Z"
   },
   {
    "duration": 18,
    "start_time": "2023-03-15T18:49:17.123Z"
   },
   {
    "duration": 59,
    "start_time": "2023-03-15T18:49:17.143Z"
   },
   {
    "duration": 17,
    "start_time": "2023-03-15T18:49:17.205Z"
   },
   {
    "duration": 16,
    "start_time": "2023-03-15T18:49:17.223Z"
   },
   {
    "duration": 55,
    "start_time": "2023-03-15T18:49:17.293Z"
   },
   {
    "duration": 105,
    "start_time": "2023-03-15T18:49:17.350Z"
   },
   {
    "duration": 56,
    "start_time": "2023-03-15T18:49:17.457Z"
   },
   {
    "duration": 10,
    "start_time": "2023-03-15T18:49:17.514Z"
   },
   {
    "duration": 6,
    "start_time": "2023-03-15T18:49:17.525Z"
   },
   {
    "duration": 15,
    "start_time": "2023-03-15T18:49:17.532Z"
   },
   {
    "duration": 9,
    "start_time": "2023-03-15T18:49:17.548Z"
   },
   {
    "duration": 157,
    "start_time": "2023-03-15T18:49:17.559Z"
   },
   {
    "duration": 0,
    "start_time": "2023-03-15T18:49:17.717Z"
   },
   {
    "duration": 0,
    "start_time": "2023-03-15T18:49:17.719Z"
   },
   {
    "duration": 0,
    "start_time": "2023-03-15T18:49:17.720Z"
   },
   {
    "duration": 0,
    "start_time": "2023-03-15T18:49:17.721Z"
   },
   {
    "duration": 0,
    "start_time": "2023-03-15T18:49:17.722Z"
   },
   {
    "duration": 0,
    "start_time": "2023-03-15T18:49:17.723Z"
   },
   {
    "duration": 0,
    "start_time": "2023-03-15T18:49:17.724Z"
   },
   {
    "duration": 0,
    "start_time": "2023-03-15T18:49:17.726Z"
   },
   {
    "duration": 0,
    "start_time": "2023-03-15T18:49:17.727Z"
   },
   {
    "duration": 0,
    "start_time": "2023-03-15T18:49:17.729Z"
   },
   {
    "duration": 0,
    "start_time": "2023-03-15T18:49:17.730Z"
   },
   {
    "duration": 0,
    "start_time": "2023-03-15T18:49:17.731Z"
   },
   {
    "duration": 0,
    "start_time": "2023-03-15T18:49:17.732Z"
   },
   {
    "duration": 0,
    "start_time": "2023-03-15T18:49:17.733Z"
   }
  ],
  "kernelspec": {
   "display_name": "Python 3 (ipykernel)",
   "language": "python",
   "name": "python3"
  },
  "language_info": {
   "codemirror_mode": {
    "name": "ipython",
    "version": 3
   },
   "file_extension": ".py",
   "mimetype": "text/x-python",
   "name": "python",
   "nbconvert_exporter": "python",
   "pygments_lexer": "ipython3",
   "version": "3.9.13"
  },
  "toc": {
   "base_numbering": 1,
   "nav_menu": {},
   "number_sections": true,
   "sideBar": true,
   "skip_h1_title": true,
   "title_cell": "Table of Contents",
   "title_sidebar": "Contents",
   "toc_cell": false,
   "toc_position": {},
   "toc_section_display": true,
   "toc_window_display": true
  }
 },
 "nbformat": 4,
 "nbformat_minor": 2
}
