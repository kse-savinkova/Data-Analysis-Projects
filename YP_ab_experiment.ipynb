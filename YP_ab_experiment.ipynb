{
 "cells": [
  {
   "cell_type": "markdown",
   "metadata": {},
   "source": [
    "# Анализ результатов А/В теста"
   ]
  },
  {
   "cell_type": "markdown",
   "metadata": {},
   "source": [
    "**Цель исследования** — оценить корректность проведения А/В-теста, изучить платежную воронку, проанализировать результаты А/В-теста. \n",
    "\n",
    "**Техническое задание:**\n",
    "- Название теста: `recommender_system_test`;\n",
    "- группы: А — контрольная, B — новая платёжная воронка;\n",
    "- дата запуска: 2020-12-07;\n",
    "- дата остановки набора новых пользователей: 2020-12-21;\n",
    "- дата остановки: 2021-01-04;\n",
    "- аудитория: в тест должно быть отобрано 15% новых пользователей из региона EU;\n",
    "- назначение теста: тестирование изменений, связанных с внедрением улучшенной рекомендательной системы;\n",
    "- ожидаемое количество участников теста: 6000.\n",
    "- ожидаемый эффект: за 14 дней с момента регистрации пользователи покажут улучшение каждой метрики не менее, чем на 10%:\n",
    "    - конверсии в просмотр карточек товаров — событие `product_page`,\n",
    "    - просмотры корзины — `product_cart`,\n",
    "    - покупки — `purchase`.\n",
    "    \n",
    "**Ход исследования:**\n",
    "1. Изучение общей информации. Предобработка данных:\n",
    "    - проверить типы данных\n",
    "    - проверить наличие пропусков и дубликатов\n",
    "2. Изучение и проверка данных\n",
    "    - проверить данные на соответствие ТЗ\n",
    "    - проверка распределяющей системы тестирования\n",
    "3. Исследовательский анализ данных\n",
    "    - оценить количество событий на группы эксперимента\n",
    "    - оценить частоту событий\n",
    "    - построить воронку событий\n",
    "    - проверка распределяющей системы тестирования\n",
    "4. Изучение результаты АВ-эксперимента\n",
    "    - проверка статистических гипотез\n",
    "5. Результаты исследования"
   ]
  },
  {
   "cell_type": "markdown",
   "metadata": {},
   "source": [
    "## Обзор и предобработка данных"
   ]
  },
  {
   "cell_type": "markdown",
   "metadata": {},
   "source": [
    "Изучим данные и выполним их предобработку: при необходимости приведем наименования столбцов к единому стилю, проверим соответствие типов данных сохранённым в них значениям, проверим наличие в данных пропусков и дубликатов."
   ]
  },
  {
   "cell_type": "markdown",
   "metadata": {},
   "source": [
    "### Обзор данных"
   ]
  },
  {
   "cell_type": "markdown",
   "metadata": {},
   "source": [
    "Импортируем библиотеки необходимые нам в решении задач исследования."
   ]
  },
  {
   "cell_type": "code",
   "execution_count": 1,
   "metadata": {},
   "outputs": [],
   "source": [
    "import pandas as pd\n",
    "import datetime as dt\n",
    "import numpy as np\n",
    "import matplotlib.pyplot as plt\n",
    "from pandas.plotting import register_matplotlib_converters\n",
    "import warnings\n",
    "import scipy.stats as st\n",
    "from plotly import graph_objects as go\n",
    "import plotly.express as px\n",
    "from plotly.subplots import make_subplots\n",
    "import math as mth\n",
    "\n",
    "\n",
    "# конвертеры, которые позволяют использовать типы pandas в matplotlib  \n",
    "register_matplotlib_converters()"
   ]
  },
  {
   "cell_type": "code",
   "execution_count": 2,
   "metadata": {},
   "outputs": [],
   "source": [
    "#улучшим четкость изображения графиков\n",
    "%config InlineBackend.figure_format = 'retina'"
   ]
  },
  {
   "cell_type": "code",
   "execution_count": 3,
   "metadata": {},
   "outputs": [],
   "source": [
    "import plotly.io as pio\n",
    "pio.renderers.default = 'png'\n",
    "svg_renderer = pio.renderers['png']\n",
    "svg_renderer.scale = 1.2"
   ]
  },
  {
   "cell_type": "markdown",
   "metadata": {},
   "source": [
    "Ознакомимся с данными:"
   ]
  },
  {
   "cell_type": "code",
   "execution_count": 4,
   "metadata": {},
   "outputs": [
    {
     "name": "stdout",
     "output_type": "stream",
     "text": [
      "Первые 5 строк датасета:\n"
     ]
    },
    {
     "data": {
      "text/html": [
       "<div>\n",
       "<style scoped>\n",
       "    .dataframe tbody tr th:only-of-type {\n",
       "        vertical-align: middle;\n",
       "    }\n",
       "\n",
       "    .dataframe tbody tr th {\n",
       "        vertical-align: top;\n",
       "    }\n",
       "\n",
       "    .dataframe thead th {\n",
       "        text-align: right;\n",
       "    }\n",
       "</style>\n",
       "<table border=\"1\" class=\"dataframe\">\n",
       "  <thead>\n",
       "    <tr style=\"text-align: right;\">\n",
       "      <th></th>\n",
       "      <th>user_id</th>\n",
       "      <th>group</th>\n",
       "      <th>ab_test</th>\n",
       "    </tr>\n",
       "  </thead>\n",
       "  <tbody>\n",
       "    <tr>\n",
       "      <th>0</th>\n",
       "      <td>D1ABA3E2887B6A73</td>\n",
       "      <td>A</td>\n",
       "      <td>recommender_system_test</td>\n",
       "    </tr>\n",
       "    <tr>\n",
       "      <th>1</th>\n",
       "      <td>A7A3664BD6242119</td>\n",
       "      <td>A</td>\n",
       "      <td>recommender_system_test</td>\n",
       "    </tr>\n",
       "    <tr>\n",
       "      <th>2</th>\n",
       "      <td>DABC14FDDFADD29E</td>\n",
       "      <td>A</td>\n",
       "      <td>recommender_system_test</td>\n",
       "    </tr>\n",
       "    <tr>\n",
       "      <th>3</th>\n",
       "      <td>04988C5DF189632E</td>\n",
       "      <td>A</td>\n",
       "      <td>recommender_system_test</td>\n",
       "    </tr>\n",
       "    <tr>\n",
       "      <th>4</th>\n",
       "      <td>482F14783456D21B</td>\n",
       "      <td>B</td>\n",
       "      <td>recommender_system_test</td>\n",
       "    </tr>\n",
       "  </tbody>\n",
       "</table>\n",
       "</div>"
      ],
      "text/plain": [
       "            user_id group                  ab_test\n",
       "0  D1ABA3E2887B6A73     A  recommender_system_test\n",
       "1  A7A3664BD6242119     A  recommender_system_test\n",
       "2  DABC14FDDFADD29E     A  recommender_system_test\n",
       "3  04988C5DF189632E     A  recommender_system_test\n",
       "4  482F14783456D21B     B  recommender_system_test"
      ]
     },
     "metadata": {},
     "output_type": "display_data"
    },
    {
     "name": "stdout",
     "output_type": "stream",
     "text": [
      "Информация о хранящихся в нем данных:\n",
      "<class 'pandas.core.frame.DataFrame'>\n",
      "RangeIndex: 18268 entries, 0 to 18267\n",
      "Data columns (total 3 columns):\n",
      " #   Column   Non-Null Count  Dtype \n",
      "---  ------   --------------  ----- \n",
      " 0   user_id  18268 non-null  object\n",
      " 1   group    18268 non-null  object\n",
      " 2   ab_test  18268 non-null  object\n",
      "dtypes: object(3)\n",
      "memory usage: 428.3+ KB\n"
     ]
    }
   ],
   "source": [
    "final_ab_participants = pd.read_csv('final_ab_participants.csv')\n",
    "\n",
    "print('Первые 5 строк датасета:')\n",
    "display(final_ab_participants.head())\n",
    "print('Информация о хранящихся в нем данных:')\n",
    "final_ab_participants.info()"
   ]
  },
  {
   "cell_type": "markdown",
   "metadata": {},
   "source": [
    "Согласно документации к данным `final_ab_participants.csv` — таблица участников тестов.\n",
    "\n",
    "Структура файла:\n",
    "\n",
    "- `user_id` — идентификатор пользователя;\n",
    "- `ab_test` — название теста;\n",
    "- `group` — группа пользователя."
   ]
  },
  {
   "cell_type": "code",
   "execution_count": 5,
   "metadata": {},
   "outputs": [
    {
     "name": "stdout",
     "output_type": "stream",
     "text": [
      "Первые 5 строк датасета:\n"
     ]
    },
    {
     "data": {
      "text/html": [
       "<div>\n",
       "<style scoped>\n",
       "    .dataframe tbody tr th:only-of-type {\n",
       "        vertical-align: middle;\n",
       "    }\n",
       "\n",
       "    .dataframe tbody tr th {\n",
       "        vertical-align: top;\n",
       "    }\n",
       "\n",
       "    .dataframe thead th {\n",
       "        text-align: right;\n",
       "    }\n",
       "</style>\n",
       "<table border=\"1\" class=\"dataframe\">\n",
       "  <thead>\n",
       "    <tr style=\"text-align: right;\">\n",
       "      <th></th>\n",
       "      <th>name</th>\n",
       "      <th>regions</th>\n",
       "      <th>start_dt</th>\n",
       "      <th>finish_dt</th>\n",
       "    </tr>\n",
       "  </thead>\n",
       "  <tbody>\n",
       "    <tr>\n",
       "      <th>0</th>\n",
       "      <td>Christmas&amp;New Year Promo</td>\n",
       "      <td>EU, N.America</td>\n",
       "      <td>2020-12-25</td>\n",
       "      <td>2021-01-03</td>\n",
       "    </tr>\n",
       "    <tr>\n",
       "      <th>1</th>\n",
       "      <td>St. Valentine's Day Giveaway</td>\n",
       "      <td>EU, CIS, APAC, N.America</td>\n",
       "      <td>2020-02-14</td>\n",
       "      <td>2020-02-16</td>\n",
       "    </tr>\n",
       "    <tr>\n",
       "      <th>2</th>\n",
       "      <td>St. Patric's Day Promo</td>\n",
       "      <td>EU, N.America</td>\n",
       "      <td>2020-03-17</td>\n",
       "      <td>2020-03-19</td>\n",
       "    </tr>\n",
       "    <tr>\n",
       "      <th>3</th>\n",
       "      <td>Easter Promo</td>\n",
       "      <td>EU, CIS, APAC, N.America</td>\n",
       "      <td>2020-04-12</td>\n",
       "      <td>2020-04-19</td>\n",
       "    </tr>\n",
       "    <tr>\n",
       "      <th>4</th>\n",
       "      <td>4th of July Promo</td>\n",
       "      <td>N.America</td>\n",
       "      <td>2020-07-04</td>\n",
       "      <td>2020-07-11</td>\n",
       "    </tr>\n",
       "  </tbody>\n",
       "</table>\n",
       "</div>"
      ],
      "text/plain": [
       "                           name                   regions    start_dt  \\\n",
       "0      Christmas&New Year Promo             EU, N.America  2020-12-25   \n",
       "1  St. Valentine's Day Giveaway  EU, CIS, APAC, N.America  2020-02-14   \n",
       "2        St. Patric's Day Promo             EU, N.America  2020-03-17   \n",
       "3                  Easter Promo  EU, CIS, APAC, N.America  2020-04-12   \n",
       "4             4th of July Promo                 N.America  2020-07-04   \n",
       "\n",
       "    finish_dt  \n",
       "0  2021-01-03  \n",
       "1  2020-02-16  \n",
       "2  2020-03-19  \n",
       "3  2020-04-19  \n",
       "4  2020-07-11  "
      ]
     },
     "metadata": {},
     "output_type": "display_data"
    },
    {
     "name": "stdout",
     "output_type": "stream",
     "text": [
      "Информация о хранящихся в нем данных:\n",
      "<class 'pandas.core.frame.DataFrame'>\n",
      "RangeIndex: 14 entries, 0 to 13\n",
      "Data columns (total 4 columns):\n",
      " #   Column     Non-Null Count  Dtype \n",
      "---  ------     --------------  ----- \n",
      " 0   name       14 non-null     object\n",
      " 1   regions    14 non-null     object\n",
      " 2   start_dt   14 non-null     object\n",
      " 3   finish_dt  14 non-null     object\n",
      "dtypes: object(4)\n",
      "memory usage: 576.0+ bytes\n"
     ]
    }
   ],
   "source": [
    "ab_project_marketing_events = pd.read_csv('ab_project_marketing_events.csv')\n",
    "\n",
    "print('Первые 5 строк датасета:')\n",
    "display(ab_project_marketing_events.head())\n",
    "print('Информация о хранящихся в нем данных:')\n",
    "ab_project_marketing_events.info()"
   ]
  },
  {
   "cell_type": "markdown",
   "metadata": {},
   "source": [
    "`ab_project_marketing_events.csv` — календарь маркетинговых событий на 2020 год.\n",
    "\n",
    "Структура файла:\n",
    "\n",
    "- `name` — название маркетингового события;\n",
    "- `regions` — регионы, в которых будет проводиться рекламная кампания;\n",
    "- `start_dt` — дата начала кампании;\n",
    "- `finish_dt` — дата завершения кампании."
   ]
  },
  {
   "cell_type": "code",
   "execution_count": 6,
   "metadata": {},
   "outputs": [
    {
     "name": "stdout",
     "output_type": "stream",
     "text": [
      "Первые 5 строк датасета:\n"
     ]
    },
    {
     "data": {
      "text/html": [
       "<div>\n",
       "<style scoped>\n",
       "    .dataframe tbody tr th:only-of-type {\n",
       "        vertical-align: middle;\n",
       "    }\n",
       "\n",
       "    .dataframe tbody tr th {\n",
       "        vertical-align: top;\n",
       "    }\n",
       "\n",
       "    .dataframe thead th {\n",
       "        text-align: right;\n",
       "    }\n",
       "</style>\n",
       "<table border=\"1\" class=\"dataframe\">\n",
       "  <thead>\n",
       "    <tr style=\"text-align: right;\">\n",
       "      <th></th>\n",
       "      <th>user_id</th>\n",
       "      <th>first_date</th>\n",
       "      <th>region</th>\n",
       "      <th>device</th>\n",
       "    </tr>\n",
       "  </thead>\n",
       "  <tbody>\n",
       "    <tr>\n",
       "      <th>0</th>\n",
       "      <td>D72A72121175D8BE</td>\n",
       "      <td>2020-12-07</td>\n",
       "      <td>EU</td>\n",
       "      <td>PC</td>\n",
       "    </tr>\n",
       "    <tr>\n",
       "      <th>1</th>\n",
       "      <td>F1C668619DFE6E65</td>\n",
       "      <td>2020-12-07</td>\n",
       "      <td>N.America</td>\n",
       "      <td>Android</td>\n",
       "    </tr>\n",
       "    <tr>\n",
       "      <th>2</th>\n",
       "      <td>2E1BF1D4C37EA01F</td>\n",
       "      <td>2020-12-07</td>\n",
       "      <td>EU</td>\n",
       "      <td>PC</td>\n",
       "    </tr>\n",
       "    <tr>\n",
       "      <th>3</th>\n",
       "      <td>50734A22C0C63768</td>\n",
       "      <td>2020-12-07</td>\n",
       "      <td>EU</td>\n",
       "      <td>iPhone</td>\n",
       "    </tr>\n",
       "    <tr>\n",
       "      <th>4</th>\n",
       "      <td>E1BDDCE0DAFA2679</td>\n",
       "      <td>2020-12-07</td>\n",
       "      <td>N.America</td>\n",
       "      <td>iPhone</td>\n",
       "    </tr>\n",
       "  </tbody>\n",
       "</table>\n",
       "</div>"
      ],
      "text/plain": [
       "            user_id  first_date     region   device\n",
       "0  D72A72121175D8BE  2020-12-07         EU       PC\n",
       "1  F1C668619DFE6E65  2020-12-07  N.America  Android\n",
       "2  2E1BF1D4C37EA01F  2020-12-07         EU       PC\n",
       "3  50734A22C0C63768  2020-12-07         EU   iPhone\n",
       "4  E1BDDCE0DAFA2679  2020-12-07  N.America   iPhone"
      ]
     },
     "metadata": {},
     "output_type": "display_data"
    },
    {
     "name": "stdout",
     "output_type": "stream",
     "text": [
      "Информация о хранящихся в нем данных:\n",
      "<class 'pandas.core.frame.DataFrame'>\n",
      "RangeIndex: 61733 entries, 0 to 61732\n",
      "Data columns (total 4 columns):\n",
      " #   Column      Non-Null Count  Dtype \n",
      "---  ------      --------------  ----- \n",
      " 0   user_id     61733 non-null  object\n",
      " 1   first_date  61733 non-null  object\n",
      " 2   region      61733 non-null  object\n",
      " 3   device      61733 non-null  object\n",
      "dtypes: object(4)\n",
      "memory usage: 1.9+ MB\n"
     ]
    }
   ],
   "source": [
    "final_ab_new_users = pd.read_csv('final_ab_new_users.csv')\n",
    "\n",
    "print('Первые 5 строк датасета:')\n",
    "display(final_ab_new_users.head())\n",
    "print('Информация о хранящихся в нем данных:')\n",
    "final_ab_new_users.info()"
   ]
  },
  {
   "cell_type": "markdown",
   "metadata": {},
   "source": [
    "`final_ab_new_users.csv` — пользователи, зарегистрировавшиеся с 7 до 21 декабря 2020 года.\n",
    "\n",
    "Структура файла:\n",
    "\n",
    "- `user_id` — идентификатор пользователя;\n",
    "- `first_date` — дата регистрации;\n",
    "- `region` — регион пользователя;\n",
    "- `device` — устройство, с которого происходила регистрация."
   ]
  },
  {
   "cell_type": "code",
   "execution_count": 7,
   "metadata": {},
   "outputs": [
    {
     "name": "stdout",
     "output_type": "stream",
     "text": [
      "Первые 5 строк датасета:\n"
     ]
    },
    {
     "data": {
      "text/html": [
       "<div>\n",
       "<style scoped>\n",
       "    .dataframe tbody tr th:only-of-type {\n",
       "        vertical-align: middle;\n",
       "    }\n",
       "\n",
       "    .dataframe tbody tr th {\n",
       "        vertical-align: top;\n",
       "    }\n",
       "\n",
       "    .dataframe thead th {\n",
       "        text-align: right;\n",
       "    }\n",
       "</style>\n",
       "<table border=\"1\" class=\"dataframe\">\n",
       "  <thead>\n",
       "    <tr style=\"text-align: right;\">\n",
       "      <th></th>\n",
       "      <th>user_id</th>\n",
       "      <th>event_dt</th>\n",
       "      <th>event_name</th>\n",
       "      <th>details</th>\n",
       "    </tr>\n",
       "  </thead>\n",
       "  <tbody>\n",
       "    <tr>\n",
       "      <th>0</th>\n",
       "      <td>E1BDDCE0DAFA2679</td>\n",
       "      <td>2020-12-07 20:22:03</td>\n",
       "      <td>purchase</td>\n",
       "      <td>99.99</td>\n",
       "    </tr>\n",
       "    <tr>\n",
       "      <th>1</th>\n",
       "      <td>7B6452F081F49504</td>\n",
       "      <td>2020-12-07 09:22:53</td>\n",
       "      <td>purchase</td>\n",
       "      <td>9.99</td>\n",
       "    </tr>\n",
       "    <tr>\n",
       "      <th>2</th>\n",
       "      <td>9CD9F34546DF254C</td>\n",
       "      <td>2020-12-07 12:59:29</td>\n",
       "      <td>purchase</td>\n",
       "      <td>4.99</td>\n",
       "    </tr>\n",
       "    <tr>\n",
       "      <th>3</th>\n",
       "      <td>96F27A054B191457</td>\n",
       "      <td>2020-12-07 04:02:40</td>\n",
       "      <td>purchase</td>\n",
       "      <td>4.99</td>\n",
       "    </tr>\n",
       "    <tr>\n",
       "      <th>4</th>\n",
       "      <td>1FD7660FDF94CA1F</td>\n",
       "      <td>2020-12-07 10:15:09</td>\n",
       "      <td>purchase</td>\n",
       "      <td>4.99</td>\n",
       "    </tr>\n",
       "  </tbody>\n",
       "</table>\n",
       "</div>"
      ],
      "text/plain": [
       "            user_id             event_dt event_name  details\n",
       "0  E1BDDCE0DAFA2679  2020-12-07 20:22:03   purchase    99.99\n",
       "1  7B6452F081F49504  2020-12-07 09:22:53   purchase     9.99\n",
       "2  9CD9F34546DF254C  2020-12-07 12:59:29   purchase     4.99\n",
       "3  96F27A054B191457  2020-12-07 04:02:40   purchase     4.99\n",
       "4  1FD7660FDF94CA1F  2020-12-07 10:15:09   purchase     4.99"
      ]
     },
     "metadata": {},
     "output_type": "display_data"
    },
    {
     "name": "stdout",
     "output_type": "stream",
     "text": [
      "Информация о хранящихся в нем данных:\n",
      "<class 'pandas.core.frame.DataFrame'>\n",
      "RangeIndex: 440317 entries, 0 to 440316\n",
      "Data columns (total 4 columns):\n",
      " #   Column      Non-Null Count   Dtype  \n",
      "---  ------      --------------   -----  \n",
      " 0   user_id     440317 non-null  object \n",
      " 1   event_dt    440317 non-null  object \n",
      " 2   event_name  440317 non-null  object \n",
      " 3   details     62740 non-null   float64\n",
      "dtypes: float64(1), object(3)\n",
      "memory usage: 13.4+ MB\n"
     ]
    }
   ],
   "source": [
    "final_ab_events = pd.read_csv('final_ab_events.csv')\n",
    "\n",
    "print('Первые 5 строк датасета:')\n",
    "display(final_ab_events.head())\n",
    "print('Информация о хранящихся в нем данных:')\n",
    "final_ab_events.info()"
   ]
  },
  {
   "cell_type": "markdown",
   "metadata": {},
   "source": [
    "`final_ab_events.csv` — действия новых пользователей в период с 7 декабря 2020 по 4 января 2021 года.\n",
    "\n",
    "Структура файла:\n",
    "\n",
    "- `user_id` — идентификатор пользователя;\n",
    "- `event_dt` — дата и время события;\n",
    "- `event_name` — тип события;\n",
    "- `details` — дополнительные данные о событии. Например, для покупок, `purchase,` в этом поле хранится стоимость покупки в долларах."
   ]
  },
  {
   "cell_type": "markdown",
   "metadata": {},
   "source": [
    "По первому взгляду на датасет можно сделать следующие **выводы:**\n",
    "* типы данных не соответствуют сохраненным в них значениям: столбцы с датами определены как тип данных `object`\n",
    "* наименования столбцов удобны для дальнейшей работы и не требуют предобработки."
   ]
  },
  {
   "cell_type": "markdown",
   "metadata": {},
   "source": [
    "### Предобработка данных"
   ]
  },
  {
   "cell_type": "markdown",
   "metadata": {},
   "source": [
    "Преобразуем данные о времени, а также добавим столбец с датой, он пригодится нам для дальнейшего исследования:"
   ]
  },
  {
   "cell_type": "code",
   "execution_count": 8,
   "metadata": {},
   "outputs": [
    {
     "name": "stdout",
     "output_type": "stream",
     "text": [
      "<class 'pandas.core.frame.DataFrame'>\n",
      "RangeIndex: 14 entries, 0 to 13\n",
      "Data columns (total 4 columns):\n",
      " #   Column     Non-Null Count  Dtype         \n",
      "---  ------     --------------  -----         \n",
      " 0   name       14 non-null     object        \n",
      " 1   regions    14 non-null     object        \n",
      " 2   start_dt   14 non-null     datetime64[ns]\n",
      " 3   finish_dt  14 non-null     datetime64[ns]\n",
      "dtypes: datetime64[ns](2), object(2)\n",
      "memory usage: 576.0+ bytes\n"
     ]
    },
    {
     "data": {
      "text/plain": [
       "None"
      ]
     },
     "metadata": {},
     "output_type": "display_data"
    },
    {
     "name": "stdout",
     "output_type": "stream",
     "text": [
      "<class 'pandas.core.frame.DataFrame'>\n",
      "RangeIndex: 61733 entries, 0 to 61732\n",
      "Data columns (total 4 columns):\n",
      " #   Column      Non-Null Count  Dtype         \n",
      "---  ------      --------------  -----         \n",
      " 0   user_id     61733 non-null  object        \n",
      " 1   first_date  61733 non-null  datetime64[ns]\n",
      " 2   region      61733 non-null  object        \n",
      " 3   device      61733 non-null  object        \n",
      "dtypes: datetime64[ns](1), object(3)\n",
      "memory usage: 1.9+ MB\n"
     ]
    },
    {
     "data": {
      "text/plain": [
       "None"
      ]
     },
     "metadata": {},
     "output_type": "display_data"
    },
    {
     "name": "stdout",
     "output_type": "stream",
     "text": [
      "<class 'pandas.core.frame.DataFrame'>\n",
      "RangeIndex: 440317 entries, 0 to 440316\n",
      "Data columns (total 5 columns):\n",
      " #   Column      Non-Null Count   Dtype         \n",
      "---  ------      --------------   -----         \n",
      " 0   user_id     440317 non-null  object        \n",
      " 1   event_dt    440317 non-null  datetime64[ns]\n",
      " 2   event_name  440317 non-null  object        \n",
      " 3   details     62740 non-null   float64       \n",
      " 4   date        440317 non-null  object        \n",
      "dtypes: datetime64[ns](1), float64(1), object(3)\n",
      "memory usage: 16.8+ MB\n"
     ]
    },
    {
     "data": {
      "text/plain": [
       "None"
      ]
     },
     "metadata": {},
     "output_type": "display_data"
    },
    {
     "data": {
      "text/html": [
       "<div>\n",
       "<style scoped>\n",
       "    .dataframe tbody tr th:only-of-type {\n",
       "        vertical-align: middle;\n",
       "    }\n",
       "\n",
       "    .dataframe tbody tr th {\n",
       "        vertical-align: top;\n",
       "    }\n",
       "\n",
       "    .dataframe thead th {\n",
       "        text-align: right;\n",
       "    }\n",
       "</style>\n",
       "<table border=\"1\" class=\"dataframe\">\n",
       "  <thead>\n",
       "    <tr style=\"text-align: right;\">\n",
       "      <th></th>\n",
       "      <th>name</th>\n",
       "      <th>regions</th>\n",
       "      <th>start_dt</th>\n",
       "      <th>finish_dt</th>\n",
       "    </tr>\n",
       "  </thead>\n",
       "  <tbody>\n",
       "    <tr>\n",
       "      <th>0</th>\n",
       "      <td>Christmas&amp;New Year Promo</td>\n",
       "      <td>EU, N.America</td>\n",
       "      <td>2020-12-25</td>\n",
       "      <td>2021-01-03</td>\n",
       "    </tr>\n",
       "    <tr>\n",
       "      <th>1</th>\n",
       "      <td>St. Valentine's Day Giveaway</td>\n",
       "      <td>EU, CIS, APAC, N.America</td>\n",
       "      <td>2020-02-14</td>\n",
       "      <td>2020-02-16</td>\n",
       "    </tr>\n",
       "    <tr>\n",
       "      <th>2</th>\n",
       "      <td>St. Patric's Day Promo</td>\n",
       "      <td>EU, N.America</td>\n",
       "      <td>2020-03-17</td>\n",
       "      <td>2020-03-19</td>\n",
       "    </tr>\n",
       "    <tr>\n",
       "      <th>3</th>\n",
       "      <td>Easter Promo</td>\n",
       "      <td>EU, CIS, APAC, N.America</td>\n",
       "      <td>2020-04-12</td>\n",
       "      <td>2020-04-19</td>\n",
       "    </tr>\n",
       "    <tr>\n",
       "      <th>4</th>\n",
       "      <td>4th of July Promo</td>\n",
       "      <td>N.America</td>\n",
       "      <td>2020-07-04</td>\n",
       "      <td>2020-07-11</td>\n",
       "    </tr>\n",
       "  </tbody>\n",
       "</table>\n",
       "</div>"
      ],
      "text/plain": [
       "                           name                   regions   start_dt  \\\n",
       "0      Christmas&New Year Promo             EU, N.America 2020-12-25   \n",
       "1  St. Valentine's Day Giveaway  EU, CIS, APAC, N.America 2020-02-14   \n",
       "2        St. Patric's Day Promo             EU, N.America 2020-03-17   \n",
       "3                  Easter Promo  EU, CIS, APAC, N.America 2020-04-12   \n",
       "4             4th of July Promo                 N.America 2020-07-04   \n",
       "\n",
       "   finish_dt  \n",
       "0 2021-01-03  \n",
       "1 2020-02-16  \n",
       "2 2020-03-19  \n",
       "3 2020-04-19  \n",
       "4 2020-07-11  "
      ]
     },
     "metadata": {},
     "output_type": "display_data"
    },
    {
     "data": {
      "text/html": [
       "<div>\n",
       "<style scoped>\n",
       "    .dataframe tbody tr th:only-of-type {\n",
       "        vertical-align: middle;\n",
       "    }\n",
       "\n",
       "    .dataframe tbody tr th {\n",
       "        vertical-align: top;\n",
       "    }\n",
       "\n",
       "    .dataframe thead th {\n",
       "        text-align: right;\n",
       "    }\n",
       "</style>\n",
       "<table border=\"1\" class=\"dataframe\">\n",
       "  <thead>\n",
       "    <tr style=\"text-align: right;\">\n",
       "      <th></th>\n",
       "      <th>user_id</th>\n",
       "      <th>first_date</th>\n",
       "      <th>region</th>\n",
       "      <th>device</th>\n",
       "    </tr>\n",
       "  </thead>\n",
       "  <tbody>\n",
       "    <tr>\n",
       "      <th>0</th>\n",
       "      <td>D72A72121175D8BE</td>\n",
       "      <td>2020-12-07</td>\n",
       "      <td>EU</td>\n",
       "      <td>PC</td>\n",
       "    </tr>\n",
       "    <tr>\n",
       "      <th>1</th>\n",
       "      <td>F1C668619DFE6E65</td>\n",
       "      <td>2020-12-07</td>\n",
       "      <td>N.America</td>\n",
       "      <td>Android</td>\n",
       "    </tr>\n",
       "    <tr>\n",
       "      <th>2</th>\n",
       "      <td>2E1BF1D4C37EA01F</td>\n",
       "      <td>2020-12-07</td>\n",
       "      <td>EU</td>\n",
       "      <td>PC</td>\n",
       "    </tr>\n",
       "    <tr>\n",
       "      <th>3</th>\n",
       "      <td>50734A22C0C63768</td>\n",
       "      <td>2020-12-07</td>\n",
       "      <td>EU</td>\n",
       "      <td>iPhone</td>\n",
       "    </tr>\n",
       "    <tr>\n",
       "      <th>4</th>\n",
       "      <td>E1BDDCE0DAFA2679</td>\n",
       "      <td>2020-12-07</td>\n",
       "      <td>N.America</td>\n",
       "      <td>iPhone</td>\n",
       "    </tr>\n",
       "  </tbody>\n",
       "</table>\n",
       "</div>"
      ],
      "text/plain": [
       "            user_id first_date     region   device\n",
       "0  D72A72121175D8BE 2020-12-07         EU       PC\n",
       "1  F1C668619DFE6E65 2020-12-07  N.America  Android\n",
       "2  2E1BF1D4C37EA01F 2020-12-07         EU       PC\n",
       "3  50734A22C0C63768 2020-12-07         EU   iPhone\n",
       "4  E1BDDCE0DAFA2679 2020-12-07  N.America   iPhone"
      ]
     },
     "metadata": {},
     "output_type": "display_data"
    },
    {
     "data": {
      "text/html": [
       "<div>\n",
       "<style scoped>\n",
       "    .dataframe tbody tr th:only-of-type {\n",
       "        vertical-align: middle;\n",
       "    }\n",
       "\n",
       "    .dataframe tbody tr th {\n",
       "        vertical-align: top;\n",
       "    }\n",
       "\n",
       "    .dataframe thead th {\n",
       "        text-align: right;\n",
       "    }\n",
       "</style>\n",
       "<table border=\"1\" class=\"dataframe\">\n",
       "  <thead>\n",
       "    <tr style=\"text-align: right;\">\n",
       "      <th></th>\n",
       "      <th>user_id</th>\n",
       "      <th>event_dt</th>\n",
       "      <th>event_name</th>\n",
       "      <th>details</th>\n",
       "      <th>date</th>\n",
       "    </tr>\n",
       "  </thead>\n",
       "  <tbody>\n",
       "    <tr>\n",
       "      <th>0</th>\n",
       "      <td>E1BDDCE0DAFA2679</td>\n",
       "      <td>2020-12-07 20:22:03</td>\n",
       "      <td>purchase</td>\n",
       "      <td>99.99</td>\n",
       "      <td>2020-12-07</td>\n",
       "    </tr>\n",
       "    <tr>\n",
       "      <th>1</th>\n",
       "      <td>7B6452F081F49504</td>\n",
       "      <td>2020-12-07 09:22:53</td>\n",
       "      <td>purchase</td>\n",
       "      <td>9.99</td>\n",
       "      <td>2020-12-07</td>\n",
       "    </tr>\n",
       "    <tr>\n",
       "      <th>2</th>\n",
       "      <td>9CD9F34546DF254C</td>\n",
       "      <td>2020-12-07 12:59:29</td>\n",
       "      <td>purchase</td>\n",
       "      <td>4.99</td>\n",
       "      <td>2020-12-07</td>\n",
       "    </tr>\n",
       "    <tr>\n",
       "      <th>3</th>\n",
       "      <td>96F27A054B191457</td>\n",
       "      <td>2020-12-07 04:02:40</td>\n",
       "      <td>purchase</td>\n",
       "      <td>4.99</td>\n",
       "      <td>2020-12-07</td>\n",
       "    </tr>\n",
       "    <tr>\n",
       "      <th>4</th>\n",
       "      <td>1FD7660FDF94CA1F</td>\n",
       "      <td>2020-12-07 10:15:09</td>\n",
       "      <td>purchase</td>\n",
       "      <td>4.99</td>\n",
       "      <td>2020-12-07</td>\n",
       "    </tr>\n",
       "  </tbody>\n",
       "</table>\n",
       "</div>"
      ],
      "text/plain": [
       "            user_id            event_dt event_name  details        date\n",
       "0  E1BDDCE0DAFA2679 2020-12-07 20:22:03   purchase    99.99  2020-12-07\n",
       "1  7B6452F081F49504 2020-12-07 09:22:53   purchase     9.99  2020-12-07\n",
       "2  9CD9F34546DF254C 2020-12-07 12:59:29   purchase     4.99  2020-12-07\n",
       "3  96F27A054B191457 2020-12-07 04:02:40   purchase     4.99  2020-12-07\n",
       "4  1FD7660FDF94CA1F 2020-12-07 10:15:09   purchase     4.99  2020-12-07"
      ]
     },
     "metadata": {},
     "output_type": "display_data"
    }
   ],
   "source": [
    "#преобразование данных о времени\n",
    "ab_project_marketing_events['start_dt'] = pd.to_datetime(ab_project_marketing_events['start_dt'])\n",
    "ab_project_marketing_events['finish_dt'] = pd.to_datetime(ab_project_marketing_events['finish_dt'])\n",
    "\n",
    "final_ab_new_users['first_date'] = pd.to_datetime(final_ab_new_users['first_date'])\n",
    "\n",
    "final_ab_events['event_dt'] = pd.to_datetime(final_ab_events['event_dt'])\n",
    "#добавляем новый столбец с датой\n",
    "final_ab_events['date'] = pd.to_datetime(final_ab_events['event_dt']).dt.date\n",
    "#добавляем новый столбец с датой и часом\n",
    "#final_ab_events['hour'] = final_ab_events['event_dt'].dt.strftime('%Y-%m-%d %H')\n",
    "\n",
    "#проверка типов данных\n",
    "display(ab_project_marketing_events.info())\n",
    "display(final_ab_new_users.info())\n",
    "display(final_ab_events.info())\n",
    "#проверка данных\n",
    "display(ab_project_marketing_events.head())\n",
    "display(final_ab_new_users.head())\n",
    "display(final_ab_events.head())"
   ]
  },
  {
   "cell_type": "code",
   "execution_count": 9,
   "metadata": {},
   "outputs": [
    {
     "name": "stdout",
     "output_type": "stream",
     "text": [
      "Количество явных дубликатов: 0\n",
      "Количество явных дубликатов: 0\n",
      "Количество явных дубликатов: 0\n",
      "Количество явных дубликатов: 0\n",
      "Количество пропущенных значений:\n",
      "user_id    0\n",
      "group      0\n",
      "ab_test    0\n",
      "dtype: int64\n",
      "Количество пропущенных значений:\n",
      "name         0\n",
      "regions      0\n",
      "start_dt     0\n",
      "finish_dt    0\n",
      "dtype: int64\n",
      "Количество пропущенных значений:\n",
      "user_id       0\n",
      "first_date    0\n",
      "region        0\n",
      "device        0\n",
      "dtype: int64\n",
      "Количество пропущенных значений:\n",
      "user_id            0\n",
      "event_dt           0\n",
      "event_name         0\n",
      "details       377577\n",
      "date               0\n",
      "dtype: int64\n"
     ]
    }
   ],
   "source": [
    "#проверим датасеты на наличие явных дубликатов\n",
    "print(f'Количество явных дубликатов: {final_ab_participants.duplicated().sum()}')\n",
    "print(f'Количество явных дубликатов: {ab_project_marketing_events.duplicated().sum()}')\n",
    "print(f'Количество явных дубликатов: {final_ab_new_users.duplicated().sum()}')\n",
    "print(f'Количество явных дубликатов: {final_ab_events.duplicated().sum()}')\n",
    "\n",
    "#проверим датасеты на наличие пропущенных значений\n",
    "#вспомогательная переменная, перенос строки\n",
    "nl = '\\n'\n",
    "print(f'Количество пропущенных значений:{nl}{final_ab_participants.isna().sum()}')\n",
    "print(f'Количество пропущенных значений:{nl}{ab_project_marketing_events.isna().sum()}')\n",
    "print(f'Количество пропущенных значений:{nl}{final_ab_new_users.isna().sum()}')\n",
    "print(f'Количество пропущенных значений:{nl}{final_ab_events.isna().sum()}')"
   ]
  },
  {
   "cell_type": "markdown",
   "metadata": {},
   "source": [
    "Явных дубликатов нет. Есть пропущенные значения в таблице `final_ab_events`, содержащей информацию о действиях пользователей, в столбце `details`,содержащим информацию о доп. информации о событии (стоимость покупки если событие \"покупка\"). Оставим эти пропуски т.к. по событиям отличным от \"покупки\" нет доп.информации."
   ]
  },
  {
   "cell_type": "markdown",
   "metadata": {},
   "source": [
    "## Изучение и проверка данных"
   ]
  },
  {
   "cell_type": "markdown",
   "metadata": {},
   "source": [
    "Оценим корректность проведения теста, для этого:\n",
    "- проверим, что нет пересечений с конкурирующим тестом и нет пользователей, участвующих в двух группах теста одновременно;\n",
    "- проверим равномерность распределения пользователей по тестовым группам и правильность их формирования."
   ]
  },
  {
   "cell_type": "markdown",
   "metadata": {},
   "source": [
    "### Соответствие данных требованиям ТЗ"
   ]
  },
  {
   "cell_type": "markdown",
   "metadata": {},
   "source": [
    "Согласно ТЗ для теста должны отбираться 15% новых пользователей из региона EU, ожидаемое количество участников 6000. Дата запуска: 2020-12-07, дата остановки набора новых пользователей: 2020-12-21. Проверим так ли это:"
   ]
  },
  {
   "cell_type": "code",
   "execution_count": 10,
   "metadata": {},
   "outputs": [
    {
     "name": "stdout",
     "output_type": "stream",
     "text": [
      "Минимальная дата регистрации участников теста: 2020-12-07 00:00:00\n",
      "Максимальная дата регистрации участников теста: 2020-12-21 00:00:00\n",
      "Количество пользователей, отобранных в АВ-тест: 6351\n",
      "Доля пользователей из региона EU, отобранных в АВ-тест(%): 15.0\n"
     ]
    }
   ],
   "source": [
    "#объединим таблицу, содержащую данные участников теста, и таблицу, содержащую данные о новых пользователях\n",
    "check_data = final_ab_participants.merge(final_ab_new_users, on='user_id', how='right')\n",
    "\n",
    "#проверим временные рамки\n",
    "print('Минимальная дата регистрации участников теста:', \n",
    "      check_data.query('ab_test == \"recommender_system_test\"')['first_date'].min())\n",
    "print('Максимальная дата регистрации участников теста:', \n",
    "      check_data.query('ab_test == \"recommender_system_test\"')['first_date'].max())\n",
    "\n",
    "#участники теста из региона EU\n",
    "print('Количество пользователей, отобранных в АВ-тест:', \\\n",
    "      check_data.query('ab_test == \"recommender_system_test\" & region == \"EU\"')['user_id'].nunique())\n",
    "\n",
    "#найдем долю участников нужного теста из региона EU от новых пользователей \n",
    "#из региона EU зарегистрировавшихся в даты набора участников в тест \n",
    "print('Доля пользователей из региона EU, отобранных в АВ-тест(%):', \n",
    "        round((check_data.query(\n",
    "            'ab_test == \"recommender_system_test\" & region == \"EU\"'\n",
    "        )['user_id'].nunique()) / final_ab_new_users.query(\n",
    "            'region == \"EU\" & first_date >= \"2020-12-07\" & first_date <= \"2020-12-21\"'\n",
    "        )['user_id'].nunique() * 100, 2))\n",
    "\n",
    "#таблица содержащая пользователей согласно ТЗ\n",
    "check_data = check_data.query(\n",
    "            'ab_test == \"recommender_system_test\" & region == \"EU\" \\\n",
    "            & first_date >= \"2020-12-07\" & first_date <= \"2020-12-21\"')"
   ]
  },
  {
   "cell_type": "markdown",
   "metadata": {},
   "source": [
    "**Вывод:** значения похожи на ожидаемые по ТЗ: в тест были отобраны 6351 новых пользователей из региона EU, зарегистрировавшихся в даты регистрации в тест, это составляет 15% от общего количества новых пользователей из региона EU."
   ]
  },
  {
   "cell_type": "markdown",
   "metadata": {},
   "source": [
    "Проверим распределяющую систему теста на технические ошибки:"
   ]
  },
  {
   "cell_type": "code",
   "execution_count": 11,
   "metadata": {},
   "outputs": [
    {
     "data": {
      "image/png": "[encoded data removed]"
     },
     "metadata": {},
     "output_type": "display_data"
    },
    {
     "data": {
      "text/html": [
       "<div>\n",
       "<style scoped>\n",
       "    .dataframe tbody tr th:only-of-type {\n",
       "        vertical-align: middle;\n",
       "    }\n",
       "\n",
       "    .dataframe tbody tr th {\n",
       "        vertical-align: top;\n",
       "    }\n",
       "\n",
       "    .dataframe thead th {\n",
       "        text-align: right;\n",
       "    }\n",
       "</style>\n",
       "<table border=\"1\" class=\"dataframe\">\n",
       "  <thead>\n",
       "    <tr style=\"text-align: right;\">\n",
       "      <th></th>\n",
       "      <th>group</th>\n",
       "      <th>total_count</th>\n",
       "    </tr>\n",
       "  </thead>\n",
       "  <tbody>\n",
       "    <tr>\n",
       "      <th>0</th>\n",
       "      <td>A</td>\n",
       "      <td>3634</td>\n",
       "    </tr>\n",
       "    <tr>\n",
       "      <th>1</th>\n",
       "      <td>B</td>\n",
       "      <td>2717</td>\n",
       "    </tr>\n",
       "  </tbody>\n",
       "</table>\n",
       "</div>"
      ],
      "text/plain": [
       "  group  total_count\n",
       "0     A         3634\n",
       "1     B         2717"
      ]
     },
     "metadata": {},
     "output_type": "display_data"
    }
   ],
   "source": [
    "#сгруппируем данные по группам эксперимента и посчитаем количество уникальных пользователей\n",
    "visitors_per_var = check_data.groupby(\n",
    "    'group')[['user_id']].agg('nunique')\n",
    "#переименуем столбец\n",
    "visitors_per_var.columns = ['total_count']\n",
    "visitors_per_var = visitors_per_var.reset_index()\n",
    "\n",
    "#круговая диаграмма по собранным данным\n",
    "fig = px.pie(visitors_per_var, values='total_count', names='group')\n",
    "\n",
    "#оформление графика\n",
    "fig.update_layout(title='Разбивка пользователей по группам')\n",
    "fig.show()\n",
    "\n",
    "display(visitors_per_var)"
   ]
  },
  {
   "cell_type": "markdown",
   "metadata": {},
   "source": [
    "Отмечается перекос отобранных участников эксперимента в контрольную группу А: 57% участников зарегистрированы в группе А, 43% участников группы В. Из чего следует вывод что **распределяющая система работает некорректно.**"
   ]
  },
  {
   "cell_type": "markdown",
   "metadata": {},
   "source": [
    "### Проверка аудитории теста"
   ]
  },
  {
   "cell_type": "markdown",
   "metadata": {},
   "source": [
    "Проверим есть ли пересечение с конкурирующим тестом."
   ]
  },
  {
   "cell_type": "code",
   "execution_count": 12,
   "metadata": {},
   "outputs": [
    {
     "data": {
      "text/plain": [
       "array(['recommender_system_test', 'interface_eu_test'], dtype=object)"
      ]
     },
     "execution_count": 12,
     "metadata": {},
     "output_type": "execute_result"
    }
   ],
   "source": [
    "#проверим данные на количество АВ-тестов\n",
    "final_ab_participants['ab_test'].unique()"
   ]
  },
  {
   "cell_type": "markdown",
   "metadata": {},
   "source": [
    "Так как исследуемые нами данные содержат информацию о 2-х конкурирующих АВ-тестах нам необходимо произвести чистку информации. Пользователи могут распределяться следующим образом:\n",
    "1) участвующие только в тесте `recommender_system_test`\n",
    "2) участвующие только в конкурирующем тесте\n",
    "3) участвующие в обоих тестах одновременно, такие пользователи в следующую очередь деляться на:\n",
    "- участники А-группы в обоих тестах (таких пользователей удалять не будем т.к. на них не было влияния изменений)\n",
    "- участники А-гр конкурирующего теста, В-группы теста `recommender_system_test` (таких пользователей удалять не будем т.к. на них не было влияния изменений конкурирующего теста)\n",
    "- участники В-группы в обоих тестах (удалим таких пользователей, невозможно определить изменения какого теста на них повлияли)\n",
    "- участники В-гр конкурирующего теста, А-группы теста `recommender_system_test` (удалим таких пользователей, т.к. возможно на них повлияли изменения конкурирующего теста)"
   ]
  },
  {
   "cell_type": "markdown",
   "metadata": {},
   "source": [
    "Нас интересует тест `recommender_system_test` проверим нет ли в нем участников попавших одновременно и в А и в В группы:"
   ]
  },
  {
   "cell_type": "code",
   "execution_count": 13,
   "metadata": {},
   "outputs": [
    {
     "name": "stdout",
     "output_type": "stream",
     "text": [
      "Количество пользователей с ошибками: 0\n"
     ]
    }
   ],
   "source": [
    "#находим количество уникальных групп для каждого пользователя \n",
    "#фильтруем пользователей с более чем 1 группой\n",
    "bug_visitors = final_ab_participants.query('ab_test == \"recommender_system_test\"').pivot_table(\n",
    "    index = 'user_id', \n",
    "    values = 'group', \n",
    "    aggfunc = 'nunique').query('group > 1').reset_index()\n",
    "\n",
    "\n",
    "print(f'Количество пользователей с ошибками: {bug_visitors.shape[0]}')"
   ]
  },
  {
   "cell_type": "markdown",
   "metadata": {},
   "source": [
    "Таких участников нет, проверим нет ли среди участников интересующего нас АВ-теста участников двух АВ-тестов одновременно:"
   ]
  },
  {
   "cell_type": "code",
   "execution_count": 14,
   "metadata": {},
   "outputs": [
    {
     "name": "stdout",
     "output_type": "stream",
     "text": [
      "Количество пользователей, участвующих в 2-х АВ-тестах: 1602\n",
      "Доля таких пользователей (%): 23.91\n"
     ]
    },
    {
     "data": {
      "text/html": [
       "<div>\n",
       "<style scoped>\n",
       "    .dataframe tbody tr th:only-of-type {\n",
       "        vertical-align: middle;\n",
       "    }\n",
       "\n",
       "    .dataframe tbody tr th {\n",
       "        vertical-align: top;\n",
       "    }\n",
       "\n",
       "    .dataframe thead th {\n",
       "        text-align: right;\n",
       "    }\n",
       "</style>\n",
       "<table border=\"1\" class=\"dataframe\">\n",
       "  <thead>\n",
       "    <tr style=\"text-align: right;\">\n",
       "      <th></th>\n",
       "      <th>user_id</th>\n",
       "      <th>group</th>\n",
       "      <th>ab_test</th>\n",
       "    </tr>\n",
       "  </thead>\n",
       "  <tbody>\n",
       "    <tr>\n",
       "      <th>17892</th>\n",
       "      <td>001064FEAAB631A1</td>\n",
       "      <td>B</td>\n",
       "      <td>interface_eu_test</td>\n",
       "    </tr>\n",
       "    <tr>\n",
       "      <th>235</th>\n",
       "      <td>001064FEAAB631A1</td>\n",
       "      <td>B</td>\n",
       "      <td>recommender_system_test</td>\n",
       "    </tr>\n",
       "    <tr>\n",
       "      <th>16961</th>\n",
       "      <td>00341D8401F0F665</td>\n",
       "      <td>A</td>\n",
       "      <td>interface_eu_test</td>\n",
       "    </tr>\n",
       "    <tr>\n",
       "      <th>2137</th>\n",
       "      <td>00341D8401F0F665</td>\n",
       "      <td>A</td>\n",
       "      <td>recommender_system_test</td>\n",
       "    </tr>\n",
       "    <tr>\n",
       "      <th>8143</th>\n",
       "      <td>003B6786B4FF5B03</td>\n",
       "      <td>A</td>\n",
       "      <td>interface_eu_test</td>\n",
       "    </tr>\n",
       "    <tr>\n",
       "      <th>3156</th>\n",
       "      <td>003B6786B4FF5B03</td>\n",
       "      <td>A</td>\n",
       "      <td>recommender_system_test</td>\n",
       "    </tr>\n",
       "    <tr>\n",
       "      <th>4768</th>\n",
       "      <td>0082295A41A867B5</td>\n",
       "      <td>A</td>\n",
       "      <td>recommender_system_test</td>\n",
       "    </tr>\n",
       "    <tr>\n",
       "      <th>14161</th>\n",
       "      <td>0082295A41A867B5</td>\n",
       "      <td>B</td>\n",
       "      <td>interface_eu_test</td>\n",
       "    </tr>\n",
       "    <tr>\n",
       "      <th>15562</th>\n",
       "      <td>00E68F103C66C1F7</td>\n",
       "      <td>B</td>\n",
       "      <td>interface_eu_test</td>\n",
       "    </tr>\n",
       "    <tr>\n",
       "      <th>4074</th>\n",
       "      <td>00E68F103C66C1F7</td>\n",
       "      <td>A</td>\n",
       "      <td>recommender_system_test</td>\n",
       "    </tr>\n",
       "  </tbody>\n",
       "</table>\n",
       "</div>"
      ],
      "text/plain": [
       "                user_id group                  ab_test\n",
       "17892  001064FEAAB631A1     B        interface_eu_test\n",
       "235    001064FEAAB631A1     B  recommender_system_test\n",
       "16961  00341D8401F0F665     A        interface_eu_test\n",
       "2137   00341D8401F0F665     A  recommender_system_test\n",
       "8143   003B6786B4FF5B03     A        interface_eu_test\n",
       "3156   003B6786B4FF5B03     A  recommender_system_test\n",
       "4768   0082295A41A867B5     A  recommender_system_test\n",
       "14161  0082295A41A867B5     B        interface_eu_test\n",
       "15562  00E68F103C66C1F7     B        interface_eu_test\n",
       "4074   00E68F103C66C1F7     A  recommender_system_test"
      ]
     },
     "execution_count": 14,
     "metadata": {},
     "output_type": "execute_result"
    }
   ],
   "source": [
    "#находим количество уникальных АВ-тестов для каждого пользователя \n",
    "#фильтруем пользователей с более чем 1 тестом\n",
    "bug_visitors_2test = final_ab_participants.pivot_table(\n",
    "    index = 'user_id', \n",
    "    values = 'ab_test', \n",
    "    aggfunc = 'nunique').query('ab_test > 1').reset_index()\n",
    "\n",
    "\n",
    "print(f'Количество пользователей, участвующих в 2-х АВ-тестах: {bug_visitors_2test.shape[0]}')\n",
    "print('Доля таких пользователей (%):', \n",
    "        round(bug_visitors_2test.shape[0] / final_ab_participants.query(\n",
    "            'ab_test == \"recommender_system_test\"'\n",
    "        )['user_id'].nunique() * 100, 2))\n",
    "\n",
    "#выводим на экран данные пользователей, участвующих в 2-х АВ-тестах\n",
    "bug_2test = bug_visitors_2test['user_id'].tolist()\n",
    "final_ab_participants.query('user_id in @bug_2test').sort_values(by='user_id').head(10)"
   ]
  },
  {
   "cell_type": "markdown",
   "metadata": {},
   "source": [
    "Удалим участников В-группы конкурирующего теста т.к. тестируемые изменения в конкурирующем тесте могли повлиять на результат интересующего нас теста:"
   ]
  },
  {
   "cell_type": "code",
   "execution_count": 15,
   "metadata": {},
   "outputs": [
    {
     "name": "stdout",
     "output_type": "stream",
     "text": [
      "Количество пользователей, участвующих в группе B конкурирующего теста: 783\n",
      "Доля таких пользователей (%): 11.68\n"
     ]
    }
   ],
   "source": [
    "#список идентификаторов пользователей, участвующих в конкурирующем тесте в В-группе\n",
    "bug_Bgroup = final_ab_participants.query(\n",
    "    'user_id in @bug_2test & (group == \"B\" & ab_test == \"interface_eu_test\")'\n",
    ")['user_id'].tolist()\n",
    "\n",
    "print(f'Количество пользователей, участвующих в группе B конкурирующего теста: {len(bug_Bgroup)}')\n",
    "print('Доля таких пользователей (%):', \n",
    "        round(len(bug_Bgroup) / final_ab_participants.query(\n",
    "            'ab_test == \"recommender_system_test\"'\n",
    "        )['user_id'].nunique() * 100, 2))\n",
    "\n",
    "#удалим таких пользователей\n",
    "final_ab_participants = final_ab_participants.query('user_id not in @bug_Bgroup')"
   ]
  },
  {
   "cell_type": "markdown",
   "metadata": {},
   "source": [
    "Мы избавились от некорректных участников, финальная таблица содержащая только участников интересующего нас теста:"
   ]
  },
  {
   "cell_type": "code",
   "execution_count": 16,
   "metadata": {},
   "outputs": [
    {
     "data": {
      "text/html": [
       "<div>\n",
       "<style scoped>\n",
       "    .dataframe tbody tr th:only-of-type {\n",
       "        vertical-align: middle;\n",
       "    }\n",
       "\n",
       "    .dataframe tbody tr th {\n",
       "        vertical-align: top;\n",
       "    }\n",
       "\n",
       "    .dataframe thead th {\n",
       "        text-align: right;\n",
       "    }\n",
       "</style>\n",
       "<table border=\"1\" class=\"dataframe\">\n",
       "  <thead>\n",
       "    <tr style=\"text-align: right;\">\n",
       "      <th></th>\n",
       "      <th>user_id</th>\n",
       "      <th>group</th>\n",
       "      <th>ab_test</th>\n",
       "    </tr>\n",
       "  </thead>\n",
       "  <tbody>\n",
       "    <tr>\n",
       "      <th>0</th>\n",
       "      <td>D1ABA3E2887B6A73</td>\n",
       "      <td>A</td>\n",
       "      <td>recommender_system_test</td>\n",
       "    </tr>\n",
       "    <tr>\n",
       "      <th>1</th>\n",
       "      <td>A7A3664BD6242119</td>\n",
       "      <td>A</td>\n",
       "      <td>recommender_system_test</td>\n",
       "    </tr>\n",
       "    <tr>\n",
       "      <th>2</th>\n",
       "      <td>DABC14FDDFADD29E</td>\n",
       "      <td>A</td>\n",
       "      <td>recommender_system_test</td>\n",
       "    </tr>\n",
       "    <tr>\n",
       "      <th>3</th>\n",
       "      <td>04988C5DF189632E</td>\n",
       "      <td>A</td>\n",
       "      <td>recommender_system_test</td>\n",
       "    </tr>\n",
       "    <tr>\n",
       "      <th>4</th>\n",
       "      <td>482F14783456D21B</td>\n",
       "      <td>B</td>\n",
       "      <td>recommender_system_test</td>\n",
       "    </tr>\n",
       "  </tbody>\n",
       "</table>\n",
       "</div>"
      ],
      "text/plain": [
       "            user_id group                  ab_test\n",
       "0  D1ABA3E2887B6A73     A  recommender_system_test\n",
       "1  A7A3664BD6242119     A  recommender_system_test\n",
       "2  DABC14FDDFADD29E     A  recommender_system_test\n",
       "3  04988C5DF189632E     A  recommender_system_test\n",
       "4  482F14783456D21B     B  recommender_system_test"
      ]
     },
     "execution_count": 16,
     "metadata": {},
     "output_type": "execute_result"
    }
   ],
   "source": [
    "#очищенные данные только по интересующему нас тесту\n",
    "final_ab_participants = final_ab_participants.query('ab_test == \"recommender_system_test\"')\n",
    "final_ab_participants.head()"
   ]
  },
  {
   "cell_type": "markdown",
   "metadata": {},
   "source": [
    "Оставим в ранее созданной таблице `check_data` участников теста после очистки от пересечений с конкурирующем тестом."
   ]
  },
  {
   "cell_type": "code",
   "execution_count": 17,
   "metadata": {},
   "outputs": [],
   "source": [
    "#идентификаторы участников теста\n",
    "users = final_ab_participants['user_id'].unique().tolist()\n",
    "\n",
    "#таблица после очистки от пользователей конкурирующего теста\n",
    "data = check_data.query('user_id in @users')"
   ]
  },
  {
   "cell_type": "markdown",
   "metadata": {},
   "source": [
    "Оставим в таблице, содержащей информацию о событиях совершаемых пользователями, информацию только об интересующих нас пользователях (участников теста):"
   ]
  },
  {
   "cell_type": "code",
   "execution_count": 18,
   "metadata": {},
   "outputs": [
    {
     "name": "stdout",
     "output_type": "stream",
     "text": [
      "Минимальная дата события теста: 2020-12-07 00:05:57\n",
      "Минимальная дата события теста: 2020-12-30 12:42:57\n"
     ]
    }
   ],
   "source": [
    "#очистка таблицы\n",
    "final_ab_events = final_ab_events.query('user_id in @users')\n",
    "#временные рамки\n",
    "print('Минимальная дата события теста:', final_ab_events['event_dt'].min())\n",
    "print('Минимальная дата события теста:', final_ab_events['event_dt'].max())"
   ]
  },
  {
   "cell_type": "markdown",
   "metadata": {},
   "source": [
    "Дата остановки теста по ТЗ: 2021-01-04, а последние данные о событиях от 2020-12-30, возможно ошибка сбора или выгрузки информации."
   ]
  },
  {
   "cell_type": "markdown",
   "metadata": {},
   "source": [
    "Посмотрим как пользователи  после их очистки распределяются между группами эксперимента:"
   ]
  },
  {
   "cell_type": "code",
   "execution_count": 19,
   "metadata": {},
   "outputs": [
    {
     "name": "stdout",
     "output_type": "stream",
     "text": [
      "Количество пользователей, участвующих в АВ-тесте: 5568\n",
      "Доля исключенных пользователей(%): 12.33\n"
     ]
    },
    {
     "data": {
      "image/png": "[encoded data removed]"
     },
     "metadata": {},
     "output_type": "display_data"
    },
    {
     "data": {
      "text/html": [
       "<div>\n",
       "<style scoped>\n",
       "    .dataframe tbody tr th:only-of-type {\n",
       "        vertical-align: middle;\n",
       "    }\n",
       "\n",
       "    .dataframe tbody tr th {\n",
       "        vertical-align: top;\n",
       "    }\n",
       "\n",
       "    .dataframe thead th {\n",
       "        text-align: right;\n",
       "    }\n",
       "</style>\n",
       "<table border=\"1\" class=\"dataframe\">\n",
       "  <thead>\n",
       "    <tr style=\"text-align: right;\">\n",
       "      <th></th>\n",
       "      <th>group</th>\n",
       "      <th>total_count</th>\n",
       "    </tr>\n",
       "  </thead>\n",
       "  <tbody>\n",
       "    <tr>\n",
       "      <th>0</th>\n",
       "      <td>A</td>\n",
       "      <td>3195</td>\n",
       "    </tr>\n",
       "    <tr>\n",
       "      <th>1</th>\n",
       "      <td>B</td>\n",
       "      <td>2373</td>\n",
       "    </tr>\n",
       "  </tbody>\n",
       "</table>\n",
       "</div>"
      ],
      "text/plain": [
       "  group  total_count\n",
       "0     A         3195\n",
       "1     B         2373"
      ]
     },
     "metadata": {},
     "output_type": "display_data"
    }
   ],
   "source": [
    "print('Количество пользователей, участвующих в АВ-тесте:',\n",
    "      data['user_id'].nunique())\n",
    "print('Доля исключенных пользователей(%):', \n",
    "        round(( 1 - data['user_id'].nunique()/check_data['user_id'].nunique()) * 100, 2))\n",
    "\n",
    "#сгруппируем данные по группам эксперимента и посчитаем количество уникальных пользователей\n",
    "visitors_per_var = data.groupby(\n",
    "    'group')[['user_id']].agg('nunique')\n",
    "#переименуем столбец\n",
    "visitors_per_var.columns = ['total_count']\n",
    "visitors_per_var = visitors_per_var.reset_index()\n",
    "\n",
    "#круговая диаграмма по собранным данным\n",
    "fig = px.pie(visitors_per_var, values='total_count', names='group')\n",
    "\n",
    "#оформление графика\n",
    "fig.update_layout(title='Разбивка пользователей по группам')\n",
    "fig.show()\n",
    "\n",
    "display(visitors_per_var)"
   ]
  },
  {
   "cell_type": "markdown",
   "metadata": {},
   "source": [
    "Участники эксперимента делятся между группами АВ в соотношении 57/43%, в группе А участников больше более чем на 800 человек чем в группе В. Далее в исследование проверим как события распределяются между группами."
   ]
  },
  {
   "cell_type": "markdown",
   "metadata": {},
   "source": [
    "### Проверка времени проведения теста"
   ]
  },
  {
   "cell_type": "markdown",
   "metadata": {},
   "source": [
    "Посмотрим на календарь маркетинговых событий на 2020 год и проверим нет ли пересечения между тестом и каким-либо маркетинговым событием:"
   ]
  },
  {
   "cell_type": "code",
   "execution_count": 20,
   "metadata": {},
   "outputs": [
    {
     "data": {
      "text/html": [
       "<div>\n",
       "<style scoped>\n",
       "    .dataframe tbody tr th:only-of-type {\n",
       "        vertical-align: middle;\n",
       "    }\n",
       "\n",
       "    .dataframe tbody tr th {\n",
       "        vertical-align: top;\n",
       "    }\n",
       "\n",
       "    .dataframe thead th {\n",
       "        text-align: right;\n",
       "    }\n",
       "</style>\n",
       "<table border=\"1\" class=\"dataframe\">\n",
       "  <thead>\n",
       "    <tr style=\"text-align: right;\">\n",
       "      <th></th>\n",
       "      <th>name</th>\n",
       "      <th>regions</th>\n",
       "      <th>start_dt</th>\n",
       "      <th>finish_dt</th>\n",
       "    </tr>\n",
       "  </thead>\n",
       "  <tbody>\n",
       "    <tr>\n",
       "      <th>0</th>\n",
       "      <td>Christmas&amp;New Year Promo</td>\n",
       "      <td>EU, N.America</td>\n",
       "      <td>2020-12-25</td>\n",
       "      <td>2021-01-03</td>\n",
       "    </tr>\n",
       "    <tr>\n",
       "      <th>10</th>\n",
       "      <td>CIS New Year Gift Lottery</td>\n",
       "      <td>CIS</td>\n",
       "      <td>2020-12-30</td>\n",
       "      <td>2021-01-07</td>\n",
       "    </tr>\n",
       "  </tbody>\n",
       "</table>\n",
       "</div>"
      ],
      "text/plain": [
       "                         name        regions   start_dt  finish_dt\n",
       "0    Christmas&New Year Promo  EU, N.America 2020-12-25 2021-01-03\n",
       "10  CIS New Year Gift Lottery            CIS 2020-12-30 2021-01-07"
      ]
     },
     "execution_count": 20,
     "metadata": {},
     "output_type": "execute_result"
    }
   ],
   "source": [
    "ab_project_marketing_events.query('start_dt >= \"2020-12-07\" | finish_dt >= \"2020-12-07\"')"
   ]
  },
  {
   "cell_type": "markdown",
   "metadata": {},
   "source": [
    "В исследуемом регионе EU проводилась маркетинговая активность `Christmas&New Year Promo` с 25 декабря до 03 января, эта активность могла повлиять на поведение пользователей."
   ]
  },
  {
   "cell_type": "markdown",
   "metadata": {},
   "source": [
    "Посмотрим на распределение событий по дням и оценим влияние маркетинговой акции на группы теста:"
   ]
  },
  {
   "cell_type": "markdown",
   "metadata": {},
   "source": [
    "Для начала сформируем итоговую таблицу для анализа АВ-тестирования: она должна содержать таблицу событий и данные о том к какой группе относится пользователей совершивший это событие."
   ]
  },
  {
   "cell_type": "code",
   "execution_count": 21,
   "metadata": {},
   "outputs": [
    {
     "name": "stdout",
     "output_type": "stream",
     "text": [
      "Количество событий пересекаемых с маркетинговой акцией: 2779\n",
      "Доля таких событий (%): 13.51\n"
     ]
    }
   ],
   "source": [
    "#итоговая таблица\n",
    "final_ab_events = final_ab_events.merge(data, on='user_id')\n",
    "\n",
    "print('Количество событий пересекаемых с маркетинговой акцией:', \\\n",
    "      final_ab_events.query(\"event_dt >= '2020-12-25'\")['event_dt'].count())\n",
    "print('Доля таких событий (%):', \n",
    "        round(final_ab_events.query(\n",
    "            \"event_dt >= '2020-12-25'\")['event_dt'].count()/ final_ab_events['event_dt'].count() * 100, 2))"
   ]
  },
  {
   "cell_type": "code",
   "execution_count": 22,
   "metadata": {},
   "outputs": [
    {
     "data": {
      "image/png": "[encoded data removed]"
     },
     "metadata": {},
     "output_type": "display_data"
    }
   ],
   "source": [
    "fig = px.histogram(final_ab_events, x='date', color='group')\n",
    "#оформление графика\n",
    "fig.update_layout(title='Гистограмма событий для групп АВ-теста',\n",
    "                   xaxis_title='Дата',\n",
    "                   yaxis_title='Количество событий',\n",
    "                   barmode='overlay')\n",
    "fig.update_traces(opacity=0.75)\n",
    "\n",
    "fig.show()"
   ]
  },
  {
   "cell_type": "markdown",
   "metadata": {},
   "source": [
    "**Вывод:** как видно по графику, маркетинговая акция не вызвала резких изменений количества событий, ежедневное количество событий для групп эксперимента распределяются схоже во временных рамках маркетинговой активности (после 25 декабря включительно). В связи с этим не будем удалять информацию об этих событиях, т.к. она составляет около 13.5% от информации обо всех собранных событиях. \n",
    "\n",
    "Также стоит отметить что 30 декабря и позже нет данных о событиях, возможно это связано с ошибками сбора или выгрузки данных. "
   ]
  },
  {
   "cell_type": "markdown",
   "metadata": {},
   "source": [
    "### Учет 14-ти дневного лайфтайма"
   ]
  },
  {
   "cell_type": "markdown",
   "metadata": {},
   "source": [
    "Согласно ТЗ ожидаемый эффект: за 14 дней с момента регистрации пользователи покажут улучшение каждой метрики не менее, чем на 10%, поэтому избавимся от событий дата которых превышает 14 дней с дня регистрации:"
   ]
  },
  {
   "cell_type": "code",
   "execution_count": 23,
   "metadata": {},
   "outputs": [
    {
     "name": "stdout",
     "output_type": "stream",
     "text": [
      "Количество событий старше 14 дней: 530\n",
      "Доля таких событий (%): 2.58\n"
     ]
    }
   ],
   "source": [
    "#посчитаем разницу между датой события и датой регистрации пользователя\n",
    "final_ab_events['first_date'] = pd.to_datetime(final_ab_events['first_date']).dt.date\n",
    "final_ab_events['days'] = (final_ab_events['date'] - final_ab_events['first_date']).dt.days\n",
    "\n",
    "print('Количество событий старше 14 дней:', final_ab_events.query('days > 14')['event_dt'].count())\n",
    "print('Доля таких событий (%):', \n",
    "        round(final_ab_events.query('days > 14')['event_dt'].count() / final_ab_events['event_dt'].count() * 100, 2))\n",
    "\n",
    "#удаляем события старше 14 дней\n",
    "final_ab_events = final_ab_events.query('days <= 14')"
   ]
  },
  {
   "cell_type": "markdown",
   "metadata": {},
   "source": [
    "**Вывод:** Доля событий старше 14 дней составляет чуть более 2,5%, удалим данные об этих событиях, так как мы не потеряем большую долю пользователей и проведем исследования согласно ТЗ."
   ]
  },
  {
   "cell_type": "markdown",
   "metadata": {},
   "source": [
    "## Исследовательский анализ данных"
   ]
  },
  {
   "cell_type": "markdown",
   "metadata": {},
   "source": [
    "### Распределение количества событий на пользователя"
   ]
  },
  {
   "cell_type": "markdown",
   "metadata": {},
   "source": [
    "Рассмотрим как распределяется количество событий на пользователя для каждой группы:"
   ]
  },
  {
   "cell_type": "code",
   "execution_count": 24,
   "metadata": {
    "scrolled": false
   },
   "outputs": [
    {
     "data": {
      "text/html": [
       "<div>\n",
       "<style scoped>\n",
       "    .dataframe tbody tr th:only-of-type {\n",
       "        vertical-align: middle;\n",
       "    }\n",
       "\n",
       "    .dataframe tbody tr th {\n",
       "        vertical-align: top;\n",
       "    }\n",
       "\n",
       "    .dataframe thead th {\n",
       "        text-align: right;\n",
       "    }\n",
       "</style>\n",
       "<table border=\"1\" class=\"dataframe\">\n",
       "  <thead>\n",
       "    <tr style=\"text-align: right;\">\n",
       "      <th></th>\n",
       "      <th>count</th>\n",
       "      <th>mean</th>\n",
       "      <th>std</th>\n",
       "      <th>min</th>\n",
       "      <th>25%</th>\n",
       "      <th>50%</th>\n",
       "      <th>75%</th>\n",
       "      <th>max</th>\n",
       "    </tr>\n",
       "    <tr>\n",
       "      <th>group</th>\n",
       "      <th></th>\n",
       "      <th></th>\n",
       "      <th></th>\n",
       "      <th></th>\n",
       "      <th></th>\n",
       "      <th></th>\n",
       "      <th></th>\n",
       "      <th></th>\n",
       "    </tr>\n",
       "  </thead>\n",
       "  <tbody>\n",
       "    <tr>\n",
       "      <th>A</th>\n",
       "      <td>15851.0</td>\n",
       "      <td>5.658570</td>\n",
       "      <td>2.408793</td>\n",
       "      <td>1.0</td>\n",
       "      <td>4.0</td>\n",
       "      <td>5.0</td>\n",
       "      <td>7.0</td>\n",
       "      <td>14.0</td>\n",
       "    </tr>\n",
       "    <tr>\n",
       "      <th>B</th>\n",
       "      <td>4183.0</td>\n",
       "      <td>4.855367</td>\n",
       "      <td>2.477421</td>\n",
       "      <td>1.0</td>\n",
       "      <td>3.0</td>\n",
       "      <td>4.0</td>\n",
       "      <td>6.0</td>\n",
       "      <td>16.0</td>\n",
       "    </tr>\n",
       "  </tbody>\n",
       "</table>\n",
       "</div>"
      ],
      "text/plain": [
       "         count      mean       std  min  25%  50%  75%   max\n",
       "group                                                       \n",
       "A      15851.0  5.658570  2.408793  1.0  4.0  5.0  7.0  14.0\n",
       "B       4183.0  4.855367  2.477421  1.0  3.0  4.0  6.0  16.0"
      ]
     },
     "metadata": {},
     "output_type": "display_data"
    },
    {
     "data": {
      "image/png": "[encoded data removed]"
     },
     "metadata": {},
     "output_type": "display_data"
    }
   ],
   "source": [
    "#готовим данные для графика\n",
    "#посчитаем количество событий для каждого пользователя\n",
    "avg_events_by_group = final_ab_events.merge(final_ab_events.groupby('user_id').agg(\n",
    "total=('event_dt', 'nunique')).reset_index(), how='left')\n",
    "\n",
    "#статистические данные о количествe событий для каждой группы\n",
    "display(\n",
    "    avg_events_by_group.groupby(['group'])['total'].describe().sort_values(by='50%', ascending=False)\n",
    ")\n",
    "\n",
    "#диаграмма размаха по количеству событий на пользователя\n",
    "fig = px.box(avg_events_by_group, x='group', y='total', color='group')\n",
    "\n",
    "#оформление графика\n",
    "fig.update_layout(title='Количество событий на пользователя',\n",
    "                   xaxis_title='Группа АВ-теста',\n",
    "                   yaxis_title='Количество событий',\n",
    "                   showlegend=False)\n",
    "\n",
    "fig.show()"
   ]
  },
  {
   "cell_type": "markdown",
   "metadata": {},
   "source": [
    "**Вывод:** среднее значение количества событий на пользователя для группы А - 5.65 события, для группы В - 4.85 события. Медианные значения 5 событий для пользователя из группы А, 4 события для пользователя из группы В. В целом количество событий распределяются в группах однообразно, без явных отличий, несмотря на существенное различие в количестве участников групп эксперимента."
   ]
  },
  {
   "cell_type": "markdown",
   "metadata": {},
   "source": [
    "Также рассмотрим все ли пользователи в группах совершали события после регистрации в тесте:"
   ]
  },
  {
   "cell_type": "code",
   "execution_count": 25,
   "metadata": {},
   "outputs": [
    {
     "data": {
      "text/html": [
       "<div>\n",
       "<style scoped>\n",
       "    .dataframe tbody tr th:only-of-type {\n",
       "        vertical-align: middle;\n",
       "    }\n",
       "\n",
       "    .dataframe tbody tr th {\n",
       "        vertical-align: top;\n",
       "    }\n",
       "\n",
       "    .dataframe thead th {\n",
       "        text-align: right;\n",
       "    }\n",
       "</style>\n",
       "<table border=\"1\" class=\"dataframe\">\n",
       "  <thead>\n",
       "    <tr style=\"text-align: right;\">\n",
       "      <th></th>\n",
       "      <th>group</th>\n",
       "      <th>total_users</th>\n",
       "      <th>events_users</th>\n",
       "      <th>share</th>\n",
       "    </tr>\n",
       "  </thead>\n",
       "  <tbody>\n",
       "    <tr>\n",
       "      <th>0</th>\n",
       "      <td>A</td>\n",
       "      <td>3195</td>\n",
       "      <td>2279</td>\n",
       "      <td>71.3</td>\n",
       "    </tr>\n",
       "    <tr>\n",
       "      <th>1</th>\n",
       "      <td>B</td>\n",
       "      <td>2373</td>\n",
       "      <td>771</td>\n",
       "      <td>32.5</td>\n",
       "    </tr>\n",
       "  </tbody>\n",
       "</table>\n",
       "</div>"
      ],
      "text/plain": [
       "  group  total_users  events_users  share\n",
       "0     A         3195          2279   71.3\n",
       "1     B         2373           771   32.5"
      ]
     },
     "execution_count": 25,
     "metadata": {},
     "output_type": "execute_result"
    }
   ],
   "source": [
    "#найдем количество уникальных пользователей совершивших событие для каждой группы\n",
    "users_by_group = data.groupby(['group']).agg(total_users=(\n",
    "    'user_id', 'nunique'\n",
    ")).reset_index().merge(final_ab_events.groupby('group').agg(\n",
    "    events_users=('user_id', 'nunique')).reset_index(), how='left')\n",
    "\n",
    "\n",
    "#ищем долю пользователей совершивших события после регистрации в тесте\n",
    "users_by_group['share'] = (\n",
    "    users_by_group['events_users'] / users_by_group['total_users'] * 100\n",
    ").round(1)\n",
    "users_by_group"
   ]
  },
  {
   "cell_type": "markdown",
   "metadata": {},
   "source": [
    "**Вывод:** более 71% зарегистрировавшихся в тесте пользователей А-группы совершили хотя бы 1 событие, существенно отличается картина у пользователей В-группы всего около 32% зарегистрировавшихся в тесте пользователей совершили хотя бы 1 событие."
   ]
  },
  {
   "cell_type": "markdown",
   "metadata": {},
   "source": [
    "Возможно дело в некорректном отображении сайта на различных девайсах, проверим как распределяющая система разбивает пользователей по группам в зависимости от девайсов:"
   ]
  },
  {
   "cell_type": "code",
   "execution_count": 26,
   "metadata": {},
   "outputs": [
    {
     "data": {
      "image/png": "[encoded data removed]"
     },
     "metadata": {},
     "output_type": "display_data"
    }
   ],
   "source": [
    "data_by_device = data.groupby(['group', 'device'])['user_id'].nunique()\n",
    "#переименуем столбец\n",
    "data_by_device.columns = ['total_count']\n",
    "data_by_device = data_by_device.reset_index()\n",
    "\n",
    "#круговая диаграмма по собранным данным\n",
    "labels = data_by_device['device'].unique().tolist()\n",
    "\n",
    "fig = make_subplots(rows=1, cols=2, specs=[[{'type':'domain'}, {'type':'domain'}]])\n",
    "fig.add_trace(go.Pie(labels=labels, \n",
    "                     values=data_by_device.query('group==\"A\"')['user_id'], \n",
    "                     title='Группа А'),\n",
    "              1, 1)\n",
    "fig.add_trace(go.Pie(labels=labels, \n",
    "                     values=data_by_device.query('group==\"B\"')['user_id'], \n",
    "                     title='Группа В'),\n",
    "              1, 2)\n",
    "\n",
    "\n",
    "\n",
    "\n",
    "#оформление графика\n",
    "fig.update_layout(title='Разбивка пользователей по девайсам',\n",
    "                  legend_title = 'Девайс')\n",
    "fig.show()"
   ]
  },
  {
   "cell_type": "markdown",
   "metadata": {},
   "source": [
    "**Вывод:** как видно распределяющая система разбивает пользователей по группам в зависимости от девайсов пропорционально и однообразно, то есть проблема авторизации на сайте после регистрации не связано с некорректным отображением интерфейса (к примеру) на каком либо девайсе."
   ]
  },
  {
   "cell_type": "markdown",
   "metadata": {},
   "source": [
    "### Частота событий"
   ]
  },
  {
   "cell_type": "markdown",
   "metadata": {},
   "source": [
    "Рассмотрим как число событий распределено по дням для групп АВ-теста:"
   ]
  },
  {
   "cell_type": "code",
   "execution_count": 27,
   "metadata": {},
   "outputs": [
    {
     "data": {
      "image/png": "[encoded data removed]"
     },
     "metadata": {},
     "output_type": "display_data"
    }
   ],
   "source": [
    "fig = px.histogram(final_ab_events, x='date', color='group')\n",
    "#оформление графика\n",
    "fig.update_layout(title='Гистограмма событий для групп АВ-теста',\n",
    "                   xaxis_title='Дата',\n",
    "                   yaxis_title='Количество событий',\n",
    "                   barmode='overlay')\n",
    "fig.update_traces(opacity=0.75)\n",
    "\n",
    "fig.show()"
   ]
  },
  {
   "cell_type": "markdown",
   "metadata": {},
   "source": [
    "**Вывод:** количество событий в день для группы А существенно больше чем у группы В и распределяются они менее равномерно, отмечается резкий скачок 14 декабря, тенденция к росту, и снова резкий скачок 21 декабря, после чего наблюдается спад активности."
   ]
  },
  {
   "cell_type": "markdown",
   "metadata": {},
   "source": [
    "### Изучение продуктовой воронки"
   ]
  },
  {
   "cell_type": "code",
   "execution_count": 28,
   "metadata": {},
   "outputs": [
    {
     "name": "stdout",
     "output_type": "stream",
     "text": [
      "Исследуемые события: ['purchase' 'product_cart' 'login' 'product_page']\n"
     ]
    }
   ],
   "source": [
    "print('Исследуемые события:', final_ab_events['event_name'].unique())"
   ]
  },
  {
   "cell_type": "markdown",
   "metadata": {},
   "source": [
    "Дадим определения событий:\n",
    "* `login` - авторизация пользователя (зашел на сайт)\n",
    "* `product_page` - просмотр каталога продукции\n",
    "* `purchase` - покупка\n",
    "* `product_cart`  - просмотр корзины"
   ]
  },
  {
   "cell_type": "markdown",
   "metadata": {},
   "source": [
    "Соберем данные необходимые нам для дальнейшего исследования, для каждой группы эксперимента определим количество пользователей по событиям users_count и процент пользователей совершивших целевое действие (по событиям) от начального шага воронки (авторизация пользователей) - cr."
   ]
  },
  {
   "cell_type": "code",
   "execution_count": 29,
   "metadata": {},
   "outputs": [
    {
     "data": {
      "text/html": [
       "<div>\n",
       "<style scoped>\n",
       "    .dataframe tbody tr th:only-of-type {\n",
       "        vertical-align: middle;\n",
       "    }\n",
       "\n",
       "    .dataframe tbody tr th {\n",
       "        vertical-align: top;\n",
       "    }\n",
       "\n",
       "    .dataframe thead th {\n",
       "        text-align: right;\n",
       "    }\n",
       "</style>\n",
       "<table border=\"1\" class=\"dataframe\">\n",
       "  <thead>\n",
       "    <tr style=\"text-align: right;\">\n",
       "      <th></th>\n",
       "      <th>event_name</th>\n",
       "      <th>group</th>\n",
       "      <th>users_count</th>\n",
       "      <th>cr</th>\n",
       "    </tr>\n",
       "  </thead>\n",
       "  <tbody>\n",
       "    <tr>\n",
       "      <th>0</th>\n",
       "      <td>login</td>\n",
       "      <td>A</td>\n",
       "      <td>2279</td>\n",
       "      <td>100.00</td>\n",
       "    </tr>\n",
       "    <tr>\n",
       "      <th>1</th>\n",
       "      <td>product_page</td>\n",
       "      <td>A</td>\n",
       "      <td>1476</td>\n",
       "      <td>64.77</td>\n",
       "    </tr>\n",
       "    <tr>\n",
       "      <th>2</th>\n",
       "      <td>product_cart</td>\n",
       "      <td>A</td>\n",
       "      <td>686</td>\n",
       "      <td>30.10</td>\n",
       "    </tr>\n",
       "    <tr>\n",
       "      <th>3</th>\n",
       "      <td>purchase</td>\n",
       "      <td>A</td>\n",
       "      <td>734</td>\n",
       "      <td>32.21</td>\n",
       "    </tr>\n",
       "    <tr>\n",
       "      <th>0</th>\n",
       "      <td>login</td>\n",
       "      <td>B</td>\n",
       "      <td>770</td>\n",
       "      <td>99.87</td>\n",
       "    </tr>\n",
       "    <tr>\n",
       "      <th>1</th>\n",
       "      <td>product_page</td>\n",
       "      <td>B</td>\n",
       "      <td>429</td>\n",
       "      <td>55.64</td>\n",
       "    </tr>\n",
       "    <tr>\n",
       "      <th>2</th>\n",
       "      <td>product_cart</td>\n",
       "      <td>B</td>\n",
       "      <td>214</td>\n",
       "      <td>27.76</td>\n",
       "    </tr>\n",
       "    <tr>\n",
       "      <th>3</th>\n",
       "      <td>purchase</td>\n",
       "      <td>B</td>\n",
       "      <td>219</td>\n",
       "      <td>28.40</td>\n",
       "    </tr>\n",
       "  </tbody>\n",
       "</table>\n",
       "</div>"
      ],
      "text/plain": [
       "     event_name group  users_count      cr\n",
       "0         login     A         2279  100.00\n",
       "1  product_page     A         1476   64.77\n",
       "2  product_cart     A          686   30.10\n",
       "3      purchase     A          734   32.21\n",
       "0         login     B          770   99.87\n",
       "1  product_page     B          429   55.64\n",
       "2  product_cart     B          214   27.76\n",
       "3      purchase     B          219   28.40"
      ]
     },
     "execution_count": 29,
     "metadata": {},
     "output_type": "execute_result"
    }
   ],
   "source": [
    "#собираем данные\n",
    "df = pd.DataFrame()\n",
    "groups = final_ab_events['group'].unique()\n",
    "\n",
    "for g in groups:\n",
    "    df_by_group = final_ab_events.query('group == @g').groupby('event_name').agg({\n",
    "        'group' : 'max',\n",
    "        'user_id' : 'nunique'\n",
    "    }).sort_values(by='user_id', ascending=False).reset_index()\n",
    "    df_by_group .columns = ['event_name', 'group', 'users_count']\n",
    "    df_by_group ['cr'] = round(\n",
    "        df_by_group['users_count'] / final_ab_events.query('group == @g')['user_id'].nunique() * 100, 2)\n",
    "    new_index = {2: 3, 3: 2}\n",
    "    df_by_group  = df_by_group .rename(new_index).sort_index()\n",
    "    df = pd.concat([df, df_by_group ])\n",
    "\n",
    "df"
   ]
  },
  {
   "cell_type": "code",
   "execution_count": 30,
   "metadata": {},
   "outputs": [
    {
     "data": {
      "image/png": "[encoded data removed]"
     },
     "metadata": {},
     "output_type": "display_data"
    }
   ],
   "source": [
    "#напишем цикл который будет строить продуктовую воронку для каждой группы эксперимента\n",
    "\n",
    "fig = go.Figure()\n",
    "\n",
    "for g in groups:\n",
    "    #строим воронку по количеству уникальных пользователей на каждом шаге\n",
    "    fig.add_trace(go.Funnel(\n",
    "    name = g,\n",
    "    orientation = 'h',\n",
    "    y = df.query('group == @g')['event_name'],\n",
    "    x = df.query('group == @g')['users_count'],\n",
    "    textposition = 'inside',\n",
    "    textinfo = 'value+percent initial'))\n",
    "\n",
    "fig.update_layout(title='Воронка по количеству уникальных пользователей на каждом шаге для групп АВ-теста')\n",
    "fig.show()"
   ]
  },
  {
   "cell_type": "code",
   "execution_count": 31,
   "metadata": {},
   "outputs": [
    {
     "data": {
      "text/html": [
       "<div>\n",
       "<style scoped>\n",
       "    .dataframe tbody tr th:only-of-type {\n",
       "        vertical-align: middle;\n",
       "    }\n",
       "\n",
       "    .dataframe tbody tr th {\n",
       "        vertical-align: top;\n",
       "    }\n",
       "\n",
       "    .dataframe thead th {\n",
       "        text-align: right;\n",
       "    }\n",
       "</style>\n",
       "<table border=\"1\" class=\"dataframe\">\n",
       "  <thead>\n",
       "    <tr style=\"text-align: right;\">\n",
       "      <th></th>\n",
       "      <th>group</th>\n",
       "      <th>total_users</th>\n",
       "      <th>events_users</th>\n",
       "      <th>share</th>\n",
       "    </tr>\n",
       "  </thead>\n",
       "  <tbody>\n",
       "    <tr>\n",
       "      <th>0</th>\n",
       "      <td>A</td>\n",
       "      <td>3195</td>\n",
       "      <td>2279</td>\n",
       "      <td>71.3</td>\n",
       "    </tr>\n",
       "    <tr>\n",
       "      <th>1</th>\n",
       "      <td>B</td>\n",
       "      <td>2373</td>\n",
       "      <td>771</td>\n",
       "      <td>32.5</td>\n",
       "    </tr>\n",
       "  </tbody>\n",
       "</table>\n",
       "</div>"
      ],
      "text/plain": [
       "  group  total_users  events_users  share\n",
       "0     A         3195          2279   71.3\n",
       "1     B         2373           771   32.5"
      ]
     },
     "execution_count": 31,
     "metadata": {},
     "output_type": "execute_result"
    }
   ],
   "source": [
    "#таблица которая хранит количество пользователей зарегистрировавшихся в тесте\n",
    "#и количество пользователей совершивших хотя бы 1 событие для каждой группы эксперимента\n",
    "users_by_group"
   ]
  },
  {
   "cell_type": "markdown",
   "metadata": {},
   "source": [
    "**Выводы**: Можно предположить что покупка товара возможна без открытия страницы корзины пользователя (покупка в 1 клик), т.к. в обеих группах количество события \"покупка\" превышает количество событий \"просмотр корзины\".\n",
    "\n",
    "\n",
    "Так как количество событий и пользователей группы А более чем в 2 раза превышает количество событий и пользователей группы В будем опираться на конверсию в каждый шаг от начального шага воронки:\n",
    "* Событие `product_page` - просмотр каталога продукции: 65% пользователей группы А, 56% - группы В\n",
    "* Далее следуют `product_cart` - просмотр корзины: 30% от посетителей сайта группа А, 28% от посетителей сайта группа Б, `purchase` - покупка: 32% группа А, 28% группа В.\n",
    "\n",
    "По продуктовой воронке видно, что показатели тестовой группы не оправдывают ожиданий эксперимента (ожидалось: за 14 дней с момента регистрации пользователи покажут улучшение каждой метрики не менее, чем на 10%), наоборот тестовая группа показывает ухудшение каждой метрики относительно контрольной группы."
   ]
  },
  {
   "cell_type": "markdown",
   "metadata": {},
   "source": [
    "### Результаты исследовательского анализа данных"
   ]
  },
  {
   "cell_type": "markdown",
   "metadata": {},
   "source": [
    "В ходе проверки аудитории теста были обнаружены следующие особенности данных:\n",
    "- пользователи пересекаются с конкурирующим тестом, в связи с этим были исключены данные пользователей участвовавших в конкурирующем тесте в группе В. Потери данных составили: более 12% от всех отобранных в тест пользователей.\n",
    "- участники распределяются между группами эксперимента неравномерно: в пропорциях 60% группа А, 40% группа В. Необходима проверка распределяющей системы. \n",
    "- отсутствуют данные о событиях после 30 декабря вплоть до даты остановки теста 4 января. Возможно ошибка сбора или выгрузки данных.\n",
    "- период проведения теста пересекается с маркетинговой акцией, данные с 25 декабря по 30 декабря включительно исключены не были, т.к. не обнаружено влияние на количество событий по группам эксперимента.<br>\n",
    "<br>\n",
    "В ходе EDA были обнаружены следующие особенности данных:\n",
    "- участники группы А совершают в среднем больше на 1 событие на пользователя чем участники группы В (5 событий на пользователя группы А, 4 события на пользователя группы В).\n",
    "- согласно продуктовой воронке тестовая группа показывает ухудшение метрик по сравнению с контрольной группой."
   ]
  },
  {
   "cell_type": "markdown",
   "metadata": {},
   "source": [
    "## Изучение результатов AB-эксперимента"
   ]
  },
  {
   "cell_type": "code",
   "execution_count": 32,
   "metadata": {},
   "outputs": [
    {
     "data": {
      "text/plain": [
       "{'A': 3195, 'B': 2373}"
      ]
     },
     "metadata": {},
     "output_type": "display_data"
    },
    {
     "data": {
      "text/html": [
       "<div>\n",
       "<style scoped>\n",
       "    .dataframe tbody tr th:only-of-type {\n",
       "        vertical-align: middle;\n",
       "    }\n",
       "\n",
       "    .dataframe tbody tr th {\n",
       "        vertical-align: top;\n",
       "    }\n",
       "\n",
       "    .dataframe thead th {\n",
       "        text-align: right;\n",
       "    }\n",
       "</style>\n",
       "<table border=\"1\" class=\"dataframe\">\n",
       "  <thead>\n",
       "    <tr style=\"text-align: right;\">\n",
       "      <th></th>\n",
       "      <th>A</th>\n",
       "      <th>B</th>\n",
       "      <th>event_name</th>\n",
       "    </tr>\n",
       "  </thead>\n",
       "  <tbody>\n",
       "    <tr>\n",
       "      <th>0</th>\n",
       "      <td>1476</td>\n",
       "      <td>429</td>\n",
       "      <td>product_page</td>\n",
       "    </tr>\n",
       "    <tr>\n",
       "      <th>1</th>\n",
       "      <td>686</td>\n",
       "      <td>214</td>\n",
       "      <td>product_cart</td>\n",
       "    </tr>\n",
       "    <tr>\n",
       "      <th>2</th>\n",
       "      <td>734</td>\n",
       "      <td>219</td>\n",
       "      <td>purchase</td>\n",
       "    </tr>\n",
       "  </tbody>\n",
       "</table>\n",
       "</div>"
      ],
      "text/plain": [
       "      A    B    event_name\n",
       "0  1476  429  product_page\n",
       "1   686  214  product_cart\n",
       "2   734  219      purchase"
      ]
     },
     "execution_count": 32,
     "metadata": {},
     "output_type": "execute_result"
    }
   ],
   "source": [
    "#подготовим удобные таблицы для проведения теста\n",
    "#вспомогательная таблица\n",
    "users_count = {\n",
    "    'A': data[data['group']==\"A\"]['user_id'].nunique(),\n",
    "    'B': data[data['group']==\"B\"]['user_id'].nunique()}\n",
    "#выделим события\n",
    "events = df[df['event_name'] != 'login']['event_name'].unique().tolist()\n",
    "#выделим группы\n",
    "groups = final_ab_events['group'].unique().tolist()\n",
    "\n",
    "#соберем данные для статистической проверки \n",
    "test_group = {}\n",
    "\n",
    "for group in groups:\n",
    "    test_group[group] =[]\n",
    "    \n",
    "    for event in events:\n",
    "        \n",
    "        test_group[group].append(\n",
    "            final_ab_events[\n",
    "                (final_ab_events['group'] == group) & (final_ab_events['event_name'] == event)\n",
    "            ]['user_id'].nunique()\n",
    "        )\n",
    "test_group = pd.DataFrame(test_group)\n",
    "test_group['event_name'] = events\n",
    "\n",
    "display(users_count)\n",
    "test_group"
   ]
  },
  {
   "cell_type": "markdown",
   "metadata": {},
   "source": [
    "### Проверка статистических гипотез"
   ]
  },
  {
   "cell_type": "markdown",
   "metadata": {},
   "source": [
    "Мы располагаем данными о контрольной группе и тестовой группе эксперимента А и В. Проверим, находят ли статистические критерии разницу между этими выборками. Для этого проведем тест с использованием z-критерия: проверим гипотезу о равенстве долей двух совокупностей."
   ]
  },
  {
   "cell_type": "markdown",
   "metadata": {},
   "source": [
    "Сформулируем гипотезы:\n",
    "\n",
    "`Нулевая: доли пользователей совершивших событие в группах равны` \n",
    "\n",
    "`Альтернативная: есть различия в долях групп`"
   ]
  },
  {
   "cell_type": "code",
   "execution_count": 33,
   "metadata": {},
   "outputs": [
    {
     "name": "stdout",
     "output_type": "stream",
     "text": [
      "Событие: product_page, p-value: 0.0\n",
      "Отвергаем нулевую гипотезу: между долями пользователей совершивших событие есть значимая разница\n",
      "\n",
      "Событие: product_cart, p-value: 0.0\n",
      "Отвергаем нулевую гипотезу: между долями пользователей совершивших событие есть значимая разница\n",
      "\n",
      "Событие: purchase, p-value: 0.0\n",
      "Отвергаем нулевую гипотезу: между долями пользователей совершивших событие есть значимая разница\n",
      "\n"
     ]
    }
   ],
   "source": [
    "#создадим универсальную функцию для проведения теста с использованием z-критерия:\n",
    "#которая будет принимать на вход номер группы и брать данные из таблиц выше\n",
    "def check_hypothesis(first_group, second_group, alpha=0.05):\n",
    "    \n",
    "    for i in test_group.index:\n",
    "        \n",
    "        #пропорция успехов в первой группе:\n",
    "        p1 = test_group[first_group][i] / users_count[first_group]\n",
    "        \n",
    "        \n",
    "        #пропорция успехов во второй группе:\n",
    "        p2 = test_group[second_group][i] / users_count[second_group]\n",
    "        \n",
    "        #пропорция успехов в комбинированном датасете:\n",
    "        p_combined = ((test_group[first_group][i] + test_group[second_group][i]) / \n",
    "                      (users_count[first_group] + users_count[second_group]))\n",
    "        \n",
    "        #разница пропорций в датасетах\n",
    "        difference = p1 - p2\n",
    "        \n",
    "        #считаем статистику в ст.отклонениях стандартного нормального распределения\n",
    "        z_value = difference / mth.sqrt(p_combined * (1 - p_combined) * \n",
    "                                        (1/users_count[first_group] + 1/users_count[second_group]))\n",
    "        \n",
    "        # задаем стандартное нормальное распределение (среднее 0, ст.отклонение 1)\n",
    "        distr = st.norm(0, 1) \n",
    "        \n",
    "        p_value = (1 - distr.cdf(abs(z_value))) * 2\n",
    "\n",
    "        \n",
    "        print('Событие: {}, p-value: {}'.format(test_group['event_name'][i], p_value))\n",
    "        \n",
    "        if (p_value < alpha):\n",
    "            print('Отвергаем нулевую гипотезу: между долями пользователей совершивших событие есть значимая разница')\n",
    "        else:\n",
    "            print('Не получилось отвергнуть нулевую гипотезу,\\\n",
    "            нет оснований считать доли пользователей совершивших событие разными')\n",
    "        print('')\n",
    "        \n",
    "        \n",
    "check_hypothesis('A', 'B')"
   ]
  },
  {
   "cell_type": "markdown",
   "metadata": {},
   "source": [
    "**Вывод:** есть статистически значимые различия между контрольной группой А и тестовой группой В для всех рассматриваемых событий. Опираясь на исследования выше можно сделать вывод что группа В показывает ухедшение метрик относительно группы А, эти различия между группами и показывает статистический тест."
   ]
  },
  {
   "cell_type": "markdown",
   "metadata": {},
   "source": [
    "## Результаты исследования"
   ]
  },
  {
   "cell_type": "markdown",
   "metadata": {},
   "source": [
    "Подведем итог проделанной работы:\n",
    "1. Корректность проведения теста не подтверждена:\n",
    "- отмечается техническая ошибка распределяющей системы: неравномерный отбор пользователей в группы, соотношение 60% группа А, 40% группа В\n",
    "- отмечено пересечение пользователей с конкурирующем тестом. Потеря участников эксперимента после очистки пересекающихся пользователей составила более 12%.\n",
    "- отмечается пересечение периода проведения эксперимента с периодом проведения маркетинговой активности\n",
    "- отмечается ошибка в сборе или выгрузки данных: отсуствуют события совершаемые пользователями с 31 декабря по 4 января включительно.\n",
    "\n",
    "2. Исследовательский анализ данных показал:\n",
    "- только 32% участников тестовой группы В совершили хотя бы 1 целевое событие, против 72% контрольной группы А. Возможно это связано с какими-либо техническими неполадками, к примеру некорретным отображением интерфейса для пользователей попавших в экспериментальную группу. Или провалом тестируемой рекомендательной системы.\n",
    "- участники тестовой группы В показывают ухудшение метрик (конверсии в просмотр карточек `product_page`, конверсии в просмотр корзины `product_cart`, конверсии в покупку `purchase`) относительно группы А:\n",
    "    - конверсия `product_page` 65% группа А, 56% группа В\n",
    "    - конверсия `product_cart` 30% группа А, 28% группа В\n",
    "    - конверсия `purchase` 32% группа А, 28% группа В\n",
    "   \n",
    "   \n",
    "3. Статистический анализ данных подтверждает наличие различий между долями пользователей совершивших вышеупомянутые целевые события групп АВ-эксперимента.\n",
    "\n",
    "**Вывод:** Тест проведен некорректно, нельзя принимать результаты данного эксперимента.\n",
    "\n",
    "**Рекомендации:** Устранить технические ошибки распределяющей системы, при необходимости провести тест заново учитывая выушеуказанные недочеты. Выяснить почему большая часть пользователей не взаимодействует с сайтом после регистрации на нем: возможны технические проблемы."
   ]
  }
 ],
 "metadata": {
  "ExecuteTimeLog": [
   {
    "duration": 1329,
    "start_time": "2023-03-11T04:28:41.571Z"
   },
   {
    "duration": 645,
    "start_time": "2023-03-11T04:29:25.044Z"
   },
   {
    "duration": 341,
    "start_time": "2023-03-11T04:29:29.160Z"
   },
   {
    "duration": 315,
    "start_time": "2023-03-11T04:29:34.910Z"
   },
   {
    "duration": 160,
    "start_time": "2023-03-11T04:31:11.903Z"
   },
   {
    "duration": 187,
    "start_time": "2023-03-11T04:31:20.566Z"
   },
   {
    "duration": 185,
    "start_time": "2023-03-11T04:31:26.830Z"
   },
   {
    "duration": 170,
    "start_time": "2023-03-11T04:31:40.653Z"
   },
   {
    "duration": 185,
    "start_time": "2023-03-11T04:34:10.395Z"
   },
   {
    "duration": 111,
    "start_time": "2023-03-11T04:37:37.184Z"
   },
   {
    "duration": 3,
    "start_time": "2023-03-11T04:38:13.271Z"
   },
   {
    "duration": 8,
    "start_time": "2023-03-11T04:38:20.588Z"
   },
   {
    "duration": 10,
    "start_time": "2023-03-11T04:40:11.579Z"
   },
   {
    "duration": 8,
    "start_time": "2023-03-11T04:40:14.032Z"
   },
   {
    "duration": 49,
    "start_time": "2023-03-11T04:40:49.475Z"
   },
   {
    "duration": 10,
    "start_time": "2023-03-11T04:40:53.304Z"
   },
   {
    "duration": 91,
    "start_time": "2023-03-11T04:41:51.979Z"
   },
   {
    "duration": 8,
    "start_time": "2023-03-11T04:41:53.468Z"
   },
   {
    "duration": 36,
    "start_time": "2023-03-11T04:42:22.207Z"
   },
   {
    "duration": 11,
    "start_time": "2023-03-11T04:47:42.078Z"
   },
   {
    "duration": 1240,
    "start_time": "2023-03-11T04:47:54.975Z"
   },
   {
    "duration": 218,
    "start_time": "2023-03-11T04:47:56.218Z"
   },
   {
    "duration": 931,
    "start_time": "2023-03-11T04:47:56.437Z"
   },
   {
    "duration": 0,
    "start_time": "2023-03-11T04:47:57.369Z"
   },
   {
    "duration": 0,
    "start_time": "2023-03-11T04:47:57.370Z"
   },
   {
    "duration": 1218,
    "start_time": "2023-03-11T04:48:15.374Z"
   },
   {
    "duration": 214,
    "start_time": "2023-03-11T04:48:16.596Z"
   },
   {
    "duration": 913,
    "start_time": "2023-03-11T04:48:16.814Z"
   },
   {
    "duration": 0,
    "start_time": "2023-03-11T04:48:17.730Z"
   },
   {
    "duration": 0,
    "start_time": "2023-03-11T04:48:17.731Z"
   },
   {
    "duration": 1167,
    "start_time": "2023-03-11T04:49:50.646Z"
   },
   {
    "duration": 902,
    "start_time": "2023-03-11T04:50:03.465Z"
   },
   {
    "duration": 60,
    "start_time": "2023-03-11T04:50:28.247Z"
   },
   {
    "duration": 1214,
    "start_time": "2023-03-11T04:50:35.604Z"
   },
   {
    "duration": 211,
    "start_time": "2023-03-11T04:50:36.820Z"
   },
   {
    "duration": 61,
    "start_time": "2023-03-11T04:50:37.032Z"
   },
   {
    "duration": 0,
    "start_time": "2023-03-11T04:50:37.095Z"
   },
   {
    "duration": 0,
    "start_time": "2023-03-11T04:50:37.098Z"
   },
   {
    "duration": 0,
    "start_time": "2023-03-11T04:50:37.099Z"
   },
   {
    "duration": 1225,
    "start_time": "2023-03-11T04:50:52.749Z"
   },
   {
    "duration": 216,
    "start_time": "2023-03-11T04:50:53.976Z"
   },
   {
    "duration": 47,
    "start_time": "2023-03-11T04:50:54.194Z"
   },
   {
    "duration": 931,
    "start_time": "2023-03-11T04:50:54.242Z"
   },
   {
    "duration": 0,
    "start_time": "2023-03-11T04:50:55.175Z"
   },
   {
    "duration": 1258,
    "start_time": "2023-03-11T04:51:06.952Z"
   },
   {
    "duration": 212,
    "start_time": "2023-03-11T04:51:08.212Z"
   },
   {
    "duration": 76,
    "start_time": "2023-03-11T04:51:08.426Z"
   },
   {
    "duration": 8,
    "start_time": "2023-03-11T04:51:08.504Z"
   },
   {
    "duration": 1186,
    "start_time": "2023-03-11T04:58:37.030Z"
   },
   {
    "duration": 317,
    "start_time": "2023-03-11T04:58:38.219Z"
   },
   {
    "duration": 187,
    "start_time": "2023-03-11T04:58:38.538Z"
   },
   {
    "duration": 489,
    "start_time": "2023-03-11T04:58:38.726Z"
   },
   {
    "duration": 0,
    "start_time": "2023-03-11T04:58:39.217Z"
   },
   {
    "duration": 306,
    "start_time": "2023-03-11T04:59:17.697Z"
   },
   {
    "duration": 1240,
    "start_time": "2023-03-11T05:10:27.552Z"
   },
   {
    "duration": 214,
    "start_time": "2023-03-11T05:10:28.794Z"
   },
   {
    "duration": 518,
    "start_time": "2023-03-11T05:10:29.010Z"
   },
   {
    "duration": 0,
    "start_time": "2023-03-11T05:10:29.529Z"
   },
   {
    "duration": 53,
    "start_time": "2023-03-11T05:10:44.947Z"
   },
   {
    "duration": 8,
    "start_time": "2023-03-11T05:10:48.111Z"
   },
   {
    "duration": 1468,
    "start_time": "2023-03-11T05:15:06.336Z"
   },
   {
    "duration": 309,
    "start_time": "2023-03-11T05:15:07.808Z"
   },
   {
    "duration": 96,
    "start_time": "2023-03-11T05:15:08.120Z"
   },
   {
    "duration": 9,
    "start_time": "2023-03-11T05:15:08.219Z"
   },
   {
    "duration": 20,
    "start_time": "2023-03-11T05:21:35.837Z"
   },
   {
    "duration": 8,
    "start_time": "2023-03-11T05:21:38.240Z"
   },
   {
    "duration": 14,
    "start_time": "2023-03-11T05:22:10.361Z"
   },
   {
    "duration": 1191,
    "start_time": "2023-03-11T05:23:46.420Z"
   },
   {
    "duration": 212,
    "start_time": "2023-03-11T05:23:47.613Z"
   },
   {
    "duration": 125,
    "start_time": "2023-03-11T05:23:47.827Z"
   },
   {
    "duration": 0,
    "start_time": "2023-03-11T05:23:47.953Z"
   },
   {
    "duration": 0,
    "start_time": "2023-03-11T05:23:47.955Z"
   },
   {
    "duration": 1213,
    "start_time": "2023-03-11T05:24:01.106Z"
   },
   {
    "duration": 225,
    "start_time": "2023-03-11T05:24:02.322Z"
   },
   {
    "duration": 9,
    "start_time": "2023-03-11T05:24:02.550Z"
   },
   {
    "duration": 71,
    "start_time": "2023-03-11T05:24:02.561Z"
   },
   {
    "duration": 36,
    "start_time": "2023-03-11T05:24:02.635Z"
   },
   {
    "duration": 10,
    "start_time": "2023-03-11T05:25:06.262Z"
   },
   {
    "duration": 8,
    "start_time": "2023-03-11T05:25:10.156Z"
   },
   {
    "duration": 1189,
    "start_time": "2023-03-11T05:25:33.334Z"
   },
   {
    "duration": 209,
    "start_time": "2023-03-11T05:25:34.525Z"
   },
   {
    "duration": 18,
    "start_time": "2023-03-11T05:25:34.739Z"
   },
   {
    "duration": 19,
    "start_time": "2023-03-11T05:25:34.776Z"
   },
   {
    "duration": 27,
    "start_time": "2023-03-11T05:27:01.998Z"
   },
   {
    "duration": 106,
    "start_time": "2023-03-11T05:31:22.835Z"
   },
   {
    "duration": 9,
    "start_time": "2023-03-11T05:31:27.563Z"
   },
   {
    "duration": 1273,
    "start_time": "2023-03-11T05:33:14.101Z"
   },
   {
    "duration": 231,
    "start_time": "2023-03-11T05:33:15.377Z"
   },
   {
    "duration": 118,
    "start_time": "2023-03-11T05:33:15.610Z"
   },
   {
    "duration": 35,
    "start_time": "2023-03-11T05:33:15.730Z"
   },
   {
    "duration": 110,
    "start_time": "2023-03-11T05:35:38.029Z"
   },
   {
    "duration": 51,
    "start_time": "2023-03-11T05:35:40.378Z"
   },
   {
    "duration": 48,
    "start_time": "2023-03-11T05:36:03.800Z"
   },
   {
    "duration": 27,
    "start_time": "2023-03-11T05:36:09.802Z"
   },
   {
    "duration": 41,
    "start_time": "2023-03-11T05:36:11.671Z"
   },
   {
    "duration": 103,
    "start_time": "2023-03-11T05:36:24.135Z"
   },
   {
    "duration": 159,
    "start_time": "2023-03-11T05:40:03.289Z"
   },
   {
    "duration": 38,
    "start_time": "2023-03-11T05:40:05.007Z"
   },
   {
    "duration": 29,
    "start_time": "2023-03-11T05:41:04.492Z"
   },
   {
    "duration": 88,
    "start_time": "2023-03-11T05:41:40.459Z"
   },
   {
    "duration": 80,
    "start_time": "2023-03-11T05:43:26.654Z"
   },
   {
    "duration": 4,
    "start_time": "2023-03-11T05:43:37.745Z"
   },
   {
    "duration": 90,
    "start_time": "2023-03-11T05:44:07.052Z"
   },
   {
    "duration": 81,
    "start_time": "2023-03-11T05:44:17.394Z"
   },
   {
    "duration": 90,
    "start_time": "2023-03-11T05:44:40.352Z"
   },
   {
    "duration": 109,
    "start_time": "2023-03-11T05:46:32.778Z"
   },
   {
    "duration": 152,
    "start_time": "2023-03-11T05:55:12.601Z"
   },
   {
    "duration": 40,
    "start_time": "2023-03-11T05:57:40.705Z"
   },
   {
    "duration": 38,
    "start_time": "2023-03-11T06:00:58.893Z"
   },
   {
    "duration": 57,
    "start_time": "2023-03-11T06:01:22.355Z"
   },
   {
    "duration": 46,
    "start_time": "2023-03-11T06:01:27.158Z"
   },
   {
    "duration": 39,
    "start_time": "2023-03-11T06:01:47.914Z"
   },
   {
    "duration": 57,
    "start_time": "2023-03-11T06:03:40.353Z"
   },
   {
    "duration": 37,
    "start_time": "2023-03-11T06:04:03.903Z"
   },
   {
    "duration": 44,
    "start_time": "2023-03-11T06:04:47.026Z"
   },
   {
    "duration": 86,
    "start_time": "2023-03-11T06:06:34.475Z"
   },
   {
    "duration": 62,
    "start_time": "2023-03-11T06:06:57.219Z"
   },
   {
    "duration": 290,
    "start_time": "2023-03-11T06:14:14.340Z"
   },
   {
    "duration": 268,
    "start_time": "2023-03-11T06:16:08.105Z"
   },
   {
    "duration": 1754,
    "start_time": "2023-03-11T06:16:14.894Z"
   },
   {
    "duration": 1378,
    "start_time": "2023-03-11T06:19:17.369Z"
   },
   {
    "duration": 253,
    "start_time": "2023-03-11T06:19:18.749Z"
   },
   {
    "duration": 127,
    "start_time": "2023-03-11T06:19:19.011Z"
   },
   {
    "duration": 46,
    "start_time": "2023-03-11T06:19:19.140Z"
   },
   {
    "duration": 48,
    "start_time": "2023-03-11T06:19:19.187Z"
   },
   {
    "duration": 104,
    "start_time": "2023-03-11T06:19:19.237Z"
   },
   {
    "duration": 107,
    "start_time": "2023-03-11T06:19:19.343Z"
   },
   {
    "duration": 143,
    "start_time": "2023-03-11T06:19:19.452Z"
   },
   {
    "duration": 63,
    "start_time": "2023-03-11T06:19:19.597Z"
   },
   {
    "duration": 2106,
    "start_time": "2023-03-11T06:19:19.678Z"
   },
   {
    "duration": 1251,
    "start_time": "2023-03-11T06:23:25.803Z"
   },
   {
    "duration": 684,
    "start_time": "2023-03-11T06:23:27.056Z"
   },
   {
    "duration": 1175,
    "start_time": "2023-03-11T06:23:27.741Z"
   },
   {
    "duration": 48,
    "start_time": "2023-03-11T06:23:28.918Z"
   },
   {
    "duration": 57,
    "start_time": "2023-03-11T06:23:28.969Z"
   },
   {
    "duration": 126,
    "start_time": "2023-03-11T06:23:29.028Z"
   },
   {
    "duration": 112,
    "start_time": "2023-03-11T06:23:29.156Z"
   },
   {
    "duration": 164,
    "start_time": "2023-03-11T06:23:29.270Z"
   },
   {
    "duration": 73,
    "start_time": "2023-03-11T06:23:29.436Z"
   },
   {
    "duration": 2,
    "start_time": "2023-03-11T06:23:29.511Z"
   },
   {
    "duration": 26,
    "start_time": "2023-03-11T06:23:29.515Z"
   },
   {
    "duration": 6119,
    "start_time": "2023-03-11T06:23:57.619Z"
   },
   {
    "duration": 4711,
    "start_time": "2023-03-11T06:25:01.236Z"
   },
   {
    "duration": 1890,
    "start_time": "2023-03-11T06:25:54.166Z"
   },
   {
    "duration": 1775,
    "start_time": "2023-03-11T06:26:15.799Z"
   },
   {
    "duration": 1760,
    "start_time": "2023-03-11T06:26:29.222Z"
   },
   {
    "duration": 1446,
    "start_time": "2023-03-12T08:55:01.130Z"
   },
   {
    "duration": 885,
    "start_time": "2023-03-12T08:55:02.578Z"
   },
   {
    "duration": 1058,
    "start_time": "2023-03-12T08:55:03.465Z"
   },
   {
    "duration": 48,
    "start_time": "2023-03-12T08:55:04.525Z"
   },
   {
    "duration": 51,
    "start_time": "2023-03-12T08:55:04.575Z"
   },
   {
    "duration": 114,
    "start_time": "2023-03-12T08:55:04.628Z"
   },
   {
    "duration": 109,
    "start_time": "2023-03-12T08:55:04.743Z"
   },
   {
    "duration": 144,
    "start_time": "2023-03-12T08:55:04.854Z"
   },
   {
    "duration": 48,
    "start_time": "2023-03-12T08:55:05.000Z"
   },
   {
    "duration": 1715,
    "start_time": "2023-03-12T08:55:05.050Z"
   },
   {
    "duration": 1846,
    "start_time": "2023-03-12T08:57:04.058Z"
   },
   {
    "duration": 1668,
    "start_time": "2023-03-12T08:57:15.189Z"
   },
   {
    "duration": 203,
    "start_time": "2023-03-12T08:58:30.952Z"
   },
   {
    "duration": 335,
    "start_time": "2023-03-12T09:05:28.276Z"
   },
   {
    "duration": 73,
    "start_time": "2023-03-12T09:06:01.291Z"
   },
   {
    "duration": 324,
    "start_time": "2023-03-12T09:07:11.035Z"
   },
   {
    "duration": 41,
    "start_time": "2023-03-12T09:07:23.496Z"
   },
   {
    "duration": 739,
    "start_time": "2023-03-12T09:07:27.421Z"
   },
   {
    "duration": 74,
    "start_time": "2023-03-12T09:09:15.921Z"
   },
   {
    "duration": 306,
    "start_time": "2023-03-12T09:09:25.137Z"
   },
   {
    "duration": 283,
    "start_time": "2023-03-12T09:09:32.434Z"
   },
   {
    "duration": 27,
    "start_time": "2023-03-12T09:10:12.199Z"
   },
   {
    "duration": 28,
    "start_time": "2023-03-12T09:10:48.898Z"
   },
   {
    "duration": 92,
    "start_time": "2023-03-12T09:14:48.748Z"
   },
   {
    "duration": 103,
    "start_time": "2023-03-12T09:15:03.935Z"
   },
   {
    "duration": 10,
    "start_time": "2023-03-12T09:15:34.536Z"
   },
   {
    "duration": 12,
    "start_time": "2023-03-12T09:15:42.333Z"
   },
   {
    "duration": 64,
    "start_time": "2023-03-12T09:15:56.865Z"
   },
   {
    "duration": 88,
    "start_time": "2023-03-12T09:16:09.533Z"
   },
   {
    "duration": 64,
    "start_time": "2023-03-12T09:16:21.155Z"
   },
   {
    "duration": 1215,
    "start_time": "2023-03-12T09:20:58.478Z"
   },
   {
    "duration": 198,
    "start_time": "2023-03-12T09:20:59.696Z"
   },
   {
    "duration": 1167,
    "start_time": "2023-03-12T09:20:59.897Z"
   },
   {
    "duration": 61,
    "start_time": "2023-03-12T09:21:01.066Z"
   },
   {
    "duration": 30,
    "start_time": "2023-03-12T09:21:01.129Z"
   },
   {
    "duration": 131,
    "start_time": "2023-03-12T09:21:01.160Z"
   },
   {
    "duration": 105,
    "start_time": "2023-03-12T09:21:01.293Z"
   },
   {
    "duration": 148,
    "start_time": "2023-03-12T09:21:01.400Z"
   },
   {
    "duration": 45,
    "start_time": "2023-03-12T09:21:01.549Z"
   },
   {
    "duration": 1807,
    "start_time": "2023-03-12T09:21:01.596Z"
   },
   {
    "duration": 69,
    "start_time": "2023-03-12T09:21:03.406Z"
   },
   {
    "duration": 15,
    "start_time": "2023-03-12T09:21:03.476Z"
   },
   {
    "duration": 9,
    "start_time": "2023-03-12T09:21:03.520Z"
   },
   {
    "duration": 9,
    "start_time": "2023-03-12T09:21:03.532Z"
   },
   {
    "duration": 78,
    "start_time": "2023-03-12T09:22:32.374Z"
   },
   {
    "duration": 68,
    "start_time": "2023-03-12T09:22:43.412Z"
   },
   {
    "duration": 108,
    "start_time": "2023-03-12T09:23:57.316Z"
   },
   {
    "duration": 215,
    "start_time": "2023-03-12T09:29:46.629Z"
   },
   {
    "duration": 182,
    "start_time": "2023-03-12T09:33:24.275Z"
   },
   {
    "duration": 228,
    "start_time": "2023-03-12T09:33:35.272Z"
   },
   {
    "duration": 166,
    "start_time": "2023-03-12T09:45:20.444Z"
   },
   {
    "duration": 770,
    "start_time": "2023-03-12T09:45:28.922Z"
   },
   {
    "duration": 810,
    "start_time": "2023-03-12T09:45:43.594Z"
   },
   {
    "duration": 621,
    "start_time": "2023-03-12T09:45:52.528Z"
   },
   {
    "duration": 553,
    "start_time": "2023-03-12T09:49:02.736Z"
   },
   {
    "duration": 698,
    "start_time": "2023-03-12T09:49:13.418Z"
   },
   {
    "duration": 229,
    "start_time": "2023-03-12T09:53:49.586Z"
   },
   {
    "duration": 212,
    "start_time": "2023-03-12T09:54:11.505Z"
   },
   {
    "duration": 670,
    "start_time": "2023-03-12T09:54:42.789Z"
   },
   {
    "duration": 239,
    "start_time": "2023-03-12T09:56:08.420Z"
   },
   {
    "duration": 532,
    "start_time": "2023-03-12T10:03:41.607Z"
   },
   {
    "duration": 658,
    "start_time": "2023-03-12T10:04:01.873Z"
   },
   {
    "duration": 259,
    "start_time": "2023-03-12T10:05:20.150Z"
   },
   {
    "duration": 2312,
    "start_time": "2023-03-12T10:07:49.441Z"
   },
   {
    "duration": 2848,
    "start_time": "2023-03-12T10:08:02.902Z"
   },
   {
    "duration": 3031,
    "start_time": "2023-03-12T10:08:20.384Z"
   },
   {
    "duration": 1248,
    "start_time": "2023-03-12T10:08:27.382Z"
   },
   {
    "duration": 217,
    "start_time": "2023-03-12T10:14:08.520Z"
   },
   {
    "duration": 207,
    "start_time": "2023-03-12T10:14:41.947Z"
   },
   {
    "duration": 323,
    "start_time": "2023-03-12T10:14:49.418Z"
   },
   {
    "duration": 299,
    "start_time": "2023-03-12T10:15:14.325Z"
   },
   {
    "duration": 200,
    "start_time": "2023-03-12T10:15:26.475Z"
   },
   {
    "duration": 192,
    "start_time": "2023-03-12T10:15:55.567Z"
   },
   {
    "duration": 661,
    "start_time": "2023-03-12T10:16:07.994Z"
   },
   {
    "duration": 446,
    "start_time": "2023-03-12T10:27:26.617Z"
   },
   {
    "duration": 421,
    "start_time": "2023-03-12T10:27:49.013Z"
   },
   {
    "duration": 451,
    "start_time": "2023-03-12T10:28:12.033Z"
   },
   {
    "duration": 382,
    "start_time": "2023-03-12T10:42:16.297Z"
   },
   {
    "duration": 566,
    "start_time": "2023-03-12T10:44:40.413Z"
   },
   {
    "duration": 762,
    "start_time": "2023-03-12T10:45:02.455Z"
   },
   {
    "duration": 508,
    "start_time": "2023-03-12T10:45:23.753Z"
   },
   {
    "duration": 93,
    "start_time": "2023-03-12T10:53:55.457Z"
   },
   {
    "duration": 26,
    "start_time": "2023-03-12T10:54:08.877Z"
   },
   {
    "duration": 27,
    "start_time": "2023-03-12T10:54:23.679Z"
   },
   {
    "duration": 67,
    "start_time": "2023-03-12T10:54:54.271Z"
   },
   {
    "duration": 19,
    "start_time": "2023-03-12T10:57:45.810Z"
   },
   {
    "duration": 31,
    "start_time": "2023-03-12T10:57:54.957Z"
   },
   {
    "duration": 39,
    "start_time": "2023-03-12T10:58:18.968Z"
   },
   {
    "duration": 44,
    "start_time": "2023-03-12T10:58:45.704Z"
   },
   {
    "duration": 58,
    "start_time": "2023-03-12T10:59:30.248Z"
   },
   {
    "duration": 44,
    "start_time": "2023-03-12T10:59:47.610Z"
   },
   {
    "duration": 485,
    "start_time": "2023-03-12T11:02:00.667Z"
   },
   {
    "duration": 468,
    "start_time": "2023-03-12T11:02:06.638Z"
   },
   {
    "duration": 429,
    "start_time": "2023-03-12T11:02:11.458Z"
   },
   {
    "duration": 428,
    "start_time": "2023-03-12T11:03:05.659Z"
   },
   {
    "duration": 445,
    "start_time": "2023-03-12T11:03:23.495Z"
   },
   {
    "duration": 438,
    "start_time": "2023-03-12T11:03:27.395Z"
   },
   {
    "duration": 419,
    "start_time": "2023-03-12T11:03:31.792Z"
   },
   {
    "duration": 40,
    "start_time": "2023-03-12T11:04:45.402Z"
   },
   {
    "duration": 46,
    "start_time": "2023-03-12T11:04:56.612Z"
   },
   {
    "duration": 22,
    "start_time": "2023-03-12T11:05:17.969Z"
   },
   {
    "duration": 35,
    "start_time": "2023-03-12T11:05:42.719Z"
   },
   {
    "duration": 40,
    "start_time": "2023-03-12T11:06:35.384Z"
   },
   {
    "duration": 20,
    "start_time": "2023-03-12T11:08:01.154Z"
   },
   {
    "duration": 447,
    "start_time": "2023-03-12T11:16:00.635Z"
   },
   {
    "duration": 386,
    "start_time": "2023-03-12T11:16:12.708Z"
   },
   {
    "duration": 375,
    "start_time": "2023-03-12T11:16:17.322Z"
   },
   {
    "duration": 499,
    "start_time": "2023-03-12T11:16:36.384Z"
   },
   {
    "duration": 428,
    "start_time": "2023-03-12T11:25:11.734Z"
   },
   {
    "duration": 462,
    "start_time": "2023-03-12T11:25:22.293Z"
   },
   {
    "duration": 1274,
    "start_time": "2023-03-12T11:26:33.437Z"
   },
   {
    "duration": 13,
    "start_time": "2023-03-12T11:26:34.713Z"
   },
   {
    "duration": 216,
    "start_time": "2023-03-12T11:26:34.727Z"
   },
   {
    "duration": 1130,
    "start_time": "2023-03-12T11:26:34.945Z"
   },
   {
    "duration": 68,
    "start_time": "2023-03-12T11:26:36.078Z"
   },
   {
    "duration": 31,
    "start_time": "2023-03-12T11:26:36.148Z"
   },
   {
    "duration": 133,
    "start_time": "2023-03-12T11:26:36.181Z"
   },
   {
    "duration": 109,
    "start_time": "2023-03-12T11:26:36.316Z"
   },
   {
    "duration": 154,
    "start_time": "2023-03-12T11:26:36.427Z"
   },
   {
    "duration": 62,
    "start_time": "2023-03-12T11:26:36.582Z"
   },
   {
    "duration": 1161,
    "start_time": "2023-03-12T11:26:36.645Z"
   },
   {
    "duration": 131,
    "start_time": "2023-03-12T11:26:37.807Z"
   },
   {
    "duration": 338,
    "start_time": "2023-03-12T11:26:37.940Z"
   },
   {
    "duration": 606,
    "start_time": "2023-03-12T11:26:38.282Z"
   },
   {
    "duration": 52,
    "start_time": "2023-03-12T11:26:38.890Z"
   },
   {
    "duration": 20,
    "start_time": "2023-03-12T11:26:38.943Z"
   },
   {
    "duration": 608,
    "start_time": "2023-03-12T11:32:27.574Z"
   },
   {
    "duration": 49,
    "start_time": "2023-03-12T11:32:34.396Z"
   },
   {
    "duration": 389,
    "start_time": "2023-03-12T11:35:30.345Z"
   },
   {
    "duration": 607,
    "start_time": "2023-03-12T11:35:45.080Z"
   },
   {
    "duration": 370,
    "start_time": "2023-03-12T11:35:52.244Z"
   },
   {
    "duration": 382,
    "start_time": "2023-03-12T11:36:04.974Z"
   },
   {
    "duration": 387,
    "start_time": "2023-03-12T11:36:11.367Z"
   },
   {
    "duration": 327,
    "start_time": "2023-03-12T11:37:05.048Z"
   },
   {
    "duration": 336,
    "start_time": "2023-03-12T11:37:44.568Z"
   },
   {
    "duration": 170,
    "start_time": "2023-03-12T12:25:41.540Z"
   },
   {
    "duration": 462,
    "start_time": "2023-03-12T12:25:55.975Z"
   },
   {
    "duration": 528,
    "start_time": "2023-03-12T12:26:07.358Z"
   },
   {
    "duration": 64,
    "start_time": "2023-03-12T12:28:09.310Z"
   },
   {
    "duration": 161,
    "start_time": "2023-03-12T12:28:39.234Z"
   },
   {
    "duration": 106,
    "start_time": "2023-03-12T12:28:57.766Z"
   },
   {
    "duration": 813,
    "start_time": "2023-03-12T12:30:50.504Z"
   },
   {
    "duration": 861,
    "start_time": "2023-03-12T12:31:07.970Z"
   },
   {
    "duration": 1095,
    "start_time": "2023-03-12T12:38:15.289Z"
   },
   {
    "duration": 1058,
    "start_time": "2023-03-12T12:38:56.364Z"
   },
   {
    "duration": 3,
    "start_time": "2023-03-12T12:41:26.613Z"
   },
   {
    "duration": 6,
    "start_time": "2023-03-12T12:41:32.606Z"
   },
   {
    "duration": 866,
    "start_time": "2023-03-12T12:44:12.402Z"
   },
   {
    "duration": 158,
    "start_time": "2023-03-12T12:44:32.589Z"
   },
   {
    "duration": 655,
    "start_time": "2023-03-12T12:44:57.690Z"
   },
   {
    "duration": 674,
    "start_time": "2023-03-12T12:45:47.859Z"
   },
   {
    "duration": 538,
    "start_time": "2023-03-12T12:45:57.717Z"
   },
   {
    "duration": 42,
    "start_time": "2023-03-12T12:47:10.821Z"
   },
   {
    "duration": 29,
    "start_time": "2023-03-12T12:47:15.225Z"
   },
   {
    "duration": 67,
    "start_time": "2023-03-12T12:47:52.450Z"
   },
   {
    "duration": 5,
    "start_time": "2023-03-12T12:48:30.886Z"
   },
   {
    "duration": 508,
    "start_time": "2023-03-12T12:48:39.681Z"
   },
   {
    "duration": 546,
    "start_time": "2023-03-12T12:50:59.520Z"
   },
   {
    "duration": 508,
    "start_time": "2023-03-12T12:51:17.542Z"
   },
   {
    "duration": 623,
    "start_time": "2023-03-12T12:51:35.440Z"
   },
   {
    "duration": 734,
    "start_time": "2023-03-12T12:51:46.170Z"
   },
   {
    "duration": 475,
    "start_time": "2023-03-12T12:52:13.022Z"
   },
   {
    "duration": 451,
    "start_time": "2023-03-12T12:52:18.849Z"
   },
   {
    "duration": 813,
    "start_time": "2023-03-12T12:52:55.465Z"
   },
   {
    "duration": 569,
    "start_time": "2023-03-12T12:53:04.793Z"
   },
   {
    "duration": 510,
    "start_time": "2023-03-12T12:53:13.623Z"
   },
   {
    "duration": 467,
    "start_time": "2023-03-12T12:53:35.647Z"
   },
   {
    "duration": 481,
    "start_time": "2023-03-12T12:53:42.129Z"
   },
   {
    "duration": 458,
    "start_time": "2023-03-12T12:55:45.892Z"
   },
   {
    "duration": 440,
    "start_time": "2023-03-12T12:57:55.276Z"
   },
   {
    "duration": 522,
    "start_time": "2023-03-12T12:58:00.236Z"
   },
   {
    "duration": 370,
    "start_time": "2023-03-12T12:58:36.505Z"
   },
   {
    "duration": 416,
    "start_time": "2023-03-12T12:59:42.813Z"
   },
   {
    "duration": 519,
    "start_time": "2023-03-12T13:00:31.543Z"
   },
   {
    "duration": 1265,
    "start_time": "2023-03-12T13:01:15.825Z"
   },
   {
    "duration": 10,
    "start_time": "2023-03-12T13:01:17.093Z"
   },
   {
    "duration": 241,
    "start_time": "2023-03-12T13:01:17.104Z"
   },
   {
    "duration": 1297,
    "start_time": "2023-03-12T13:01:17.348Z"
   },
   {
    "duration": 46,
    "start_time": "2023-03-12T13:01:18.647Z"
   },
   {
    "duration": 60,
    "start_time": "2023-03-12T13:01:18.695Z"
   },
   {
    "duration": 132,
    "start_time": "2023-03-12T13:01:18.757Z"
   },
   {
    "duration": 120,
    "start_time": "2023-03-12T13:01:18.891Z"
   },
   {
    "duration": 198,
    "start_time": "2023-03-12T13:01:19.013Z"
   },
   {
    "duration": 57,
    "start_time": "2023-03-12T13:01:19.214Z"
   },
   {
    "duration": 1491,
    "start_time": "2023-03-12T13:01:19.273Z"
   },
   {
    "duration": 133,
    "start_time": "2023-03-12T13:01:20.766Z"
   },
   {
    "duration": 490,
    "start_time": "2023-03-12T13:01:20.902Z"
   },
   {
    "duration": 662,
    "start_time": "2023-03-12T13:01:21.394Z"
   },
   {
    "duration": 53,
    "start_time": "2023-03-12T13:01:22.058Z"
   },
   {
    "duration": 446,
    "start_time": "2023-03-12T13:01:22.112Z"
   },
   {
    "duration": 503,
    "start_time": "2023-03-12T13:01:22.562Z"
   },
   {
    "duration": 94,
    "start_time": "2023-03-12T13:01:23.067Z"
   },
   {
    "duration": 584,
    "start_time": "2023-03-12T13:01:23.163Z"
   },
   {
    "duration": 269,
    "start_time": "2023-03-12T13:18:45.992Z"
   },
   {
    "duration": 102,
    "start_time": "2023-03-12T13:18:56.675Z"
   },
   {
    "duration": 143,
    "start_time": "2023-03-12T13:19:02.075Z"
   },
   {
    "duration": 494,
    "start_time": "2023-03-12T13:31:23.710Z"
   },
   {
    "duration": 611,
    "start_time": "2023-03-12T13:31:59.542Z"
   },
   {
    "duration": 489,
    "start_time": "2023-03-12T13:33:29.081Z"
   },
   {
    "duration": 492,
    "start_time": "2023-03-12T13:35:06.679Z"
   },
   {
    "duration": 446,
    "start_time": "2023-03-12T13:38:20.882Z"
   },
   {
    "duration": 459,
    "start_time": "2023-03-12T13:38:29.143Z"
   },
   {
    "duration": 446,
    "start_time": "2023-03-12T13:38:37.457Z"
   },
   {
    "duration": 104,
    "start_time": "2023-03-12T13:38:47.849Z"
   },
   {
    "duration": 114,
    "start_time": "2023-03-12T13:39:00.652Z"
   },
   {
    "duration": 136,
    "start_time": "2023-03-12T13:45:37.308Z"
   },
   {
    "duration": 125,
    "start_time": "2023-03-12T13:46:09.119Z"
   },
   {
    "duration": 108,
    "start_time": "2023-03-12T13:52:21.721Z"
   },
   {
    "duration": 70,
    "start_time": "2023-03-12T13:53:25.883Z"
   },
   {
    "duration": 74,
    "start_time": "2023-03-12T13:53:33.070Z"
   },
   {
    "duration": 109,
    "start_time": "2023-03-12T13:53:58.315Z"
   },
   {
    "duration": 75,
    "start_time": "2023-03-12T13:55:49.590Z"
   },
   {
    "duration": 63,
    "start_time": "2023-03-12T13:56:56.272Z"
   },
   {
    "duration": 68,
    "start_time": "2023-03-12T13:57:32.327Z"
   },
   {
    "duration": 87,
    "start_time": "2023-03-12T13:57:44.820Z"
   },
   {
    "duration": 90,
    "start_time": "2023-03-12T13:57:52.330Z"
   },
   {
    "duration": 65,
    "start_time": "2023-03-12T13:58:50.571Z"
   },
   {
    "duration": 62,
    "start_time": "2023-03-12T13:58:58.574Z"
   },
   {
    "duration": 67,
    "start_time": "2023-03-12T14:00:37.358Z"
   },
   {
    "duration": 63,
    "start_time": "2023-03-12T14:00:43.432Z"
   },
   {
    "duration": 1191,
    "start_time": "2023-03-12T14:00:54.530Z"
   },
   {
    "duration": 68,
    "start_time": "2023-03-12T14:01:06.524Z"
   },
   {
    "duration": 80,
    "start_time": "2023-03-12T14:02:13.085Z"
   },
   {
    "duration": 69,
    "start_time": "2023-03-12T14:02:18.924Z"
   },
   {
    "duration": 90,
    "start_time": "2023-03-12T14:03:33.976Z"
   },
   {
    "duration": 69,
    "start_time": "2023-03-12T14:03:38.499Z"
   },
   {
    "duration": 99,
    "start_time": "2023-03-12T14:04:00.410Z"
   },
   {
    "duration": 75,
    "start_time": "2023-03-12T14:04:42.641Z"
   },
   {
    "duration": 55,
    "start_time": "2023-03-12T14:08:29.466Z"
   },
   {
    "duration": 37,
    "start_time": "2023-03-12T14:08:50.633Z"
   },
   {
    "duration": 44,
    "start_time": "2023-03-12T14:09:09.788Z"
   },
   {
    "duration": 37,
    "start_time": "2023-03-12T14:09:16.031Z"
   },
   {
    "duration": 33,
    "start_time": "2023-03-12T14:13:51.580Z"
   },
   {
    "duration": 122,
    "start_time": "2023-03-12T14:26:18.548Z"
   },
   {
    "duration": 150,
    "start_time": "2023-03-12T14:26:25.500Z"
   },
   {
    "duration": 230,
    "start_time": "2023-03-12T14:27:56.219Z"
   },
   {
    "duration": 270,
    "start_time": "2023-03-12T14:28:13.700Z"
   },
   {
    "duration": 116,
    "start_time": "2023-03-12T14:29:49.965Z"
   },
   {
    "duration": 134,
    "start_time": "2023-03-12T14:30:18.708Z"
   },
   {
    "duration": 143,
    "start_time": "2023-03-12T14:30:56.613Z"
   },
   {
    "duration": 137,
    "start_time": "2023-03-12T14:31:08.377Z"
   },
   {
    "duration": 122,
    "start_time": "2023-03-12T14:31:35.139Z"
   },
   {
    "duration": 116,
    "start_time": "2023-03-12T14:31:37.262Z"
   },
   {
    "duration": 138,
    "start_time": "2023-03-12T14:31:42.452Z"
   },
   {
    "duration": 128,
    "start_time": "2023-03-12T14:31:58.308Z"
   },
   {
    "duration": 57,
    "start_time": "2023-03-12T14:42:10.450Z"
   },
   {
    "duration": 64,
    "start_time": "2023-03-12T14:42:20.526Z"
   },
   {
    "duration": 91,
    "start_time": "2023-03-12T14:43:39.680Z"
   },
   {
    "duration": 96,
    "start_time": "2023-03-12T14:44:03.678Z"
   },
   {
    "duration": 114,
    "start_time": "2023-03-12T14:45:33.549Z"
   },
   {
    "duration": 145,
    "start_time": "2023-03-12T14:45:58.708Z"
   },
   {
    "duration": 61,
    "start_time": "2023-03-12T14:46:23.246Z"
   },
   {
    "duration": 68,
    "start_time": "2023-03-12T14:46:38.986Z"
   },
   {
    "duration": 57,
    "start_time": "2023-03-12T14:46:47.550Z"
   },
   {
    "duration": 62,
    "start_time": "2023-03-12T14:48:42.901Z"
   },
   {
    "duration": 118,
    "start_time": "2023-03-12T14:50:03.757Z"
   },
   {
    "duration": 194,
    "start_time": "2023-03-12T14:52:13.072Z"
   },
   {
    "duration": 205,
    "start_time": "2023-03-12T14:52:32.461Z"
   },
   {
    "duration": 209,
    "start_time": "2023-03-12T14:52:50.597Z"
   },
   {
    "duration": 14,
    "start_time": "2023-03-12T15:41:04.897Z"
   },
   {
    "duration": 5,
    "start_time": "2023-03-12T15:52:04.788Z"
   },
   {
    "duration": 19,
    "start_time": "2023-03-12T15:52:06.937Z"
   },
   {
    "duration": 4,
    "start_time": "2023-03-12T15:53:16.258Z"
   },
   {
    "duration": 55,
    "start_time": "2023-03-12T15:53:19.894Z"
   },
   {
    "duration": 5,
    "start_time": "2023-03-12T15:54:23.874Z"
   },
   {
    "duration": 44,
    "start_time": "2023-03-12T15:54:27.376Z"
   },
   {
    "duration": 5,
    "start_time": "2023-03-12T15:56:12.543Z"
   },
   {
    "duration": 38,
    "start_time": "2023-03-12T15:56:15.506Z"
   },
   {
    "duration": 4,
    "start_time": "2023-03-12T15:58:06.292Z"
   },
   {
    "duration": 42,
    "start_time": "2023-03-12T15:58:10.946Z"
   },
   {
    "duration": 6,
    "start_time": "2023-03-12T15:59:25.458Z"
   },
   {
    "duration": 94,
    "start_time": "2023-03-12T15:59:28.400Z"
   },
   {
    "duration": 208,
    "start_time": "2023-03-12T15:59:59.732Z"
   },
   {
    "duration": 173,
    "start_time": "2023-03-12T16:00:21.383Z"
   },
   {
    "duration": 1288,
    "start_time": "2023-03-12T16:44:56.803Z"
   },
   {
    "duration": 12,
    "start_time": "2023-03-12T16:44:58.094Z"
   },
   {
    "duration": 881,
    "start_time": "2023-03-12T16:44:58.108Z"
   },
   {
    "duration": 1073,
    "start_time": "2023-03-12T16:44:58.990Z"
   },
   {
    "duration": 57,
    "start_time": "2023-03-12T16:45:00.065Z"
   },
   {
    "duration": 212,
    "start_time": "2023-03-12T16:45:00.124Z"
   },
   {
    "duration": 151,
    "start_time": "2023-03-12T16:45:00.339Z"
   },
   {
    "duration": 106,
    "start_time": "2023-03-12T16:45:00.492Z"
   },
   {
    "duration": 148,
    "start_time": "2023-03-12T16:45:00.600Z"
   },
   {
    "duration": 46,
    "start_time": "2023-03-12T16:45:00.751Z"
   },
   {
    "duration": 1130,
    "start_time": "2023-03-12T16:45:00.822Z"
   },
   {
    "duration": 112,
    "start_time": "2023-03-12T16:45:01.954Z"
   },
   {
    "duration": 350,
    "start_time": "2023-03-12T16:45:02.068Z"
   },
   {
    "duration": 32,
    "start_time": "2023-03-12T16:45:02.420Z"
   },
   {
    "duration": 546,
    "start_time": "2023-03-12T16:45:02.454Z"
   },
   {
    "duration": 52,
    "start_time": "2023-03-12T16:45:03.002Z"
   },
   {
    "duration": 9,
    "start_time": "2023-03-12T16:45:03.056Z"
   },
   {
    "duration": 88,
    "start_time": "2023-03-12T16:45:03.067Z"
   },
   {
    "duration": 418,
    "start_time": "2023-03-12T16:45:03.157Z"
   },
   {
    "duration": 187,
    "start_time": "2023-03-12T16:45:03.577Z"
   },
   {
    "duration": 192,
    "start_time": "2023-03-12T16:45:03.765Z"
   },
   {
    "duration": 185,
    "start_time": "2023-03-12T16:45:03.959Z"
   },
   {
    "duration": 79,
    "start_time": "2023-03-12T16:48:55.194Z"
   },
   {
    "duration": 201,
    "start_time": "2023-03-12T16:48:59.422Z"
   },
   {
    "duration": 10,
    "start_time": "2023-03-12T17:13:47.626Z"
   },
   {
    "duration": 5,
    "start_time": "2023-03-12T17:16:09.915Z"
   },
   {
    "duration": 378,
    "start_time": "2023-03-12T17:16:19.907Z"
   },
   {
    "duration": 331,
    "start_time": "2023-03-12T17:17:19.900Z"
   },
   {
    "duration": 336,
    "start_time": "2023-03-12T17:17:28.631Z"
   },
   {
    "duration": 355,
    "start_time": "2023-03-12T17:17:38.804Z"
   },
   {
    "duration": 292,
    "start_time": "2023-03-12T17:17:53.503Z"
   },
   {
    "duration": 249,
    "start_time": "2023-03-12T17:17:57.105Z"
   },
   {
    "duration": 258,
    "start_time": "2023-03-12T17:19:12.096Z"
   },
   {
    "duration": 252,
    "start_time": "2023-03-12T17:19:23.498Z"
   },
   {
    "duration": 352,
    "start_time": "2023-03-12T17:20:32.754Z"
   },
   {
    "duration": 525,
    "start_time": "2023-03-12T17:20:41.606Z"
   },
   {
    "duration": 107,
    "start_time": "2023-03-12T17:22:50.038Z"
   },
   {
    "duration": 282,
    "start_time": "2023-03-12T17:22:56.314Z"
   },
   {
    "duration": 250,
    "start_time": "2023-03-12T17:25:59.811Z"
   },
   {
    "duration": 269,
    "start_time": "2023-03-12T17:26:06.998Z"
   },
   {
    "duration": 15,
    "start_time": "2023-03-12T17:26:42.942Z"
   },
   {
    "duration": 253,
    "start_time": "2023-03-12T17:27:15.540Z"
   },
   {
    "duration": 44,
    "start_time": "2023-03-12T17:34:14.586Z"
   },
   {
    "duration": 5,
    "start_time": "2023-03-12T17:34:57.702Z"
   },
   {
    "duration": 73,
    "start_time": "2023-03-12T17:35:16.754Z"
   },
   {
    "duration": 75,
    "start_time": "2023-03-12T17:36:27.737Z"
   },
   {
    "duration": 296,
    "start_time": "2023-03-12T17:36:32.808Z"
   },
   {
    "duration": 119,
    "start_time": "2023-03-12T17:45:10.320Z"
   },
   {
    "duration": 97,
    "start_time": "2023-03-12T17:59:17.184Z"
   },
   {
    "duration": 82,
    "start_time": "2023-03-12T18:40:23.606Z"
   },
   {
    "duration": 91,
    "start_time": "2023-03-12T18:40:55.153Z"
   },
   {
    "duration": 1577,
    "start_time": "2023-03-12T18:41:13.941Z"
   },
   {
    "duration": 1414,
    "start_time": "2023-03-12T18:42:58.152Z"
   },
   {
    "duration": 1400,
    "start_time": "2023-03-12T18:43:39.115Z"
   },
   {
    "duration": 1275,
    "start_time": "2023-03-12T18:44:25.628Z"
   },
   {
    "duration": 1383,
    "start_time": "2023-03-12T18:45:09.782Z"
   },
   {
    "duration": 1323,
    "start_time": "2023-03-12T18:46:03.351Z"
   },
   {
    "duration": 1364,
    "start_time": "2023-03-12T18:46:17.282Z"
   },
   {
    "duration": 1626,
    "start_time": "2023-03-12T18:47:19.956Z"
   },
   {
    "duration": 1355,
    "start_time": "2023-03-12T18:47:31.088Z"
   },
   {
    "duration": 1358,
    "start_time": "2023-03-12T18:48:08.451Z"
   },
   {
    "duration": 12,
    "start_time": "2023-03-12T18:55:19.681Z"
   },
   {
    "duration": 8,
    "start_time": "2023-03-12T18:55:46.747Z"
   },
   {
    "duration": 87,
    "start_time": "2023-03-12T19:09:22.404Z"
   },
   {
    "duration": 92,
    "start_time": "2023-03-12T19:11:02.159Z"
   },
   {
    "duration": 82,
    "start_time": "2023-03-12T19:11:11.116Z"
   },
   {
    "duration": 90,
    "start_time": "2023-03-12T19:11:42.644Z"
   },
   {
    "duration": 99,
    "start_time": "2023-03-12T19:11:54.800Z"
   },
   {
    "duration": 126,
    "start_time": "2023-03-12T19:12:04.894Z"
   },
   {
    "duration": 138,
    "start_time": "2023-03-12T19:12:34.501Z"
   },
   {
    "duration": 95,
    "start_time": "2023-03-12T19:12:49.718Z"
   },
   {
    "duration": 78,
    "start_time": "2023-03-12T19:12:55.746Z"
   },
   {
    "duration": 167,
    "start_time": "2023-03-12T19:12:59.606Z"
   },
   {
    "duration": 113,
    "start_time": "2023-03-12T19:13:08.047Z"
   },
   {
    "duration": 1413,
    "start_time": "2023-03-13T17:05:48.047Z"
   },
   {
    "duration": 10,
    "start_time": "2023-03-13T17:05:49.463Z"
   },
   {
    "duration": 879,
    "start_time": "2023-03-13T17:05:49.475Z"
   },
   {
    "duration": 995,
    "start_time": "2023-03-13T17:05:50.355Z"
   },
   {
    "duration": 52,
    "start_time": "2023-03-13T17:05:51.353Z"
   },
   {
    "duration": 34,
    "start_time": "2023-03-13T17:05:51.407Z"
   },
   {
    "duration": 126,
    "start_time": "2023-03-13T17:05:51.443Z"
   },
   {
    "duration": 121,
    "start_time": "2023-03-13T17:05:51.571Z"
   },
   {
    "duration": 294,
    "start_time": "2023-03-13T17:05:51.694Z"
   },
   {
    "duration": 101,
    "start_time": "2023-03-13T17:05:51.990Z"
   },
   {
    "duration": 1830,
    "start_time": "2023-03-13T17:05:52.093Z"
   },
   {
    "duration": 105,
    "start_time": "2023-03-13T17:05:53.925Z"
   },
   {
    "duration": 238,
    "start_time": "2023-03-13T17:05:54.032Z"
   },
   {
    "duration": 28,
    "start_time": "2023-03-13T17:05:54.273Z"
   },
   {
    "duration": 40,
    "start_time": "2023-03-13T17:05:54.303Z"
   },
   {
    "duration": 270,
    "start_time": "2023-03-13T17:05:54.346Z"
   },
   {
    "duration": 45,
    "start_time": "2023-03-13T17:05:54.618Z"
   },
   {
    "duration": 550,
    "start_time": "2023-03-13T17:05:54.664Z"
   },
   {
    "duration": 80,
    "start_time": "2023-03-13T17:05:55.216Z"
   },
   {
    "duration": 267,
    "start_time": "2023-03-13T17:05:55.298Z"
   },
   {
    "duration": 183,
    "start_time": "2023-03-13T17:05:55.566Z"
   },
   {
    "duration": 418,
    "start_time": "2023-03-13T17:05:55.750Z"
   },
   {
    "duration": 10,
    "start_time": "2023-03-13T17:05:56.170Z"
   },
   {
    "duration": 71,
    "start_time": "2023-03-13T17:05:56.187Z"
   },
   {
    "duration": 0,
    "start_time": "2023-03-13T17:05:56.260Z"
   },
   {
    "duration": 25,
    "start_time": "2023-03-13T17:06:11.553Z"
   },
   {
    "duration": 27,
    "start_time": "2023-03-13T17:06:52.972Z"
   },
   {
    "duration": 21,
    "start_time": "2023-03-13T17:07:12.053Z"
   },
   {
    "duration": 26,
    "start_time": "2023-03-13T17:07:18.253Z"
   },
   {
    "duration": 26,
    "start_time": "2023-03-13T17:08:18.088Z"
   },
   {
    "duration": 237,
    "start_time": "2023-03-13T17:08:53.619Z"
   },
   {
    "duration": 34,
    "start_time": "2023-03-13T17:10:11.175Z"
   },
   {
    "duration": 33,
    "start_time": "2023-03-13T17:10:43.572Z"
   },
   {
    "duration": 34,
    "start_time": "2023-03-13T17:11:15.673Z"
   },
   {
    "duration": 35,
    "start_time": "2023-03-13T17:11:28.308Z"
   },
   {
    "duration": 376,
    "start_time": "2023-03-13T17:12:44.777Z"
   },
   {
    "duration": 396,
    "start_time": "2023-03-13T17:12:59.407Z"
   },
   {
    "duration": 1207,
    "start_time": "2023-03-13T17:13:13.709Z"
   },
   {
    "duration": 12,
    "start_time": "2023-03-13T17:13:14.919Z"
   },
   {
    "duration": 207,
    "start_time": "2023-03-13T17:13:14.932Z"
   },
   {
    "duration": 1089,
    "start_time": "2023-03-13T17:13:15.142Z"
   },
   {
    "duration": 60,
    "start_time": "2023-03-13T17:13:16.233Z"
   },
   {
    "duration": 37,
    "start_time": "2023-03-13T17:13:16.295Z"
   },
   {
    "duration": 120,
    "start_time": "2023-03-13T17:13:16.334Z"
   },
   {
    "duration": 110,
    "start_time": "2023-03-13T17:13:16.456Z"
   },
   {
    "duration": 148,
    "start_time": "2023-03-13T17:13:16.568Z"
   },
   {
    "duration": 46,
    "start_time": "2023-03-13T17:13:16.719Z"
   },
   {
    "duration": 1092,
    "start_time": "2023-03-13T17:13:16.786Z"
   },
   {
    "duration": 116,
    "start_time": "2023-03-13T17:13:17.880Z"
   },
   {
    "duration": 324,
    "start_time": "2023-03-13T17:13:17.997Z"
   },
   {
    "duration": 26,
    "start_time": "2023-03-13T17:13:18.323Z"
   },
   {
    "duration": 48,
    "start_time": "2023-03-13T17:13:18.351Z"
   },
   {
    "duration": 247,
    "start_time": "2023-03-13T17:13:18.401Z"
   },
   {
    "duration": 41,
    "start_time": "2023-03-13T17:13:18.649Z"
   },
   {
    "duration": 550,
    "start_time": "2023-03-13T17:13:18.692Z"
   },
   {
    "duration": 85,
    "start_time": "2023-03-13T17:13:19.244Z"
   },
   {
    "duration": 257,
    "start_time": "2023-03-13T17:13:19.330Z"
   },
   {
    "duration": 178,
    "start_time": "2023-03-13T17:13:19.589Z"
   },
   {
    "duration": 423,
    "start_time": "2023-03-13T17:13:19.769Z"
   },
   {
    "duration": 11,
    "start_time": "2023-03-13T17:13:20.194Z"
   },
   {
    "duration": 90,
    "start_time": "2023-03-13T17:13:20.206Z"
   },
   {
    "duration": 0,
    "start_time": "2023-03-13T17:13:20.298Z"
   },
   {
    "duration": 39,
    "start_time": "2023-03-13T17:13:48.212Z"
   },
   {
    "duration": 36,
    "start_time": "2023-03-13T17:13:57.556Z"
   },
   {
    "duration": 60,
    "start_time": "2023-03-13T17:18:33.272Z"
   },
   {
    "duration": 106,
    "start_time": "2023-03-13T17:18:53.679Z"
   },
   {
    "duration": 248,
    "start_time": "2023-03-13T17:19:05.818Z"
   },
   {
    "duration": 28,
    "start_time": "2023-03-13T17:20:30.943Z"
   },
   {
    "duration": 7,
    "start_time": "2023-03-13T17:22:05.038Z"
   },
   {
    "duration": 7,
    "start_time": "2023-03-13T17:22:15.537Z"
   },
   {
    "duration": 8,
    "start_time": "2023-03-13T17:22:21.898Z"
   },
   {
    "duration": 11,
    "start_time": "2023-03-13T17:22:31.652Z"
   },
   {
    "duration": 9,
    "start_time": "2023-03-13T17:27:28.124Z"
   },
   {
    "duration": 9,
    "start_time": "2023-03-13T17:27:38.806Z"
   },
   {
    "duration": 8,
    "start_time": "2023-03-13T17:31:13.805Z"
   },
   {
    "duration": 81,
    "start_time": "2023-03-13T17:34:46.031Z"
   },
   {
    "duration": 71,
    "start_time": "2023-03-13T17:34:57.726Z"
   },
   {
    "duration": 11,
    "start_time": "2023-03-13T17:37:12.636Z"
   },
   {
    "duration": 76,
    "start_time": "2023-03-13T17:37:23.033Z"
   },
   {
    "duration": 11,
    "start_time": "2023-03-13T17:37:25.790Z"
   },
   {
    "duration": 12,
    "start_time": "2023-03-13T17:43:06.944Z"
   },
   {
    "duration": 17,
    "start_time": "2023-03-13T17:43:28.102Z"
   },
   {
    "duration": 13,
    "start_time": "2023-03-13T17:44:58.092Z"
   },
   {
    "duration": 1293,
    "start_time": "2023-03-13T17:45:08.797Z"
   },
   {
    "duration": 13,
    "start_time": "2023-03-13T17:45:10.093Z"
   },
   {
    "duration": 214,
    "start_time": "2023-03-13T17:45:10.108Z"
   },
   {
    "duration": 1072,
    "start_time": "2023-03-13T17:45:10.324Z"
   },
   {
    "duration": 47,
    "start_time": "2023-03-13T17:45:11.398Z"
   },
   {
    "duration": 56,
    "start_time": "2023-03-13T17:45:11.446Z"
   },
   {
    "duration": 112,
    "start_time": "2023-03-13T17:45:11.504Z"
   },
   {
    "duration": 111,
    "start_time": "2023-03-13T17:45:11.618Z"
   },
   {
    "duration": 164,
    "start_time": "2023-03-13T17:45:11.730Z"
   },
   {
    "duration": 45,
    "start_time": "2023-03-13T17:45:11.897Z"
   },
   {
    "duration": 1457,
    "start_time": "2023-03-13T17:45:11.944Z"
   },
   {
    "duration": 198,
    "start_time": "2023-03-13T17:45:13.403Z"
   },
   {
    "duration": 701,
    "start_time": "2023-03-13T17:45:13.602Z"
   },
   {
    "duration": 86,
    "start_time": "2023-03-13T17:45:14.307Z"
   },
   {
    "duration": 357,
    "start_time": "2023-03-13T17:45:14.394Z"
   },
   {
    "duration": 42,
    "start_time": "2023-03-13T17:45:14.764Z"
   },
   {
    "duration": 574,
    "start_time": "2023-03-13T17:45:14.808Z"
   },
   {
    "duration": 162,
    "start_time": "2023-03-13T17:45:15.386Z"
   },
   {
    "duration": 0,
    "start_time": "2023-03-13T17:45:15.550Z"
   },
   {
    "duration": 0,
    "start_time": "2023-03-13T17:45:15.552Z"
   },
   {
    "duration": 0,
    "start_time": "2023-03-13T17:45:15.553Z"
   },
   {
    "duration": 0,
    "start_time": "2023-03-13T17:45:15.555Z"
   },
   {
    "duration": 0,
    "start_time": "2023-03-13T17:45:15.556Z"
   },
   {
    "duration": 0,
    "start_time": "2023-03-13T17:45:15.559Z"
   },
   {
    "duration": 0,
    "start_time": "2023-03-13T17:45:15.560Z"
   },
   {
    "duration": 0,
    "start_time": "2023-03-13T17:45:15.562Z"
   },
   {
    "duration": 0,
    "start_time": "2023-03-13T17:45:15.563Z"
   },
   {
    "duration": 63,
    "start_time": "2023-03-13T17:46:08.632Z"
   },
   {
    "duration": 258,
    "start_time": "2023-03-13T17:46:11.874Z"
   },
   {
    "duration": 190,
    "start_time": "2023-03-13T17:46:17.439Z"
   },
   {
    "duration": 417,
    "start_time": "2023-03-13T17:46:22.200Z"
   },
   {
    "duration": 11,
    "start_time": "2023-03-13T17:46:29.202Z"
   },
   {
    "duration": 4,
    "start_time": "2023-03-13T17:51:39.324Z"
   },
   {
    "duration": 9,
    "start_time": "2023-03-13T17:51:50.504Z"
   },
   {
    "duration": 10,
    "start_time": "2023-03-13T17:52:13.335Z"
   },
   {
    "duration": 4,
    "start_time": "2023-03-13T17:52:16.429Z"
   },
   {
    "duration": 11,
    "start_time": "2023-03-13T17:52:59.909Z"
   },
   {
    "duration": 9,
    "start_time": "2023-03-13T17:53:07.711Z"
   },
   {
    "duration": 30,
    "start_time": "2023-03-13T17:53:47.713Z"
   },
   {
    "duration": 1246,
    "start_time": "2023-03-13T17:54:25.233Z"
   },
   {
    "duration": 7,
    "start_time": "2023-03-13T17:54:41.631Z"
   },
   {
    "duration": 1250,
    "start_time": "2023-03-13T17:55:02.596Z"
   },
   {
    "duration": 1228,
    "start_time": "2023-03-13T17:55:38.505Z"
   },
   {
    "duration": 9,
    "start_time": "2023-03-13T17:55:56.028Z"
   },
   {
    "duration": 1208,
    "start_time": "2023-03-13T17:56:37.901Z"
   },
   {
    "duration": 10,
    "start_time": "2023-03-13T17:57:06.617Z"
   },
   {
    "duration": 13,
    "start_time": "2023-03-13T17:57:59.603Z"
   },
   {
    "duration": 11,
    "start_time": "2023-03-13T17:58:14.500Z"
   },
   {
    "duration": 13,
    "start_time": "2023-03-13T17:58:23.101Z"
   },
   {
    "duration": 1202,
    "start_time": "2023-03-13T17:58:32.922Z"
   },
   {
    "duration": 10,
    "start_time": "2023-03-13T17:58:34.126Z"
   },
   {
    "duration": 240,
    "start_time": "2023-03-13T17:58:34.138Z"
   },
   {
    "duration": 1129,
    "start_time": "2023-03-13T17:58:34.380Z"
   },
   {
    "duration": 46,
    "start_time": "2023-03-13T17:58:35.511Z"
   },
   {
    "duration": 58,
    "start_time": "2023-03-13T17:58:35.559Z"
   },
   {
    "duration": 123,
    "start_time": "2023-03-13T17:58:35.618Z"
   },
   {
    "duration": 125,
    "start_time": "2023-03-13T17:58:35.743Z"
   },
   {
    "duration": 155,
    "start_time": "2023-03-13T17:58:35.870Z"
   },
   {
    "duration": 65,
    "start_time": "2023-03-13T17:58:36.027Z"
   },
   {
    "duration": 1053,
    "start_time": "2023-03-13T17:58:36.096Z"
   },
   {
    "duration": 105,
    "start_time": "2023-03-13T17:58:37.151Z"
   },
   {
    "duration": 357,
    "start_time": "2023-03-13T17:58:37.258Z"
   },
   {
    "duration": 35,
    "start_time": "2023-03-13T17:58:37.619Z"
   },
   {
    "duration": 274,
    "start_time": "2023-03-13T17:58:37.656Z"
   },
   {
    "duration": 34,
    "start_time": "2023-03-13T17:58:37.933Z"
   },
   {
    "duration": 590,
    "start_time": "2023-03-13T17:58:37.969Z"
   },
   {
    "duration": 69,
    "start_time": "2023-03-13T17:58:38.561Z"
   },
   {
    "duration": 263,
    "start_time": "2023-03-13T17:58:38.632Z"
   },
   {
    "duration": 171,
    "start_time": "2023-03-13T17:58:38.898Z"
   },
   {
    "duration": 431,
    "start_time": "2023-03-13T17:58:39.071Z"
   },
   {
    "duration": 106,
    "start_time": "2023-03-13T17:58:39.503Z"
   },
   {
    "duration": 0,
    "start_time": "2023-03-13T17:58:39.611Z"
   },
   {
    "duration": 0,
    "start_time": "2023-03-13T17:58:39.612Z"
   },
   {
    "duration": 0,
    "start_time": "2023-03-13T17:58:39.628Z"
   },
   {
    "duration": 0,
    "start_time": "2023-03-13T17:58:39.630Z"
   },
   {
    "duration": 0,
    "start_time": "2023-03-13T17:58:39.631Z"
   },
   {
    "duration": 0,
    "start_time": "2023-03-13T17:58:39.632Z"
   },
   {
    "duration": 9,
    "start_time": "2023-03-13T17:59:14.532Z"
   },
   {
    "duration": 5,
    "start_time": "2023-03-13T17:59:29.000Z"
   },
   {
    "duration": 10,
    "start_time": "2023-03-13T17:59:35.617Z"
   },
   {
    "duration": 1261,
    "start_time": "2023-03-13T18:00:06.207Z"
   },
   {
    "duration": 17,
    "start_time": "2023-03-13T18:00:07.470Z"
   },
   {
    "duration": 225,
    "start_time": "2023-03-13T18:00:07.491Z"
   },
   {
    "duration": 1061,
    "start_time": "2023-03-13T18:00:07.718Z"
   },
   {
    "duration": 58,
    "start_time": "2023-03-13T18:00:08.782Z"
   },
   {
    "duration": 55,
    "start_time": "2023-03-13T18:00:08.842Z"
   },
   {
    "duration": 114,
    "start_time": "2023-03-13T18:00:08.898Z"
   },
   {
    "duration": 116,
    "start_time": "2023-03-13T18:00:09.014Z"
   },
   {
    "duration": 151,
    "start_time": "2023-03-13T18:00:09.132Z"
   },
   {
    "duration": 48,
    "start_time": "2023-03-13T18:00:09.287Z"
   },
   {
    "duration": 1171,
    "start_time": "2023-03-13T18:00:09.336Z"
   },
   {
    "duration": 113,
    "start_time": "2023-03-13T18:00:10.509Z"
   },
   {
    "duration": 343,
    "start_time": "2023-03-13T18:00:10.624Z"
   },
   {
    "duration": 42,
    "start_time": "2023-03-13T18:00:10.970Z"
   },
   {
    "duration": 264,
    "start_time": "2023-03-13T18:00:11.014Z"
   },
   {
    "duration": 47,
    "start_time": "2023-03-13T18:00:11.290Z"
   },
   {
    "duration": 614,
    "start_time": "2023-03-13T18:00:11.339Z"
   },
   {
    "duration": 75,
    "start_time": "2023-03-13T18:00:11.955Z"
   },
   {
    "duration": 267,
    "start_time": "2023-03-13T18:00:12.032Z"
   },
   {
    "duration": 196,
    "start_time": "2023-03-13T18:00:12.301Z"
   },
   {
    "duration": 443,
    "start_time": "2023-03-13T18:00:12.498Z"
   },
   {
    "duration": 3,
    "start_time": "2023-03-13T18:00:12.943Z"
   },
   {
    "duration": 54,
    "start_time": "2023-03-13T18:00:12.947Z"
   },
   {
    "duration": 10,
    "start_time": "2023-03-13T18:00:13.003Z"
   },
   {
    "duration": 11,
    "start_time": "2023-03-13T18:00:13.014Z"
   },
   {
    "duration": 63,
    "start_time": "2023-03-13T18:00:13.027Z"
   },
   {
    "duration": 97,
    "start_time": "2023-03-13T18:00:13.092Z"
   },
   {
    "duration": 0,
    "start_time": "2023-03-13T18:00:13.191Z"
   },
   {
    "duration": 5,
    "start_time": "2023-03-13T18:01:16.032Z"
   },
   {
    "duration": 10,
    "start_time": "2023-03-13T18:01:22.796Z"
   },
   {
    "duration": 14,
    "start_time": "2023-03-13T18:02:25.286Z"
   },
   {
    "duration": 10,
    "start_time": "2023-03-13T18:02:44.076Z"
   },
   {
    "duration": 15,
    "start_time": "2023-03-13T18:03:25.249Z"
   },
   {
    "duration": 212,
    "start_time": "2023-03-13T18:08:55.202Z"
   },
   {
    "duration": 205,
    "start_time": "2023-03-13T18:10:30.627Z"
   },
   {
    "duration": 193,
    "start_time": "2023-03-13T18:10:38.957Z"
   },
   {
    "duration": 188,
    "start_time": "2023-03-13T18:14:44.733Z"
   },
   {
    "duration": 126,
    "start_time": "2023-03-13T18:19:30.395Z"
   },
   {
    "duration": 12,
    "start_time": "2023-03-13T18:19:43.094Z"
   },
   {
    "duration": 4,
    "start_time": "2023-03-13T18:19:57.195Z"
   },
   {
    "duration": 18,
    "start_time": "2023-03-13T18:20:49.483Z"
   },
   {
    "duration": 205,
    "start_time": "2023-03-13T18:20:59.199Z"
   },
   {
    "duration": 18,
    "start_time": "2023-03-13T18:28:29.083Z"
   },
   {
    "duration": 10,
    "start_time": "2023-03-13T18:29:41.848Z"
   },
   {
    "duration": 10,
    "start_time": "2023-03-13T18:30:44.705Z"
   },
   {
    "duration": 11,
    "start_time": "2023-03-13T18:32:50.724Z"
   },
   {
    "duration": 104,
    "start_time": "2023-03-13T18:32:56.398Z"
   },
   {
    "duration": 10,
    "start_time": "2023-03-13T18:36:45.839Z"
   },
   {
    "duration": 1368,
    "start_time": "2023-03-14T16:38:48.925Z"
   },
   {
    "duration": 11,
    "start_time": "2023-03-14T16:38:50.296Z"
   },
   {
    "duration": 337,
    "start_time": "2023-03-14T16:38:50.308Z"
   },
   {
    "duration": 1160,
    "start_time": "2023-03-14T16:38:50.647Z"
   },
   {
    "duration": 68,
    "start_time": "2023-03-14T16:38:51.809Z"
   },
   {
    "duration": 49,
    "start_time": "2023-03-14T16:38:51.879Z"
   },
   {
    "duration": 244,
    "start_time": "2023-03-14T16:38:51.930Z"
   },
   {
    "duration": 297,
    "start_time": "2023-03-14T16:38:52.177Z"
   },
   {
    "duration": 307,
    "start_time": "2023-03-14T16:38:52.479Z"
   },
   {
    "duration": 171,
    "start_time": "2023-03-14T16:38:52.788Z"
   },
   {
    "duration": 2312,
    "start_time": "2023-03-14T16:38:52.964Z"
   },
   {
    "duration": 156,
    "start_time": "2023-03-14T16:38:55.277Z"
   },
   {
    "duration": 477,
    "start_time": "2023-03-14T16:38:55.435Z"
   },
   {
    "duration": 374,
    "start_time": "2023-03-14T16:38:55.916Z"
   },
   {
    "duration": 0,
    "start_time": "2023-03-14T16:38:56.292Z"
   },
   {
    "duration": 0,
    "start_time": "2023-03-14T16:38:56.294Z"
   },
   {
    "duration": 0,
    "start_time": "2023-03-14T16:38:56.296Z"
   },
   {
    "duration": 0,
    "start_time": "2023-03-14T16:38:56.297Z"
   },
   {
    "duration": 0,
    "start_time": "2023-03-14T16:38:56.299Z"
   },
   {
    "duration": 0,
    "start_time": "2023-03-14T16:38:56.300Z"
   },
   {
    "duration": 0,
    "start_time": "2023-03-14T16:38:56.301Z"
   },
   {
    "duration": 0,
    "start_time": "2023-03-14T16:38:56.303Z"
   },
   {
    "duration": 0,
    "start_time": "2023-03-14T16:38:56.304Z"
   },
   {
    "duration": 0,
    "start_time": "2023-03-14T16:38:56.306Z"
   },
   {
    "duration": 0,
    "start_time": "2023-03-14T16:38:56.307Z"
   },
   {
    "duration": 0,
    "start_time": "2023-03-14T16:38:56.311Z"
   },
   {
    "duration": 0,
    "start_time": "2023-03-14T16:38:56.315Z"
   },
   {
    "duration": 0,
    "start_time": "2023-03-14T16:38:56.316Z"
   },
   {
    "duration": 0,
    "start_time": "2023-03-14T16:38:56.317Z"
   },
   {
    "duration": 277,
    "start_time": "2023-03-14T16:39:14.373Z"
   },
   {
    "duration": 63,
    "start_time": "2023-03-14T16:39:29.953Z"
   },
   {
    "duration": 63,
    "start_time": "2023-03-14T16:39:58.111Z"
   },
   {
    "duration": 84,
    "start_time": "2023-03-14T16:41:11.278Z"
   },
   {
    "duration": 68,
    "start_time": "2023-03-14T16:41:16.268Z"
   },
   {
    "duration": 317,
    "start_time": "2023-03-14T16:42:13.397Z"
   },
   {
    "duration": 1198,
    "start_time": "2023-03-14T16:42:31.118Z"
   },
   {
    "duration": 9,
    "start_time": "2023-03-14T16:42:32.318Z"
   },
   {
    "duration": 238,
    "start_time": "2023-03-14T16:42:32.329Z"
   },
   {
    "duration": 1133,
    "start_time": "2023-03-14T16:42:32.574Z"
   },
   {
    "duration": 69,
    "start_time": "2023-03-14T16:42:33.708Z"
   },
   {
    "duration": 60,
    "start_time": "2023-03-14T16:42:33.779Z"
   },
   {
    "duration": 121,
    "start_time": "2023-03-14T16:42:33.841Z"
   },
   {
    "duration": 106,
    "start_time": "2023-03-14T16:42:33.970Z"
   },
   {
    "duration": 167,
    "start_time": "2023-03-14T16:42:34.078Z"
   },
   {
    "duration": 78,
    "start_time": "2023-03-14T16:42:34.248Z"
   },
   {
    "duration": 1172,
    "start_time": "2023-03-14T16:42:34.329Z"
   },
   {
    "duration": 133,
    "start_time": "2023-03-14T16:42:35.503Z"
   },
   {
    "duration": 822,
    "start_time": "2023-03-14T16:42:35.638Z"
   },
   {
    "duration": 696,
    "start_time": "2023-03-14T16:42:36.462Z"
   },
   {
    "duration": 0,
    "start_time": "2023-03-14T16:42:37.160Z"
   },
   {
    "duration": 0,
    "start_time": "2023-03-14T16:42:37.162Z"
   },
   {
    "duration": 0,
    "start_time": "2023-03-14T16:42:37.163Z"
   },
   {
    "duration": 0,
    "start_time": "2023-03-14T16:42:37.165Z"
   },
   {
    "duration": 0,
    "start_time": "2023-03-14T16:42:37.166Z"
   },
   {
    "duration": 0,
    "start_time": "2023-03-14T16:42:37.167Z"
   },
   {
    "duration": 0,
    "start_time": "2023-03-14T16:42:37.168Z"
   },
   {
    "duration": 0,
    "start_time": "2023-03-14T16:42:37.170Z"
   },
   {
    "duration": 0,
    "start_time": "2023-03-14T16:42:37.171Z"
   },
   {
    "duration": 0,
    "start_time": "2023-03-14T16:42:37.172Z"
   },
   {
    "duration": 0,
    "start_time": "2023-03-14T16:42:37.173Z"
   },
   {
    "duration": 0,
    "start_time": "2023-03-14T16:42:37.175Z"
   },
   {
    "duration": 0,
    "start_time": "2023-03-14T16:42:37.177Z"
   },
   {
    "duration": 0,
    "start_time": "2023-03-14T16:42:37.178Z"
   },
   {
    "duration": 0,
    "start_time": "2023-03-14T16:42:37.179Z"
   },
   {
    "duration": 86,
    "start_time": "2023-03-14T16:43:00.032Z"
   },
   {
    "duration": 80,
    "start_time": "2023-03-14T16:43:14.174Z"
   },
   {
    "duration": 77,
    "start_time": "2023-03-14T16:43:17.150Z"
   },
   {
    "duration": 86,
    "start_time": "2023-03-14T16:46:01.216Z"
   },
   {
    "duration": 42,
    "start_time": "2023-03-14T16:47:47.976Z"
   },
   {
    "duration": 83,
    "start_time": "2023-03-14T16:47:56.436Z"
   },
   {
    "duration": 81,
    "start_time": "2023-03-14T16:48:02.121Z"
   },
   {
    "duration": 73,
    "start_time": "2023-03-14T16:48:29.011Z"
   },
   {
    "duration": 275,
    "start_time": "2023-03-14T16:49:44.107Z"
   },
   {
    "duration": 13,
    "start_time": "2023-03-14T16:50:22.677Z"
   },
   {
    "duration": 243,
    "start_time": "2023-03-14T16:50:30.644Z"
   },
   {
    "duration": 227,
    "start_time": "2023-03-14T16:52:19.920Z"
   },
   {
    "duration": 66,
    "start_time": "2023-03-14T16:54:01.220Z"
   },
   {
    "duration": 250,
    "start_time": "2023-03-14T16:54:04.537Z"
   },
   {
    "duration": 231,
    "start_time": "2023-03-14T16:54:11.692Z"
   },
   {
    "duration": 81,
    "start_time": "2023-03-14T16:54:37.094Z"
   },
   {
    "duration": 1237,
    "start_time": "2023-03-14T16:54:42.856Z"
   },
   {
    "duration": 14,
    "start_time": "2023-03-14T16:54:44.096Z"
   },
   {
    "duration": 228,
    "start_time": "2023-03-14T16:54:44.112Z"
   },
   {
    "duration": 1274,
    "start_time": "2023-03-14T16:54:44.342Z"
   },
   {
    "duration": 91,
    "start_time": "2023-03-14T16:54:45.621Z"
   },
   {
    "duration": 74,
    "start_time": "2023-03-14T16:54:45.714Z"
   },
   {
    "duration": 152,
    "start_time": "2023-03-14T16:54:45.795Z"
   },
   {
    "duration": 119,
    "start_time": "2023-03-14T16:54:45.948Z"
   },
   {
    "duration": 172,
    "start_time": "2023-03-14T16:54:46.070Z"
   },
   {
    "duration": 76,
    "start_time": "2023-03-14T16:54:46.244Z"
   },
   {
    "duration": 1778,
    "start_time": "2023-03-14T16:54:46.321Z"
   },
   {
    "duration": 277,
    "start_time": "2023-03-14T16:54:48.101Z"
   },
   {
    "duration": 714,
    "start_time": "2023-03-14T16:54:48.380Z"
   },
   {
    "duration": 263,
    "start_time": "2023-03-14T16:54:49.097Z"
   },
   {
    "duration": 616,
    "start_time": "2023-03-14T16:54:49.366Z"
   },
   {
    "duration": 538,
    "start_time": "2023-03-14T16:54:49.984Z"
   },
   {
    "duration": 49,
    "start_time": "2023-03-14T16:54:50.524Z"
   },
   {
    "duration": 213,
    "start_time": "2023-03-14T16:54:50.575Z"
   },
   {
    "duration": 619,
    "start_time": "2023-03-14T16:54:50.790Z"
   },
   {
    "duration": 88,
    "start_time": "2023-03-14T16:54:51.412Z"
   },
   {
    "duration": 304,
    "start_time": "2023-03-14T16:54:51.502Z"
   },
   {
    "duration": 198,
    "start_time": "2023-03-14T16:54:51.808Z"
   },
   {
    "duration": 441,
    "start_time": "2023-03-14T16:54:52.008Z"
   },
   {
    "duration": 18,
    "start_time": "2023-03-14T16:54:52.457Z"
   },
   {
    "duration": 209,
    "start_time": "2023-03-14T16:54:52.476Z"
   },
   {
    "duration": 325,
    "start_time": "2023-03-14T16:54:52.688Z"
   },
   {
    "duration": 0,
    "start_time": "2023-03-14T16:54:53.015Z"
   },
   {
    "duration": 0,
    "start_time": "2023-03-14T16:54:53.017Z"
   },
   {
    "duration": 0,
    "start_time": "2023-03-14T16:54:53.018Z"
   },
   {
    "duration": 0,
    "start_time": "2023-03-14T16:54:53.019Z"
   },
   {
    "duration": 14,
    "start_time": "2023-03-14T17:04:58.407Z"
   },
   {
    "duration": 55,
    "start_time": "2023-03-14T17:05:47.734Z"
   },
   {
    "duration": 53,
    "start_time": "2023-03-14T17:06:04.245Z"
   },
   {
    "duration": 42,
    "start_time": "2023-03-14T17:06:13.496Z"
   },
   {
    "duration": 21,
    "start_time": "2023-03-14T17:06:59.383Z"
   },
   {
    "duration": 1219,
    "start_time": "2023-03-14T17:07:11.102Z"
   },
   {
    "duration": 9,
    "start_time": "2023-03-14T17:07:12.323Z"
   },
   {
    "duration": 255,
    "start_time": "2023-03-14T17:07:12.334Z"
   },
   {
    "duration": 1239,
    "start_time": "2023-03-14T17:07:12.591Z"
   },
   {
    "duration": 67,
    "start_time": "2023-03-14T17:07:13.832Z"
   },
   {
    "duration": 33,
    "start_time": "2023-03-14T17:07:13.902Z"
   },
   {
    "duration": 143,
    "start_time": "2023-03-14T17:07:13.936Z"
   },
   {
    "duration": 104,
    "start_time": "2023-03-14T17:07:14.088Z"
   },
   {
    "duration": 147,
    "start_time": "2023-03-14T17:07:14.194Z"
   },
   {
    "duration": 73,
    "start_time": "2023-03-14T17:07:14.343Z"
   },
   {
    "duration": 1203,
    "start_time": "2023-03-14T17:07:14.418Z"
   },
   {
    "duration": 162,
    "start_time": "2023-03-14T17:07:15.624Z"
   },
   {
    "duration": 400,
    "start_time": "2023-03-14T17:07:15.788Z"
   },
   {
    "duration": 88,
    "start_time": "2023-03-14T17:07:16.191Z"
   },
   {
    "duration": 264,
    "start_time": "2023-03-14T17:07:16.283Z"
   },
   {
    "duration": 262,
    "start_time": "2023-03-14T17:07:16.549Z"
   },
   {
    "duration": 1227,
    "start_time": "2023-03-14T17:07:16.813Z"
   },
   {
    "duration": 0,
    "start_time": "2023-03-14T17:07:18.041Z"
   },
   {
    "duration": 0,
    "start_time": "2023-03-14T17:07:18.042Z"
   },
   {
    "duration": 0,
    "start_time": "2023-03-14T17:07:18.043Z"
   },
   {
    "duration": 0,
    "start_time": "2023-03-14T17:07:18.044Z"
   },
   {
    "duration": 0,
    "start_time": "2023-03-14T17:07:18.045Z"
   },
   {
    "duration": 0,
    "start_time": "2023-03-14T17:07:18.046Z"
   },
   {
    "duration": 0,
    "start_time": "2023-03-14T17:07:18.047Z"
   },
   {
    "duration": 0,
    "start_time": "2023-03-14T17:07:18.048Z"
   },
   {
    "duration": 0,
    "start_time": "2023-03-14T17:07:18.049Z"
   },
   {
    "duration": 0,
    "start_time": "2023-03-14T17:07:18.050Z"
   },
   {
    "duration": 0,
    "start_time": "2023-03-14T17:07:18.051Z"
   },
   {
    "duration": 0,
    "start_time": "2023-03-14T17:07:18.052Z"
   },
   {
    "duration": 0,
    "start_time": "2023-03-14T17:07:18.052Z"
   },
   {
    "duration": 0,
    "start_time": "2023-03-14T17:07:18.054Z"
   },
   {
    "duration": 12,
    "start_time": "2023-03-14T17:07:50.986Z"
   },
   {
    "duration": 24,
    "start_time": "2023-03-14T17:08:05.550Z"
   },
   {
    "duration": 76,
    "start_time": "2023-03-14T17:10:40.612Z"
   },
   {
    "duration": 9,
    "start_time": "2023-03-14T17:10:47.736Z"
   },
   {
    "duration": 252,
    "start_time": "2023-03-14T17:10:58.584Z"
   },
   {
    "duration": 17,
    "start_time": "2023-03-14T17:13:17.293Z"
   },
   {
    "duration": 211,
    "start_time": "2023-03-14T17:15:00.502Z"
   },
   {
    "duration": 229,
    "start_time": "2023-03-14T17:17:45.703Z"
   },
   {
    "duration": 219,
    "start_time": "2023-03-14T17:19:29.395Z"
   },
   {
    "duration": 246,
    "start_time": "2023-03-14T17:19:53.957Z"
   },
   {
    "duration": 270,
    "start_time": "2023-03-14T17:21:08.709Z"
   },
   {
    "duration": 255,
    "start_time": "2023-03-14T17:21:32.200Z"
   },
   {
    "duration": 279,
    "start_time": "2023-03-14T17:21:42.529Z"
   },
   {
    "duration": 356,
    "start_time": "2023-03-14T17:22:05.614Z"
   },
   {
    "duration": 247,
    "start_time": "2023-03-14T17:22:34.097Z"
   },
   {
    "duration": 220,
    "start_time": "2023-03-14T17:24:05.718Z"
   },
   {
    "duration": 232,
    "start_time": "2023-03-14T17:24:57.134Z"
   },
   {
    "duration": 251,
    "start_time": "2023-03-14T17:25:07.154Z"
   },
   {
    "duration": 1247,
    "start_time": "2023-03-14T17:41:22.956Z"
   },
   {
    "duration": 12,
    "start_time": "2023-03-14T17:41:24.205Z"
   },
   {
    "duration": 266,
    "start_time": "2023-03-14T17:41:24.219Z"
   },
   {
    "duration": 1323,
    "start_time": "2023-03-14T17:41:24.487Z"
   },
   {
    "duration": 78,
    "start_time": "2023-03-14T17:41:25.814Z"
   },
   {
    "duration": 47,
    "start_time": "2023-03-14T17:41:25.894Z"
   },
   {
    "duration": 144,
    "start_time": "2023-03-14T17:41:25.943Z"
   },
   {
    "duration": 144,
    "start_time": "2023-03-14T17:41:26.092Z"
   },
   {
    "duration": 156,
    "start_time": "2023-03-14T17:41:26.238Z"
   },
   {
    "duration": 74,
    "start_time": "2023-03-14T17:41:26.396Z"
   },
   {
    "duration": 1145,
    "start_time": "2023-03-14T17:41:26.471Z"
   },
   {
    "duration": 108,
    "start_time": "2023-03-14T17:41:27.618Z"
   },
   {
    "duration": 352,
    "start_time": "2023-03-14T17:41:27.727Z"
   },
   {
    "duration": 77,
    "start_time": "2023-03-14T17:41:28.087Z"
   },
   {
    "duration": 278,
    "start_time": "2023-03-14T17:41:28.169Z"
   },
   {
    "duration": 277,
    "start_time": "2023-03-14T17:41:28.449Z"
   },
   {
    "duration": 1101,
    "start_time": "2023-03-14T17:41:28.728Z"
   },
   {
    "duration": 0,
    "start_time": "2023-03-14T17:41:29.831Z"
   },
   {
    "duration": 0,
    "start_time": "2023-03-14T17:41:29.832Z"
   },
   {
    "duration": 0,
    "start_time": "2023-03-14T17:41:29.833Z"
   },
   {
    "duration": 0,
    "start_time": "2023-03-14T17:41:29.834Z"
   },
   {
    "duration": 0,
    "start_time": "2023-03-14T17:41:29.835Z"
   },
   {
    "duration": 0,
    "start_time": "2023-03-14T17:41:29.836Z"
   },
   {
    "duration": 0,
    "start_time": "2023-03-14T17:41:29.838Z"
   },
   {
    "duration": 0,
    "start_time": "2023-03-14T17:41:29.839Z"
   },
   {
    "duration": 0,
    "start_time": "2023-03-14T17:41:29.840Z"
   },
   {
    "duration": 0,
    "start_time": "2023-03-14T17:41:29.841Z"
   },
   {
    "duration": 0,
    "start_time": "2023-03-14T17:41:29.844Z"
   },
   {
    "duration": 0,
    "start_time": "2023-03-14T17:41:29.845Z"
   },
   {
    "duration": 0,
    "start_time": "2023-03-14T17:41:29.846Z"
   },
   {
    "duration": 0,
    "start_time": "2023-03-14T17:41:29.848Z"
   },
   {
    "duration": 1236,
    "start_time": "2023-03-14T17:42:16.192Z"
   },
   {
    "duration": 10,
    "start_time": "2023-03-14T17:42:17.431Z"
   },
   {
    "duration": 210,
    "start_time": "2023-03-14T17:42:17.442Z"
   },
   {
    "duration": 1119,
    "start_time": "2023-03-14T17:42:17.657Z"
   },
   {
    "duration": 65,
    "start_time": "2023-03-14T17:42:18.779Z"
   },
   {
    "duration": 56,
    "start_time": "2023-03-14T17:42:18.846Z"
   },
   {
    "duration": 119,
    "start_time": "2023-03-14T17:42:18.904Z"
   },
   {
    "duration": 116,
    "start_time": "2023-03-14T17:42:19.024Z"
   },
   {
    "duration": 155,
    "start_time": "2023-03-14T17:42:19.141Z"
   },
   {
    "duration": 76,
    "start_time": "2023-03-14T17:42:19.299Z"
   },
   {
    "duration": 1115,
    "start_time": "2023-03-14T17:42:19.377Z"
   },
   {
    "duration": 112,
    "start_time": "2023-03-14T17:42:20.493Z"
   },
   {
    "duration": 342,
    "start_time": "2023-03-14T17:42:20.607Z"
   },
   {
    "duration": 83,
    "start_time": "2023-03-14T17:42:20.956Z"
   },
   {
    "duration": 263,
    "start_time": "2023-03-14T17:42:21.041Z"
   },
   {
    "duration": 268,
    "start_time": "2023-03-14T17:42:21.306Z"
   },
   {
    "duration": 164,
    "start_time": "2023-03-14T17:42:21.575Z"
   },
   {
    "duration": 24,
    "start_time": "2023-03-14T17:42:21.741Z"
   },
   {
    "duration": 42,
    "start_time": "2023-03-14T17:42:21.767Z"
   },
   {
    "duration": 89,
    "start_time": "2023-03-14T17:42:21.810Z"
   },
   {
    "duration": 620,
    "start_time": "2023-03-14T17:42:21.900Z"
   },
   {
    "duration": 70,
    "start_time": "2023-03-14T17:42:22.522Z"
   },
   {
    "duration": 275,
    "start_time": "2023-03-14T17:42:22.594Z"
   },
   {
    "duration": 186,
    "start_time": "2023-03-14T17:42:22.872Z"
   },
   {
    "duration": 431,
    "start_time": "2023-03-14T17:42:23.059Z"
   },
   {
    "duration": 16,
    "start_time": "2023-03-14T17:42:23.492Z"
   },
   {
    "duration": 240,
    "start_time": "2023-03-14T17:42:23.510Z"
   },
   {
    "duration": 0,
    "start_time": "2023-03-14T17:42:23.759Z"
   },
   {
    "duration": 0,
    "start_time": "2023-03-14T17:42:23.760Z"
   },
   {
    "duration": 0,
    "start_time": "2023-03-14T17:42:23.760Z"
   },
   {
    "duration": 0,
    "start_time": "2023-03-14T17:42:23.761Z"
   },
   {
    "duration": 13,
    "start_time": "2023-03-14T17:43:19.894Z"
   },
   {
    "duration": 10,
    "start_time": "2023-03-14T17:46:37.093Z"
   },
   {
    "duration": 219,
    "start_time": "2023-03-14T18:06:01.821Z"
   },
   {
    "duration": 87,
    "start_time": "2023-03-14T18:07:51.522Z"
   },
   {
    "duration": 85,
    "start_time": "2023-03-14T18:08:01.584Z"
   },
   {
    "duration": 18,
    "start_time": "2023-03-14T18:12:27.609Z"
   },
   {
    "duration": 39,
    "start_time": "2023-03-14T18:12:40.675Z"
   },
   {
    "duration": 613,
    "start_time": "2023-03-14T18:15:41.206Z"
   },
   {
    "duration": 686,
    "start_time": "2023-03-14T18:16:30.048Z"
   },
   {
    "duration": 52,
    "start_time": "2023-03-14T18:20:16.486Z"
   },
   {
    "duration": 51,
    "start_time": "2023-03-14T18:20:27.705Z"
   },
   {
    "duration": 50,
    "start_time": "2023-03-14T18:20:52.797Z"
   },
   {
    "duration": 65,
    "start_time": "2023-03-14T18:20:58.026Z"
   },
   {
    "duration": 63,
    "start_time": "2023-03-14T18:39:27.995Z"
   },
   {
    "duration": 96,
    "start_time": "2023-03-14T18:39:46.105Z"
   },
   {
    "duration": 86,
    "start_time": "2023-03-14T18:40:09.564Z"
   },
   {
    "duration": 19,
    "start_time": "2023-03-14T18:43:54.183Z"
   },
   {
    "duration": 36,
    "start_time": "2023-03-14T19:14:16.506Z"
   },
   {
    "duration": 16,
    "start_time": "2023-03-14T19:14:58.652Z"
   },
   {
    "duration": 119,
    "start_time": "2023-03-14T19:15:44.591Z"
   },
   {
    "duration": 41,
    "start_time": "2023-03-14T19:18:08.185Z"
   },
   {
    "duration": 73,
    "start_time": "2023-03-14T19:18:15.644Z"
   },
   {
    "duration": 57,
    "start_time": "2023-03-14T19:20:45.777Z"
   },
   {
    "duration": 49,
    "start_time": "2023-03-14T19:21:06.685Z"
   },
   {
    "duration": 51,
    "start_time": "2023-03-14T19:21:18.090Z"
   },
   {
    "duration": 64,
    "start_time": "2023-03-14T19:21:49.442Z"
   },
   {
    "duration": 64,
    "start_time": "2023-03-14T19:22:24.284Z"
   },
   {
    "duration": 14,
    "start_time": "2023-03-14T19:24:15.692Z"
   },
   {
    "duration": 10,
    "start_time": "2023-03-14T19:26:50.678Z"
   },
   {
    "duration": 39,
    "start_time": "2023-03-14T19:31:44.004Z"
   },
   {
    "duration": 4,
    "start_time": "2023-03-14T19:33:19.613Z"
   },
   {
    "duration": 62,
    "start_time": "2023-03-14T19:33:42.500Z"
   },
   {
    "duration": 47,
    "start_time": "2023-03-14T19:34:04.605Z"
   },
   {
    "duration": 47,
    "start_time": "2023-03-14T19:34:11.707Z"
   },
   {
    "duration": 97,
    "start_time": "2023-03-14T19:34:25.623Z"
   },
   {
    "duration": 53,
    "start_time": "2023-03-14T19:35:27.405Z"
   },
   {
    "duration": 87,
    "start_time": "2023-03-14T19:35:42.325Z"
   },
   {
    "duration": 1292,
    "start_time": "2023-03-14T19:35:47.714Z"
   },
   {
    "duration": 13,
    "start_time": "2023-03-14T19:35:49.009Z"
   },
   {
    "duration": 314,
    "start_time": "2023-03-14T19:35:49.024Z"
   },
   {
    "duration": 1268,
    "start_time": "2023-03-14T19:35:49.339Z"
   },
   {
    "duration": 61,
    "start_time": "2023-03-14T19:35:50.610Z"
   },
   {
    "duration": 52,
    "start_time": "2023-03-14T19:35:50.677Z"
   },
   {
    "duration": 119,
    "start_time": "2023-03-14T19:35:50.730Z"
   },
   {
    "duration": 146,
    "start_time": "2023-03-14T19:35:50.856Z"
   },
   {
    "duration": 151,
    "start_time": "2023-03-14T19:35:51.004Z"
   },
   {
    "duration": 90,
    "start_time": "2023-03-14T19:35:51.157Z"
   },
   {
    "duration": 1270,
    "start_time": "2023-03-14T19:35:51.248Z"
   },
   {
    "duration": 113,
    "start_time": "2023-03-14T19:35:52.520Z"
   },
   {
    "duration": 377,
    "start_time": "2023-03-14T19:35:52.634Z"
   },
   {
    "duration": 91,
    "start_time": "2023-03-14T19:35:53.014Z"
   },
   {
    "duration": 279,
    "start_time": "2023-03-14T19:35:53.107Z"
   },
   {
    "duration": 277,
    "start_time": "2023-03-14T19:35:53.390Z"
   },
   {
    "duration": 214,
    "start_time": "2023-03-14T19:35:53.668Z"
   },
   {
    "duration": 34,
    "start_time": "2023-03-14T19:35:53.884Z"
   },
   {
    "duration": 93,
    "start_time": "2023-03-14T19:35:53.920Z"
   },
   {
    "duration": 731,
    "start_time": "2023-03-14T19:35:54.016Z"
   },
   {
    "duration": 75,
    "start_time": "2023-03-14T19:35:54.748Z"
   },
   {
    "duration": 106,
    "start_time": "2023-03-14T19:35:54.824Z"
   },
   {
    "duration": 28,
    "start_time": "2023-03-14T19:35:54.932Z"
   },
   {
    "duration": 63,
    "start_time": "2023-03-14T19:35:54.967Z"
   },
   {
    "duration": 54,
    "start_time": "2023-03-14T19:35:55.032Z"
   },
   {
    "duration": 6,
    "start_time": "2023-03-14T19:35:55.088Z"
   },
   {
    "duration": 56,
    "start_time": "2023-03-14T19:35:55.096Z"
   },
   {
    "duration": 0,
    "start_time": "2023-03-14T19:35:55.154Z"
   },
   {
    "duration": 0,
    "start_time": "2023-03-14T19:35:55.155Z"
   },
   {
    "duration": 0,
    "start_time": "2023-03-14T19:35:55.156Z"
   },
   {
    "duration": 1,
    "start_time": "2023-03-14T19:35:55.157Z"
   },
   {
    "duration": 0,
    "start_time": "2023-03-14T19:35:55.159Z"
   },
   {
    "duration": 0,
    "start_time": "2023-03-14T19:35:55.160Z"
   },
   {
    "duration": 0,
    "start_time": "2023-03-14T19:35:55.161Z"
   },
   {
    "duration": 0,
    "start_time": "2023-03-14T19:35:55.161Z"
   },
   {
    "duration": 0,
    "start_time": "2023-03-14T19:35:55.162Z"
   },
   {
    "duration": 0,
    "start_time": "2023-03-14T19:35:55.166Z"
   },
   {
    "duration": 0,
    "start_time": "2023-03-14T19:35:55.168Z"
   },
   {
    "duration": 0,
    "start_time": "2023-03-14T19:35:55.169Z"
   },
   {
    "duration": 48,
    "start_time": "2023-03-14T19:36:46.307Z"
   },
   {
    "duration": 82,
    "start_time": "2023-03-14T19:36:49.818Z"
   },
   {
    "duration": 74,
    "start_time": "2023-03-14T19:36:52.929Z"
   },
   {
    "duration": 153,
    "start_time": "2023-03-14T19:37:00.341Z"
   },
   {
    "duration": 11,
    "start_time": "2023-03-14T19:37:46.552Z"
   },
   {
    "duration": 4,
    "start_time": "2023-03-14T19:37:54.429Z"
   },
   {
    "duration": 18,
    "start_time": "2023-03-14T19:37:57.684Z"
   },
   {
    "duration": 4,
    "start_time": "2023-03-14T19:40:01.510Z"
   },
   {
    "duration": 4,
    "start_time": "2023-03-14T19:40:08.440Z"
   },
   {
    "duration": 71,
    "start_time": "2023-03-14T19:43:21.315Z"
   },
   {
    "duration": 1209,
    "start_time": "2023-03-14T19:44:35.795Z"
   },
   {
    "duration": 13,
    "start_time": "2023-03-14T19:44:37.006Z"
   },
   {
    "duration": 229,
    "start_time": "2023-03-14T19:44:37.021Z"
   },
   {
    "duration": 1297,
    "start_time": "2023-03-14T19:44:37.261Z"
   },
   {
    "duration": 73,
    "start_time": "2023-03-14T19:44:38.561Z"
   },
   {
    "duration": 59,
    "start_time": "2023-03-14T19:44:38.636Z"
   },
   {
    "duration": 144,
    "start_time": "2023-03-14T19:44:38.696Z"
   },
   {
    "duration": 139,
    "start_time": "2023-03-14T19:44:38.842Z"
   },
   {
    "duration": 157,
    "start_time": "2023-03-14T19:44:38.993Z"
   },
   {
    "duration": 82,
    "start_time": "2023-03-14T19:44:39.152Z"
   },
   {
    "duration": 1248,
    "start_time": "2023-03-14T19:44:39.235Z"
   },
   {
    "duration": 122,
    "start_time": "2023-03-14T19:44:40.488Z"
   },
   {
    "duration": 346,
    "start_time": "2023-03-14T19:44:40.612Z"
   },
   {
    "duration": 90,
    "start_time": "2023-03-14T19:44:40.967Z"
   },
   {
    "duration": 270,
    "start_time": "2023-03-14T19:44:41.058Z"
   },
   {
    "duration": 282,
    "start_time": "2023-03-14T19:44:41.330Z"
   },
   {
    "duration": 198,
    "start_time": "2023-03-14T19:44:41.614Z"
   },
   {
    "duration": 15,
    "start_time": "2023-03-14T19:44:41.814Z"
   },
   {
    "duration": 64,
    "start_time": "2023-03-14T19:44:41.831Z"
   },
   {
    "duration": 719,
    "start_time": "2023-03-14T19:44:41.898Z"
   },
   {
    "duration": 74,
    "start_time": "2023-03-14T19:44:42.619Z"
   },
   {
    "duration": 89,
    "start_time": "2023-03-14T19:44:42.695Z"
   },
   {
    "duration": 38,
    "start_time": "2023-03-14T19:44:42.786Z"
   },
   {
    "duration": 79,
    "start_time": "2023-03-14T19:44:42.827Z"
   },
   {
    "duration": 72,
    "start_time": "2023-03-14T19:44:42.912Z"
   },
   {
    "duration": 8,
    "start_time": "2023-03-14T19:44:42.995Z"
   },
   {
    "duration": 17,
    "start_time": "2023-03-14T19:44:43.005Z"
   },
   {
    "duration": 4,
    "start_time": "2023-03-14T19:44:43.023Z"
   },
   {
    "duration": 10,
    "start_time": "2023-03-14T19:44:43.029Z"
   },
   {
    "duration": 62,
    "start_time": "2023-03-14T19:44:43.041Z"
   },
   {
    "duration": 79,
    "start_time": "2023-03-14T19:44:43.107Z"
   },
   {
    "duration": 311,
    "start_time": "2023-03-14T19:44:43.195Z"
   },
   {
    "duration": 214,
    "start_time": "2023-03-14T19:44:43.508Z"
   },
   {
    "duration": 481,
    "start_time": "2023-03-14T19:44:43.724Z"
   },
   {
    "duration": 18,
    "start_time": "2023-03-14T19:44:44.207Z"
   },
   {
    "duration": 279,
    "start_time": "2023-03-14T19:44:44.227Z"
   },
   {
    "duration": 0,
    "start_time": "2023-03-14T19:44:44.508Z"
   },
   {
    "duration": 0,
    "start_time": "2023-03-14T19:44:44.509Z"
   },
   {
    "duration": 0,
    "start_time": "2023-03-14T19:44:44.510Z"
   },
   {
    "duration": 0,
    "start_time": "2023-03-14T19:44:44.512Z"
   },
   {
    "duration": 7,
    "start_time": "2023-03-14T19:46:09.633Z"
   },
   {
    "duration": 27,
    "start_time": "2023-03-14T19:46:11.758Z"
   },
   {
    "duration": 7,
    "start_time": "2023-03-14T19:48:34.125Z"
   },
   {
    "duration": 10,
    "start_time": "2023-03-14T19:48:36.039Z"
   },
   {
    "duration": 10,
    "start_time": "2023-03-14T19:48:59.208Z"
   },
   {
    "duration": 28,
    "start_time": "2023-03-14T19:51:29.689Z"
   },
   {
    "duration": 15,
    "start_time": "2023-03-14T19:52:03.084Z"
   },
   {
    "duration": 9,
    "start_time": "2023-03-14T19:53:19.000Z"
   },
   {
    "duration": 1724,
    "start_time": "2023-03-15T17:23:20.578Z"
   },
   {
    "duration": 11,
    "start_time": "2023-03-15T17:23:22.307Z"
   },
   {
    "duration": 938,
    "start_time": "2023-03-15T17:23:22.320Z"
   },
   {
    "duration": 1153,
    "start_time": "2023-03-15T17:23:23.260Z"
   },
   {
    "duration": 51,
    "start_time": "2023-03-15T17:23:24.416Z"
   },
   {
    "duration": 60,
    "start_time": "2023-03-15T17:23:24.470Z"
   },
   {
    "duration": 169,
    "start_time": "2023-03-15T17:23:24.532Z"
   },
   {
    "duration": 116,
    "start_time": "2023-03-15T17:23:24.706Z"
   },
   {
    "duration": 156,
    "start_time": "2023-03-15T17:23:24.824Z"
   },
   {
    "duration": 57,
    "start_time": "2023-03-15T17:23:24.983Z"
   },
   {
    "duration": 1219,
    "start_time": "2023-03-15T17:23:25.042Z"
   },
   {
    "duration": 127,
    "start_time": "2023-03-15T17:23:26.264Z"
   },
   {
    "duration": 286,
    "start_time": "2023-03-15T17:23:26.392Z"
   },
   {
    "duration": 94,
    "start_time": "2023-03-15T17:23:26.680Z"
   },
   {
    "duration": 276,
    "start_time": "2023-03-15T17:23:26.776Z"
   },
   {
    "duration": 281,
    "start_time": "2023-03-15T17:23:27.054Z"
   },
   {
    "duration": 200,
    "start_time": "2023-03-15T17:23:27.338Z"
   },
   {
    "duration": 19,
    "start_time": "2023-03-15T17:23:27.541Z"
   },
   {
    "duration": 67,
    "start_time": "2023-03-15T17:23:27.562Z"
   },
   {
    "duration": 697,
    "start_time": "2023-03-15T17:23:27.631Z"
   },
   {
    "duration": 79,
    "start_time": "2023-03-15T17:23:28.332Z"
   },
   {
    "duration": 99,
    "start_time": "2023-03-15T17:23:28.414Z"
   },
   {
    "duration": 12,
    "start_time": "2023-03-15T17:23:28.515Z"
   },
   {
    "duration": 70,
    "start_time": "2023-03-15T17:23:28.529Z"
   },
   {
    "duration": 54,
    "start_time": "2023-03-15T17:23:28.601Z"
   },
   {
    "duration": 5,
    "start_time": "2023-03-15T17:23:28.657Z"
   },
   {
    "duration": 199,
    "start_time": "2023-03-15T17:23:28.664Z"
   },
   {
    "duration": 0,
    "start_time": "2023-03-15T17:23:28.866Z"
   },
   {
    "duration": 0,
    "start_time": "2023-03-15T17:23:28.868Z"
   },
   {
    "duration": 0,
    "start_time": "2023-03-15T17:23:28.870Z"
   },
   {
    "duration": 0,
    "start_time": "2023-03-15T17:23:28.872Z"
   },
   {
    "duration": 0,
    "start_time": "2023-03-15T17:23:28.889Z"
   },
   {
    "duration": 0,
    "start_time": "2023-03-15T17:23:28.891Z"
   },
   {
    "duration": 0,
    "start_time": "2023-03-15T17:23:28.896Z"
   },
   {
    "duration": 0,
    "start_time": "2023-03-15T17:23:28.897Z"
   },
   {
    "duration": 0,
    "start_time": "2023-03-15T17:23:28.898Z"
   },
   {
    "duration": 0,
    "start_time": "2023-03-15T17:23:28.899Z"
   },
   {
    "duration": 0,
    "start_time": "2023-03-15T17:23:28.901Z"
   },
   {
    "duration": 0,
    "start_time": "2023-03-15T17:23:28.904Z"
   },
   {
    "duration": 0,
    "start_time": "2023-03-15T17:23:28.907Z"
   },
   {
    "duration": 0,
    "start_time": "2023-03-15T17:23:28.908Z"
   },
   {
    "duration": 56,
    "start_time": "2023-03-15T17:23:42.784Z"
   },
   {
    "duration": 51,
    "start_time": "2023-03-15T17:24:58.572Z"
   },
   {
    "duration": 13,
    "start_time": "2023-03-15T17:25:00.581Z"
   },
   {
    "duration": 15,
    "start_time": "2023-03-15T17:25:02.976Z"
   },
   {
    "duration": 19,
    "start_time": "2023-03-15T17:25:50.923Z"
   },
   {
    "duration": 6,
    "start_time": "2023-03-15T17:26:12.448Z"
   },
   {
    "duration": 5,
    "start_time": "2023-03-15T17:26:23.879Z"
   },
   {
    "duration": 5,
    "start_time": "2023-03-15T17:26:38.544Z"
   },
   {
    "duration": 5,
    "start_time": "2023-03-15T17:26:43.578Z"
   },
   {
    "duration": 8,
    "start_time": "2023-03-15T17:26:47.697Z"
   },
   {
    "duration": 11,
    "start_time": "2023-03-15T17:26:57.754Z"
   },
   {
    "duration": 324,
    "start_time": "2023-03-15T17:33:43.949Z"
   },
   {
    "duration": 364,
    "start_time": "2023-03-15T17:34:02.947Z"
   },
   {
    "duration": 17,
    "start_time": "2023-03-15T17:37:05.819Z"
   },
   {
    "duration": 266,
    "start_time": "2023-03-15T17:40:48.461Z"
   },
   {
    "duration": 253,
    "start_time": "2023-03-15T17:42:35.002Z"
   },
   {
    "duration": 11,
    "start_time": "2023-03-15T17:48:12.184Z"
   },
   {
    "duration": 15,
    "start_time": "2023-03-15T17:48:53.504Z"
   },
   {
    "duration": 32,
    "start_time": "2023-03-15T18:01:34.051Z"
   },
   {
    "duration": 1211,
    "start_time": "2023-03-15T18:01:45.359Z"
   },
   {
    "duration": 21,
    "start_time": "2023-03-15T18:01:46.572Z"
   },
   {
    "duration": 210,
    "start_time": "2023-03-15T18:01:46.595Z"
   },
   {
    "duration": 1165,
    "start_time": "2023-03-15T18:01:46.807Z"
   },
   {
    "duration": 60,
    "start_time": "2023-03-15T18:01:47.975Z"
   },
   {
    "duration": 33,
    "start_time": "2023-03-15T18:01:48.037Z"
   },
   {
    "duration": 111,
    "start_time": "2023-03-15T18:01:48.092Z"
   },
   {
    "duration": 116,
    "start_time": "2023-03-15T18:01:48.205Z"
   },
   {
    "duration": 147,
    "start_time": "2023-03-15T18:01:48.323Z"
   },
   {
    "duration": 68,
    "start_time": "2023-03-15T18:01:48.472Z"
   },
   {
    "duration": 1165,
    "start_time": "2023-03-15T18:01:48.542Z"
   },
   {
    "duration": 121,
    "start_time": "2023-03-15T18:01:49.709Z"
   },
   {
    "duration": 400,
    "start_time": "2023-03-15T18:01:49.834Z"
   },
   {
    "duration": 102,
    "start_time": "2023-03-15T18:01:50.238Z"
   },
   {
    "duration": 269,
    "start_time": "2023-03-15T18:01:50.342Z"
   },
   {
    "duration": 304,
    "start_time": "2023-03-15T18:01:50.614Z"
   },
   {
    "duration": 185,
    "start_time": "2023-03-15T18:01:50.920Z"
   },
   {
    "duration": 15,
    "start_time": "2023-03-15T18:01:51.107Z"
   },
   {
    "duration": 213,
    "start_time": "2023-03-15T18:01:51.124Z"
   },
   {
    "duration": 554,
    "start_time": "2023-03-15T18:01:51.339Z"
   },
   {
    "duration": 64,
    "start_time": "2023-03-15T18:01:51.895Z"
   },
   {
    "duration": 109,
    "start_time": "2023-03-15T18:01:51.961Z"
   },
   {
    "duration": 22,
    "start_time": "2023-03-15T18:01:52.072Z"
   },
   {
    "duration": 268,
    "start_time": "2023-03-15T18:01:52.095Z"
   },
   {
    "duration": 29,
    "start_time": "2023-03-15T18:01:52.365Z"
   },
   {
    "duration": 112,
    "start_time": "2023-03-15T18:01:52.401Z"
   },
   {
    "duration": 44,
    "start_time": "2023-03-15T18:01:52.514Z"
   },
   {
    "duration": 6,
    "start_time": "2023-03-15T18:01:52.560Z"
   },
   {
    "duration": 46,
    "start_time": "2023-03-15T18:01:52.568Z"
   },
   {
    "duration": 10,
    "start_time": "2023-03-15T18:01:52.616Z"
   },
   {
    "duration": 133,
    "start_time": "2023-03-15T18:01:52.627Z"
   },
   {
    "duration": 0,
    "start_time": "2023-03-15T18:01:52.762Z"
   },
   {
    "duration": 0,
    "start_time": "2023-03-15T18:01:52.764Z"
   },
   {
    "duration": 0,
    "start_time": "2023-03-15T18:01:52.766Z"
   },
   {
    "duration": 0,
    "start_time": "2023-03-15T18:01:52.768Z"
   },
   {
    "duration": 0,
    "start_time": "2023-03-15T18:01:52.770Z"
   },
   {
    "duration": 0,
    "start_time": "2023-03-15T18:01:52.789Z"
   },
   {
    "duration": 0,
    "start_time": "2023-03-15T18:01:52.790Z"
   },
   {
    "duration": 0,
    "start_time": "2023-03-15T18:01:52.791Z"
   },
   {
    "duration": 0,
    "start_time": "2023-03-15T18:01:52.793Z"
   },
   {
    "duration": 0,
    "start_time": "2023-03-15T18:01:52.796Z"
   },
   {
    "duration": 0,
    "start_time": "2023-03-15T18:01:52.797Z"
   },
   {
    "duration": 0,
    "start_time": "2023-03-15T18:01:52.799Z"
   },
   {
    "duration": 0,
    "start_time": "2023-03-15T18:01:52.800Z"
   },
   {
    "duration": 0,
    "start_time": "2023-03-15T18:01:52.801Z"
   },
   {
    "duration": 29,
    "start_time": "2023-03-15T18:06:46.342Z"
   },
   {
    "duration": 25,
    "start_time": "2023-03-15T18:06:54.941Z"
   },
   {
    "duration": 26,
    "start_time": "2023-03-15T18:07:14.308Z"
   },
   {
    "duration": 24,
    "start_time": "2023-03-15T18:07:30.473Z"
   },
   {
    "duration": 26,
    "start_time": "2023-03-15T18:07:53.346Z"
   },
   {
    "duration": 22,
    "start_time": "2023-03-15T18:08:02.567Z"
   },
   {
    "duration": 32,
    "start_time": "2023-03-15T18:08:07.722Z"
   },
   {
    "duration": 27,
    "start_time": "2023-03-15T18:08:16.420Z"
   },
   {
    "duration": 257,
    "start_time": "2023-03-15T18:23:11.704Z"
   },
   {
    "duration": 20,
    "start_time": "2023-03-15T18:32:22.501Z"
   },
   {
    "duration": 25,
    "start_time": "2023-03-15T18:32:43.978Z"
   },
   {
    "duration": 33,
    "start_time": "2023-03-15T18:36:40.535Z"
   },
   {
    "duration": 52,
    "start_time": "2023-03-15T18:40:00.969Z"
   },
   {
    "duration": 1238,
    "start_time": "2023-03-15T18:40:22.766Z"
   },
   {
    "duration": 11,
    "start_time": "2023-03-15T18:40:24.006Z"
   },
   {
    "duration": 207,
    "start_time": "2023-03-15T18:40:24.019Z"
   },
   {
    "duration": 1128,
    "start_time": "2023-03-15T18:40:24.228Z"
   },
   {
    "duration": 63,
    "start_time": "2023-03-15T18:40:25.358Z"
   },
   {
    "duration": 39,
    "start_time": "2023-03-15T18:40:25.423Z"
   },
   {
    "duration": 118,
    "start_time": "2023-03-15T18:40:25.465Z"
   },
   {
    "duration": 115,
    "start_time": "2023-03-15T18:40:25.588Z"
   },
   {
    "duration": 131,
    "start_time": "2023-03-15T18:40:25.705Z"
   },
   {
    "duration": 62,
    "start_time": "2023-03-15T18:40:25.839Z"
   },
   {
    "duration": 1096,
    "start_time": "2023-03-15T18:40:25.905Z"
   },
   {
    "duration": 113,
    "start_time": "2023-03-15T18:40:27.003Z"
   },
   {
    "duration": 331,
    "start_time": "2023-03-15T18:40:27.118Z"
   },
   {
    "duration": 95,
    "start_time": "2023-03-15T18:40:27.451Z"
   },
   {
    "duration": 250,
    "start_time": "2023-03-15T18:40:27.547Z"
   },
   {
    "duration": 268,
    "start_time": "2023-03-15T18:40:27.799Z"
   },
   {
    "duration": 172,
    "start_time": "2023-03-15T18:40:28.069Z"
   },
   {
    "duration": 15,
    "start_time": "2023-03-15T18:40:28.243Z"
   },
   {
    "duration": 5,
    "start_time": "2023-03-15T18:40:28.286Z"
   },
   {
    "duration": 114,
    "start_time": "2023-03-15T18:40:28.292Z"
   },
   {
    "duration": 584,
    "start_time": "2023-03-15T18:40:28.408Z"
   },
   {
    "duration": 57,
    "start_time": "2023-03-15T18:40:28.994Z"
   },
   {
    "duration": 265,
    "start_time": "2023-03-15T18:40:29.052Z"
   },
   {
    "duration": 135,
    "start_time": "2023-03-15T18:40:29.319Z"
   },
   {
    "duration": 0,
    "start_time": "2023-03-15T18:40:29.456Z"
   },
   {
    "duration": 0,
    "start_time": "2023-03-15T18:40:29.458Z"
   },
   {
    "duration": 0,
    "start_time": "2023-03-15T18:40:29.459Z"
   },
   {
    "duration": 0,
    "start_time": "2023-03-15T18:40:29.461Z"
   },
   {
    "duration": 0,
    "start_time": "2023-03-15T18:40:29.461Z"
   },
   {
    "duration": 0,
    "start_time": "2023-03-15T18:40:29.463Z"
   },
   {
    "duration": 0,
    "start_time": "2023-03-15T18:40:29.464Z"
   },
   {
    "duration": 0,
    "start_time": "2023-03-15T18:40:29.465Z"
   },
   {
    "duration": 0,
    "start_time": "2023-03-15T18:40:29.466Z"
   },
   {
    "duration": 0,
    "start_time": "2023-03-15T18:40:29.491Z"
   },
   {
    "duration": 0,
    "start_time": "2023-03-15T18:40:29.492Z"
   },
   {
    "duration": 0,
    "start_time": "2023-03-15T18:40:29.493Z"
   },
   {
    "duration": 0,
    "start_time": "2023-03-15T18:40:29.494Z"
   },
   {
    "duration": 0,
    "start_time": "2023-03-15T18:40:29.495Z"
   },
   {
    "duration": 0,
    "start_time": "2023-03-15T18:40:29.495Z"
   },
   {
    "duration": 0,
    "start_time": "2023-03-15T18:40:29.496Z"
   },
   {
    "duration": 0,
    "start_time": "2023-03-15T18:40:29.497Z"
   },
   {
    "duration": 0,
    "start_time": "2023-03-15T18:40:29.501Z"
   },
   {
    "duration": 0,
    "start_time": "2023-03-15T18:40:29.502Z"
   },
   {
    "duration": 0,
    "start_time": "2023-03-15T18:40:29.502Z"
   },
   {
    "duration": 0,
    "start_time": "2023-03-15T18:40:29.503Z"
   },
   {
    "duration": 0,
    "start_time": "2023-03-15T18:40:29.508Z"
   },
   {
    "duration": 0,
    "start_time": "2023-03-15T18:40:29.509Z"
   },
   {
    "duration": 0,
    "start_time": "2023-03-15T18:40:29.511Z"
   },
   {
    "duration": 0,
    "start_time": "2023-03-15T18:40:29.512Z"
   },
   {
    "duration": 1306,
    "start_time": "2023-03-15T18:41:09.270Z"
   },
   {
    "duration": 12,
    "start_time": "2023-03-15T18:41:10.578Z"
   },
   {
    "duration": 224,
    "start_time": "2023-03-15T18:41:10.592Z"
   },
   {
    "duration": 1133,
    "start_time": "2023-03-15T18:41:10.818Z"
   },
   {
    "duration": 59,
    "start_time": "2023-03-15T18:41:11.953Z"
   },
   {
    "duration": 35,
    "start_time": "2023-03-15T18:41:12.013Z"
   },
   {
    "duration": 114,
    "start_time": "2023-03-15T18:41:12.050Z"
   },
   {
    "duration": 114,
    "start_time": "2023-03-15T18:41:12.166Z"
   },
   {
    "duration": 143,
    "start_time": "2023-03-15T18:41:12.282Z"
   },
   {
    "duration": 43,
    "start_time": "2023-03-15T18:41:12.427Z"
   },
   {
    "duration": 1161,
    "start_time": "2023-03-15T18:41:12.487Z"
   },
   {
    "duration": 108,
    "start_time": "2023-03-15T18:41:13.650Z"
   },
   {
    "duration": 403,
    "start_time": "2023-03-15T18:41:13.761Z"
   },
   {
    "duration": 92,
    "start_time": "2023-03-15T18:41:14.167Z"
   },
   {
    "duration": 276,
    "start_time": "2023-03-15T18:41:14.260Z"
   },
   {
    "duration": 276,
    "start_time": "2023-03-15T18:41:14.537Z"
   },
   {
    "duration": 187,
    "start_time": "2023-03-15T18:41:14.815Z"
   },
   {
    "duration": 15,
    "start_time": "2023-03-15T18:41:15.005Z"
   },
   {
    "duration": 87,
    "start_time": "2023-03-15T18:41:15.022Z"
   },
   {
    "duration": 681,
    "start_time": "2023-03-15T18:41:15.111Z"
   },
   {
    "duration": 71,
    "start_time": "2023-03-15T18:41:15.794Z"
   },
   {
    "duration": 281,
    "start_time": "2023-03-15T18:41:15.868Z"
   },
   {
    "duration": 158,
    "start_time": "2023-03-15T18:41:16.150Z"
   },
   {
    "duration": 0,
    "start_time": "2023-03-15T18:41:16.309Z"
   },
   {
    "duration": 0,
    "start_time": "2023-03-15T18:41:16.311Z"
   },
   {
    "duration": 0,
    "start_time": "2023-03-15T18:41:16.312Z"
   },
   {
    "duration": 0,
    "start_time": "2023-03-15T18:41:16.313Z"
   },
   {
    "duration": 0,
    "start_time": "2023-03-15T18:41:16.315Z"
   },
   {
    "duration": 0,
    "start_time": "2023-03-15T18:41:16.315Z"
   },
   {
    "duration": 0,
    "start_time": "2023-03-15T18:41:16.317Z"
   },
   {
    "duration": 0,
    "start_time": "2023-03-15T18:41:16.317Z"
   },
   {
    "duration": 0,
    "start_time": "2023-03-15T18:41:16.319Z"
   },
   {
    "duration": 0,
    "start_time": "2023-03-15T18:41:16.320Z"
   },
   {
    "duration": 1,
    "start_time": "2023-03-15T18:41:16.320Z"
   },
   {
    "duration": 0,
    "start_time": "2023-03-15T18:41:16.322Z"
   },
   {
    "duration": 0,
    "start_time": "2023-03-15T18:41:16.323Z"
   },
   {
    "duration": 0,
    "start_time": "2023-03-15T18:41:16.324Z"
   },
   {
    "duration": 0,
    "start_time": "2023-03-15T18:41:16.325Z"
   },
   {
    "duration": 0,
    "start_time": "2023-03-15T18:41:16.326Z"
   },
   {
    "duration": 0,
    "start_time": "2023-03-15T18:41:16.327Z"
   },
   {
    "duration": 0,
    "start_time": "2023-03-15T18:41:16.328Z"
   },
   {
    "duration": 0,
    "start_time": "2023-03-15T18:41:16.329Z"
   },
   {
    "duration": 0,
    "start_time": "2023-03-15T18:41:16.330Z"
   },
   {
    "duration": 0,
    "start_time": "2023-03-15T18:41:16.331Z"
   },
   {
    "duration": 0,
    "start_time": "2023-03-15T18:41:16.333Z"
   },
   {
    "duration": 0,
    "start_time": "2023-03-15T18:41:16.334Z"
   },
   {
    "duration": 0,
    "start_time": "2023-03-15T18:41:16.334Z"
   },
   {
    "duration": 0,
    "start_time": "2023-03-15T18:41:16.336Z"
   },
   {
    "duration": 3,
    "start_time": "2023-03-15T18:43:26.573Z"
   },
   {
    "duration": 1199,
    "start_time": "2023-03-15T18:43:33.414Z"
   },
   {
    "duration": 10,
    "start_time": "2023-03-15T18:43:34.615Z"
   },
   {
    "duration": 213,
    "start_time": "2023-03-15T18:43:34.627Z"
   },
   {
    "duration": 1174,
    "start_time": "2023-03-15T18:43:34.843Z"
   },
   {
    "duration": 48,
    "start_time": "2023-03-15T18:43:36.019Z"
   },
   {
    "duration": 59,
    "start_time": "2023-03-15T18:43:36.069Z"
   },
   {
    "duration": 121,
    "start_time": "2023-03-15T18:43:36.129Z"
   },
   {
    "duration": 116,
    "start_time": "2023-03-15T18:43:36.251Z"
   },
   {
    "duration": 156,
    "start_time": "2023-03-15T18:43:36.369Z"
   },
   {
    "duration": 73,
    "start_time": "2023-03-15T18:43:36.529Z"
   },
   {
    "duration": 1125,
    "start_time": "2023-03-15T18:43:36.605Z"
   },
   {
    "duration": 112,
    "start_time": "2023-03-15T18:43:37.732Z"
   },
   {
    "duration": 331,
    "start_time": "2023-03-15T18:43:37.845Z"
   },
   {
    "duration": 80,
    "start_time": "2023-03-15T18:43:38.177Z"
   },
   {
    "duration": 451,
    "start_time": "2023-03-15T18:43:38.259Z"
   },
   {
    "duration": 695,
    "start_time": "2023-03-15T18:43:38.712Z"
   },
   {
    "duration": 419,
    "start_time": "2023-03-15T18:43:39.410Z"
   },
   {
    "duration": 67,
    "start_time": "2023-03-15T18:43:39.831Z"
   },
   {
    "duration": 95,
    "start_time": "2023-03-15T18:43:39.900Z"
   },
   {
    "duration": 982,
    "start_time": "2023-03-15T18:43:39.997Z"
   },
   {
    "duration": 68,
    "start_time": "2023-03-15T18:43:40.987Z"
   },
   {
    "duration": 266,
    "start_time": "2023-03-15T18:43:41.056Z"
   },
   {
    "duration": 23,
    "start_time": "2023-03-15T18:43:41.324Z"
   },
   {
    "duration": 54,
    "start_time": "2023-03-15T18:43:41.349Z"
   },
   {
    "duration": 19,
    "start_time": "2023-03-15T18:43:41.406Z"
   },
   {
    "duration": 17,
    "start_time": "2023-03-15T18:43:41.426Z"
   },
   {
    "duration": 58,
    "start_time": "2023-03-15T18:43:41.490Z"
   },
   {
    "duration": 94,
    "start_time": "2023-03-15T18:43:41.552Z"
   },
   {
    "duration": 63,
    "start_time": "2023-03-15T18:43:41.647Z"
   },
   {
    "duration": 10,
    "start_time": "2023-03-15T18:43:41.712Z"
   },
   {
    "duration": 9,
    "start_time": "2023-03-15T18:43:41.723Z"
   },
   {
    "duration": 13,
    "start_time": "2023-03-15T18:43:41.734Z"
   },
   {
    "duration": 13,
    "start_time": "2023-03-15T18:43:41.748Z"
   },
   {
    "duration": 161,
    "start_time": "2023-03-15T18:43:41.763Z"
   },
   {
    "duration": 0,
    "start_time": "2023-03-15T18:43:41.926Z"
   },
   {
    "duration": 0,
    "start_time": "2023-03-15T18:43:41.927Z"
   },
   {
    "duration": 0,
    "start_time": "2023-03-15T18:43:41.929Z"
   },
   {
    "duration": 0,
    "start_time": "2023-03-15T18:43:41.930Z"
   },
   {
    "duration": 0,
    "start_time": "2023-03-15T18:43:41.931Z"
   },
   {
    "duration": 0,
    "start_time": "2023-03-15T18:43:41.933Z"
   },
   {
    "duration": 0,
    "start_time": "2023-03-15T18:43:41.934Z"
   },
   {
    "duration": 0,
    "start_time": "2023-03-15T18:43:41.935Z"
   },
   {
    "duration": 0,
    "start_time": "2023-03-15T18:43:41.937Z"
   },
   {
    "duration": 0,
    "start_time": "2023-03-15T18:43:41.938Z"
   },
   {
    "duration": 0,
    "start_time": "2023-03-15T18:43:41.940Z"
   },
   {
    "duration": 0,
    "start_time": "2023-03-15T18:43:41.941Z"
   },
   {
    "duration": 0,
    "start_time": "2023-03-15T18:43:41.943Z"
   },
   {
    "duration": 0,
    "start_time": "2023-03-15T18:43:41.944Z"
   },
   {
    "duration": 66,
    "start_time": "2023-03-15T18:45:42.488Z"
   },
   {
    "duration": 1308,
    "start_time": "2023-03-15T18:45:53.126Z"
   },
   {
    "duration": 10,
    "start_time": "2023-03-15T18:45:54.436Z"
   },
   {
    "duration": 223,
    "start_time": "2023-03-15T18:45:54.448Z"
   },
   {
    "duration": 1185,
    "start_time": "2023-03-15T18:45:54.673Z"
   },
   {
    "duration": 83,
    "start_time": "2023-03-15T18:45:55.861Z"
   },
   {
    "duration": 68,
    "start_time": "2023-03-15T18:45:55.947Z"
   },
   {
    "duration": 124,
    "start_time": "2023-03-15T18:45:56.017Z"
   },
   {
    "duration": 118,
    "start_time": "2023-03-15T18:45:56.143Z"
   },
   {
    "duration": 160,
    "start_time": "2023-03-15T18:45:56.262Z"
   },
   {
    "duration": 71,
    "start_time": "2023-03-15T18:45:56.424Z"
   },
   {
    "duration": 2031,
    "start_time": "2023-03-15T18:45:56.497Z"
   },
   {
    "duration": 261,
    "start_time": "2023-03-15T18:45:58.530Z"
   },
   {
    "duration": 483,
    "start_time": "2023-03-15T18:45:58.793Z"
   },
   {
    "duration": 124,
    "start_time": "2023-03-15T18:45:59.287Z"
   },
   {
    "duration": 298,
    "start_time": "2023-03-15T18:45:59.413Z"
   },
   {
    "duration": 316,
    "start_time": "2023-03-15T18:45:59.714Z"
   },
   {
    "duration": 201,
    "start_time": "2023-03-15T18:46:00.033Z"
   },
   {
    "duration": 23,
    "start_time": "2023-03-15T18:46:00.236Z"
   },
   {
    "duration": 23,
    "start_time": "2023-03-15T18:46:00.288Z"
   },
   {
    "duration": 135,
    "start_time": "2023-03-15T18:46:00.314Z"
   },
   {
    "duration": 640,
    "start_time": "2023-03-15T18:46:00.451Z"
   },
   {
    "duration": 68,
    "start_time": "2023-03-15T18:46:01.093Z"
   },
   {
    "duration": 357,
    "start_time": "2023-03-15T18:46:01.164Z"
   },
   {
    "duration": 29,
    "start_time": "2023-03-15T18:46:01.523Z"
   },
   {
    "duration": 83,
    "start_time": "2023-03-15T18:46:01.554Z"
   },
   {
    "duration": 54,
    "start_time": "2023-03-15T18:46:01.639Z"
   },
   {
    "duration": 64,
    "start_time": "2023-03-15T18:46:01.699Z"
   },
   {
    "duration": 132,
    "start_time": "2023-03-15T18:46:01.765Z"
   },
   {
    "duration": 107,
    "start_time": "2023-03-15T18:46:01.905Z"
   },
   {
    "duration": 83,
    "start_time": "2023-03-15T18:46:02.014Z"
   },
   {
    "duration": 20,
    "start_time": "2023-03-15T18:46:02.103Z"
   },
   {
    "duration": 16,
    "start_time": "2023-03-15T18:46:02.125Z"
   },
   {
    "duration": 28,
    "start_time": "2023-03-15T18:46:02.144Z"
   },
   {
    "duration": 31,
    "start_time": "2023-03-15T18:46:02.174Z"
   },
   {
    "duration": 165,
    "start_time": "2023-03-15T18:46:02.207Z"
   },
   {
    "duration": 0,
    "start_time": "2023-03-15T18:46:02.374Z"
   },
   {
    "duration": 0,
    "start_time": "2023-03-15T18:46:02.376Z"
   },
   {
    "duration": 0,
    "start_time": "2023-03-15T18:46:02.376Z"
   },
   {
    "duration": 0,
    "start_time": "2023-03-15T18:46:02.378Z"
   },
   {
    "duration": 0,
    "start_time": "2023-03-15T18:46:02.379Z"
   },
   {
    "duration": 0,
    "start_time": "2023-03-15T18:46:02.380Z"
   },
   {
    "duration": 0,
    "start_time": "2023-03-15T18:46:02.387Z"
   },
   {
    "duration": 0,
    "start_time": "2023-03-15T18:46:02.388Z"
   },
   {
    "duration": 0,
    "start_time": "2023-03-15T18:46:02.389Z"
   },
   {
    "duration": 0,
    "start_time": "2023-03-15T18:46:02.390Z"
   },
   {
    "duration": 0,
    "start_time": "2023-03-15T18:46:02.390Z"
   },
   {
    "duration": 0,
    "start_time": "2023-03-15T18:46:02.392Z"
   },
   {
    "duration": 0,
    "start_time": "2023-03-15T18:46:02.394Z"
   },
   {
    "duration": 0,
    "start_time": "2023-03-15T18:46:02.395Z"
   },
   {
    "duration": 13,
    "start_time": "2023-03-15T18:47:18.873Z"
   },
   {
    "duration": 10,
    "start_time": "2023-03-15T18:49:03.601Z"
   },
   {
    "duration": 1217,
    "start_time": "2023-03-15T18:49:10.550Z"
   },
   {
    "duration": 9,
    "start_time": "2023-03-15T18:49:11.768Z"
   },
   {
    "duration": 224,
    "start_time": "2023-03-15T18:49:11.779Z"
   },
   {
    "duration": 1106,
    "start_time": "2023-03-15T18:49:12.006Z"
   },
   {
    "duration": 52,
    "start_time": "2023-03-15T18:49:13.115Z"
   },
   {
    "duration": 59,
    "start_time": "2023-03-15T18:49:13.169Z"
   },
   {
    "duration": 116,
    "start_time": "2023-03-15T18:49:13.230Z"
   },
   {
    "duration": 117,
    "start_time": "2023-03-15T18:49:13.347Z"
   },
   {
    "duration": 155,
    "start_time": "2023-03-15T18:49:13.465Z"
   },
   {
    "duration": 73,
    "start_time": "2023-03-15T18:49:13.623Z"
   },
   {
    "duration": 1074,
    "start_time": "2023-03-15T18:49:13.699Z"
   },
   {
    "duration": 115,
    "start_time": "2023-03-15T18:49:14.775Z"
   },
   {
    "duration": 356,
    "start_time": "2023-03-15T18:49:14.895Z"
   },
   {
    "duration": 80,
    "start_time": "2023-03-15T18:49:15.253Z"
   },
   {
    "duration": 262,
    "start_time": "2023-03-15T18:49:15.335Z"
   },
   {
    "duration": 250,
    "start_time": "2023-03-15T18:49:15.600Z"
   },
   {
    "duration": 180,
    "start_time": "2023-03-15T18:49:15.852Z"
   },
   {
    "duration": 16,
    "start_time": "2023-03-15T18:49:16.034Z"
   },
   {
    "duration": 3,
    "start_time": "2023-03-15T18:49:16.052Z"
   },
   {
    "duration": 143,
    "start_time": "2023-03-15T18:49:16.057Z"
   },
   {
    "duration": 574,
    "start_time": "2023-03-15T18:49:16.205Z"
   },
   {
    "duration": 60,
    "start_time": "2023-03-15T18:49:16.781Z"
   },
   {
    "duration": 278,
    "start_time": "2023-03-15T18:49:16.843Z"
   },
   {
    "duration": 18,
    "start_time": "2023-03-15T18:49:17.123Z"
   },
   {
    "duration": 59,
    "start_time": "2023-03-15T18:49:17.143Z"
   },
   {
    "duration": 17,
    "start_time": "2023-03-15T18:49:17.205Z"
   },
   {
    "duration": 16,
    "start_time": "2023-03-15T18:49:17.223Z"
   },
   {
    "duration": 55,
    "start_time": "2023-03-15T18:49:17.293Z"
   },
   {
    "duration": 105,
    "start_time": "2023-03-15T18:49:17.350Z"
   },
   {
    "duration": 56,
    "start_time": "2023-03-15T18:49:17.457Z"
   },
   {
    "duration": 10,
    "start_time": "2023-03-15T18:49:17.514Z"
   },
   {
    "duration": 6,
    "start_time": "2023-03-15T18:49:17.525Z"
   },
   {
    "duration": 15,
    "start_time": "2023-03-15T18:49:17.532Z"
   },
   {
    "duration": 9,
    "start_time": "2023-03-15T18:49:17.548Z"
   },
   {
    "duration": 157,
    "start_time": "2023-03-15T18:49:17.559Z"
   },
   {
    "duration": 0,
    "start_time": "2023-03-15T18:49:17.717Z"
   },
   {
    "duration": 0,
    "start_time": "2023-03-15T18:49:17.719Z"
   },
   {
    "duration": 0,
    "start_time": "2023-03-15T18:49:17.720Z"
   },
   {
    "duration": 0,
    "start_time": "2023-03-15T18:49:17.721Z"
   },
   {
    "duration": 0,
    "start_time": "2023-03-15T18:49:17.722Z"
   },
   {
    "duration": 0,
    "start_time": "2023-03-15T18:49:17.723Z"
   },
   {
    "duration": 0,
    "start_time": "2023-03-15T18:49:17.724Z"
   },
   {
    "duration": 0,
    "start_time": "2023-03-15T18:49:17.726Z"
   },
   {
    "duration": 0,
    "start_time": "2023-03-15T18:49:17.727Z"
   },
   {
    "duration": 0,
    "start_time": "2023-03-15T18:49:17.729Z"
   },
   {
    "duration": 0,
    "start_time": "2023-03-15T18:49:17.730Z"
   },
   {
    "duration": 0,
    "start_time": "2023-03-15T18:49:17.731Z"
   },
   {
    "duration": 0,
    "start_time": "2023-03-15T18:49:17.732Z"
   },
   {
    "duration": 0,
    "start_time": "2023-03-15T18:49:17.733Z"
   },
   {
    "duration": 1156,
    "start_time": "2023-05-06T19:20:45.705Z"
   },
   {
    "duration": 11,
    "start_time": "2023-05-06T19:20:46.863Z"
   },
   {
    "duration": 137,
    "start_time": "2023-05-06T19:20:46.876Z"
   },
   {
    "duration": 0,
    "start_time": "2023-05-06T19:20:47.016Z"
   },
   {
    "duration": 0,
    "start_time": "2023-05-06T19:20:47.017Z"
   },
   {
    "duration": 0,
    "start_time": "2023-05-06T19:20:47.018Z"
   },
   {
    "duration": 0,
    "start_time": "2023-05-06T19:20:47.019Z"
   },
   {
    "duration": 0,
    "start_time": "2023-05-06T19:20:47.020Z"
   },
   {
    "duration": 0,
    "start_time": "2023-05-06T19:20:47.021Z"
   },
   {
    "duration": 0,
    "start_time": "2023-05-06T19:20:47.022Z"
   },
   {
    "duration": 0,
    "start_time": "2023-05-06T19:20:47.038Z"
   },
   {
    "duration": 0,
    "start_time": "2023-05-06T19:20:47.039Z"
   },
   {
    "duration": 0,
    "start_time": "2023-05-06T19:20:47.040Z"
   },
   {
    "duration": 0,
    "start_time": "2023-05-06T19:20:47.041Z"
   },
   {
    "duration": 0,
    "start_time": "2023-05-06T19:20:47.042Z"
   },
   {
    "duration": 0,
    "start_time": "2023-05-06T19:20:47.043Z"
   },
   {
    "duration": 0,
    "start_time": "2023-05-06T19:20:47.044Z"
   },
   {
    "duration": 0,
    "start_time": "2023-05-06T19:20:47.044Z"
   },
   {
    "duration": 0,
    "start_time": "2023-05-06T19:20:47.045Z"
   },
   {
    "duration": 0,
    "start_time": "2023-05-06T19:20:47.046Z"
   },
   {
    "duration": 0,
    "start_time": "2023-05-06T19:20:47.048Z"
   },
   {
    "duration": 0,
    "start_time": "2023-05-06T19:20:47.049Z"
   },
   {
    "duration": 0,
    "start_time": "2023-05-06T19:20:47.050Z"
   },
   {
    "duration": 0,
    "start_time": "2023-05-06T19:20:47.051Z"
   },
   {
    "duration": 0,
    "start_time": "2023-05-06T19:20:47.052Z"
   },
   {
    "duration": 0,
    "start_time": "2023-05-06T19:20:47.055Z"
   },
   {
    "duration": 0,
    "start_time": "2023-05-06T19:20:47.057Z"
   },
   {
    "duration": 0,
    "start_time": "2023-05-06T19:20:47.058Z"
   },
   {
    "duration": 0,
    "start_time": "2023-05-06T19:20:47.059Z"
   },
   {
    "duration": 0,
    "start_time": "2023-05-06T19:20:47.060Z"
   },
   {
    "duration": 0,
    "start_time": "2023-05-06T19:20:47.061Z"
   },
   {
    "duration": 0,
    "start_time": "2023-05-06T19:20:47.062Z"
   },
   {
    "duration": 0,
    "start_time": "2023-05-06T19:20:47.064Z"
   },
   {
    "duration": 0,
    "start_time": "2023-05-06T19:20:47.064Z"
   },
   {
    "duration": 0,
    "start_time": "2023-05-06T19:20:47.065Z"
   },
   {
    "duration": 0,
    "start_time": "2023-05-06T19:20:47.066Z"
   },
   {
    "duration": 0,
    "start_time": "2023-05-06T19:20:47.068Z"
   },
   {
    "duration": 217,
    "start_time": "2023-05-06T19:21:43.023Z"
   },
   {
    "duration": 1198,
    "start_time": "2023-05-06T19:22:00.178Z"
   },
   {
    "duration": 11,
    "start_time": "2023-05-06T19:22:01.379Z"
   },
   {
    "duration": 95,
    "start_time": "2023-05-06T19:22:01.392Z"
   },
   {
    "duration": 101,
    "start_time": "2023-05-06T19:22:01.489Z"
   },
   {
    "duration": 301,
    "start_time": "2023-05-06T19:22:01.592Z"
   },
   {
    "duration": 1888,
    "start_time": "2023-05-06T19:22:01.895Z"
   },
   {
    "duration": 372,
    "start_time": "2023-05-06T19:22:03.784Z"
   },
   {
    "duration": 327,
    "start_time": "2023-05-06T19:22:04.158Z"
   },
   {
    "duration": 99,
    "start_time": "2023-05-06T19:22:04.487Z"
   },
   {
    "duration": 13,
    "start_time": "2023-05-06T19:22:04.588Z"
   },
   {
    "duration": 67,
    "start_time": "2023-05-06T19:22:04.602Z"
   },
   {
    "duration": 0,
    "start_time": "2023-05-06T19:22:04.672Z"
   },
   {
    "duration": 0,
    "start_time": "2023-05-06T19:22:04.673Z"
   },
   {
    "duration": 0,
    "start_time": "2023-05-06T19:22:04.675Z"
   },
   {
    "duration": 0,
    "start_time": "2023-05-06T19:22:04.677Z"
   },
   {
    "duration": 0,
    "start_time": "2023-05-06T19:22:04.678Z"
   },
   {
    "duration": 0,
    "start_time": "2023-05-06T19:22:04.680Z"
   },
   {
    "duration": 0,
    "start_time": "2023-05-06T19:22:04.681Z"
   },
   {
    "duration": 0,
    "start_time": "2023-05-06T19:22:04.683Z"
   },
   {
    "duration": 0,
    "start_time": "2023-05-06T19:22:04.685Z"
   },
   {
    "duration": 0,
    "start_time": "2023-05-06T19:22:04.688Z"
   },
   {
    "duration": 0,
    "start_time": "2023-05-06T19:22:04.689Z"
   },
   {
    "duration": 0,
    "start_time": "2023-05-06T19:22:04.691Z"
   },
   {
    "duration": 0,
    "start_time": "2023-05-06T19:22:04.692Z"
   },
   {
    "duration": 0,
    "start_time": "2023-05-06T19:22:04.694Z"
   },
   {
    "duration": 0,
    "start_time": "2023-05-06T19:22:04.695Z"
   },
   {
    "duration": 0,
    "start_time": "2023-05-06T19:22:04.696Z"
   },
   {
    "duration": 0,
    "start_time": "2023-05-06T19:22:04.697Z"
   },
   {
    "duration": 0,
    "start_time": "2023-05-06T19:22:04.699Z"
   },
   {
    "duration": 0,
    "start_time": "2023-05-06T19:22:04.700Z"
   },
   {
    "duration": 0,
    "start_time": "2023-05-06T19:22:04.701Z"
   },
   {
    "duration": 0,
    "start_time": "2023-05-06T19:22:04.702Z"
   },
   {
    "duration": 0,
    "start_time": "2023-05-06T19:22:04.703Z"
   },
   {
    "duration": 0,
    "start_time": "2023-05-06T19:22:04.704Z"
   },
   {
    "duration": 0,
    "start_time": "2023-05-06T19:22:04.705Z"
   },
   {
    "duration": 0,
    "start_time": "2023-05-06T19:22:04.707Z"
   },
   {
    "duration": 0,
    "start_time": "2023-05-06T19:22:04.708Z"
   },
   {
    "duration": 8,
    "start_time": "2023-05-06T19:23:03.502Z"
   },
   {
    "duration": 4,
    "start_time": "2023-05-06T19:23:20.076Z"
   },
   {
    "duration": 16,
    "start_time": "2023-05-06T19:24:04.071Z"
   },
   {
    "duration": 13,
    "start_time": "2023-05-06T19:25:28.994Z"
   },
   {
    "duration": 1263,
    "start_time": "2023-05-06T19:27:53.610Z"
   },
   {
    "duration": 11,
    "start_time": "2023-05-06T19:27:54.876Z"
   },
   {
    "duration": 74,
    "start_time": "2023-05-06T19:27:54.889Z"
   },
   {
    "duration": 32,
    "start_time": "2023-05-06T19:27:54.967Z"
   },
   {
    "duration": 93,
    "start_time": "2023-05-06T19:27:55.000Z"
   },
   {
    "duration": 623,
    "start_time": "2023-05-06T19:27:55.095Z"
   },
   {
    "duration": 425,
    "start_time": "2023-05-06T19:27:55.720Z"
   },
   {
    "duration": 380,
    "start_time": "2023-05-06T19:27:56.146Z"
   },
   {
    "duration": 97,
    "start_time": "2023-05-06T19:27:56.528Z"
   },
   {
    "duration": 656,
    "start_time": "2023-05-06T19:27:56.628Z"
   },
   {
    "duration": 6,
    "start_time": "2023-05-06T19:27:57.286Z"
   },
   {
    "duration": 50,
    "start_time": "2023-05-06T19:27:57.293Z"
   },
   {
    "duration": 117,
    "start_time": "2023-05-06T19:27:57.345Z"
   },
   {
    "duration": 35,
    "start_time": "2023-05-06T19:27:57.465Z"
   },
   {
    "duration": 13,
    "start_time": "2023-05-06T19:27:57.501Z"
   },
   {
    "duration": 44,
    "start_time": "2023-05-06T19:27:57.516Z"
   },
   {
    "duration": 28,
    "start_time": "2023-05-06T19:27:57.562Z"
   },
   {
    "duration": 11,
    "start_time": "2023-05-06T19:27:57.592Z"
   },
   {
    "duration": 28,
    "start_time": "2023-05-06T19:27:57.605Z"
   },
   {
    "duration": 131,
    "start_time": "2023-05-06T19:27:57.634Z"
   },
   {
    "duration": 52,
    "start_time": "2023-05-06T19:27:57.770Z"
   },
   {
    "duration": 43,
    "start_time": "2023-05-06T19:27:57.823Z"
   },
   {
    "duration": 12,
    "start_time": "2023-05-06T19:27:57.871Z"
   },
   {
    "duration": 16,
    "start_time": "2023-05-06T19:27:57.885Z"
   },
   {
    "duration": 133,
    "start_time": "2023-05-06T19:27:57.903Z"
   },
   {
    "duration": 243,
    "start_time": "2023-05-06T19:27:58.041Z"
   },
   {
    "duration": 70,
    "start_time": "2023-05-06T19:27:58.287Z"
   },
   {
    "duration": 32,
    "start_time": "2023-05-06T19:27:58.361Z"
   },
   {
    "duration": 511,
    "start_time": "2023-05-06T19:27:58.394Z"
   },
   {
    "duration": 6,
    "start_time": "2023-05-06T19:27:58.906Z"
   },
   {
    "duration": 77,
    "start_time": "2023-05-06T19:27:58.913Z"
   },
   {
    "duration": 18,
    "start_time": "2023-05-06T19:27:58.991Z"
   },
   {
    "duration": 6,
    "start_time": "2023-05-06T19:27:59.010Z"
   },
   {
    "duration": 65,
    "start_time": "2023-05-06T19:27:59.017Z"
   },
   {
    "duration": 10,
    "start_time": "2023-05-06T19:27:59.084Z"
   },
   {
    "duration": 1491,
    "start_time": "2023-05-10T09:11:05.278Z"
   },
   {
    "duration": 18,
    "start_time": "2023-05-10T09:11:06.771Z"
   },
   {
    "duration": 119,
    "start_time": "2023-05-10T09:11:06.791Z"
   },
   {
    "duration": 76,
    "start_time": "2023-05-10T09:11:06.912Z"
   },
   {
    "duration": 245,
    "start_time": "2023-05-10T09:11:06.991Z"
   },
   {
    "duration": 766,
    "start_time": "2023-05-10T09:11:07.238Z"
   },
   {
    "duration": 385,
    "start_time": "2023-05-10T09:11:08.007Z"
   },
   {
    "duration": 365,
    "start_time": "2023-05-10T09:11:08.394Z"
   },
   {
    "duration": 102,
    "start_time": "2023-05-10T09:11:08.761Z"
   },
   {
    "duration": 429,
    "start_time": "2023-05-10T09:11:08.866Z"
   },
   {
    "duration": 6,
    "start_time": "2023-05-10T09:11:09.297Z"
   },
   {
    "duration": 86,
    "start_time": "2023-05-10T09:11:09.305Z"
   },
   {
    "duration": 52,
    "start_time": "2023-05-10T09:11:09.394Z"
   },
   {
    "duration": 60,
    "start_time": "2023-05-10T09:11:09.447Z"
   },
   {
    "duration": 13,
    "start_time": "2023-05-10T09:11:09.508Z"
   },
   {
    "duration": 21,
    "start_time": "2023-05-10T09:11:09.523Z"
   },
   {
    "duration": 8,
    "start_time": "2023-05-10T09:11:09.546Z"
   },
   {
    "duration": 41,
    "start_time": "2023-05-10T09:11:09.556Z"
   },
   {
    "duration": 34,
    "start_time": "2023-05-10T09:11:09.599Z"
   },
   {
    "duration": 124,
    "start_time": "2023-05-10T09:11:09.634Z"
   },
   {
    "duration": 67,
    "start_time": "2023-05-10T09:11:09.760Z"
   },
   {
    "duration": 13,
    "start_time": "2023-05-10T09:11:09.828Z"
   },
   {
    "duration": 11,
    "start_time": "2023-05-10T09:11:09.843Z"
   },
   {
    "duration": 40,
    "start_time": "2023-05-10T09:11:09.856Z"
   },
   {
    "duration": 143,
    "start_time": "2023-05-10T09:11:09.898Z"
   },
   {
    "duration": 260,
    "start_time": "2023-05-10T09:11:10.043Z"
   },
   {
    "duration": 42,
    "start_time": "2023-05-10T09:11:10.305Z"
   },
   {
    "duration": 65,
    "start_time": "2023-05-10T09:11:10.352Z"
   },
   {
    "duration": 674,
    "start_time": "2023-05-10T09:11:10.419Z"
   },
   {
    "duration": 7,
    "start_time": "2023-05-10T09:11:11.095Z"
   },
   {
    "duration": 186,
    "start_time": "2023-05-10T09:11:11.104Z"
   },
   {
    "duration": 33,
    "start_time": "2023-05-10T09:11:11.292Z"
   },
   {
    "duration": 9,
    "start_time": "2023-05-10T09:11:11.327Z"
   },
   {
    "duration": 171,
    "start_time": "2023-05-10T09:11:11.338Z"
   },
   {
    "duration": 18,
    "start_time": "2023-05-10T09:11:11.511Z"
   },
   {
    "duration": 1270,
    "start_time": "2023-05-10T09:11:43.388Z"
   },
   {
    "duration": 10,
    "start_time": "2023-05-10T09:11:44.660Z"
   },
   {
    "duration": 88,
    "start_time": "2023-05-10T09:11:44.672Z"
   },
   {
    "duration": 28,
    "start_time": "2023-05-10T09:11:44.762Z"
   },
   {
    "duration": 98,
    "start_time": "2023-05-10T09:11:44.791Z"
   },
   {
    "duration": 598,
    "start_time": "2023-05-10T09:11:44.891Z"
   },
   {
    "duration": 369,
    "start_time": "2023-05-10T09:11:45.491Z"
   },
   {
    "duration": 572,
    "start_time": "2023-05-10T09:11:45.861Z"
   },
   {
    "duration": 56,
    "start_time": "2023-05-10T09:11:46.435Z"
   },
   {
    "duration": 216,
    "start_time": "2023-05-10T09:11:46.493Z"
   },
   {
    "duration": 885,
    "start_time": "2023-05-10T09:11:46.712Z"
   },
   {
    "duration": 6,
    "start_time": "2023-05-10T09:11:47.599Z"
   },
   {
    "duration": 27,
    "start_time": "2023-05-10T09:11:47.606Z"
   },
   {
    "duration": 104,
    "start_time": "2023-05-10T09:11:47.689Z"
   },
   {
    "duration": 33,
    "start_time": "2023-05-10T09:11:47.794Z"
   },
   {
    "duration": 66,
    "start_time": "2023-05-10T09:11:47.829Z"
   },
   {
    "duration": 24,
    "start_time": "2023-05-10T09:11:47.897Z"
   },
   {
    "duration": 67,
    "start_time": "2023-05-10T09:11:47.922Z"
   },
   {
    "duration": 12,
    "start_time": "2023-05-10T09:11:47.991Z"
   },
   {
    "duration": 90,
    "start_time": "2023-05-10T09:11:48.005Z"
   },
   {
    "duration": 124,
    "start_time": "2023-05-10T09:11:48.096Z"
   },
   {
    "duration": 68,
    "start_time": "2023-05-10T09:11:48.222Z"
   },
   {
    "duration": 13,
    "start_time": "2023-05-10T09:11:48.292Z"
   },
   {
    "duration": 16,
    "start_time": "2023-05-10T09:11:48.306Z"
   },
   {
    "duration": 18,
    "start_time": "2023-05-10T09:11:48.324Z"
   },
   {
    "duration": 160,
    "start_time": "2023-05-10T09:11:48.343Z"
   },
   {
    "duration": 216,
    "start_time": "2023-05-10T09:11:48.505Z"
   },
   {
    "duration": 33,
    "start_time": "2023-05-10T09:11:48.724Z"
   },
   {
    "duration": 53,
    "start_time": "2023-05-10T09:11:48.759Z"
   },
   {
    "duration": 462,
    "start_time": "2023-05-10T09:11:48.814Z"
   },
   {
    "duration": 5,
    "start_time": "2023-05-10T09:11:49.278Z"
   },
   {
    "duration": 74,
    "start_time": "2023-05-10T09:11:49.284Z"
   },
   {
    "duration": 54,
    "start_time": "2023-05-10T09:11:49.360Z"
   },
   {
    "duration": 10,
    "start_time": "2023-05-10T09:11:49.416Z"
   },
   {
    "duration": 64,
    "start_time": "2023-05-10T09:11:49.428Z"
   },
   {
    "duration": 14,
    "start_time": "2023-05-10T09:11:49.494Z"
   },
   {
    "duration": 10,
    "start_time": "2023-05-10T09:13:04.888Z"
   },
   {
    "duration": 28,
    "start_time": "2023-05-10T09:13:11.441Z"
   },
   {
    "duration": 20,
    "start_time": "2023-05-10T09:13:37.094Z"
   },
   {
    "duration": 19,
    "start_time": "2023-05-10T09:13:44.996Z"
   },
   {
    "duration": 9,
    "start_time": "2023-05-10T09:14:17.701Z"
   },
   {
    "duration": 29,
    "start_time": "2023-05-10T09:15:58.281Z"
   },
   {
    "duration": 38,
    "start_time": "2023-05-10T09:16:09.700Z"
   },
   {
    "duration": 39,
    "start_time": "2023-05-10T09:16:18.487Z"
   },
   {
    "duration": 1328,
    "start_time": "2023-05-10T09:16:31.443Z"
   },
   {
    "duration": 17,
    "start_time": "2023-05-10T09:16:32.774Z"
   },
   {
    "duration": 67,
    "start_time": "2023-05-10T09:16:32.793Z"
   },
   {
    "duration": 29,
    "start_time": "2023-05-10T09:16:32.861Z"
   },
   {
    "duration": 104,
    "start_time": "2023-05-10T09:16:32.893Z"
   },
   {
    "duration": 610,
    "start_time": "2023-05-10T09:16:32.999Z"
   },
   {
    "duration": 394,
    "start_time": "2023-05-10T09:16:33.611Z"
   },
   {
    "duration": 359,
    "start_time": "2023-05-10T09:16:34.007Z"
   },
   {
    "duration": 3,
    "start_time": "2023-05-10T09:16:34.368Z"
   },
   {
    "duration": 87,
    "start_time": "2023-05-10T09:16:34.373Z"
   },
   {
    "duration": 153,
    "start_time": "2023-05-10T09:16:34.461Z"
   },
   {
    "duration": 784,
    "start_time": "2023-05-10T09:16:34.615Z"
   },
   {
    "duration": 6,
    "start_time": "2023-05-10T09:16:35.401Z"
   },
   {
    "duration": 79,
    "start_time": "2023-05-10T09:16:35.410Z"
   },
   {
    "duration": 112,
    "start_time": "2023-05-10T09:16:35.491Z"
   },
   {
    "duration": 94,
    "start_time": "2023-05-10T09:16:35.605Z"
   },
   {
    "duration": 18,
    "start_time": "2023-05-10T09:16:35.701Z"
   },
   {
    "duration": 79,
    "start_time": "2023-05-10T09:16:35.721Z"
   },
   {
    "duration": 8,
    "start_time": "2023-05-10T09:16:35.805Z"
   },
   {
    "duration": 12,
    "start_time": "2023-05-10T09:16:35.815Z"
   },
   {
    "duration": 99,
    "start_time": "2023-05-10T09:16:35.829Z"
   },
   {
    "duration": 274,
    "start_time": "2023-05-10T09:16:35.930Z"
   },
   {
    "duration": 115,
    "start_time": "2023-05-10T09:16:36.206Z"
   },
   {
    "duration": 68,
    "start_time": "2023-05-10T09:16:36.323Z"
   },
   {
    "duration": 13,
    "start_time": "2023-05-10T09:16:36.393Z"
   },
   {
    "duration": 19,
    "start_time": "2023-05-10T09:16:36.408Z"
   },
   {
    "duration": 293,
    "start_time": "2023-05-10T09:16:36.429Z"
   },
   {
    "duration": 491,
    "start_time": "2023-05-10T09:16:36.724Z"
   },
   {
    "duration": 33,
    "start_time": "2023-05-10T09:16:37.218Z"
   },
   {
    "duration": 65,
    "start_time": "2023-05-10T09:16:37.253Z"
   },
   {
    "duration": 488,
    "start_time": "2023-05-10T09:16:37.320Z"
   },
   {
    "duration": 6,
    "start_time": "2023-05-10T09:16:37.810Z"
   },
   {
    "duration": 116,
    "start_time": "2023-05-10T09:16:37.818Z"
   },
   {
    "duration": 25,
    "start_time": "2023-05-10T09:16:37.936Z"
   },
   {
    "duration": 9,
    "start_time": "2023-05-10T09:16:37.963Z"
   },
   {
    "duration": 52,
    "start_time": "2023-05-10T09:16:37.990Z"
   },
   {
    "duration": 13,
    "start_time": "2023-05-10T09:16:38.044Z"
   },
   {
    "duration": 11,
    "start_time": "2023-05-10T09:21:35.372Z"
   },
   {
    "duration": 1352,
    "start_time": "2023-05-10T09:21:45.683Z"
   },
   {
    "duration": 12,
    "start_time": "2023-05-10T09:21:47.037Z"
   },
   {
    "duration": 69,
    "start_time": "2023-05-10T09:21:47.051Z"
   },
   {
    "duration": 27,
    "start_time": "2023-05-10T09:21:47.123Z"
   },
   {
    "duration": 109,
    "start_time": "2023-05-10T09:21:47.152Z"
   },
   {
    "duration": 596,
    "start_time": "2023-05-10T09:21:47.263Z"
   },
   {
    "duration": 392,
    "start_time": "2023-05-10T09:21:47.862Z"
   },
   {
    "duration": 378,
    "start_time": "2023-05-10T09:21:48.256Z"
   },
   {
    "duration": 3,
    "start_time": "2023-05-10T09:21:48.636Z"
   },
   {
    "duration": 121,
    "start_time": "2023-05-10T09:21:48.642Z"
   },
   {
    "duration": 10,
    "start_time": "2023-05-10T09:21:48.765Z"
   },
   {
    "duration": 415,
    "start_time": "2023-05-10T09:21:48.777Z"
   },
   {
    "duration": 7,
    "start_time": "2023-05-10T09:21:49.195Z"
   },
   {
    "duration": 34,
    "start_time": "2023-05-10T09:21:49.204Z"
   },
   {
    "duration": 62,
    "start_time": "2023-05-10T09:21:49.288Z"
   },
   {
    "duration": 49,
    "start_time": "2023-05-10T09:21:49.388Z"
   },
   {
    "duration": 14,
    "start_time": "2023-05-10T09:21:49.439Z"
   },
   {
    "duration": 45,
    "start_time": "2023-05-10T09:21:49.455Z"
   },
   {
    "duration": 9,
    "start_time": "2023-05-10T09:21:49.501Z"
   },
   {
    "duration": 25,
    "start_time": "2023-05-10T09:21:49.511Z"
   },
   {
    "duration": 79,
    "start_time": "2023-05-10T09:21:49.538Z"
   },
   {
    "duration": 121,
    "start_time": "2023-05-10T09:21:49.619Z"
   },
   {
    "duration": 89,
    "start_time": "2023-05-10T09:21:49.742Z"
   },
   {
    "duration": 16,
    "start_time": "2023-05-10T09:21:49.834Z"
   },
   {
    "duration": 23,
    "start_time": "2023-05-10T09:21:49.854Z"
   },
   {
    "duration": 32,
    "start_time": "2023-05-10T09:21:49.892Z"
   },
   {
    "duration": 147,
    "start_time": "2023-05-10T09:21:49.928Z"
   },
   {
    "duration": 276,
    "start_time": "2023-05-10T09:21:50.079Z"
   },
   {
    "duration": 68,
    "start_time": "2023-05-10T09:21:50.358Z"
   },
   {
    "duration": 80,
    "start_time": "2023-05-10T09:21:50.429Z"
   },
   {
    "duration": 494,
    "start_time": "2023-05-10T09:21:50.512Z"
   },
   {
    "duration": 7,
    "start_time": "2023-05-10T09:21:51.008Z"
   },
   {
    "duration": 84,
    "start_time": "2023-05-10T09:21:51.017Z"
   },
   {
    "duration": 27,
    "start_time": "2023-05-10T09:21:51.103Z"
   },
   {
    "duration": 10,
    "start_time": "2023-05-10T09:21:51.132Z"
   },
   {
    "duration": 73,
    "start_time": "2023-05-10T09:21:51.144Z"
   },
   {
    "duration": 14,
    "start_time": "2023-05-10T09:21:51.220Z"
   },
   {
    "duration": 11,
    "start_time": "2023-05-10T09:24:49.154Z"
   },
   {
    "duration": 60,
    "start_time": "2023-05-10T09:25:21.268Z"
   },
   {
    "duration": 1535,
    "start_time": "2023-05-10T09:48:09.730Z"
   },
   {
    "duration": 13,
    "start_time": "2023-05-10T09:48:11.268Z"
   },
   {
    "duration": 91,
    "start_time": "2023-05-10T09:48:11.292Z"
   },
   {
    "duration": 46,
    "start_time": "2023-05-10T09:48:11.386Z"
   },
   {
    "duration": 107,
    "start_time": "2023-05-10T09:48:11.435Z"
   },
   {
    "duration": 742,
    "start_time": "2023-05-10T09:48:11.544Z"
   },
   {
    "duration": 442,
    "start_time": "2023-05-10T09:48:12.287Z"
   },
   {
    "duration": 425,
    "start_time": "2023-05-10T09:48:12.732Z"
   },
   {
    "duration": 3,
    "start_time": "2023-05-10T09:48:13.159Z"
   },
   {
    "duration": 179,
    "start_time": "2023-05-10T09:48:13.164Z"
   },
   {
    "duration": 800,
    "start_time": "2023-05-10T09:48:13.345Z"
   },
   {
    "duration": 50,
    "start_time": "2023-05-10T09:48:14.149Z"
   },
   {
    "duration": 93,
    "start_time": "2023-05-10T09:48:14.202Z"
   },
   {
    "duration": 95,
    "start_time": "2023-05-10T09:48:14.300Z"
   },
   {
    "duration": 143,
    "start_time": "2023-05-10T09:48:14.400Z"
   },
   {
    "duration": 100,
    "start_time": "2023-05-10T09:48:14.593Z"
   },
   {
    "duration": 35,
    "start_time": "2023-05-10T09:48:14.695Z"
   },
   {
    "duration": 62,
    "start_time": "2023-05-10T09:48:14.733Z"
   },
   {
    "duration": 10,
    "start_time": "2023-05-10T09:48:14.798Z"
   },
   {
    "duration": 24,
    "start_time": "2023-05-10T09:48:14.810Z"
   },
   {
    "duration": 152,
    "start_time": "2023-05-10T09:48:14.838Z"
   },
   {
    "duration": 245,
    "start_time": "2023-05-10T09:48:14.992Z"
   },
   {
    "duration": 193,
    "start_time": "2023-05-10T09:48:15.242Z"
   },
   {
    "duration": 71,
    "start_time": "2023-05-10T09:48:15.438Z"
   },
   {
    "duration": 15,
    "start_time": "2023-05-10T09:48:15.512Z"
   },
   {
    "duration": 75,
    "start_time": "2023-05-10T09:48:15.530Z"
   },
   {
    "duration": 329,
    "start_time": "2023-05-10T09:48:15.608Z"
   },
   {
    "duration": 507,
    "start_time": "2023-05-10T09:48:15.993Z"
   },
   {
    "duration": 93,
    "start_time": "2023-05-10T09:48:16.503Z"
   },
   {
    "duration": 44,
    "start_time": "2023-05-10T09:48:16.599Z"
   },
   {
    "duration": 621,
    "start_time": "2023-05-10T09:48:16.694Z"
   },
   {
    "duration": 7,
    "start_time": "2023-05-10T09:48:17.319Z"
   },
   {
    "duration": 101,
    "start_time": "2023-05-10T09:48:17.329Z"
   },
   {
    "duration": 68,
    "start_time": "2023-05-10T09:48:17.433Z"
   },
   {
    "duration": 23,
    "start_time": "2023-05-10T09:48:17.503Z"
   },
   {
    "duration": 94,
    "start_time": "2023-05-10T09:48:17.530Z"
   },
   {
    "duration": 17,
    "start_time": "2023-05-10T09:48:17.627Z"
   },
   {
    "duration": 1457,
    "start_time": "2023-05-10T09:55:05.473Z"
   },
   {
    "duration": 13,
    "start_time": "2023-05-10T09:55:06.933Z"
   },
   {
    "duration": 89,
    "start_time": "2023-05-10T09:55:06.949Z"
   },
   {
    "duration": 30,
    "start_time": "2023-05-10T09:55:07.040Z"
   },
   {
    "duration": 121,
    "start_time": "2023-05-10T09:55:07.072Z"
   },
   {
    "duration": 739,
    "start_time": "2023-05-10T09:55:07.195Z"
   },
   {
    "duration": 478,
    "start_time": "2023-05-10T09:55:07.937Z"
   },
   {
    "duration": 457,
    "start_time": "2023-05-10T09:55:08.418Z"
   },
   {
    "duration": 4,
    "start_time": "2023-05-10T09:55:08.878Z"
   },
   {
    "duration": 238,
    "start_time": "2023-05-10T09:55:08.891Z"
   },
   {
    "duration": 1095,
    "start_time": "2023-05-10T09:55:09.131Z"
   },
   {
    "duration": 10,
    "start_time": "2023-05-10T09:55:10.229Z"
   },
   {
    "duration": 94,
    "start_time": "2023-05-10T09:55:10.242Z"
   },
   {
    "duration": 203,
    "start_time": "2023-05-10T09:55:10.338Z"
   },
   {
    "duration": 92,
    "start_time": "2023-05-10T09:55:10.544Z"
   },
   {
    "duration": 50,
    "start_time": "2023-05-10T09:55:10.640Z"
   },
   {
    "duration": 3,
    "start_time": "2023-05-10T09:55:10.691Z"
   },
   {
    "duration": 50,
    "start_time": "2023-05-10T09:55:10.696Z"
   },
   {
    "duration": 47,
    "start_time": "2023-05-10T09:55:10.750Z"
   },
   {
    "duration": 36,
    "start_time": "2023-05-10T09:55:10.799Z"
   },
   {
    "duration": 107,
    "start_time": "2023-05-10T09:55:10.840Z"
   },
   {
    "duration": 333,
    "start_time": "2023-05-10T09:55:10.990Z"
   },
   {
    "duration": 128,
    "start_time": "2023-05-10T09:55:11.327Z"
   },
   {
    "duration": 13,
    "start_time": "2023-05-10T09:55:11.458Z"
   },
   {
    "duration": 28,
    "start_time": "2023-05-10T09:55:11.473Z"
   },
   {
    "duration": 26,
    "start_time": "2023-05-10T09:55:11.503Z"
   },
   {
    "duration": 235,
    "start_time": "2023-05-10T09:55:11.531Z"
   },
   {
    "duration": 262,
    "start_time": "2023-05-10T09:55:11.770Z"
   },
   {
    "duration": 63,
    "start_time": "2023-05-10T09:55:12.034Z"
   },
   {
    "duration": 38,
    "start_time": "2023-05-10T09:55:12.099Z"
   },
   {
    "duration": 548,
    "start_time": "2023-05-10T09:55:12.140Z"
   },
   {
    "duration": 8,
    "start_time": "2023-05-10T09:55:12.690Z"
   },
   {
    "duration": 141,
    "start_time": "2023-05-10T09:55:12.700Z"
   },
   {
    "duration": 23,
    "start_time": "2023-05-10T09:55:12.843Z"
   },
   {
    "duration": 14,
    "start_time": "2023-05-10T09:55:12.868Z"
   },
   {
    "duration": 59,
    "start_time": "2023-05-10T09:55:12.884Z"
   },
   {
    "duration": 14,
    "start_time": "2023-05-10T09:55:12.945Z"
   },
   {
    "duration": 5,
    "start_time": "2023-05-10T10:21:30.435Z"
   },
   {
    "duration": 60,
    "start_time": "2023-05-10T10:26:20.873Z"
   },
   {
    "duration": 1610,
    "start_time": "2023-05-10T10:28:46.205Z"
   },
   {
    "duration": 15,
    "start_time": "2023-05-10T10:28:47.817Z"
   },
   {
    "duration": 164,
    "start_time": "2023-05-10T10:28:47.833Z"
   },
   {
    "duration": 41,
    "start_time": "2023-05-10T10:28:47.999Z"
   },
   {
    "duration": 260,
    "start_time": "2023-05-10T10:28:48.043Z"
   },
   {
    "duration": 1427,
    "start_time": "2023-05-10T10:28:48.305Z"
   },
   {
    "duration": 835,
    "start_time": "2023-05-10T10:28:49.734Z"
   },
   {
    "duration": 408,
    "start_time": "2023-05-10T10:28:50.571Z"
   },
   {
    "duration": 10,
    "start_time": "2023-05-10T10:28:50.989Z"
   },
   {
    "duration": 136,
    "start_time": "2023-05-10T10:28:51.009Z"
   },
   {
    "duration": 461,
    "start_time": "2023-05-10T10:28:51.147Z"
   },
   {
    "duration": 11,
    "start_time": "2023-05-10T10:28:51.611Z"
   },
   {
    "duration": 77,
    "start_time": "2023-05-10T10:28:51.626Z"
   },
   {
    "duration": 116,
    "start_time": "2023-05-10T10:28:51.708Z"
   },
   {
    "duration": 19,
    "start_time": "2023-05-10T10:28:51.826Z"
   },
   {
    "duration": 3,
    "start_time": "2023-05-10T10:28:51.847Z"
   },
   {
    "duration": 55,
    "start_time": "2023-05-10T10:28:51.851Z"
   },
   {
    "duration": 3,
    "start_time": "2023-05-10T10:28:51.914Z"
   },
   {
    "duration": 4,
    "start_time": "2023-05-10T10:28:51.919Z"
   },
   {
    "duration": 20,
    "start_time": "2023-05-10T10:28:51.926Z"
   },
   {
    "duration": 3,
    "start_time": "2023-05-10T10:28:51.949Z"
   },
   {
    "duration": 6,
    "start_time": "2023-05-10T10:28:51.954Z"
   },
   {
    "duration": 18,
    "start_time": "2023-05-10T10:28:51.962Z"
   },
   {
    "duration": 49,
    "start_time": "2023-05-10T10:28:51.982Z"
   },
   {
    "duration": 113,
    "start_time": "2023-05-10T10:28:52.033Z"
   },
   {
    "duration": 77,
    "start_time": "2023-05-10T10:28:52.147Z"
   },
   {
    "duration": 13,
    "start_time": "2023-05-10T10:28:52.227Z"
   },
   {
    "duration": 10,
    "start_time": "2023-05-10T10:28:52.242Z"
   },
   {
    "duration": 53,
    "start_time": "2023-05-10T10:28:52.254Z"
   },
   {
    "duration": 151,
    "start_time": "2023-05-10T10:28:52.312Z"
   },
   {
    "duration": 262,
    "start_time": "2023-05-10T10:28:52.465Z"
   },
   {
    "duration": 86,
    "start_time": "2023-05-10T10:28:52.729Z"
   },
   {
    "duration": 34,
    "start_time": "2023-05-10T10:28:52.817Z"
   },
   {
    "duration": 551,
    "start_time": "2023-05-10T10:28:52.853Z"
   },
   {
    "duration": 6,
    "start_time": "2023-05-10T10:28:53.417Z"
   },
   {
    "duration": 88,
    "start_time": "2023-05-10T10:28:53.425Z"
   },
   {
    "duration": 24,
    "start_time": "2023-05-10T10:28:53.515Z"
   },
   {
    "duration": 11,
    "start_time": "2023-05-10T10:28:53.541Z"
   },
   {
    "duration": 64,
    "start_time": "2023-05-10T10:28:53.553Z"
   },
   {
    "duration": 15,
    "start_time": "2023-05-10T10:28:53.620Z"
   },
   {
    "duration": 1302,
    "start_time": "2023-05-10T10:32:18.728Z"
   },
   {
    "duration": 11,
    "start_time": "2023-05-10T10:32:20.032Z"
   },
   {
    "duration": 82,
    "start_time": "2023-05-10T10:32:20.045Z"
   },
   {
    "duration": 29,
    "start_time": "2023-05-10T10:32:20.129Z"
   },
   {
    "duration": 103,
    "start_time": "2023-05-10T10:32:20.160Z"
   },
   {
    "duration": 682,
    "start_time": "2023-05-10T10:32:20.265Z"
   },
   {
    "duration": 556,
    "start_time": "2023-05-10T10:32:20.950Z"
   },
   {
    "duration": 1000,
    "start_time": "2023-05-10T10:32:21.509Z"
   },
   {
    "duration": 4,
    "start_time": "2023-05-10T10:32:22.514Z"
   },
   {
    "duration": 392,
    "start_time": "2023-05-10T10:32:22.522Z"
   },
   {
    "duration": 769,
    "start_time": "2023-05-10T10:32:22.917Z"
   },
   {
    "duration": 13,
    "start_time": "2023-05-10T10:32:23.688Z"
   },
   {
    "duration": 36,
    "start_time": "2023-05-10T10:32:23.706Z"
   },
   {
    "duration": 99,
    "start_time": "2023-05-10T10:32:23.744Z"
   },
   {
    "duration": 61,
    "start_time": "2023-05-10T10:32:23.845Z"
   },
   {
    "duration": 3,
    "start_time": "2023-05-10T10:32:23.908Z"
   },
   {
    "duration": 23,
    "start_time": "2023-05-10T10:32:23.914Z"
   },
   {
    "duration": 21,
    "start_time": "2023-05-10T10:32:23.939Z"
   },
   {
    "duration": 12,
    "start_time": "2023-05-10T10:32:23.962Z"
   },
   {
    "duration": 39,
    "start_time": "2023-05-10T10:32:23.976Z"
   },
   {
    "duration": 14,
    "start_time": "2023-05-10T10:32:24.017Z"
   },
   {
    "duration": 18,
    "start_time": "2023-05-10T10:32:24.033Z"
   },
   {
    "duration": 24,
    "start_time": "2023-05-10T10:32:24.053Z"
   },
   {
    "duration": 52,
    "start_time": "2023-05-10T10:32:24.078Z"
   },
   {
    "duration": 163,
    "start_time": "2023-05-10T10:32:24.132Z"
   },
   {
    "duration": 64,
    "start_time": "2023-05-10T10:32:24.297Z"
   },
   {
    "duration": 32,
    "start_time": "2023-05-10T10:32:24.363Z"
   },
   {
    "duration": 17,
    "start_time": "2023-05-10T10:32:24.399Z"
   },
   {
    "duration": 44,
    "start_time": "2023-05-10T10:32:24.418Z"
   },
   {
    "duration": 161,
    "start_time": "2023-05-10T10:32:24.464Z"
   },
   {
    "duration": 243,
    "start_time": "2023-05-10T10:32:24.627Z"
   },
   {
    "duration": 50,
    "start_time": "2023-05-10T10:32:24.872Z"
   },
   {
    "duration": 32,
    "start_time": "2023-05-10T10:32:24.924Z"
   },
   {
    "duration": 528,
    "start_time": "2023-05-10T10:32:24.957Z"
   },
   {
    "duration": 11,
    "start_time": "2023-05-10T10:32:25.486Z"
   },
   {
    "duration": 100,
    "start_time": "2023-05-10T10:32:25.507Z"
   },
   {
    "duration": 21,
    "start_time": "2023-05-10T10:32:25.609Z"
   },
   {
    "duration": 11,
    "start_time": "2023-05-10T10:32:25.632Z"
   },
   {
    "duration": 65,
    "start_time": "2023-05-10T10:32:25.645Z"
   },
   {
    "duration": 13,
    "start_time": "2023-05-10T10:32:25.712Z"
   },
   {
    "duration": 1435,
    "start_time": "2023-05-10T10:42:19.606Z"
   },
   {
    "duration": 12,
    "start_time": "2023-05-10T10:42:21.043Z"
   },
   {
    "duration": 106,
    "start_time": "2023-05-10T10:42:21.057Z"
   },
   {
    "duration": 35,
    "start_time": "2023-05-10T10:42:21.165Z"
   },
   {
    "duration": 97,
    "start_time": "2023-05-10T10:42:21.209Z"
   },
   {
    "duration": 1383,
    "start_time": "2023-05-10T10:42:21.311Z"
   },
   {
    "duration": 1009,
    "start_time": "2023-05-10T10:42:22.697Z"
   },
   {
    "duration": 566,
    "start_time": "2023-05-10T10:42:23.707Z"
   },
   {
    "duration": 4,
    "start_time": "2023-05-10T10:42:24.275Z"
   },
   {
    "duration": 158,
    "start_time": "2023-05-10T10:42:24.291Z"
   },
   {
    "duration": 421,
    "start_time": "2023-05-10T10:42:24.450Z"
   },
   {
    "duration": 5,
    "start_time": "2023-05-10T10:42:24.873Z"
   },
   {
    "duration": 48,
    "start_time": "2023-05-10T10:42:24.880Z"
   },
   {
    "duration": 107,
    "start_time": "2023-05-10T10:42:24.931Z"
   },
   {
    "duration": 72,
    "start_time": "2023-05-10T10:42:25.041Z"
   },
   {
    "duration": 2,
    "start_time": "2023-05-10T10:42:25.115Z"
   },
   {
    "duration": 29,
    "start_time": "2023-05-10T10:42:25.121Z"
   },
   {
    "duration": 5,
    "start_time": "2023-05-10T10:42:25.152Z"
   },
   {
    "duration": 19,
    "start_time": "2023-05-10T10:42:25.159Z"
   },
   {
    "duration": 31,
    "start_time": "2023-05-10T10:42:25.180Z"
   },
   {
    "duration": 14,
    "start_time": "2023-05-10T10:42:25.218Z"
   },
   {
    "duration": 28,
    "start_time": "2023-05-10T10:42:25.234Z"
   },
   {
    "duration": 24,
    "start_time": "2023-05-10T10:42:25.264Z"
   },
   {
    "duration": 61,
    "start_time": "2023-05-10T10:42:25.290Z"
   },
   {
    "duration": 117,
    "start_time": "2023-05-10T10:42:25.353Z"
   },
   {
    "duration": 89,
    "start_time": "2023-05-10T10:42:25.472Z"
   },
   {
    "duration": 37,
    "start_time": "2023-05-10T10:42:25.562Z"
   },
   {
    "duration": 14,
    "start_time": "2023-05-10T10:42:25.604Z"
   },
   {
    "duration": 32,
    "start_time": "2023-05-10T10:42:25.620Z"
   },
   {
    "duration": 173,
    "start_time": "2023-05-10T10:42:25.655Z"
   },
   {
    "duration": 311,
    "start_time": "2023-05-10T10:42:25.830Z"
   },
   {
    "duration": 61,
    "start_time": "2023-05-10T10:42:26.143Z"
   },
   {
    "duration": 41,
    "start_time": "2023-05-10T10:42:26.205Z"
   },
   {
    "duration": 560,
    "start_time": "2023-05-10T10:42:26.249Z"
   },
   {
    "duration": 7,
    "start_time": "2023-05-10T10:42:26.817Z"
   },
   {
    "duration": 92,
    "start_time": "2023-05-10T10:42:26.826Z"
   },
   {
    "duration": 21,
    "start_time": "2023-05-10T10:42:26.922Z"
   },
   {
    "duration": 16,
    "start_time": "2023-05-10T10:42:26.945Z"
   },
   {
    "duration": 72,
    "start_time": "2023-05-10T10:42:26.963Z"
   },
   {
    "duration": 14,
    "start_time": "2023-05-10T10:42:27.037Z"
   },
   {
    "duration": 2589,
    "start_time": "2023-05-10T10:44:37.312Z"
   },
   {
    "duration": 15,
    "start_time": "2023-05-10T10:44:39.910Z"
   },
   {
    "duration": 165,
    "start_time": "2023-05-10T10:44:39.928Z"
   },
   {
    "duration": 41,
    "start_time": "2023-05-10T10:44:40.095Z"
   },
   {
    "duration": 257,
    "start_time": "2023-05-10T10:44:40.138Z"
   },
   {
    "duration": 1340,
    "start_time": "2023-05-10T10:44:40.399Z"
   },
   {
    "duration": 971,
    "start_time": "2023-05-10T10:44:41.741Z"
   },
   {
    "duration": 781,
    "start_time": "2023-05-10T10:44:42.714Z"
   },
   {
    "duration": 7,
    "start_time": "2023-05-10T10:44:43.501Z"
   },
   {
    "duration": 169,
    "start_time": "2023-05-10T10:44:43.512Z"
   },
   {
    "duration": 434,
    "start_time": "2023-05-10T10:44:43.683Z"
   },
   {
    "duration": 5,
    "start_time": "2023-05-10T10:44:44.119Z"
   },
   {
    "duration": 70,
    "start_time": "2023-05-10T10:44:44.125Z"
   },
   {
    "duration": 123,
    "start_time": "2023-05-10T10:44:44.199Z"
   },
   {
    "duration": 21,
    "start_time": "2023-05-10T10:44:44.324Z"
   },
   {
    "duration": 47,
    "start_time": "2023-05-10T10:44:44.347Z"
   },
   {
    "duration": 10,
    "start_time": "2023-05-10T10:44:44.400Z"
   },
   {
    "duration": 13,
    "start_time": "2023-05-10T10:44:44.411Z"
   },
   {
    "duration": 6,
    "start_time": "2023-05-10T10:44:44.426Z"
   },
   {
    "duration": 11,
    "start_time": "2023-05-10T10:44:44.433Z"
   },
   {
    "duration": 6,
    "start_time": "2023-05-10T10:44:44.447Z"
   },
   {
    "duration": 8,
    "start_time": "2023-05-10T10:44:44.454Z"
   },
   {
    "duration": 19,
    "start_time": "2023-05-10T10:44:44.463Z"
   },
   {
    "duration": 30,
    "start_time": "2023-05-10T10:44:44.491Z"
   },
   {
    "duration": 122,
    "start_time": "2023-05-10T10:44:44.523Z"
   },
   {
    "duration": 202,
    "start_time": "2023-05-10T10:44:44.647Z"
   },
   {
    "duration": 0,
    "start_time": "2023-05-10T10:44:44.851Z"
   },
   {
    "duration": 0,
    "start_time": "2023-05-10T10:44:44.853Z"
   },
   {
    "duration": 0,
    "start_time": "2023-05-10T10:44:44.854Z"
   },
   {
    "duration": 0,
    "start_time": "2023-05-10T10:44:44.856Z"
   },
   {
    "duration": 0,
    "start_time": "2023-05-10T10:44:44.858Z"
   },
   {
    "duration": 0,
    "start_time": "2023-05-10T10:44:44.859Z"
   },
   {
    "duration": 0,
    "start_time": "2023-05-10T10:44:44.861Z"
   },
   {
    "duration": 0,
    "start_time": "2023-05-10T10:44:44.863Z"
   },
   {
    "duration": 0,
    "start_time": "2023-05-10T10:44:44.891Z"
   },
   {
    "duration": 1,
    "start_time": "2023-05-10T10:44:44.892Z"
   },
   {
    "duration": 0,
    "start_time": "2023-05-10T10:44:44.893Z"
   },
   {
    "duration": 0,
    "start_time": "2023-05-10T10:44:44.894Z"
   },
   {
    "duration": 0,
    "start_time": "2023-05-10T10:44:44.895Z"
   },
   {
    "duration": 0,
    "start_time": "2023-05-10T10:44:44.896Z"
   },
   {
    "duration": 13,
    "start_time": "2023-05-10T10:45:14.666Z"
   },
   {
    "duration": 2159,
    "start_time": "2023-05-10T10:53:06.173Z"
   },
   {
    "duration": 18,
    "start_time": "2023-05-10T10:53:08.388Z"
   },
   {
    "duration": 117,
    "start_time": "2023-05-10T10:53:08.412Z"
   },
   {
    "duration": 81,
    "start_time": "2023-05-10T10:53:08.532Z"
   },
   {
    "duration": 209,
    "start_time": "2023-05-10T10:53:08.616Z"
   },
   {
    "duration": 1229,
    "start_time": "2023-05-10T10:53:08.827Z"
   },
   {
    "duration": 523,
    "start_time": "2023-05-10T10:53:10.058Z"
   },
   {
    "duration": 447,
    "start_time": "2023-05-10T10:53:10.595Z"
   },
   {
    "duration": 7,
    "start_time": "2023-05-10T10:53:11.045Z"
   },
   {
    "duration": 164,
    "start_time": "2023-05-10T10:53:11.054Z"
   },
   {
    "duration": 445,
    "start_time": "2023-05-10T10:53:11.221Z"
   },
   {
    "duration": 8,
    "start_time": "2023-05-10T10:53:11.669Z"
   },
   {
    "duration": 67,
    "start_time": "2023-05-10T10:53:11.679Z"
   },
   {
    "duration": 119,
    "start_time": "2023-05-10T10:53:11.751Z"
   },
   {
    "duration": 59,
    "start_time": "2023-05-10T10:53:11.872Z"
   },
   {
    "duration": 8,
    "start_time": "2023-05-10T10:53:11.933Z"
   },
   {
    "duration": 24,
    "start_time": "2023-05-10T10:53:11.944Z"
   },
   {
    "duration": 13,
    "start_time": "2023-05-10T10:53:11.970Z"
   },
   {
    "duration": 25,
    "start_time": "2023-05-10T10:53:11.986Z"
   },
   {
    "duration": 22,
    "start_time": "2023-05-10T10:53:12.017Z"
   },
   {
    "duration": 22,
    "start_time": "2023-05-10T10:53:12.041Z"
   },
   {
    "duration": 8,
    "start_time": "2023-05-10T10:53:12.066Z"
   },
   {
    "duration": 29,
    "start_time": "2023-05-10T10:53:12.076Z"
   },
   {
    "duration": 13,
    "start_time": "2023-05-10T10:53:12.111Z"
   },
   {
    "duration": 18,
    "start_time": "2023-05-10T10:53:12.136Z"
   },
   {
    "duration": 126,
    "start_time": "2023-05-10T10:53:12.156Z"
   },
   {
    "duration": 76,
    "start_time": "2023-05-10T10:53:12.284Z"
   },
   {
    "duration": 41,
    "start_time": "2023-05-10T10:53:12.362Z"
   },
   {
    "duration": 20,
    "start_time": "2023-05-10T10:53:12.404Z"
   },
   {
    "duration": 31,
    "start_time": "2023-05-10T10:53:12.426Z"
   },
   {
    "duration": 185,
    "start_time": "2023-05-10T10:53:12.459Z"
   },
   {
    "duration": 288,
    "start_time": "2023-05-10T10:53:12.645Z"
   },
   {
    "duration": 70,
    "start_time": "2023-05-10T10:53:12.935Z"
   },
   {
    "duration": 48,
    "start_time": "2023-05-10T10:53:13.007Z"
   },
   {
    "duration": 588,
    "start_time": "2023-05-10T10:53:13.057Z"
   },
   {
    "duration": 7,
    "start_time": "2023-05-10T10:53:13.647Z"
   },
   {
    "duration": 106,
    "start_time": "2023-05-10T10:53:13.657Z"
   },
   {
    "duration": 23,
    "start_time": "2023-05-10T10:53:13.765Z"
   },
   {
    "duration": 24,
    "start_time": "2023-05-10T10:53:13.791Z"
   },
   {
    "duration": 85,
    "start_time": "2023-05-10T10:53:13.818Z"
   },
   {
    "duration": 17,
    "start_time": "2023-05-10T10:53:13.909Z"
   },
   {
    "duration": 1478,
    "start_time": "2023-05-10T10:58:11.130Z"
   },
   {
    "duration": 19,
    "start_time": "2023-05-10T10:58:12.617Z"
   },
   {
    "duration": 104,
    "start_time": "2023-05-10T10:58:12.638Z"
   },
   {
    "duration": 33,
    "start_time": "2023-05-10T10:58:12.746Z"
   },
   {
    "duration": 136,
    "start_time": "2023-05-10T10:58:12.795Z"
   },
   {
    "duration": 1309,
    "start_time": "2023-05-10T10:58:12.933Z"
   },
   {
    "duration": 1225,
    "start_time": "2023-05-10T10:58:14.299Z"
   },
   {
    "duration": 780,
    "start_time": "2023-05-10T10:58:15.527Z"
   },
   {
    "duration": 6,
    "start_time": "2023-05-10T10:58:16.309Z"
   },
   {
    "duration": 219,
    "start_time": "2023-05-10T10:58:16.319Z"
   },
   {
    "duration": 467,
    "start_time": "2023-05-10T10:58:16.541Z"
   },
   {
    "duration": 10,
    "start_time": "2023-05-10T10:58:17.014Z"
   },
   {
    "duration": 89,
    "start_time": "2023-05-10T10:58:17.028Z"
   },
   {
    "duration": 139,
    "start_time": "2023-05-10T10:58:17.129Z"
   },
   {
    "duration": 49,
    "start_time": "2023-05-10T10:58:17.271Z"
   },
   {
    "duration": 3,
    "start_time": "2023-05-10T10:58:17.323Z"
   },
   {
    "duration": 4,
    "start_time": "2023-05-10T10:58:17.329Z"
   },
   {
    "duration": 25,
    "start_time": "2023-05-10T10:58:17.335Z"
   },
   {
    "duration": 4,
    "start_time": "2023-05-10T10:58:17.364Z"
   },
   {
    "duration": 39,
    "start_time": "2023-05-10T10:58:17.371Z"
   },
   {
    "duration": 13,
    "start_time": "2023-05-10T10:58:17.413Z"
   },
   {
    "duration": 8,
    "start_time": "2023-05-10T10:58:17.429Z"
   },
   {
    "duration": 46,
    "start_time": "2023-05-10T10:58:17.439Z"
   },
   {
    "duration": 38,
    "start_time": "2023-05-10T10:58:17.488Z"
   },
   {
    "duration": 35,
    "start_time": "2023-05-10T10:58:17.530Z"
   },
   {
    "duration": 162,
    "start_time": "2023-05-10T10:58:17.568Z"
   },
   {
    "duration": 96,
    "start_time": "2023-05-10T10:58:17.733Z"
   },
   {
    "duration": 18,
    "start_time": "2023-05-10T10:58:17.835Z"
   },
   {
    "duration": 288,
    "start_time": "2023-05-10T10:58:17.855Z"
   },
   {
    "duration": 0,
    "start_time": "2023-05-10T10:58:18.146Z"
   },
   {
    "duration": 0,
    "start_time": "2023-05-10T10:58:18.148Z"
   },
   {
    "duration": 0,
    "start_time": "2023-05-10T10:58:18.150Z"
   },
   {
    "duration": 0,
    "start_time": "2023-05-10T10:58:18.152Z"
   },
   {
    "duration": 0,
    "start_time": "2023-05-10T10:58:18.153Z"
   },
   {
    "duration": 0,
    "start_time": "2023-05-10T10:58:18.155Z"
   },
   {
    "duration": 0,
    "start_time": "2023-05-10T10:58:18.157Z"
   },
   {
    "duration": 0,
    "start_time": "2023-05-10T10:58:18.159Z"
   },
   {
    "duration": 0,
    "start_time": "2023-05-10T10:58:18.160Z"
   },
   {
    "duration": 0,
    "start_time": "2023-05-10T10:58:18.162Z"
   },
   {
    "duration": 0,
    "start_time": "2023-05-10T10:58:18.163Z"
   },
   {
    "duration": 0,
    "start_time": "2023-05-10T10:58:18.165Z"
   },
   {
    "duration": 0,
    "start_time": "2023-05-10T10:58:18.167Z"
   },
   {
    "duration": 32,
    "start_time": "2023-05-10T10:59:46.322Z"
   },
   {
    "duration": 198,
    "start_time": "2023-05-10T10:59:49.608Z"
   },
   {
    "duration": 1478,
    "start_time": "2023-05-10T11:00:17.946Z"
   },
   {
    "duration": 13,
    "start_time": "2023-05-10T11:00:19.430Z"
   },
   {
    "duration": 88,
    "start_time": "2023-05-10T11:00:19.444Z"
   },
   {
    "duration": 29,
    "start_time": "2023-05-10T11:00:19.534Z"
   },
   {
    "duration": 106,
    "start_time": "2023-05-10T11:00:19.565Z"
   },
   {
    "duration": 839,
    "start_time": "2023-05-10T11:00:19.673Z"
   },
   {
    "duration": 525,
    "start_time": "2023-05-10T11:00:20.525Z"
   },
   {
    "duration": 434,
    "start_time": "2023-05-10T11:00:21.052Z"
   },
   {
    "duration": 10,
    "start_time": "2023-05-10T11:00:21.493Z"
   },
   {
    "duration": 168,
    "start_time": "2023-05-10T11:00:21.513Z"
   },
   {
    "duration": 720,
    "start_time": "2023-05-10T11:00:21.685Z"
   },
   {
    "duration": 6,
    "start_time": "2023-05-10T11:00:22.414Z"
   },
   {
    "duration": 105,
    "start_time": "2023-05-10T11:00:22.424Z"
   },
   {
    "duration": 206,
    "start_time": "2023-05-10T11:00:22.531Z"
   },
   {
    "duration": 29,
    "start_time": "2023-05-10T11:00:22.791Z"
   },
   {
    "duration": 9,
    "start_time": "2023-05-10T11:00:22.823Z"
   },
   {
    "duration": 59,
    "start_time": "2023-05-10T11:00:22.835Z"
   },
   {
    "duration": 32,
    "start_time": "2023-05-10T11:00:22.897Z"
   },
   {
    "duration": 12,
    "start_time": "2023-05-10T11:00:22.932Z"
   },
   {
    "duration": 53,
    "start_time": "2023-05-10T11:00:22.947Z"
   },
   {
    "duration": 9,
    "start_time": "2023-05-10T11:00:23.002Z"
   },
   {
    "duration": 6,
    "start_time": "2023-05-10T11:00:23.013Z"
   },
   {
    "duration": 69,
    "start_time": "2023-05-10T11:00:23.022Z"
   },
   {
    "duration": 3,
    "start_time": "2023-05-10T11:00:23.093Z"
   },
   {
    "duration": 14,
    "start_time": "2023-05-10T11:00:23.098Z"
   },
   {
    "duration": 318,
    "start_time": "2023-05-10T11:00:23.120Z"
   },
   {
    "duration": 178,
    "start_time": "2023-05-10T11:00:23.442Z"
   },
   {
    "duration": 71,
    "start_time": "2023-05-10T11:00:23.625Z"
   },
   {
    "duration": 42,
    "start_time": "2023-05-10T11:00:23.698Z"
   },
   {
    "duration": 991,
    "start_time": "2023-05-10T11:00:23.743Z"
   },
   {
    "duration": 0,
    "start_time": "2023-05-10T11:00:24.789Z"
   },
   {
    "duration": 0,
    "start_time": "2023-05-10T11:00:24.791Z"
   },
   {
    "duration": 0,
    "start_time": "2023-05-10T11:00:24.792Z"
   },
   {
    "duration": 0,
    "start_time": "2023-05-10T11:00:24.793Z"
   },
   {
    "duration": 0,
    "start_time": "2023-05-10T11:00:24.794Z"
   },
   {
    "duration": 0,
    "start_time": "2023-05-10T11:00:24.795Z"
   },
   {
    "duration": 0,
    "start_time": "2023-05-10T11:00:24.796Z"
   },
   {
    "duration": 1,
    "start_time": "2023-05-10T11:00:24.798Z"
   },
   {
    "duration": 0,
    "start_time": "2023-05-10T11:00:24.800Z"
   },
   {
    "duration": 0,
    "start_time": "2023-05-10T11:00:24.801Z"
   },
   {
    "duration": 0,
    "start_time": "2023-05-10T11:00:24.802Z"
   },
   {
    "duration": 0,
    "start_time": "2023-05-10T11:00:24.803Z"
   },
   {
    "duration": 0,
    "start_time": "2023-05-10T11:00:24.804Z"
   },
   {
    "duration": 23,
    "start_time": "2023-05-10T11:00:48.151Z"
   },
   {
    "duration": 8,
    "start_time": "2023-05-10T11:03:03.475Z"
   },
   {
    "duration": 37,
    "start_time": "2023-05-10T11:03:28.002Z"
   },
   {
    "duration": 1753,
    "start_time": "2023-05-10T11:03:30.157Z"
   },
   {
    "duration": 1623,
    "start_time": "2023-05-10T11:06:13.893Z"
   },
   {
    "duration": 19,
    "start_time": "2023-05-10T11:06:15.519Z"
   },
   {
    "duration": 66,
    "start_time": "2023-05-10T11:06:15.541Z"
   },
   {
    "duration": 40,
    "start_time": "2023-05-10T11:06:15.610Z"
   },
   {
    "duration": 158,
    "start_time": "2023-05-10T11:06:15.653Z"
   },
   {
    "duration": 1620,
    "start_time": "2023-05-10T11:06:15.814Z"
   },
   {
    "duration": 1196,
    "start_time": "2023-05-10T11:06:17.440Z"
   },
   {
    "duration": 980,
    "start_time": "2023-05-10T11:06:18.638Z"
   },
   {
    "duration": 5,
    "start_time": "2023-05-10T11:06:19.627Z"
   },
   {
    "duration": 180,
    "start_time": "2023-05-10T11:06:19.634Z"
   },
   {
    "duration": 516,
    "start_time": "2023-05-10T11:06:19.817Z"
   },
   {
    "duration": 11,
    "start_time": "2023-05-10T11:06:20.335Z"
   },
   {
    "duration": 108,
    "start_time": "2023-05-10T11:06:20.348Z"
   },
   {
    "duration": 115,
    "start_time": "2023-05-10T11:06:20.461Z"
   },
   {
    "duration": 31,
    "start_time": "2023-05-10T11:06:20.579Z"
   },
   {
    "duration": 10,
    "start_time": "2023-05-10T11:06:20.612Z"
   },
   {
    "duration": 21,
    "start_time": "2023-05-10T11:06:20.625Z"
   },
   {
    "duration": 15,
    "start_time": "2023-05-10T11:06:20.648Z"
   },
   {
    "duration": 9,
    "start_time": "2023-05-10T11:06:20.666Z"
   },
   {
    "duration": 4,
    "start_time": "2023-05-10T11:06:20.678Z"
   },
   {
    "duration": 13,
    "start_time": "2023-05-10T11:06:20.684Z"
   },
   {
    "duration": 5,
    "start_time": "2023-05-10T11:06:20.702Z"
   },
   {
    "duration": 40,
    "start_time": "2023-05-10T11:06:20.710Z"
   },
   {
    "duration": 3,
    "start_time": "2023-05-10T11:06:20.753Z"
   },
   {
    "duration": 11,
    "start_time": "2023-05-10T11:06:20.758Z"
   },
   {
    "duration": 202,
    "start_time": "2023-05-10T11:06:20.771Z"
   },
   {
    "duration": 95,
    "start_time": "2023-05-10T11:06:20.975Z"
   },
   {
    "duration": 28,
    "start_time": "2023-05-10T11:06:21.072Z"
   },
   {
    "duration": 30,
    "start_time": "2023-05-10T11:06:21.102Z"
   },
   {
    "duration": 23,
    "start_time": "2023-05-10T11:06:21.134Z"
   },
   {
    "duration": 395,
    "start_time": "2023-05-10T11:06:21.159Z"
   },
   {
    "duration": 0,
    "start_time": "2023-05-10T11:06:21.557Z"
   },
   {
    "duration": 0,
    "start_time": "2023-05-10T11:06:21.559Z"
   },
   {
    "duration": 0,
    "start_time": "2023-05-10T11:06:21.562Z"
   },
   {
    "duration": 0,
    "start_time": "2023-05-10T11:06:21.563Z"
   },
   {
    "duration": 0,
    "start_time": "2023-05-10T11:06:21.565Z"
   },
   {
    "duration": 0,
    "start_time": "2023-05-10T11:06:21.566Z"
   },
   {
    "duration": 0,
    "start_time": "2023-05-10T11:06:21.568Z"
   },
   {
    "duration": 0,
    "start_time": "2023-05-10T11:06:21.570Z"
   },
   {
    "duration": 0,
    "start_time": "2023-05-10T11:06:21.597Z"
   },
   {
    "duration": 0,
    "start_time": "2023-05-10T11:06:21.598Z"
   },
   {
    "duration": 0,
    "start_time": "2023-05-10T11:06:21.599Z"
   },
   {
    "duration": 0,
    "start_time": "2023-05-10T11:06:21.607Z"
   },
   {
    "duration": 0,
    "start_time": "2023-05-10T11:06:21.610Z"
   },
   {
    "duration": 8,
    "start_time": "2023-05-10T11:07:27.256Z"
   },
   {
    "duration": 17,
    "start_time": "2023-05-10T11:09:23.217Z"
   },
   {
    "duration": 12,
    "start_time": "2023-05-10T11:09:41.940Z"
   },
   {
    "duration": 1409,
    "start_time": "2023-05-10T11:10:27.009Z"
   },
   {
    "duration": 11,
    "start_time": "2023-05-10T11:10:28.423Z"
   },
   {
    "duration": 69,
    "start_time": "2023-05-10T11:10:28.435Z"
   },
   {
    "duration": 34,
    "start_time": "2023-05-10T11:10:28.510Z"
   },
   {
    "duration": 116,
    "start_time": "2023-05-10T11:10:28.546Z"
   },
   {
    "duration": 697,
    "start_time": "2023-05-10T11:10:28.665Z"
   },
   {
    "duration": 633,
    "start_time": "2023-05-10T11:10:29.364Z"
   },
   {
    "duration": 1101,
    "start_time": "2023-05-10T11:10:29.999Z"
   },
   {
    "duration": 9,
    "start_time": "2023-05-10T11:10:31.102Z"
   },
   {
    "duration": 423,
    "start_time": "2023-05-10T11:10:31.113Z"
   },
   {
    "duration": 1072,
    "start_time": "2023-05-10T11:10:31.590Z"
   },
   {
    "duration": 7,
    "start_time": "2023-05-10T11:10:32.664Z"
   },
   {
    "duration": 74,
    "start_time": "2023-05-10T11:10:32.673Z"
   },
   {
    "duration": 112,
    "start_time": "2023-05-10T11:10:32.789Z"
   },
   {
    "duration": 27,
    "start_time": "2023-05-10T11:10:32.909Z"
   },
   {
    "duration": 2,
    "start_time": "2023-05-10T11:10:32.938Z"
   },
   {
    "duration": 22,
    "start_time": "2023-05-10T11:10:32.942Z"
   },
   {
    "duration": 16,
    "start_time": "2023-05-10T11:10:32.967Z"
   },
   {
    "duration": 35,
    "start_time": "2023-05-10T11:10:32.985Z"
   },
   {
    "duration": 39,
    "start_time": "2023-05-10T11:10:33.022Z"
   },
   {
    "duration": 22,
    "start_time": "2023-05-10T11:10:33.063Z"
   },
   {
    "duration": 35,
    "start_time": "2023-05-10T11:10:33.088Z"
   },
   {
    "duration": 48,
    "start_time": "2023-05-10T11:10:33.125Z"
   },
   {
    "duration": 9,
    "start_time": "2023-05-10T11:10:33.175Z"
   },
   {
    "duration": 39,
    "start_time": "2023-05-10T11:10:33.186Z"
   },
   {
    "duration": 205,
    "start_time": "2023-05-10T11:10:33.227Z"
   },
   {
    "duration": 90,
    "start_time": "2023-05-10T11:10:33.434Z"
   },
   {
    "duration": 13,
    "start_time": "2023-05-10T11:10:33.526Z"
   },
   {
    "duration": 21,
    "start_time": "2023-05-10T11:10:33.541Z"
   },
   {
    "duration": 15,
    "start_time": "2023-05-10T11:10:33.564Z"
   },
   {
    "duration": 51,
    "start_time": "2023-05-10T11:10:33.581Z"
   },
   {
    "duration": 11,
    "start_time": "2023-05-10T11:10:33.634Z"
   },
   {
    "duration": 725,
    "start_time": "2023-05-10T11:10:33.647Z"
   },
   {
    "duration": 32,
    "start_time": "2023-05-10T11:10:34.375Z"
   },
   {
    "duration": 6,
    "start_time": "2023-05-10T11:10:34.409Z"
   },
   {
    "duration": 96,
    "start_time": "2023-05-10T11:10:34.420Z"
   },
   {
    "duration": 252,
    "start_time": "2023-05-10T11:10:34.519Z"
   },
   {
    "duration": 58,
    "start_time": "2023-05-10T11:10:34.773Z"
   },
   {
    "duration": 31,
    "start_time": "2023-05-10T11:10:34.834Z"
   },
   {
    "duration": 725,
    "start_time": "2023-05-10T11:10:34.867Z"
   },
   {
    "duration": 6,
    "start_time": "2023-05-10T11:10:35.598Z"
   },
   {
    "duration": 104,
    "start_time": "2023-05-10T11:10:35.606Z"
   },
   {
    "duration": 25,
    "start_time": "2023-05-10T11:10:35.714Z"
   },
   {
    "duration": 15,
    "start_time": "2023-05-10T11:10:35.741Z"
   },
   {
    "duration": 77,
    "start_time": "2023-05-10T11:10:35.758Z"
   },
   {
    "duration": 14,
    "start_time": "2023-05-10T11:10:35.838Z"
   },
   {
    "duration": 80,
    "start_time": "2023-05-10T11:15:56.066Z"
   },
   {
    "duration": 77,
    "start_time": "2023-05-10T11:16:14.246Z"
   },
   {
    "duration": 1406,
    "start_time": "2023-05-10T11:20:51.287Z"
   },
   {
    "duration": 18,
    "start_time": "2023-05-10T11:20:52.695Z"
   },
   {
    "duration": 78,
    "start_time": "2023-05-10T11:20:52.715Z"
   },
   {
    "duration": 39,
    "start_time": "2023-05-10T11:20:52.801Z"
   },
   {
    "duration": 197,
    "start_time": "2023-05-10T11:20:52.842Z"
   },
   {
    "duration": 1534,
    "start_time": "2023-05-10T11:20:53.090Z"
   },
   {
    "duration": 1078,
    "start_time": "2023-05-10T11:20:54.632Z"
   },
   {
    "duration": 415,
    "start_time": "2023-05-10T11:20:55.714Z"
   },
   {
    "duration": 2,
    "start_time": "2023-05-10T11:20:56.131Z"
   },
   {
    "duration": 147,
    "start_time": "2023-05-10T11:20:56.135Z"
   },
   {
    "duration": 440,
    "start_time": "2023-05-10T11:20:56.284Z"
   },
   {
    "duration": 6,
    "start_time": "2023-05-10T11:20:56.726Z"
   },
   {
    "duration": 63,
    "start_time": "2023-05-10T11:20:56.734Z"
   },
   {
    "duration": 118,
    "start_time": "2023-05-10T11:20:56.802Z"
   },
   {
    "duration": 22,
    "start_time": "2023-05-10T11:20:56.922Z"
   },
   {
    "duration": 3,
    "start_time": "2023-05-10T11:20:56.946Z"
   },
   {
    "duration": 8,
    "start_time": "2023-05-10T11:20:56.951Z"
   },
   {
    "duration": 40,
    "start_time": "2023-05-10T11:20:56.961Z"
   },
   {
    "duration": 4,
    "start_time": "2023-05-10T11:20:57.005Z"
   },
   {
    "duration": 12,
    "start_time": "2023-05-10T11:20:57.012Z"
   },
   {
    "duration": 3,
    "start_time": "2023-05-10T11:20:57.026Z"
   },
   {
    "duration": 5,
    "start_time": "2023-05-10T11:20:57.031Z"
   },
   {
    "duration": 19,
    "start_time": "2023-05-10T11:20:57.038Z"
   },
   {
    "duration": 3,
    "start_time": "2023-05-10T11:20:57.059Z"
   },
   {
    "duration": 24,
    "start_time": "2023-05-10T11:20:57.063Z"
   },
   {
    "duration": 139,
    "start_time": "2023-05-10T11:20:57.097Z"
   },
   {
    "duration": 84,
    "start_time": "2023-05-10T11:20:57.239Z"
   },
   {
    "duration": 13,
    "start_time": "2023-05-10T11:20:57.326Z"
   },
   {
    "duration": 41,
    "start_time": "2023-05-10T11:20:57.341Z"
   },
   {
    "duration": 736,
    "start_time": "2023-05-10T11:20:57.383Z"
   },
   {
    "duration": 4,
    "start_time": "2023-05-10T11:20:58.121Z"
   },
   {
    "duration": 5,
    "start_time": "2023-05-10T11:20:58.127Z"
   },
   {
    "duration": 121,
    "start_time": "2023-05-10T11:20:58.134Z"
   },
   {
    "duration": 298,
    "start_time": "2023-05-10T11:20:58.257Z"
   },
   {
    "duration": 70,
    "start_time": "2023-05-10T11:20:58.557Z"
   },
   {
    "duration": 33,
    "start_time": "2023-05-10T11:20:58.630Z"
   },
   {
    "duration": 767,
    "start_time": "2023-05-10T11:20:58.665Z"
   },
   {
    "duration": 6,
    "start_time": "2023-05-10T11:20:59.434Z"
   },
   {
    "duration": 106,
    "start_time": "2023-05-10T11:20:59.441Z"
   },
   {
    "duration": 26,
    "start_time": "2023-05-10T11:20:59.549Z"
   },
   {
    "duration": 18,
    "start_time": "2023-05-10T11:20:59.592Z"
   },
   {
    "duration": 51,
    "start_time": "2023-05-10T11:20:59.612Z"
   },
   {
    "duration": 13,
    "start_time": "2023-05-10T11:20:59.665Z"
   },
   {
    "duration": 1551,
    "start_time": "2023-05-10T11:21:44.561Z"
   },
   {
    "duration": 15,
    "start_time": "2023-05-10T11:21:46.114Z"
   },
   {
    "duration": 96,
    "start_time": "2023-05-10T11:21:46.131Z"
   },
   {
    "duration": 90,
    "start_time": "2023-05-10T11:21:46.229Z"
   },
   {
    "duration": 287,
    "start_time": "2023-05-10T11:21:46.322Z"
   },
   {
    "duration": 821,
    "start_time": "2023-05-10T11:21:46.614Z"
   },
   {
    "duration": 876,
    "start_time": "2023-05-10T11:21:47.437Z"
   },
   {
    "duration": 518,
    "start_time": "2023-05-10T11:21:48.315Z"
   },
   {
    "duration": 3,
    "start_time": "2023-05-10T11:21:48.835Z"
   },
   {
    "duration": 363,
    "start_time": "2023-05-10T11:21:48.839Z"
   },
   {
    "duration": 1000,
    "start_time": "2023-05-10T11:21:49.206Z"
   },
   {
    "duration": 14,
    "start_time": "2023-05-10T11:21:50.209Z"
   },
   {
    "duration": 90,
    "start_time": "2023-05-10T11:21:50.225Z"
   },
   {
    "duration": 180,
    "start_time": "2023-05-10T11:21:50.319Z"
   },
   {
    "duration": 28,
    "start_time": "2023-05-10T11:21:50.501Z"
   },
   {
    "duration": 65,
    "start_time": "2023-05-10T11:21:50.535Z"
   },
   {
    "duration": 16,
    "start_time": "2023-05-10T11:21:50.602Z"
   },
   {
    "duration": 10,
    "start_time": "2023-05-10T11:21:50.620Z"
   },
   {
    "duration": 21,
    "start_time": "2023-05-10T11:21:50.632Z"
   },
   {
    "duration": 45,
    "start_time": "2023-05-10T11:21:50.656Z"
   },
   {
    "duration": 13,
    "start_time": "2023-05-10T11:21:50.707Z"
   },
   {
    "duration": 10,
    "start_time": "2023-05-10T11:21:50.722Z"
   },
   {
    "duration": 63,
    "start_time": "2023-05-10T11:21:50.735Z"
   },
   {
    "duration": 4,
    "start_time": "2023-05-10T11:21:50.800Z"
   },
   {
    "duration": 23,
    "start_time": "2023-05-10T11:21:50.806Z"
   },
   {
    "duration": 291,
    "start_time": "2023-05-10T11:21:50.832Z"
   },
   {
    "duration": 169,
    "start_time": "2023-05-10T11:21:51.127Z"
   },
   {
    "duration": 22,
    "start_time": "2023-05-10T11:21:51.298Z"
   },
   {
    "duration": 75,
    "start_time": "2023-05-10T11:21:51.323Z"
   },
   {
    "duration": 1087,
    "start_time": "2023-05-10T11:21:51.400Z"
   },
   {
    "duration": 3,
    "start_time": "2023-05-10T11:21:52.490Z"
   },
   {
    "duration": 23,
    "start_time": "2023-05-10T11:21:52.496Z"
   },
   {
    "duration": 126,
    "start_time": "2023-05-10T11:21:52.523Z"
   },
   {
    "duration": 304,
    "start_time": "2023-05-10T11:21:52.651Z"
   },
   {
    "duration": 59,
    "start_time": "2023-05-10T11:21:52.957Z"
   },
   {
    "duration": 40,
    "start_time": "2023-05-10T11:21:53.018Z"
   },
   {
    "duration": 772,
    "start_time": "2023-05-10T11:21:53.060Z"
   },
   {
    "duration": 7,
    "start_time": "2023-05-10T11:21:53.834Z"
   },
   {
    "duration": 114,
    "start_time": "2023-05-10T11:21:53.842Z"
   },
   {
    "duration": 33,
    "start_time": "2023-05-10T11:21:53.958Z"
   },
   {
    "duration": 14,
    "start_time": "2023-05-10T11:21:54.000Z"
   },
   {
    "duration": 48,
    "start_time": "2023-05-10T11:21:54.020Z"
   },
   {
    "duration": 28,
    "start_time": "2023-05-10T11:21:54.070Z"
   },
   {
    "duration": 68,
    "start_time": "2023-05-10T11:22:05.219Z"
   },
   {
    "duration": 1305,
    "start_time": "2023-05-10T11:22:11.460Z"
   },
   {
    "duration": 11,
    "start_time": "2023-05-10T11:22:12.767Z"
   },
   {
    "duration": 82,
    "start_time": "2023-05-10T11:22:12.780Z"
   },
   {
    "duration": 35,
    "start_time": "2023-05-10T11:22:12.864Z"
   },
   {
    "duration": 102,
    "start_time": "2023-05-10T11:22:12.906Z"
   },
   {
    "duration": 652,
    "start_time": "2023-05-10T11:22:13.010Z"
   },
   {
    "duration": 548,
    "start_time": "2023-05-10T11:22:13.664Z"
   },
   {
    "duration": 802,
    "start_time": "2023-05-10T11:22:14.216Z"
   },
   {
    "duration": 4,
    "start_time": "2023-05-10T11:22:15.029Z"
   },
   {
    "duration": 380,
    "start_time": "2023-05-10T11:22:15.035Z"
   },
   {
    "duration": 818,
    "start_time": "2023-05-10T11:22:15.417Z"
   },
   {
    "duration": 54,
    "start_time": "2023-05-10T11:22:16.237Z"
   },
   {
    "duration": 110,
    "start_time": "2023-05-10T11:22:16.294Z"
   },
   {
    "duration": 109,
    "start_time": "2023-05-10T11:22:16.409Z"
   },
   {
    "duration": 72,
    "start_time": "2023-05-10T11:22:16.520Z"
   },
   {
    "duration": 3,
    "start_time": "2023-05-10T11:22:16.605Z"
   },
   {
    "duration": 12,
    "start_time": "2023-05-10T11:22:16.610Z"
   },
   {
    "duration": 6,
    "start_time": "2023-05-10T11:22:16.624Z"
   },
   {
    "duration": 10,
    "start_time": "2023-05-10T11:22:16.632Z"
   },
   {
    "duration": 24,
    "start_time": "2023-05-10T11:22:16.645Z"
   },
   {
    "duration": 15,
    "start_time": "2023-05-10T11:22:16.671Z"
   },
   {
    "duration": 14,
    "start_time": "2023-05-10T11:22:16.688Z"
   },
   {
    "duration": 20,
    "start_time": "2023-05-10T11:22:16.704Z"
   },
   {
    "duration": 4,
    "start_time": "2023-05-10T11:22:16.726Z"
   },
   {
    "duration": 20,
    "start_time": "2023-05-10T11:22:16.731Z"
   },
   {
    "duration": 155,
    "start_time": "2023-05-10T11:22:16.753Z"
   },
   {
    "duration": 60,
    "start_time": "2023-05-10T11:22:16.911Z"
   },
   {
    "duration": 31,
    "start_time": "2023-05-10T11:22:16.973Z"
   },
   {
    "duration": 25,
    "start_time": "2023-05-10T11:22:17.006Z"
   },
   {
    "duration": 717,
    "start_time": "2023-05-10T11:22:17.033Z"
   },
   {
    "duration": 2,
    "start_time": "2023-05-10T11:22:17.752Z"
   },
   {
    "duration": 38,
    "start_time": "2023-05-10T11:22:17.756Z"
   },
   {
    "duration": 110,
    "start_time": "2023-05-10T11:22:17.801Z"
   },
   {
    "duration": 237,
    "start_time": "2023-05-10T11:22:17.914Z"
   },
   {
    "duration": 64,
    "start_time": "2023-05-10T11:22:18.154Z"
   },
   {
    "duration": 33,
    "start_time": "2023-05-10T11:22:18.220Z"
   },
   {
    "duration": 676,
    "start_time": "2023-05-10T11:22:18.256Z"
   },
   {
    "duration": 6,
    "start_time": "2023-05-10T11:22:18.934Z"
   },
   {
    "duration": 94,
    "start_time": "2023-05-10T11:22:18.941Z"
   },
   {
    "duration": 25,
    "start_time": "2023-05-10T11:22:19.037Z"
   },
   {
    "duration": 8,
    "start_time": "2023-05-10T11:22:19.066Z"
   },
   {
    "duration": 50,
    "start_time": "2023-05-10T11:22:19.094Z"
   },
   {
    "duration": 12,
    "start_time": "2023-05-10T11:22:19.146Z"
   },
   {
    "duration": 12,
    "start_time": "2023-05-10T11:32:00.488Z"
   },
   {
    "duration": 13,
    "start_time": "2023-05-10T11:33:02.617Z"
   },
   {
    "duration": 12,
    "start_time": "2023-05-10T11:33:28.229Z"
   },
   {
    "duration": 13,
    "start_time": "2023-05-10T11:38:31.883Z"
   },
   {
    "duration": 17,
    "start_time": "2023-05-10T11:38:49.808Z"
   },
   {
    "duration": 57,
    "start_time": "2023-05-10T12:01:17.154Z"
   },
   {
    "duration": 1577,
    "start_time": "2023-05-10T12:10:23.003Z"
   },
   {
    "duration": 1404,
    "start_time": "2023-05-10T12:10:39.049Z"
   },
   {
    "duration": 16,
    "start_time": "2023-05-10T12:10:40.455Z"
   },
   {
    "duration": 93,
    "start_time": "2023-05-10T12:10:40.474Z"
   },
   {
    "duration": 47,
    "start_time": "2023-05-10T12:10:40.570Z"
   },
   {
    "duration": 117,
    "start_time": "2023-05-10T12:10:40.618Z"
   },
   {
    "duration": 634,
    "start_time": "2023-05-10T12:10:40.737Z"
   },
   {
    "duration": 458,
    "start_time": "2023-05-10T12:10:41.373Z"
   },
   {
    "duration": 415,
    "start_time": "2023-05-10T12:10:41.833Z"
   },
   {
    "duration": 4,
    "start_time": "2023-05-10T12:10:42.250Z"
   },
   {
    "duration": 179,
    "start_time": "2023-05-10T12:10:42.257Z"
   },
   {
    "duration": 434,
    "start_time": "2023-05-10T12:10:42.438Z"
   },
   {
    "duration": 6,
    "start_time": "2023-05-10T12:10:42.874Z"
   },
   {
    "duration": 48,
    "start_time": "2023-05-10T12:10:42.882Z"
   },
   {
    "duration": 160,
    "start_time": "2023-05-10T12:10:42.932Z"
   },
   {
    "duration": 26,
    "start_time": "2023-05-10T12:10:43.097Z"
   },
   {
    "duration": 4,
    "start_time": "2023-05-10T12:10:43.125Z"
   },
   {
    "duration": 18,
    "start_time": "2023-05-10T12:10:43.130Z"
   },
   {
    "duration": 14,
    "start_time": "2023-05-10T12:10:43.150Z"
   },
   {
    "duration": 8,
    "start_time": "2023-05-10T12:10:43.166Z"
   },
   {
    "duration": 24,
    "start_time": "2023-05-10T12:10:43.176Z"
   },
   {
    "duration": 18,
    "start_time": "2023-05-10T12:10:43.202Z"
   },
   {
    "duration": 11,
    "start_time": "2023-05-10T12:10:43.222Z"
   },
   {
    "duration": 22,
    "start_time": "2023-05-10T12:10:43.235Z"
   },
   {
    "duration": 3,
    "start_time": "2023-05-10T12:10:43.259Z"
   },
   {
    "duration": 17,
    "start_time": "2023-05-10T12:10:43.264Z"
   },
   {
    "duration": 151,
    "start_time": "2023-05-10T12:10:43.283Z"
   },
   {
    "duration": 69,
    "start_time": "2023-05-10T12:10:43.436Z"
   },
   {
    "duration": 16,
    "start_time": "2023-05-10T12:10:43.510Z"
   },
   {
    "duration": 33,
    "start_time": "2023-05-10T12:10:43.528Z"
   },
   {
    "duration": 763,
    "start_time": "2023-05-10T12:10:43.563Z"
   },
   {
    "duration": 125,
    "start_time": "2023-05-10T12:10:44.328Z"
   },
   {
    "duration": 283,
    "start_time": "2023-05-10T12:10:44.455Z"
   },
   {
    "duration": 65,
    "start_time": "2023-05-10T12:10:44.740Z"
   },
   {
    "duration": 41,
    "start_time": "2023-05-10T12:10:44.811Z"
   },
   {
    "duration": 705,
    "start_time": "2023-05-10T12:10:44.853Z"
   },
   {
    "duration": 6,
    "start_time": "2023-05-10T12:10:45.561Z"
   },
   {
    "duration": 83,
    "start_time": "2023-05-10T12:10:45.589Z"
   },
   {
    "duration": 45,
    "start_time": "2023-05-10T12:10:45.673Z"
   },
   {
    "duration": 12,
    "start_time": "2023-05-10T12:10:45.720Z"
   },
   {
    "duration": 96,
    "start_time": "2023-05-10T12:10:45.734Z"
   },
   {
    "duration": 77,
    "start_time": "2023-05-10T12:10:45.832Z"
   },
   {
    "duration": 5,
    "start_time": "2023-05-10T12:18:05.305Z"
   },
   {
    "duration": 1394,
    "start_time": "2023-05-10T12:21:35.813Z"
   },
   {
    "duration": 19,
    "start_time": "2023-05-10T12:21:37.213Z"
   },
   {
    "duration": 66,
    "start_time": "2023-05-10T12:21:37.234Z"
   },
   {
    "duration": 36,
    "start_time": "2023-05-10T12:21:37.303Z"
   },
   {
    "duration": 106,
    "start_time": "2023-05-10T12:21:37.341Z"
   },
   {
    "duration": 972,
    "start_time": "2023-05-10T12:21:37.449Z"
   },
   {
    "duration": 1207,
    "start_time": "2023-05-10T12:21:38.423Z"
   },
   {
    "duration": 1099,
    "start_time": "2023-05-10T12:21:39.633Z"
   },
   {
    "duration": 4,
    "start_time": "2023-05-10T12:21:40.734Z"
   },
   {
    "duration": 223,
    "start_time": "2023-05-10T12:21:40.795Z"
   },
   {
    "duration": 409,
    "start_time": "2023-05-10T12:21:41.020Z"
   },
   {
    "duration": 5,
    "start_time": "2023-05-10T12:21:41.431Z"
   },
   {
    "duration": 63,
    "start_time": "2023-05-10T12:21:41.438Z"
   },
   {
    "duration": 129,
    "start_time": "2023-05-10T12:21:41.505Z"
   },
   {
    "duration": 26,
    "start_time": "2023-05-10T12:21:41.636Z"
   },
   {
    "duration": 27,
    "start_time": "2023-05-10T12:21:41.664Z"
   },
   {
    "duration": 11,
    "start_time": "2023-05-10T12:21:41.694Z"
   },
   {
    "duration": 18,
    "start_time": "2023-05-10T12:21:41.707Z"
   },
   {
    "duration": 6,
    "start_time": "2023-05-10T12:21:41.727Z"
   },
   {
    "duration": 19,
    "start_time": "2023-05-10T12:21:41.735Z"
   },
   {
    "duration": 10,
    "start_time": "2023-05-10T12:21:41.757Z"
   },
   {
    "duration": 37,
    "start_time": "2023-05-10T12:21:41.769Z"
   },
   {
    "duration": 20,
    "start_time": "2023-05-10T12:21:41.808Z"
   },
   {
    "duration": 3,
    "start_time": "2023-05-10T12:21:41.830Z"
   },
   {
    "duration": 10,
    "start_time": "2023-05-10T12:21:41.835Z"
   },
   {
    "duration": 10,
    "start_time": "2023-05-10T12:21:41.847Z"
   },
   {
    "duration": 135,
    "start_time": "2023-05-10T12:21:41.858Z"
   },
   {
    "duration": 71,
    "start_time": "2023-05-10T12:21:42.005Z"
   },
   {
    "duration": 37,
    "start_time": "2023-05-10T12:21:42.077Z"
   },
   {
    "duration": 35,
    "start_time": "2023-05-10T12:21:42.120Z"
   },
   {
    "duration": 682,
    "start_time": "2023-05-10T12:21:42.157Z"
   },
   {
    "duration": 3,
    "start_time": "2023-05-10T12:21:42.841Z"
   },
   {
    "duration": 109,
    "start_time": "2023-05-10T12:21:42.846Z"
   },
   {
    "duration": 271,
    "start_time": "2023-05-10T12:21:42.958Z"
   },
   {
    "duration": 67,
    "start_time": "2023-05-10T12:21:43.232Z"
   },
   {
    "duration": 48,
    "start_time": "2023-05-10T12:21:43.301Z"
   },
   {
    "duration": 701,
    "start_time": "2023-05-10T12:21:43.351Z"
   },
   {
    "duration": 5,
    "start_time": "2023-05-10T12:21:44.054Z"
   },
   {
    "duration": 81,
    "start_time": "2023-05-10T12:21:44.061Z"
   },
   {
    "duration": 47,
    "start_time": "2023-05-10T12:21:44.144Z"
   },
   {
    "duration": 10,
    "start_time": "2023-05-10T12:21:44.199Z"
   },
   {
    "duration": 43,
    "start_time": "2023-05-10T12:21:44.211Z"
   },
   {
    "duration": 37,
    "start_time": "2023-05-10T12:21:44.256Z"
   },
   {
    "duration": 21,
    "start_time": "2023-05-10T12:22:30.444Z"
   },
   {
    "duration": 6,
    "start_time": "2023-05-10T12:23:12.823Z"
   },
   {
    "duration": 5,
    "start_time": "2023-05-10T12:23:20.823Z"
   },
   {
    "duration": 9,
    "start_time": "2023-05-10T12:23:32.786Z"
   },
   {
    "duration": 10,
    "start_time": "2023-05-10T12:23:53.186Z"
   },
   {
    "duration": 1349,
    "start_time": "2023-05-10T12:54:25.730Z"
   },
   {
    "duration": 14,
    "start_time": "2023-05-10T12:54:27.081Z"
   },
   {
    "duration": 86,
    "start_time": "2023-05-10T12:54:27.098Z"
   },
   {
    "duration": 30,
    "start_time": "2023-05-10T12:54:27.186Z"
   },
   {
    "duration": 105,
    "start_time": "2023-05-10T12:54:27.219Z"
   },
   {
    "duration": 650,
    "start_time": "2023-05-10T12:54:27.326Z"
   },
   {
    "duration": 383,
    "start_time": "2023-05-10T12:54:27.977Z"
   },
   {
    "duration": 382,
    "start_time": "2023-05-10T12:54:28.361Z"
   },
   {
    "duration": 3,
    "start_time": "2023-05-10T12:54:28.745Z"
   },
   {
    "duration": 166,
    "start_time": "2023-05-10T12:54:28.750Z"
   },
   {
    "duration": 428,
    "start_time": "2023-05-10T12:54:28.918Z"
   },
   {
    "duration": 6,
    "start_time": "2023-05-10T12:54:29.347Z"
   },
   {
    "duration": 43,
    "start_time": "2023-05-10T12:54:29.355Z"
   },
   {
    "duration": 96,
    "start_time": "2023-05-10T12:54:29.402Z"
   },
   {
    "duration": 20,
    "start_time": "2023-05-10T12:54:29.500Z"
   },
   {
    "duration": 2,
    "start_time": "2023-05-10T12:54:29.522Z"
   },
   {
    "duration": 10,
    "start_time": "2023-05-10T12:54:29.526Z"
   },
   {
    "duration": 8,
    "start_time": "2023-05-10T12:54:29.538Z"
   },
   {
    "duration": 10,
    "start_time": "2023-05-10T12:54:29.548Z"
   },
   {
    "duration": 31,
    "start_time": "2023-05-10T12:54:29.559Z"
   },
   {
    "duration": 18,
    "start_time": "2023-05-10T12:54:29.591Z"
   },
   {
    "duration": 15,
    "start_time": "2023-05-10T12:54:29.611Z"
   },
   {
    "duration": 34,
    "start_time": "2023-05-10T12:54:29.628Z"
   },
   {
    "duration": 11,
    "start_time": "2023-05-10T12:54:29.664Z"
   },
   {
    "duration": 22,
    "start_time": "2023-05-10T12:54:29.677Z"
   },
   {
    "duration": 24,
    "start_time": "2023-05-10T12:54:29.701Z"
   },
   {
    "duration": 126,
    "start_time": "2023-05-10T12:54:29.727Z"
   },
   {
    "duration": 6,
    "start_time": "2023-05-10T12:54:29.855Z"
   },
   {
    "duration": 97,
    "start_time": "2023-05-10T12:54:29.862Z"
   },
   {
    "duration": 14,
    "start_time": "2023-05-10T12:54:29.962Z"
   },
   {
    "duration": 54,
    "start_time": "2023-05-10T12:54:29.977Z"
   },
   {
    "duration": 657,
    "start_time": "2023-05-10T12:54:30.033Z"
   },
   {
    "duration": 5,
    "start_time": "2023-05-10T12:54:30.693Z"
   },
   {
    "duration": 203,
    "start_time": "2023-05-10T12:54:30.700Z"
   },
   {
    "duration": 304,
    "start_time": "2023-05-10T12:54:30.905Z"
   },
   {
    "duration": 38,
    "start_time": "2023-05-10T12:54:31.212Z"
   },
   {
    "duration": 68,
    "start_time": "2023-05-10T12:54:31.252Z"
   },
   {
    "duration": 735,
    "start_time": "2023-05-10T12:54:31.322Z"
   },
   {
    "duration": 6,
    "start_time": "2023-05-10T12:54:32.059Z"
   },
   {
    "duration": 158,
    "start_time": "2023-05-10T12:54:32.067Z"
   },
   {
    "duration": 21,
    "start_time": "2023-05-10T12:54:32.229Z"
   },
   {
    "duration": 41,
    "start_time": "2023-05-10T12:54:32.252Z"
   },
   {
    "duration": 75,
    "start_time": "2023-05-10T12:54:32.295Z"
   },
   {
    "duration": 13,
    "start_time": "2023-05-10T12:54:32.372Z"
   },
   {
    "duration": 1329,
    "start_time": "2023-05-10T13:07:17.289Z"
   },
   {
    "duration": 11,
    "start_time": "2023-05-10T13:07:18.620Z"
   },
   {
    "duration": 66,
    "start_time": "2023-05-10T13:07:18.632Z"
   },
   {
    "duration": 28,
    "start_time": "2023-05-10T13:07:18.701Z"
   },
   {
    "duration": 106,
    "start_time": "2023-05-10T13:07:18.730Z"
   },
   {
    "duration": 592,
    "start_time": "2023-05-10T13:07:18.837Z"
   },
   {
    "duration": 385,
    "start_time": "2023-05-10T13:07:19.431Z"
   },
   {
    "duration": 361,
    "start_time": "2023-05-10T13:07:19.818Z"
   },
   {
    "duration": 4,
    "start_time": "2023-05-10T13:07:20.190Z"
   },
   {
    "duration": 227,
    "start_time": "2023-05-10T13:07:20.196Z"
   },
   {
    "duration": 397,
    "start_time": "2023-05-10T13:07:20.425Z"
   },
   {
    "duration": 5,
    "start_time": "2023-05-10T13:07:20.824Z"
   },
   {
    "duration": 87,
    "start_time": "2023-05-10T13:07:20.831Z"
   },
   {
    "duration": 107,
    "start_time": "2023-05-10T13:07:20.919Z"
   },
   {
    "duration": 20,
    "start_time": "2023-05-10T13:07:21.028Z"
   },
   {
    "duration": 8,
    "start_time": "2023-05-10T13:07:21.049Z"
   },
   {
    "duration": 38,
    "start_time": "2023-05-10T13:07:21.058Z"
   },
   {
    "duration": 17,
    "start_time": "2023-05-10T13:07:21.098Z"
   },
   {
    "duration": 22,
    "start_time": "2023-05-10T13:07:21.117Z"
   },
   {
    "duration": 29,
    "start_time": "2023-05-10T13:07:21.141Z"
   },
   {
    "duration": 22,
    "start_time": "2023-05-10T13:07:21.171Z"
   },
   {
    "duration": 29,
    "start_time": "2023-05-10T13:07:21.195Z"
   },
   {
    "duration": 27,
    "start_time": "2023-05-10T13:07:21.226Z"
   },
   {
    "duration": 14,
    "start_time": "2023-05-10T13:07:21.255Z"
   },
   {
    "duration": 16,
    "start_time": "2023-05-10T13:07:21.271Z"
   },
   {
    "duration": 27,
    "start_time": "2023-05-10T13:07:21.290Z"
   },
   {
    "duration": 167,
    "start_time": "2023-05-10T13:07:21.320Z"
   },
   {
    "duration": 6,
    "start_time": "2023-05-10T13:07:21.492Z"
   },
   {
    "duration": 64,
    "start_time": "2023-05-10T13:07:21.499Z"
   },
   {
    "duration": 30,
    "start_time": "2023-05-10T13:07:21.565Z"
   },
   {
    "duration": 52,
    "start_time": "2023-05-10T13:07:21.598Z"
   },
   {
    "duration": 6,
    "start_time": "2023-05-10T13:07:21.651Z"
   },
   {
    "duration": 384,
    "start_time": "2023-05-10T13:07:21.659Z"
   },
   {
    "duration": 0,
    "start_time": "2023-05-10T13:07:22.046Z"
   },
   {
    "duration": 0,
    "start_time": "2023-05-10T13:07:22.047Z"
   },
   {
    "duration": 0,
    "start_time": "2023-05-10T13:07:22.049Z"
   },
   {
    "duration": 0,
    "start_time": "2023-05-10T13:07:22.051Z"
   },
   {
    "duration": 0,
    "start_time": "2023-05-10T13:07:22.053Z"
   },
   {
    "duration": 0,
    "start_time": "2023-05-10T13:07:22.055Z"
   },
   {
    "duration": 0,
    "start_time": "2023-05-10T13:07:22.056Z"
   },
   {
    "duration": 0,
    "start_time": "2023-05-10T13:07:22.058Z"
   },
   {
    "duration": 0,
    "start_time": "2023-05-10T13:07:22.059Z"
   },
   {
    "duration": 0,
    "start_time": "2023-05-10T13:07:22.061Z"
   },
   {
    "duration": 0,
    "start_time": "2023-05-10T13:07:22.063Z"
   },
   {
    "duration": 0,
    "start_time": "2023-05-10T13:07:22.089Z"
   },
   {
    "duration": 1303,
    "start_time": "2023-05-10T13:08:37.994Z"
   },
   {
    "duration": 85,
    "start_time": "2023-05-10T13:08:48.259Z"
   },
   {
    "duration": 10,
    "start_time": "2023-05-10T13:09:08.523Z"
   },
   {
    "duration": 11,
    "start_time": "2023-05-10T13:09:17.677Z"
   },
   {
    "duration": 10,
    "start_time": "2023-05-10T13:09:28.744Z"
   },
   {
    "duration": 10,
    "start_time": "2023-05-10T13:09:33.269Z"
   },
   {
    "duration": 24,
    "start_time": "2023-05-10T13:09:43.213Z"
   },
   {
    "duration": 365,
    "start_time": "2023-05-10T13:13:09.190Z"
   },
   {
    "duration": 35,
    "start_time": "2023-05-10T13:13:55.326Z"
   },
   {
    "duration": 16,
    "start_time": "2023-05-10T13:14:06.862Z"
   },
   {
    "duration": 751,
    "start_time": "2023-05-10T13:14:18.399Z"
   },
   {
    "duration": 29,
    "start_time": "2023-05-10T13:14:22.802Z"
   },
   {
    "duration": 27,
    "start_time": "2023-05-10T13:14:37.324Z"
   },
   {
    "duration": 1801,
    "start_time": "2023-05-10T13:15:10.828Z"
   },
   {
    "duration": 65,
    "start_time": "2023-05-10T13:15:12.632Z"
   },
   {
    "duration": 122,
    "start_time": "2023-05-10T13:15:12.700Z"
   },
   {
    "duration": 82,
    "start_time": "2023-05-10T13:15:12.825Z"
   },
   {
    "duration": 196,
    "start_time": "2023-05-10T13:15:12.910Z"
   },
   {
    "duration": 1126,
    "start_time": "2023-05-10T13:15:13.108Z"
   },
   {
    "duration": 536,
    "start_time": "2023-05-10T13:15:14.236Z"
   },
   {
    "duration": 429,
    "start_time": "2023-05-10T13:15:14.788Z"
   },
   {
    "duration": 3,
    "start_time": "2023-05-10T13:15:15.219Z"
   },
   {
    "duration": 165,
    "start_time": "2023-05-10T13:15:15.224Z"
   },
   {
    "duration": 418,
    "start_time": "2023-05-10T13:15:15.392Z"
   },
   {
    "duration": 7,
    "start_time": "2023-05-10T13:15:15.812Z"
   },
   {
    "duration": 92,
    "start_time": "2023-05-10T13:15:15.821Z"
   },
   {
    "duration": 131,
    "start_time": "2023-05-10T13:15:15.918Z"
   },
   {
    "duration": 38,
    "start_time": "2023-05-10T13:15:16.051Z"
   },
   {
    "duration": 9,
    "start_time": "2023-05-10T13:15:16.092Z"
   },
   {
    "duration": 19,
    "start_time": "2023-05-10T13:15:16.104Z"
   },
   {
    "duration": 8,
    "start_time": "2023-05-10T13:15:16.126Z"
   },
   {
    "duration": 17,
    "start_time": "2023-05-10T13:15:16.137Z"
   },
   {
    "duration": 23,
    "start_time": "2023-05-10T13:15:16.157Z"
   },
   {
    "duration": 4,
    "start_time": "2023-05-10T13:15:16.183Z"
   },
   {
    "duration": 9,
    "start_time": "2023-05-10T13:15:16.191Z"
   },
   {
    "duration": 43,
    "start_time": "2023-05-10T13:15:16.203Z"
   },
   {
    "duration": 12,
    "start_time": "2023-05-10T13:15:16.248Z"
   },
   {
    "duration": 16,
    "start_time": "2023-05-10T13:15:16.263Z"
   },
   {
    "duration": 14,
    "start_time": "2023-05-10T13:15:16.280Z"
   },
   {
    "duration": 146,
    "start_time": "2023-05-10T13:15:16.297Z"
   },
   {
    "duration": 73,
    "start_time": "2023-05-10T13:15:16.446Z"
   },
   {
    "duration": 13,
    "start_time": "2023-05-10T13:15:16.520Z"
   },
   {
    "duration": 74,
    "start_time": "2023-05-10T13:15:16.536Z"
   },
   {
    "duration": 25,
    "start_time": "2023-05-10T13:15:16.612Z"
   },
   {
    "duration": 371,
    "start_time": "2023-05-10T13:15:16.639Z"
   },
   {
    "duration": 0,
    "start_time": "2023-05-10T13:15:17.012Z"
   },
   {
    "duration": 0,
    "start_time": "2023-05-10T13:15:17.016Z"
   },
   {
    "duration": 0,
    "start_time": "2023-05-10T13:15:17.017Z"
   },
   {
    "duration": 0,
    "start_time": "2023-05-10T13:15:17.019Z"
   },
   {
    "duration": 0,
    "start_time": "2023-05-10T13:15:17.020Z"
   },
   {
    "duration": 0,
    "start_time": "2023-05-10T13:15:17.022Z"
   },
   {
    "duration": 0,
    "start_time": "2023-05-10T13:15:17.023Z"
   },
   {
    "duration": 1,
    "start_time": "2023-05-10T13:15:17.025Z"
   },
   {
    "duration": 0,
    "start_time": "2023-05-10T13:15:17.027Z"
   },
   {
    "duration": 0,
    "start_time": "2023-05-10T13:15:17.028Z"
   },
   {
    "duration": 0,
    "start_time": "2023-05-10T13:15:17.029Z"
   },
   {
    "duration": 0,
    "start_time": "2023-05-10T13:15:17.031Z"
   },
   {
    "duration": 31,
    "start_time": "2023-05-10T13:16:28.952Z"
   },
   {
    "duration": 6,
    "start_time": "2023-05-10T13:18:53.238Z"
   },
   {
    "duration": 1435,
    "start_time": "2023-05-10T13:19:04.703Z"
   },
   {
    "duration": 13,
    "start_time": "2023-05-10T13:19:06.140Z"
   },
   {
    "duration": 92,
    "start_time": "2023-05-10T13:19:06.157Z"
   },
   {
    "duration": 32,
    "start_time": "2023-05-10T13:19:06.252Z"
   },
   {
    "duration": 135,
    "start_time": "2023-05-10T13:19:06.303Z"
   },
   {
    "duration": 728,
    "start_time": "2023-05-10T13:19:06.440Z"
   },
   {
    "duration": 475,
    "start_time": "2023-05-10T13:19:07.171Z"
   },
   {
    "duration": 437,
    "start_time": "2023-05-10T13:19:07.648Z"
   },
   {
    "duration": 12,
    "start_time": "2023-05-10T13:19:08.097Z"
   },
   {
    "duration": 151,
    "start_time": "2023-05-10T13:19:08.112Z"
   },
   {
    "duration": 414,
    "start_time": "2023-05-10T13:19:08.265Z"
   },
   {
    "duration": 10,
    "start_time": "2023-05-10T13:19:08.689Z"
   },
   {
    "duration": 94,
    "start_time": "2023-05-10T13:19:08.701Z"
   },
   {
    "duration": 110,
    "start_time": "2023-05-10T13:19:08.800Z"
   },
   {
    "duration": 22,
    "start_time": "2023-05-10T13:19:08.913Z"
   },
   {
    "duration": 3,
    "start_time": "2023-05-10T13:19:08.937Z"
   },
   {
    "duration": 9,
    "start_time": "2023-05-10T13:19:08.942Z"
   },
   {
    "duration": 15,
    "start_time": "2023-05-10T13:19:08.953Z"
   },
   {
    "duration": 22,
    "start_time": "2023-05-10T13:19:08.971Z"
   },
   {
    "duration": 21,
    "start_time": "2023-05-10T13:19:08.995Z"
   },
   {
    "duration": 8,
    "start_time": "2023-05-10T13:19:09.018Z"
   },
   {
    "duration": 14,
    "start_time": "2023-05-10T13:19:09.029Z"
   },
   {
    "duration": 20,
    "start_time": "2023-05-10T13:19:09.045Z"
   },
   {
    "duration": 3,
    "start_time": "2023-05-10T13:19:09.067Z"
   },
   {
    "duration": 3,
    "start_time": "2023-05-10T13:19:09.072Z"
   },
   {
    "duration": 18,
    "start_time": "2023-05-10T13:19:09.077Z"
   },
   {
    "duration": 179,
    "start_time": "2023-05-10T13:19:09.100Z"
   },
   {
    "duration": 112,
    "start_time": "2023-05-10T13:19:09.289Z"
   },
   {
    "duration": 20,
    "start_time": "2023-05-10T13:19:09.408Z"
   },
   {
    "duration": 74,
    "start_time": "2023-05-10T13:19:09.430Z"
   },
   {
    "duration": 7,
    "start_time": "2023-05-10T13:19:09.508Z"
   },
   {
    "duration": 40,
    "start_time": "2023-05-10T13:19:09.518Z"
   },
   {
    "duration": 783,
    "start_time": "2023-05-10T13:19:09.560Z"
   },
   {
    "duration": 4,
    "start_time": "2023-05-10T13:19:10.346Z"
   },
   {
    "duration": 163,
    "start_time": "2023-05-10T13:19:10.353Z"
   },
   {
    "duration": 306,
    "start_time": "2023-05-10T13:19:10.518Z"
   },
   {
    "duration": 78,
    "start_time": "2023-05-10T13:19:10.826Z"
   },
   {
    "duration": 36,
    "start_time": "2023-05-10T13:19:10.907Z"
   },
   {
    "duration": 730,
    "start_time": "2023-05-10T13:19:10.945Z"
   },
   {
    "duration": 13,
    "start_time": "2023-05-10T13:19:11.678Z"
   },
   {
    "duration": 125,
    "start_time": "2023-05-10T13:19:11.697Z"
   },
   {
    "duration": 38,
    "start_time": "2023-05-10T13:19:11.825Z"
   },
   {
    "duration": 31,
    "start_time": "2023-05-10T13:19:11.865Z"
   },
   {
    "duration": 61,
    "start_time": "2023-05-10T13:19:11.905Z"
   },
   {
    "duration": 29,
    "start_time": "2023-05-10T13:19:11.969Z"
   }
  ],
  "kernelspec": {
   "display_name": "Python 3 (ipykernel)",
   "language": "python",
   "name": "python3"
  },
  "language_info": {
   "codemirror_mode": {
    "name": "ipython",
    "version": 3
   },
   "file_extension": ".py",
   "mimetype": "text/x-python",
   "name": "python",
   "nbconvert_exporter": "python",
   "pygments_lexer": "ipython3",
   "version": "3.9.13"
  },
  "toc": {
   "base_numbering": 1,
   "nav_menu": {},
   "number_sections": true,
   "sideBar": true,
   "skip_h1_title": true,
   "title_cell": "Table of Contents",
   "title_sidebar": "Contents",
   "toc_cell": false,
   "toc_position": {},
   "toc_section_display": true,
   "toc_window_display": true
  }
 },
 "nbformat": 4,
 "nbformat_minor": 2
}
